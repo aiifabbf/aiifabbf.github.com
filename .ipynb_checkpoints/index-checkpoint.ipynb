{
 "cells": [
  {
   "cell_type": "markdown",
   "metadata": {},
   "source": [
    "# <span style=\"font-family: courier\">Canon & Baroque</span>"
   ]
  },
  {
   "cell_type": "markdown",
   "metadata": {},
   "source": [
    "新博客又又又又上线啦。\n",
    "\n",
    "> 怎么说呢，博客皮肤换来换去根本没有意思啊。索性内容为王吧。样式服务内容。就这么决定了，真的要写点东西了。真的不鸽了。~~真香警告。说着就去换了个logo字体。~~\n",
    "\n",
    "这个博客是用Jupyter notebook写的，然后再用Jupyter nbconvert转成html的。\n",
    "\n",
    "> 我发现Jupyter nbconvert转出来的html真的挺吼看的。~~但是体积挺大的。~~真是个好东西。可能我老了。\n",
    ">\n",
    "> 目前遇到的bug是直接复制粘贴到notebook里的图片转出来直接消失变成了`image.png`。(╯‵□′)╯︵┻━┻\n",
    ">\n",
    "> 还有一个问题是生成出来的html太大了。打算最近有空~~Leetcode刷完~~写个转换器，把巨大的head都变成单独的静态文件。\n",
    "\n",
    "MathJax默认好像用STIX字体。我觉得真的很难看。~~你可以在公式上面右键，选Math Settings，选Math Renderer，改成SVG，就变成Computer Modern了。~~ ~~原理未知。~~最近发现还可以在console里打`MathJax.Menu.showFontMenu(true)`，再随便右键一个公式，里面会神奇地出现一个选字体的选项。"
   ]
  },
  {
   "cell_type": "markdown",
   "metadata": {},
   "source": [
    "## 最近\n",
    "\n",
    "- [开始刷Leetcode](leetcode中的算法.html)\n",
    "- [放弃保研](return-to-cs.html)\n",
    "- [转行CS](return-to-cs.html)\n",
    "- [试图理解DFT](dsp.html#sec:dtft)\n",
    "- [港科面试没过QAQ](hkust-interview.html)\n",
    "- [考了一次GRE](gre-experience.html)"
   ]
  },
  {
   "cell_type": "markdown",
   "metadata": {},
   "source": [
    "## 一些笔记\n",
    "\n",
    "- [Leetcode刷题记](leetcode中的算法.html)\n",
    "- [数字信号处理](dsp.html)\n",
    "- [通信原理](principles-of-communication.html)\n",
    "- [CMOS模拟集成电路](cmos-ii.html)\n",
    "\n",
    "计划放上来、但是我还没整理好的\n",
    "- 复变函数与积分变换\n",
    "- 数理方程\n",
    "- 概率论\n",
    "- 线性代数"
   ]
  },
  {
   "cell_type": "markdown",
   "metadata": {},
   "source": [
    "## 流水账\n",
    "\n",
    "- [回到CS](return-to-cs.html)\n",
    "- [GRE考场服务](gre-experience.html)\n",
    "- [港科面试](hkust-interview.html)"
   ]
  },
  {
   "cell_type": "markdown",
   "metadata": {},
   "source": [
    "## 托您的福~~，雅您的思~~\n",
    "\n",
    "- [自己练的作文](https://github.com/aiifabbf/TOEFL-writings/blob/master/writing.md)"
   ]
  },
  {
   "cell_type": "markdown",
   "metadata": {},
   "source": [
    "## 学习愿望清单\n",
    "\n",
    "> 还没学的东西怎么可能有链接嘛(～￣▽￣)～\n",
    "\n",
    "- 控制原理\n",
    "- 复分析\n",
    "- 实分析\n",
    "- 拓扑学\n",
    "- 高等量子力学\n",
    "- 微观经济学\n",
    "- 乐理"
   ]
  },
  {
   "cell_type": "markdown",
   "metadata": {},
   "source": [
    "## 友情链接\n",
    "\n",
    "> 下面是大佬时间。\n",
    "\n",
    "- [Ivy End](//ivy-end.com)"
   ]
  },
  {
   "cell_type": "markdown",
   "metadata": {},
   "source": [
    "## 你是谁啊/这是什么破网站啊\n",
    "\n",
    "> 这不重要好吧。\n",
    "\n",
    "我是Benjamin Shi。EE~~大三~~大四了。~~现在正在纠结毕业后的去处。~~现在不纠结了，打算去湾区做码农了。\n",
    "\n",
    "> 有没有大佬收留我啊QAQ\n",
    "\n",
    "这个博客的定位是比较正经~~带公式~~的朋友圈。主要记录一点人生的经验~~牢骚~~。\n",
    "\n",
    "> 你总不能在朋友圈里发DFT的理解吧……关爱智障的眼神.jpg\n",
    "\n",
    "如果你也恰好~~有缘~~学同样的东西，希望我的笔记能给你带来一点启发。笔记虽然初衷都是为了写给我自己看的，但是我是理解能力很差、又很健忘的人，这些笔记承担着n年后唤起我回忆的重任。所以我相信我能懂的你也一定能懂。~~如果不懂你别打我QAQ，发邮件给我吧。~~\n",
    "\n",
    "留个邮箱吧<aiifabbf@outlook.com>。有什么问题欢迎交流。一緒に遊びましょう〜〜"
   ]
  }
 ],
 "metadata": {
  "kernelspec": {
   "display_name": "Python 3",
   "language": "python",
   "name": "python3"
  },
  "language_info": {
   "codemirror_mode": {
    "name": "ipython",
    "version": 3
   },
   "file_extension": ".py",
   "mimetype": "text/x-python",
   "name": "python",
   "nbconvert_exporter": "python",
   "pygments_lexer": "ipython3",
   "version": "3.6.5"
  },
  "name": "Canon & Baroque"
 },
 "nbformat": 4,
 "nbformat_minor": 2
}
