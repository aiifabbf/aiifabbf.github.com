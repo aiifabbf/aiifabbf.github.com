{
 "cells": [
  {
   "cell_type": "markdown",
   "metadata": {},
   "source": [
    "# Leetcode中的算法"
   ]
  },
  {
   "cell_type": "markdown",
   "metadata": {},
   "source": [
    "- 算法不能瞎想。必须找到一种通用的得出算法的方法。"
   ]
  },
  {
   "cell_type": "markdown",
   "metadata": {},
   "source": [
    "新手向教程。因为我自己也是个萌新。以前总想着算法和我无关，遇到问题调用库就完事了。然而最近突然决定打算转CS，算法变成了不得不补的东西。"
   ]
  },
  {
   "cell_type": "markdown",
   "metadata": {},
   "source": [
    "## 11. Container With Most Water\n",
    "\n",
    "<https://leetcode.com/problems/container-with-most-water/description/>"
   ]
  },
  {
   "cell_type": "markdown",
   "metadata": {},
   "source": [
    "本质上是找到\n",
    "$$\n",
    "    \\max\\left\\{\\min\\{a_i, a_j\\} \\cdot (j - i) \\middle| 0 \\leq i \\leq j \\leq n - 1\\right\\}\n",
    "$$"
   ]
  },
  {
   "cell_type": "code",
   "execution_count": null,
   "metadata": {},
   "outputs": [],
   "source": [
    "class Solution:\n",
    "    def maxArea(self, height):\n",
    "        \"\"\"\n",
    "        :type height: List[int]\n",
    "        :rtype: int\n",
    "        \"\"\"\n",
    "        maximum = 0\n",
    "        left = 0\n",
    "        right = len(height) - 1\n",
    "        possibleMaximum = 0\n",
    "        while left < right:\n",
    "            possibleMaximum = (right - left) * min(height[left], height[right])\n",
    "            maximum = max(maximum, possibleMaximum)\n",
    "            if height[left] <= height[right]:\n",
    "                left += 1\n",
    "            else:\n",
    "                right -= 1\n",
    "        return maximum"
   ]
  },
  {
   "cell_type": "markdown",
   "metadata": {},
   "source": [
    "## 53. Maximum Subarray\n",
    "\n",
    "<https://leetcode.com/problems/maximum-subarray/description/>"
   ]
  },
  {
   "cell_type": "markdown",
   "metadata": {},
   "source": [
    "本质上是找到\n",
    "$$\n",
    "    \\max\\left\\{\\sum_{k = i}^{j} a_k \\middle| 0 \\leq i \\leq j \\leq n - 1\\right\\}\n",
    "$$\n",
    "\n",
    "用一个叫做[Kadane's algorithm](https://en.wikipedia.org/wiki/Maximum_subarray_problem)的算法。有点数学归纳法的感觉。\n",
    "\n",
    "以\n",
    "```\n",
    "A = -2 1 -3 4 -1 2 1 -5\n",
    "```\n",
    "为例，定义$B_i$为`A[0: i+1]`的所有子序列中、所有包含第$i$个元素的子序列的和的最大值。\n",
    "\n",
    "这个很难看懂。我第一次看也很久才看明白。我们按照严格定义来。首先`A[0: i+1]`的所有“包含第$i$个元素的”子序列可以写成一个集合\n",
    "$$\n",
    "\\begin{align}\n",
    "    \\left\\{A[k, i + 1] \\middle| k \\in [0, i]\\right\\}\n",
    "\\end{align}\n",
    "$$\n",
    "\n",
    "> 以上面的例子为例，$A[0: 3]$的所有子序列是\n",
    "```\n",
    "A[0: 1], A[0: 2], A[0: 3], \n",
    "A[1: 2], A[1: 3],\n",
    "A[2: 3]\n",
    "```\n",
    "但是包含“第$i$个元素的”子序列只有\n",
    "```\n",
    "A[0: 3], A[1: 3], A[2: 3]\n",
    "```\n",
    "\n",
    "$B_i$的定义是\n",
    "$$\n",
    "\\begin{align}\n",
    "    B_i = \\max\\left\\{\\sum_{m = k}^{i} A_m \\middle| k \\in [0, i - 1]\\right\\}\n",
    "\\end{align}\n",
    "$$\n",
    "\n",
    "> 以上面的例子为例，$B_3$是\n",
    "```python\n",
    "max(sum(A[0: 3]), sum(A[1: 3]), sum(A[2: 3]))\n",
    "```\n",
    "而**不是**\n",
    "```python\n",
    "max(sum(A[0: 1]), sum(A[0: 2]), sum(A[0: 3]), ..., sum(A[2: 3]))\n",
    "```\n",
    "\n",
    "> 以上面的例子为例，可以算出所有的$B_i$\n",
    "```\n",
    "A -2  1 -3  4 -1  2  1 -5\n",
    "B -2  1 -2  4  3  5  6  1\n",
    "```\n",
    "\n",
    "最后答案是\n",
    "$$\n",
    "    \\max\\{B_i | i \\in [0, n - 1]\\}\n",
    "$$\n",
    "\n",
    "> 以上面的例子为例，最后答案是6。"
   ]
  },
  {
   "cell_type": "code",
   "execution_count": null,
   "metadata": {},
   "outputs": [],
   "source": [
    "class Solution:\n",
    "    def maxSubArray(self, nums):\n",
    "        \"\"\"\n",
    "        :type nums: List[int]\n",
    "        :rtype: int\n",
    "        \"\"\"\n",
    "        maximumSummationSoFar = nums[0]\n",
    "        possibleMaximumSummation = maximumSummationSoFar\n",
    "        for i in nums[1: ]:\n",
    "            maximumSummationSoFar = max(i, i + maximumSummationSoFar)\n",
    "            possibleMaximumSummation = max(maximumSummationSoFar, possibleMaximumSummation)\n",
    "        return possibleMaximumSummation"
   ]
  },
  {
   "cell_type": "markdown",
   "metadata": {},
   "source": [
    "很多人可能会和我一样，第一次错误地认为$B_i$的定义是`A[0: i + 1]`的**所有子序列**的和的最大值，而不是**所以包含了第i个元素的**的子序列的和的最大值。\n",
    "\n",
    "我后来仔细想了这个问题。对于数学归纳法而言，我们需要这一步推到下一步足够方便。如果按照我们臆想的那个错误定义，我们是很难从`A[0: i+1]`的所有子序列的和的最大值、推到`A[0: i+2]`的所有子序列的和的最大值的。但是我们很容易能从`A[0: i+1]`的所有包含第i个元素的子序列的和的最大值、推导出`A[0: i+2]`的所有包含第i+1个元素的子序列的和的最大值的。他们之间的关系就是一个很简单的\n",
    "$$\n",
    "\\begin{align}\n",
    "    B_{i + 1} = \\max\\{B_{i} + A_{i + 1}, A_{i + 1}\\}\n",
    "\\end{align}\n",
    "$$\n",
    "关系。\n",
    "\n",
    "可能有人还是没法理解上面这个式子怎么来的。我再仔细讲一遍。一定要记住，$B_i$一定是`A[0: i+1]`的所有包含了第i个元素的子序列的和的最大值。这是什么意思？意思是$B_i$是一个和，这个和一定含有`A[i]`的成分。否则就不满足定义了。\n",
    "\n",
    "OK，现在我们有了$B_i$了，怎么从$B_i$推到$B_{i + 1}$呢？同样的，$B_{i + 1}$必须包含`A[i+1]`的成分。这样我们就一个一个地试\n",
    "```\n",
    "A[i+1: i+2], A[i: i+2], A[i-1: i+2], ..., A[0: i+2]\n",
    "```\n",
    "这时候我们发现了一个问题：我们做了重复劳动了。哪里？你想想你刚才是怎么试出$B_i$的？你也是这样一个一个地试的\n",
    "```\n",
    "A[i: i+1], A[i-1: i+1], A[i-2: i+1], ..., A[0: i+1]\n",
    "```\n",
    "如果你还是看不出来哪里重复劳动了，我再把$B_{i + 1}$的地方写完整给你看\n",
    "```\n",
    "A[i+1: i+2] = 0           + A[i+1]\n",
    "A[i  : i+2] = A[i  : i+1] + A[i+1]\n",
    "A[i-1: i+2] = A[i-1: i+1] + A[i+1]\n",
    "...\n",
    "A[0  : i+2] = A[0  : i+1] + A[i+1]\n",
    "              ^^^^^^^^^^^\n",
    "```\n",
    "有没有看到重复劳动的地方？我们看到，除了第一项`A[i+1: i+2]`也就是`A[i+1]`之外，其他剩下的子序列都是算$B_i$时用到过的子序列、和`A[i+1]`拼起来的。"
   ]
  },
  {
   "cell_type": "markdown",
   "metadata": {},
   "source": [
    "## 121. Best Time to Buy and Sell Stock\n",
    "\n",
    "<https://leetcode.com/problems/best-time-to-buy-and-sell-stock/description/>"
   ]
  },
  {
   "cell_type": "markdown",
   "metadata": {},
   "source": [
    "本质上是找到\n",
    "$$\n",
    "    \\max\\{a_j - a_i | 0 \\leq i \\leq j \\leq n - 1\\}\n",
    "$$\n",
    "\n",
    "定义第i天的最大利润是$P_i$。那么这天的利润$P_i$和前面几天的利润有什么关系呢？\n",
    "\n",
    "- 今天股票价格比昨天低\n",
    "\n",
    "  那我应该昨天就卖了，所以今天的最大利润和昨天的最大利润一样。$P_i = P_{i - 1}$；\n",
    "  \n",
    "- 今天股票价格比昨天高、或者和昨天一样高\n",
    "\n",
    "  那我应该今天卖。因为今天卖肯定比昨天更赚钱。~~今天的利润比昨天会高$a_i - a_{i - 1}$。~~就是这里错了。如果昨天没有卖怎么办？所以今天的利润不是$P_{i - 1} + a_i - a_{i - 1}$，而是$a_i$减去有史以来见过的最低价$m_i$，即$P_i = a_i - m_i$。所以\n",
    "$$\n",
    "    P_i = \\max\\{P_{i - 1}, a_i - m_i\\}\n",
    "$$\n",
    "\n",
    "这样答案就是$P_{n - 1}$。"
   ]
  },
  {
   "cell_type": "code",
   "execution_count": 1,
   "metadata": {},
   "outputs": [],
   "source": [
    "class Solution:\n",
    "    def maxProfit(self, prices):\n",
    "        \"\"\"\n",
    "        :type prices: List[int]\n",
    "        :rtype: int\n",
    "        \"\"\"\n",
    "        if not prices:\n",
    "            return 0\n",
    "        purchasePrice = prices[0]\n",
    "        profit = 0\n",
    "        for value in prices[1: ]:\n",
    "            purchasePrice = min(value, purchasePrice)\n",
    "            profit = max(profit, value - purchasePrice)\n",
    "        return profit"
   ]
  },
  {
   "cell_type": "code",
   "execution_count": 3,
   "metadata": {},
   "outputs": [],
   "source": [
    "class Solution:\n",
    "    def maxProfit(self, prices):\n",
    "        \"\"\"\n",
    "        :type prices: List[int]\n",
    "        :rtype: int\n",
    "        \"\"\"\n",
    "        if not prices:\n",
    "            return 0\n",
    "        profits = [0]\n",
    "        minimumPriceSoFar = prices[0]\n",
    "        for i in range(len(prices))[1: ]:\n",
    "            minimumPriceSoFar = min(prices[i], minimumPriceSoFar)\n",
    "            profits.append(max(profits[i - 1], prices[i] - minimumPriceSoFar))\n",
    "        return profits[-1]"
   ]
  },
  {
   "cell_type": "markdown",
   "metadata": {},
   "source": [
    "## 152. Maximum Product Subarray\n",
    "\n",
    "<https://leetcode.com/problems/maximum-product-subarray/description/>"
   ]
  },
  {
   "cell_type": "markdown",
   "metadata": {},
   "source": [
    "本质上是要找到\n",
    "$$\n",
    "    \\max\\left\\{\\prod_{k = i}^{j} a_k \\middle| 0 \\leq i \\leq j \\leq n - 1\\right\\}\n",
    "$$\n",
    "\n",
    "定义到包括了第i个元素的最大积为$P_i$。$P_i$和前面的$P_j (j < i)$有什么关系呢？如果做过Maximum Subarray，可能我们很粗略的得出\n",
    "$$\n",
    "    P_i = \\max\\{P_{i - 1} \\cdot a_i, a_i\\}\n",
    "$$\n",
    "但是这时候会隐隐有一种感觉，感觉符号可能会来搅局。一个负号可能就会让最大积一下子变成最小积。仔细想想，上面的这个粗略的猜测有一个致命的问题，就是遇到负数之后，就会抛弃前面的乘积，只会取最新的这个负数。比如\n",
    "```\n",
    "2  3  4 -1\n",
    "```\n",
    "遇到-1后，$P_i$会马上变成-1。但是如果-1的后面还有负数\n",
    "```\n",
    "2  3  4 -1 -1\n",
    "```\n",
    "$P_i$会变成1，可是显然按照定义，这是不对的，$P_i$应该等于24。\n",
    "\n",
    "可能有一些突然，但是我们必须再定义一个$P'_i$，它是包括了第i个元素的最小积。所以完备的$P_i$的定义是\n",
    "$$\n",
    "\\begin{align}\n",
    "    P_i &= \\max\\{P_{i - 1} \\cdot a_i, a_i, P'_{i - 1} \\cdot a_i\\} \\\\\n",
    "    P'_i &= \\min\\{P_{i - 1} \\cdot a_i, a_i, P'_{i - 1} \\cdot a_i\\}\n",
    "\\end{align}\n",
    "$$\n",
    "\n",
    "这里$P_i$的定义和之前的Maximum Subarray非常类似，它是**包括了第i个元素成分的**最大积。\n",
    "\n",
    "所以答案也是$\\max\\{P_i\\}$。"
   ]
  },
  {
   "cell_type": "code",
   "execution_count": 7,
   "metadata": {},
   "outputs": [],
   "source": [
    "class Solution:\n",
    "    def maxProduct(self, nums):\n",
    "        \"\"\"\n",
    "        :type nums: List[int]\n",
    "        :rtype: int\n",
    "        \"\"\"\n",
    "        maximumProducts = [nums[0]]\n",
    "        minimumProducts = [nums[0]]\n",
    "        for index, value in enumerate(nums[1: ], 1):\n",
    "            maximumProducts.append(max(maximumProducts[index - 1] * value, minimumProducts[index - 1] * value, value))\n",
    "            minimumProducts.append(min(minimumProducts[index - 1] * value, maximumProducts[index - 1] * value, value))\n",
    "        return max(maximumProducts)"
   ]
  },
  {
   "cell_type": "markdown",
   "metadata": {},
   "source": [
    "## 198. House Robber\n",
    "\n",
    "<https://leetcode.com/problems/house-robber/description/>"
   ]
  },
  {
   "cell_type": "markdown",
   "metadata": {},
   "source": [
    "本质上是要找到\n",
    "$$\n",
    "    \\max\\left\\{\\sum_{k \\in K} a_k \\right\\}, \\quad \\text{$K$ is a set such that} \\begin{cases}\n",
    "        K \\subseteq \\{0, 1, \\ldots, n - 1\\}, \\\\\n",
    "        \\forall k_1, k_2 \\in K, k_1 \\neq k_2, |k_1 - k_2| > 1 \\\\\n",
    "    \\end{cases}\n",
    "$$\n",
    "\n",
    "还是动态规划。定义偷到第i家时，获得的最大利润是$P_i$。那么$P_i$与前面的项的关系是什么呢？是\n",
    "$$\n",
    "    P_i = \\max\\{a_i + P_{i - 2}, P_{i - 1}\\}\n",
    "$$\n",
    "意思是偷到第i家时，有两种选择\n",
    "- 要么这家不偷\n",
    "- 要么偷这家，但是前面一家、也就是第i-1家不能偷，否则就触发警报了\n",
    "\n",
    "最后答案就是$P_{n - 1}$。"
   ]
  },
  {
   "cell_type": "code",
   "execution_count": 2,
   "metadata": {},
   "outputs": [],
   "source": [
    "class Solution:\n",
    "    def rob(self, nums):\n",
    "        \"\"\"\n",
    "        :type nums: List[int]\n",
    "        :rtype: int\n",
    "        \"\"\"\n",
    "        oddSum = 0\n",
    "        evenSum = 0\n",
    "        for index, value in enumerate(nums):\n",
    "            if index % 2 == 0:\n",
    "                evenSum = max(oddSum, evenSum + value)\n",
    "            else:\n",
    "                oddSum = max(evenSum, oddSum + value)\n",
    "        return max(oddSum, evenSum)"
   ]
  },
  {
   "cell_type": "code",
   "execution_count": null,
   "metadata": {},
   "outputs": [],
   "source": [
    "class Solution:\n",
    "    def rob(self, nums):\n",
    "        \"\"\"\n",
    "        :type nums: List[int]\n",
    "        :rtype: int\n",
    "        \"\"\"\n",
    "        if not nums:\n",
    "            return 0\n",
    "        if len(nums) == 1:\n",
    "            return nums[0]\n",
    "        maximumSums = [nums[0], max(nums[0], nums[1])]\n",
    "        for i in range(len(nums))[2: ]:\n",
    "            maximumSums.append(max(nums[i] + maximumSums[i - 2], maximumSums[i - 1]))\n",
    "        return maximumSums[-1]"
   ]
  },
  {
   "cell_type": "markdown",
   "metadata": {},
   "source": [
    "## 122. Best Time to Buy and Sell Stock II\n",
    "\n",
    "<https://leetcode.com/problems/best-time-to-buy-and-sell-stock-ii/description/>"
   ]
  },
  {
   "cell_type": "markdown",
   "metadata": {},
   "source": [
    "本质上是要找到\n",
    "$$\n",
    "    \\max\\left\\{\\sum_{k=1}^N (a_{s_k} - a_{b_k}) \\middle| 0 \\leq b_1 < s_1 < b_2 < s_2 < \\ldots < b_N < s_N \\leq n - 1\\right\\}\n",
    "$$\n",
    "\n",
    "这题和上一题的区别是Best Time to Buy and Sell Stock只能交易一次。这里是可以交易无限次，但是限制是每天只能最多做一次交易，并且手里不能同时有两只股票。也就是说不能第一天买，第二天又买，再都第三天卖掉。\n",
    "\n",
    "设第i天最大利润是$P_i$，那么$P_{i + 1}$和$P_i$有什么关系？如果第i+1天价格$a_{i + 1}$大于第i天价格$a_i$，那说明昨天不应该卖，应该今天卖掉，这样总利润比昨天高$a_{i + 1} - a_i$；如果今天价格比昨天低或者一样，那么昨天一定要卖掉，今天再入手抄底，这样总利润和昨天一样，不变。\n",
    "$$\n",
    "\\begin{align}\n",
    "    P_{i + 1} = \\begin{cases}\n",
    "        P_i + a_{i + 1} - a_i, &\\qquad a_{i + 1} > a_i \\\\\n",
    "        P_i &\\qquad a_{i + 1} \\leq a_i \\\\\n",
    "    \\end{cases}\n",
    "\\end{align}\n",
    "$$\n",
    "\n",
    "所以答案是原来数列的一阶差分、再过滤掉所有负数项、之后的和。\n",
    "$$\n",
    "    \\sum_{i = 0}^{n - 2} \\max\\{a_{i + 1} - a_i, 0\\}\n",
    "$$"
   ]
  },
  {
   "cell_type": "code",
   "execution_count": 12,
   "metadata": {},
   "outputs": [
    {
     "data": {
      "text/plain": [
       "8"
      ]
     },
     "execution_count": 12,
     "metadata": {},
     "output_type": "execute_result"
    }
   ],
   "source": [
    "Solution().climbStairs(5)"
   ]
  },
  {
   "cell_type": "code",
   "execution_count": 26,
   "metadata": {},
   "outputs": [],
   "source": [
    "class Solution:\n",
    "    def maxProfit(self, prices):\n",
    "        \"\"\"\n",
    "        :type prices: List[int]\n",
    "        :rtype: int\n",
    "        \"\"\"\n",
    "        return sum(prices[i + 1] - prices[i] if prices[i + 1] > prices[i] else 0 for i in range(len(prices) - 1))"
   ]
  },
  {
   "cell_type": "code",
   "execution_count": 27,
   "metadata": {
    "scrolled": true
   },
   "outputs": [
    {
     "data": {
      "text/plain": [
       "4"
      ]
     },
     "execution_count": 27,
     "metadata": {},
     "output_type": "execute_result"
    }
   ],
   "source": [
    "Solution().maxProfit([1,2,3,4,5])"
   ]
  },
  {
   "cell_type": "markdown",
   "metadata": {},
   "source": [
    "## 3. Longest Substring Without Repeating Characters\n",
    "\n",
    "<https://leetcode.com/problems/longest-substring-without-repeating-characters/description/>"
   ]
  },
  {
   "cell_type": "markdown",
   "metadata": {},
   "source": [
    "本质上是要找到\n",
    "$$\n",
    "    \\max\\left\\{j - i \\middle| \\forall k_1, k_2 \\in [i, j], k_1 \\neq k_2: a_{k_1} \\neq a_{k_2}\\right\\}\n",
    "$$\n",
    "\n",
    "定义$S_i$为包含了$a_i$的、0到$a_i$之间最长的无重复字符的子字符串。那么$S_{i + 1}$和$S_i$有什么关系呢？\n",
    "- 如果$a_{i + 1}$不在$S_i$里，那么$S_{i + 1} = \\{S_i, a_{i + 1}\\}$\n",
    "- 如果$S_i$里面已经有$a_{i + 1}$了，$S_i$的定义可以保证$S_i$有且只有一次$a_{i + 1}$。找到它出现的地方，从它后面一个字符开始、把$S_i$切开成两段，取后面一段$S'_i$，这样$S_{i + 1} = \\{S'_i, a_{i + 1}\\}$\n",
    "\n",
    "答案就是$\\max\\{S_i\\}$。"
   ]
  },
  {
   "cell_type": "code",
   "execution_count": 9,
   "metadata": {},
   "outputs": [],
   "source": [
    "class Solution:\n",
    "    def lengthOfLongestSubstring(self, s):\n",
    "        \"\"\"\n",
    "        :type s: str\n",
    "        :rtype: int\n",
    "        \"\"\"\n",
    "        if len(s) == 0:\n",
    "            return 0\n",
    "        if len(s) == 1:\n",
    "            return 1\n",
    "        longestSubstringContainingCurrentCharacter = s[0]\n",
    "        longestSubstringLength = 1\n",
    "        for value in s[1: ]:\n",
    "            if value in longestSubstringContainingCurrentCharacter:\n",
    "                longestSubstringContainingCurrentCharacter = longestSubstringContainingCurrentCharacter[longestSubstringContainingCurrentCharacter.index(value) + 1: ] + value\n",
    "                longestSubstringLength = max(longestSubstringLength, len(longestSubstringContainingCurrentCharacter))\n",
    "            else:\n",
    "                longestSubstringContainingCurrentCharacter = longestSubstringContainingCurrentCharacter + value\n",
    "                longestSubstringLength = max(longestSubstringLength, len(longestSubstringContainingCurrentCharacter))\n",
    "        return longestSubstringLength"
   ]
  },
  {
   "cell_type": "code",
   "execution_count": 13,
   "metadata": {},
   "outputs": [
    {
     "data": {
      "text/plain": [
       "3"
      ]
     },
     "execution_count": 13,
     "metadata": {},
     "output_type": "execute_result"
    }
   ],
   "source": [
    "Solution().lengthOfLongestSubstring(\"abcabcbb\")"
   ]
  },
  {
   "cell_type": "markdown",
   "metadata": {},
   "source": [
    "### 123. Best Time to Buy and Sell Stock III\n",
    "\n",
    "<https://leetcode.com/problems/best-time-to-buy-and-sell-stock-iii/description/>"
   ]
  },
  {
   "cell_type": "markdown",
   "metadata": {},
   "source": [
    "这题和II的区别是，最多交易2次。\n",
    "\n",
    "本质上是找到\n",
    "$$\n",
    "    \\max\\{\\underbrace{\\max\\{a_j - a_i + a_l - a_k | 0 \\leq i < j < k < l \\leq n - 1\\}}_{交易2次}, \\underbrace{\\max\\{a_j - a_i | 0 \\leq i < j \\leq n - 1\\}}_{交易1次}, \\underbrace{0}_{不交易}\\}\n",
    "$$"
   ]
  },
  {
   "cell_type": "code",
   "execution_count": null,
   "metadata": {},
   "outputs": [],
   "source": [
    "class Solution:\n",
    "    def maxProfit(self, prices):\n",
    "        \"\"\"\n",
    "        :type prices: List[int]\n",
    "        :rtype: int\n",
    "        \"\"\"\n",
    "        "
   ]
  },
  {
   "cell_type": "markdown",
   "metadata": {},
   "source": [
    "## 746. Min Cost Climbing Stairs\n",
    "\n",
    "<https://leetcode.com/problems/min-cost-climbing-stairs/description/>"
   ]
  },
  {
   "cell_type": "markdown",
   "metadata": {},
   "source": [
    "~~假设到了第$i - 1$级楼梯，此时最小成本是$P_{i - 1}$。那么$P_i$和$P_{i - 1}$有什么关系呢？~~\n",
    "\n",
    "~~如果第$i - 1$级楼梯是被略过的，那么不能跨过超过2级楼梯，第$i$级楼梯必须上去，所以$P_i = P_{i - 1} + a_i$。~~\n",
    "\n",
    "~~如果第$i - 1$级楼梯没有被略过，是花了成本的，那么可以比较一下$a_i$和$a_{i - 1}$，如果~~\n",
    "- ~~发现$a_i$比$a_{i - 1}$小，那说明其实第$i - 1$级刚才应该跳过的，应该直接从第$i - 2$级跳到第$i$级~~\n",
    "- ~~发现$a_i$比$a_{i - 1}$大，那么还是算了，第$i$级不要上去了吧，观望一下~~\n",
    "- ~~发现$a_i = a_{i - 1}$，这就有点难处理了。但是根据贪心的原则，还是应该到第$i$级上去。~~"
   ]
  },
  {
   "cell_type": "markdown",
   "metadata": {},
   "source": [
    "很可惜，上面我想了这么多，最后还是没能做出来。之前也做了这么多道DP题，遇到这种题还是做不出。这里也算是反面教材了一下。事实上DP是很简单的。只要想一个核心问题，就是怎样从前面的条件，比如$i - 1, i - 2$推到$i$，不需要考虑$i + 1$的情况。\n",
    "\n",
    "怎样到达第$i$级楼梯呢？我们发现只有两种方法\n",
    "- 从第$i - 2$级跨2级上来\n",
    "- 从第$i - 1$级跨1级上来\n",
    "\n",
    "这两种方法里肯定有一种成本最低。那就不管了，直接用一个$\\min$套起来\n",
    "$$\n",
    "    p_i = \\min\\{p_{i - 2} + a_{i - 2}, p_{i - 1} + a_{i - 1}\\}\n",
    "$$\n",
    "这时候千万不要想$i + 1$怎么样，完全不需要想。\n",
    "\n",
    "注意这个题目里面的$a_i$不是指从到达第$i$级的成本，而是指**从第$i$级出发、上一级或者两级的成本。**所以自然$p_i$也是指的到达第$i$级花的成本，里面是没有$a_i$的成分的。如果你要从第$i$级出发，才需要加上$a_i$。\n",
    "\n",
    "这时候再去想初始条件。因为一开始可以选择直接跨上第0个台阶，也可以选择直接跨上第1个台阶。**是不需要成本的！**这个条件非常关键，否则你就会写成`p[0] = cost[0], p[1] = min(cost[0], cost[1]）`。\n",
    "\n",
    "所以完整的递推式是\n",
    "$$\n",
    "\\left\\{\\begin{align}\n",
    "    p_i &= \\min\\{p_{i - 2} + a_{i - 2}, p_{i - 1} + a_{i - 2}\\} \\\\\n",
    "    p_0 &= 0 \\\\\n",
    "    p_1 &= 0 \\\\\n",
    "\\end{align}\\right.\n",
    "$$\n",
    "\n",
    "最终答案不是$p_{n - 1}$而是$p_n$。可以这么理解，最后你要跳到顶层，可以把顶层看成成本为0的一级楼梯。"
   ]
  },
  {
   "cell_type": "code",
   "execution_count": 124,
   "metadata": {},
   "outputs": [],
   "source": [
    "class Solution:\n",
    "    def minCostClimbingStairs(self, cost):\n",
    "        \"\"\"\n",
    "        :type cost: List[int]\n",
    "        :rtype: int\n",
    "        \"\"\"\n",
    "        p = [0, 0]\n",
    "        for index, value in enumerate(cost[2: ] + [0], 2):\n",
    "            p.append(min(p[index - 2] + cost[index - 2], p[index - 1] + cost[index - 1]))\n",
    "        print(p)\n",
    "        return p[-1]"
   ]
  },
  {
   "cell_type": "code",
   "execution_count": 125,
   "metadata": {},
   "outputs": [
    {
     "name": "stdout",
     "output_type": "stream",
     "text": [
      "[0, 0, 10, 15]\n"
     ]
    },
    {
     "data": {
      "text/plain": [
       "15"
      ]
     },
     "execution_count": 125,
     "metadata": {},
     "output_type": "execute_result"
    }
   ],
   "source": [
    "Solution().minCostClimbingStairs([10, 15, 20])"
   ]
  },
  {
   "cell_type": "code",
   "execution_count": 126,
   "metadata": {},
   "outputs": [
    {
     "name": "stdout",
     "output_type": "stream",
     "text": [
      "[0, 0, 1, 2, 2, 3, 3, 4, 4, 5, 6]\n"
     ]
    },
    {
     "data": {
      "text/plain": [
       "6"
      ]
     },
     "execution_count": 126,
     "metadata": {},
     "output_type": "execute_result"
    }
   ],
   "source": [
    "Solution().minCostClimbingStairs([1, 100, 1, 1, 1, 100, 1, 1, 100, 1])"
   ]
  },
  {
   "cell_type": "code",
   "execution_count": 127,
   "metadata": {},
   "outputs": [
    {
     "name": "stdout",
     "output_type": "stream",
     "text": [
      "[0, 0, 0, 0, 0]\n"
     ]
    },
    {
     "data": {
      "text/plain": [
       "0"
      ]
     },
     "execution_count": 127,
     "metadata": {},
     "output_type": "execute_result"
    }
   ],
   "source": [
    "Solution().minCostClimbingStairs([0, 0, 0, 1])"
   ]
  },
  {
   "cell_type": "markdown",
   "metadata": {},
   "source": [
    "-----\n",
    "\n",
    "观察上面的几个题目，会发现它们基本上都是这样的形式：找到\n",
    "$$\n",
    "    \\max\\{f(i, j) | 0 \\leq i \\leq j \\leq n - 1\\}\n",
    "$$\n",
    "\n",
    "- 当$f(i, j) = \\sum_{k = i}^{j} a_k$时，变成了Maximum Subarray问题;\n",
    "- 当$f(i, j) = \\min\\{a_i, a_j\\} \\cdot (j - i)$，变成了Container with Most Water问题；\n",
    "- 当$f(i, j) = a_j - a_i$，变成了Best Time to Buy and Sell Stock问题;\n",
    "- 当$f(i, j) = \\prod_{k = i}^{j} a_k$时，变成了Maximum Product Subarray问题；\n",
    "\n",
    "## 何时答案是$\\max\\{P_i\\}$、何时答案是$P_{n - 1}$？\n",
    "\n",
    "## 该怎么选择合适的$P_i$的定义？"
   ]
  },
  {
   "cell_type": "markdown",
   "metadata": {},
   "source": [
    "## 15. 3Sum\n",
    "\n",
    "<https://leetcode.com/problems/3sum/description/>"
   ]
  },
  {
   "cell_type": "markdown",
   "metadata": {},
   "source": [
    "本质上是要找到\n",
    "$$\n",
    "    \\{(a_i, a_j, a_k) | 0 \\leq i < j < k \\leq n - 1, a_i + a_j + a_k = 0\\}\n",
    "$$"
   ]
  },
  {
   "cell_type": "markdown",
   "metadata": {},
   "source": [
    "## 17. Letter Combinations of a Phone Number\n",
    "\n",
    "<https://leetcode.com/problems/letter-combinations-of-a-phone-number/description/>"
   ]
  },
  {
   "cell_type": "code",
   "execution_count": 1,
   "metadata": {},
   "outputs": [],
   "source": [
    "import itertools\n",
    "class Solution:\n",
    "    def letterCombinations(self, digits):\n",
    "        \"\"\"\n",
    "        :type digits: str\n",
    "        :rtype: List[str]\n",
    "        \"\"\"\n",
    "        dictionary = {\n",
    "            \"2\": list(\"abc\"),\n",
    "            \"3\": list(\"def\"),\n",
    "            \"4\": list(\"ghi\"),\n",
    "            \"5\": list(\"jkl\"),\n",
    "            \"6\": list(\"mno\"),\n",
    "            \"7\": list(\"pqrs\"),\n",
    "            \"8\": list(\"tuv\"),\n",
    "            \"9\": list(\"wxyz\")\n",
    "        }\n",
    "#         dictionary = dict(zip(list('23456789'),'abc def ghi jkl mno pqrs tuv wxyz'.split()))\n",
    "#         这样写更好\n",
    "        return [\"\".join(i) for i in itertools.product(*[dictionary[j] for j in digits])]"
   ]
  },
  {
   "cell_type": "code",
   "execution_count": 2,
   "metadata": {},
   "outputs": [
    {
     "data": {
      "text/plain": [
       "['ad', 'ae', 'af', 'bd', 'be', 'bf', 'cd', 'ce', 'cf']"
      ]
     },
     "execution_count": 2,
     "metadata": {},
     "output_type": "execute_result"
    }
   ],
   "source": [
    "Solution().letterCombinations(\"23\")"
   ]
  },
  {
   "cell_type": "markdown",
   "metadata": {},
   "source": [
    "## 20. Valid Parentheses\n",
    "\n",
    "<https://leetcode.com/problems/valid-parentheses/description/>"
   ]
  },
  {
   "cell_type": "code",
   "execution_count": 16,
   "metadata": {},
   "outputs": [],
   "source": [
    "class Solution:\n",
    "    def isValid(self, s):\n",
    "        \"\"\"\n",
    "        :type s: str\n",
    "        :rtype: bool\n",
    "        \"\"\"\n",
    "        stack = []\n",
    "        pairs = {\n",
    "            \"(\": \")\",\n",
    "            \"[\": \"]\",\n",
    "            \"{\": \"}\"\n",
    "        }\n",
    "        for i in s:\n",
    "            if i in [\"(\", \"[\", \"{\"]:\n",
    "                stack.append(i)\n",
    "            else:\n",
    "                if stack == []:\n",
    "                    return False\n",
    "                elif i != pairs[stack[-1]]:\n",
    "                    return False\n",
    "                else:\n",
    "                    stack.pop()\n",
    "        if stack == []:\n",
    "            return True\n",
    "        else:\n",
    "            return False"
   ]
  },
  {
   "cell_type": "code",
   "execution_count": 20,
   "metadata": {},
   "outputs": [
    {
     "data": {
      "text/plain": [
       "False"
      ]
     },
     "execution_count": 20,
     "metadata": {},
     "output_type": "execute_result"
    }
   ],
   "source": [
    "Solution().isValid(\"]\")"
   ]
  },
  {
   "cell_type": "markdown",
   "metadata": {},
   "source": [
    "## 12. Integer to Roman\n",
    "\n",
    "<https://leetcode.com/problems/integer-to-roman/description/>"
   ]
  },
  {
   "cell_type": "code",
   "execution_count": 3,
   "metadata": {},
   "outputs": [],
   "source": [
    "class Solution:\n",
    "    def intToRoman(self, num):\n",
    "        \"\"\"\n",
    "        :type num: int\n",
    "        :rtype: str\n",
    "        \"\"\"\n",
    "        M = [\"\", \"M\", \"MM\", \"MMM\"] #千\n",
    "        C = [\"\", \"C\", \"CC\", \"CCC\", \"CD\", \"D\", \"DC\", \"DCC\", \"DCCC\", \"CM\"] #百\n",
    "        X = [\"\", \"X\", \"XX\", \"XXX\", \"XL\", \"L\", \"LX\", \"LXX\", \"LXXX\", \"XC\"] #十\n",
    "        I = [\"\", \"I\", \"II\", \"III\", \"IV\", \"V\", \"VI\", \"VII\", \"VIII\", \"IX\"] #个\n",
    "        return M[num//1000] + C[(num%1000)//100] + X[(num%100)//10] + I[num%10]"
   ]
  },
  {
   "cell_type": "code",
   "execution_count": 4,
   "metadata": {},
   "outputs": [
    {
     "data": {
      "text/plain": [
       "'MCMXCIV'"
      ]
     },
     "execution_count": 4,
     "metadata": {},
     "output_type": "execute_result"
    }
   ],
   "source": [
    "Solution().intToRoman(1994)"
   ]
  },
  {
   "cell_type": "markdown",
   "metadata": {},
   "source": [
    "## 13. Roman to Integer\n",
    "\n",
    "<https://leetcode.com/problems/roman-to-integer/description/>"
   ]
  },
  {
   "cell_type": "code",
   "execution_count": null,
   "metadata": {},
   "outputs": [],
   "source": []
  },
  {
   "cell_type": "markdown",
   "metadata": {},
   "source": [
    "## 70. Climbing Stairs\n",
    "\n",
    "<https://leetcode.com/problems/climbing-stairs/description/>"
   ]
  },
  {
   "cell_type": "markdown",
   "metadata": {},
   "source": [
    "好像又是动态规划。设$f_n$是n级楼梯的爬法数量，需要找到$f_{n + 1}$和$f_n$的关系。\n",
    "\n",
    "发现爬到第n+1级有两种办法\n",
    "- 从第n级爬1级到第n+1级\n",
    "- 从第n-1级爬2级到第n+1级\n",
    "\n",
    "可能有人有疑问那么为什么不可以从第n-1级爬1级、再爬1级到第n+1级呢？因为这个方案已经被**从第n级爬1级到第n+1级**包括了。\n",
    "\n",
    "所以得到了$f_{n + 1}$的表达式\n",
    "$$\n",
    "\\begin{align}\n",
    "    f_{n + 1} = f_n + f_{n - 1}\n",
    "\\end{align}\n",
    "$$\n",
    "所以可以用动态规划遍历一遍，就得到答案了。\n",
    "\n",
    "还可以用数学方法降维打击。这个看上去有点像斐波那契数列。但是这个数列从1开始，也就是`1, 2, 3, 5 ...`而不是`1, 1, 2, 3, 5`。\n",
    "\n",
    "斐波那契数列的通项公式是\n",
    "$$\n",
    "    F_n = {\\left({1 + \\sqrt{5} \\over 2}\\right)^n - \\left({1 - \\sqrt{5} \\over 2}\\right)^n \\over \\sqrt{5}}\n",
    "$$\n",
    "在我们这个题目里面，$f_n = F_{n + 1}$。\n",
    "\n",
    "为了防止小数运算出错，外面再加一个`round`四舍五入到整数。"
   ]
  },
  {
   "cell_type": "markdown",
   "metadata": {},
   "source": [
    "数学方法"
   ]
  },
  {
   "cell_type": "code",
   "execution_count": 19,
   "metadata": {},
   "outputs": [],
   "source": [
    "from math import sqrt\n",
    "class Solution:\n",
    "    def climbStairs(self, n):\n",
    "        \"\"\"\n",
    "        :type n: int\n",
    "        :rtype: int\n",
    "        \"\"\"\n",
    "        return round((((1 + sqrt(5)) / 2) ** (n + 1) - ((1 - sqrt(5)) / 2) ** (n + 1)) / sqrt(5))"
   ]
  },
  {
   "cell_type": "code",
   "execution_count": 12,
   "metadata": {},
   "outputs": [
    {
     "data": {
      "text/plain": [
       "8"
      ]
     },
     "execution_count": 12,
     "metadata": {},
     "output_type": "execute_result"
    }
   ],
   "source": [
    "Solution().climbStairs(5)"
   ]
  },
  {
   "cell_type": "markdown",
   "metadata": {},
   "source": [
    "遍历做法"
   ]
  },
  {
   "cell_type": "code",
   "execution_count": 20,
   "metadata": {},
   "outputs": [],
   "source": [
    "class Solution:\n",
    "    def climbStairs(self, n):\n",
    "        \"\"\"\n",
    "        :type n: int\n",
    "        :rtype: int\n",
    "        \"\"\"\n",
    "        if n == 1:\n",
    "            return 1\n",
    "        if n == 2:\n",
    "            return 2\n",
    "        q = [0, 1, 2]\n",
    "        for i in range(3, n + 1):\n",
    "            q.append(q[i - 1] + q[i - 2])\n",
    "        return q[-1]"
   ]
  },
  {
   "cell_type": "code",
   "execution_count": 25,
   "metadata": {},
   "outputs": [
    {
     "data": {
      "text/plain": [
       "8"
      ]
     },
     "execution_count": 25,
     "metadata": {},
     "output_type": "execute_result"
    }
   ],
   "source": [
    "Solution().climbStairs(5)"
   ]
  },
  {
   "cell_type": "markdown",
   "metadata": {},
   "source": [
    "## 171. Excel Sheet Column Number\n",
    "\n",
    "<https://leetcode.com/problems/excel-sheet-column-number/description/>"
   ]
  },
  {
   "cell_type": "code",
   "execution_count": 33,
   "metadata": {},
   "outputs": [],
   "source": [
    "class Solution:\n",
    "    def titleToNumber(self, s):\n",
    "        \"\"\"\n",
    "        :type s: str\n",
    "        :rtype: int\n",
    "        \"\"\"\n",
    "        return sum((ord(value) - 64) * 26 ** index for index, value in enumerate(s[:: -1]))"
   ]
  },
  {
   "cell_type": "code",
   "execution_count": 39,
   "metadata": {},
   "outputs": [
    {
     "data": {
      "text/plain": [
       "702"
      ]
     },
     "execution_count": 39,
     "metadata": {},
     "output_type": "execute_result"
    }
   ],
   "source": [
    "Solution().titleToNumber(\"ZZ\")"
   ]
  },
  {
   "cell_type": "markdown",
   "metadata": {},
   "source": [
    "## 168. Excel Sheet Column Title\n",
    "\n",
    "<https://leetcode.com/problems/excel-sheet-column-title/description/>"
   ]
  },
  {
   "cell_type": "markdown",
   "metadata": {},
   "source": [
    "171题反过来。设数字是$m$，那么$m$可以表示成\n",
    "$$\n",
    "    m = a_{n - 1} \\cdot 26^{n - 1} + a_{n - 1} \\cdot 26^{n - 2} + \\ldots + a_0 \\cdot 26^0\n",
    "$$\n",
    "其中权重数$a_i$可以这么算出来\n",
    "$$\n",
    "\\begin{align}\n",
    "    a_{n - 1} &= m \\mod 26^{n - 1} \\\\\n",
    "    a_{n - 2} &= (m - a_{n - 1} \\cdot 26^{n - 1}) \\mod 26^{n - 2} \\\\\n",
    "    a_{n - 3} &= (m - a_{n - 1} \\cdot 26^{n - 1} - a_{n - 2} \\cdot 26^{n - 2}) \\mod 26^{n - 3} \\\\\n",
    "    \\vdots \\\\\n",
    "    a_k &= \\left(m - \\sum_{i = k + 1}^{n - 1} a_k \\cdot 26^i\\right) \\mod 26^k \\\\\n",
    "    \\vdots \\\\\n",
    "    a_0 &= \\left(m - \\sum_{i = 1}^{n - 1} a_i \\cdot 26^i\\right) \\mod 26^0\n",
    "\\end{align}\n",
    "$$\n",
    "但是excel这个计数法则是不正确的，用上面的方法是**错误的，**因为没有0。你想，1是A，26是Z，但是27是AA，而不是A0。A又当0又当1。"
   ]
  },
  {
   "cell_type": "markdown",
   "metadata": {},
   "source": [
    "```cpp\n",
    "class Solution {\n",
    "public:\n",
    "    string convertToTitle(int n) {\n",
    "        string ret = \"\";\n",
    "        while(n)\n",
    "        {\n",
    "            ret = (char)((n-1)%26+'A') + ret;\n",
    "            n = (n-1)/26;\n",
    "        }\n",
    "        return ret;\n",
    "    }\n",
    "};\n",
    "```"
   ]
  },
  {
   "cell_type": "code",
   "execution_count": 133,
   "metadata": {},
   "outputs": [],
   "source": [
    "class Solution:\n",
    "    def convertToTitle(self, n):\n",
    "        \"\"\"\n",
    "        :type n: int\n",
    "        :rtype: str\n",
    "        \"\"\"\n",
    "        s = \"\"\n",
    "        while n:\n",
    "            s = chr((n - 1) % 26 + ord(\"A\")) + s\n",
    "            n = (n - 1) // 26\n",
    "        return s"
   ]
  },
  {
   "cell_type": "code",
   "execution_count": 134,
   "metadata": {
    "scrolled": true
   },
   "outputs": [
    {
     "data": {
      "text/plain": [
       "'ZZ'"
      ]
     },
     "execution_count": 134,
     "metadata": {},
     "output_type": "execute_result"
    }
   ],
   "source": [
    "Solution().convertToTitle(702)"
   ]
  },
  {
   "cell_type": "markdown",
   "metadata": {},
   "source": [
    "## 190. Reverse Bits\n",
    "\n",
    "<https://leetcode.com/problems/reverse-bits/description/>"
   ]
  },
  {
   "cell_type": "markdown",
   "metadata": {},
   "source": [
    "Python内建`bin`做法。"
   ]
  },
  {
   "cell_type": "code",
   "execution_count": 136,
   "metadata": {},
   "outputs": [],
   "source": [
    "class Solution:\n",
    "    # @param n, an integer\n",
    "    # @return an integer\n",
    "    def reverseBits(self, n):\n",
    "        return int(\"{:0>32}\".format(bin(n)[2: ])[:: -1], 2)"
   ]
  },
  {
   "cell_type": "code",
   "execution_count": 137,
   "metadata": {},
   "outputs": [
    {
     "data": {
      "text/plain": [
       "964176192"
      ]
     },
     "execution_count": 137,
     "metadata": {},
     "output_type": "execute_result"
    }
   ],
   "source": [
    "Solution().reverseBits(43261596)"
   ]
  },
  {
   "cell_type": "markdown",
   "metadata": {},
   "source": [
    "另外建一个数，每次左移再加上n的最低位。左移32次。"
   ]
  },
  {
   "cell_type": "code",
   "execution_count": 148,
   "metadata": {},
   "outputs": [],
   "source": [
    "class Solution:\n",
    "    # @param n, an integer\n",
    "    # @return an integer\n",
    "    def reverseBits(self, n):\n",
    "        q = 0\n",
    "        for i in range(32):\n",
    "            q = (q << 1) + (n & 1)\n",
    "            n = n >> 1\n",
    "        return q"
   ]
  },
  {
   "cell_type": "code",
   "execution_count": 149,
   "metadata": {
    "scrolled": true
   },
   "outputs": [
    {
     "data": {
      "text/plain": [
       "964176192"
      ]
     },
     "execution_count": 149,
     "metadata": {},
     "output_type": "execute_result"
    }
   ],
   "source": [
    "Solution().reverseBits(43261596)"
   ]
  },
  {
   "cell_type": "markdown",
   "metadata": {},
   "source": [
    "Leetcode显示第一种做法更快。"
   ]
  },
  {
   "cell_type": "markdown",
   "metadata": {},
   "source": []
  },
  {
   "cell_type": "code",
   "execution_count": 142,
   "metadata": {},
   "outputs": [],
   "source": [
    "class Solution(object):\n",
    "    def hammingWeight(self, n):\n",
    "        \"\"\"\n",
    "        :type n: int\n",
    "        :rtype: int\n",
    "        \"\"\"\n",
    "        ones = 0\n",
    "        while n != 0:\n",
    "            if n % 2:\n",
    "                ones += 1\n",
    "            n = n >> 1\n",
    "        return ones"
   ]
  },
  {
   "cell_type": "code",
   "execution_count": 147,
   "metadata": {},
   "outputs": [
    {
     "data": {
      "text/plain": [
       "2"
      ]
     },
     "execution_count": 147,
     "metadata": {},
     "output_type": "execute_result"
    }
   ],
   "source": [
    "Solution().hammingWeight(3)"
   ]
  },
  {
   "cell_type": "markdown",
   "metadata": {},
   "source": [
    "## 202. Happy Number\n",
    "\n",
    "<https://leetcode.com/problems/happy-number/description/>"
   ]
  },
  {
   "cell_type": "markdown",
   "metadata": {},
   "source": [
    "如果是快乐数，那么一定会出现1。如果不是快乐数，也没有必要一直while循环下去，而是会出现周期。所以需要开一个集合，如果见到1，直接返回True；如果不是1，先看下集合里有没有这个数、也就是看一下以前有没有出现过这个数字，如果出现过了，那就说明开始周期循环了，以后也没有必要再循环下去了，直接返回False。"
   ]
  },
  {
   "cell_type": "code",
   "execution_count": 152,
   "metadata": {},
   "outputs": [],
   "source": [
    "class Solution(object):\n",
    "    def isHappy(self, n):\n",
    "        \"\"\"\n",
    "        :type n: int\n",
    "        :rtype: bool\n",
    "        \"\"\"\n",
    "        numbers = set()\n",
    "        while True:\n",
    "            n = sum(int(i) ** 2 for i in str(n))\n",
    "            if n == 1:\n",
    "                return True\n",
    "            \n",
    "            if n in numbers:\n",
    "                return False\n",
    "            else:\n",
    "                numbers.add(n)"
   ]
  },
  {
   "cell_type": "code",
   "execution_count": 153,
   "metadata": {},
   "outputs": [
    {
     "data": {
      "text/plain": [
       "True"
      ]
     },
     "execution_count": 153,
     "metadata": {},
     "output_type": "execute_result"
    }
   ],
   "source": [
    "Solution().isHappy(19)"
   ]
  },
  {
   "cell_type": "markdown",
   "metadata": {},
   "source": [
    "## 205. Isomorphic Strings\n",
    "\n",
    "<https://leetcode.com/problems/isomorphic-strings/description/>"
   ]
  },
  {
   "cell_type": "markdown",
   "metadata": {},
   "source": [
    "验证A和B之间是否存在一个一一对应的映射。"
   ]
  },
  {
   "cell_type": "code",
   "execution_count": 165,
   "metadata": {},
   "outputs": [],
   "source": [
    "class Solution(object):\n",
    "    def isIsomorphic(self, s, t):\n",
    "        \"\"\"\n",
    "        :type s: str\n",
    "        :type t: str\n",
    "        :rtype: bool\n",
    "        \"\"\"\n",
    "        return list(map(s.find, s)) == list(map(t.find, t))"
   ]
  },
  {
   "cell_type": "code",
   "execution_count": 166,
   "metadata": {},
   "outputs": [
    {
     "data": {
      "text/plain": [
       "False"
      ]
     },
     "execution_count": 166,
     "metadata": {},
     "output_type": "execute_result"
    }
   ],
   "source": [
    "Solution().isIsomorphic(\"papee\", \"title\")"
   ]
  },
  {
   "cell_type": "markdown",
   "metadata": {},
   "source": [
    "上面的解法本质上是把字符串序列替换成其中每个字符在这个字符串里第一次出现的位置组成的序列，然后比较两个字符串变换后的序列是否相同。这个解法真的很巧妙，我非常喜欢。\n",
    "\n",
    "为什么验证每个字符第一次出现的位置是否相同和问题是等价的呢?我也没法严格证明这个问题。"
   ]
  },
  {
   "cell_type": "code",
   "execution_count": 167,
   "metadata": {},
   "outputs": [],
   "source": [
    "class Solution(object):\n",
    "    def isIsomorphic(self, s, t):\n",
    "        \"\"\"\n",
    "        :type s: str\n",
    "        :type t: str\n",
    "        :rtype: bool\n",
    "        \"\"\"\n",
    "        return len(set(s)) == len(set(t)) == len(set((i, j) for i, j in zip(s, t)))"
   ]
  },
  {
   "cell_type": "code",
   "execution_count": 169,
   "metadata": {},
   "outputs": [
    {
     "data": {
      "text/plain": [
       "True"
      ]
     },
     "execution_count": 169,
     "metadata": {},
     "output_type": "execute_result"
    }
   ],
   "source": [
    "Solution().isIsomorphic(\"paper\", \"title\")"
   ]
  },
  {
   "cell_type": "markdown",
   "metadata": {},
   "source": [
    "上面的解法是我想出来的直观的解法。速度稍微慢一点。\n",
    "\n",
    "前一个等号`len(set(s)) == len(set(t))`保证了两个序列里不会有出现元素种类数目不同。也就是不会出现`abc, abb`这种情况；第二个等号保证了即使元素种类数目相同、同一个也元素不会映射两次，比如`aba, baa`这种情况。"
   ]
  },
  {
   "cell_type": "markdown",
   "metadata": {},
   "source": [
    "## 219. Contains Duplicate II\n",
    "\n",
    "<https://leetcode.com/problems/contains-duplicate-ii/description/>"
   ]
  },
  {
   "cell_type": "code",
   "execution_count": 5,
   "metadata": {},
   "outputs": [],
   "source": [
    "class Solution(object):\n",
    "    def containsNearbyDuplicate(self, nums, k):\n",
    "        \"\"\"\n",
    "        :type nums: List[int]\n",
    "        :type k: int\n",
    "        :rtype: bool\n",
    "        \"\"\"\n",
    "#         if k + 1 > len(nums):\n",
    "#             k = len(nums) - 1\n",
    "#         for i in range(len(nums) - k):\n",
    "#             print(nums[i: i + k + 1])\n",
    "#             if k + 1 != len(set(nums[i: i + k + 1])):\n",
    "#                 return True\n",
    "#         return False\n",
    "        dictionary = {}\n",
    "        for index, value in enumerate(nums):\n",
    "            if value in dictionary: # 如果值已经在里面的话，就判断j - i <= k。\n",
    "                if index - dictionary[value] <= k:\n",
    "                    return True # 说明找到了\n",
    "            dictionary[value] = index # 不管在不在，都需要更新最近坐标\n",
    "        return False # 找了一圈都没有"
   ]
  },
  {
   "cell_type": "code",
   "execution_count": 6,
   "metadata": {},
   "outputs": [
    {
     "data": {
      "text/plain": [
       "True"
      ]
     },
     "execution_count": 6,
     "metadata": {},
     "output_type": "execute_result"
    }
   ],
   "source": [
    "Solution().containsNearbyDuplicate([1,2,3,1], 3)"
   ]
  },
  {
   "cell_type": "code",
   "execution_count": 7,
   "metadata": {},
   "outputs": [
    {
     "data": {
      "text/plain": [
       "True"
      ]
     },
     "execution_count": 7,
     "metadata": {},
     "output_type": "execute_result"
    }
   ],
   "source": [
    "Solution().containsNearbyDuplicate([1,0,1,1], 1)"
   ]
  },
  {
   "cell_type": "code",
   "execution_count": 8,
   "metadata": {},
   "outputs": [
    {
     "data": {
      "text/plain": [
       "False"
      ]
     },
     "execution_count": 8,
     "metadata": {},
     "output_type": "execute_result"
    }
   ],
   "source": [
    "Solution().containsNearbyDuplicate([1,2,3,1,2,3], 2)"
   ]
  },
  {
   "cell_type": "code",
   "execution_count": 9,
   "metadata": {},
   "outputs": [
    {
     "data": {
      "text/plain": [
       "True"
      ]
     },
     "execution_count": 9,
     "metadata": {},
     "output_type": "execute_result"
    }
   ],
   "source": [
    "Solution().containsNearbyDuplicate([99, 99], 2)"
   ]
  },
  {
   "cell_type": "markdown",
   "metadata": {},
   "source": [
    "## 263. Ugly Number\n",
    "\n",
    "<https://leetcode.com/problems/ugly-number/description/>"
   ]
  },
  {
   "cell_type": "markdown",
   "metadata": {},
   "source": [
    "总之先把所有的数都生成出来存在set里面，再判断就非常非常快了。"
   ]
  },
  {
   "cell_type": "code",
   "execution_count": 21,
   "metadata": {},
   "outputs": [],
   "source": [
    "import itertools\n",
    "numbers = {2**i * 3**j * 5**k for i, j, k in itertools.product(range(32), range(21), range(15))}\n",
    "numbers = {i for i in numbers if i <= 2**31}\n",
    "\n",
    "class Solution(object):\n",
    "    def isUgly(self, num):\n",
    "        \"\"\"\n",
    "        :type num: int\n",
    "        :rtype: bool\n",
    "        \"\"\"\n",
    "        return num in numbers"
   ]
  },
  {
   "cell_type": "code",
   "execution_count": 24,
   "metadata": {},
   "outputs": [
    {
     "data": {
      "text/plain": [
       "True"
      ]
     },
     "execution_count": 24,
     "metadata": {},
     "output_type": "execute_result"
    }
   ],
   "source": [
    "Solution().isUgly(64)"
   ]
  },
  {
   "cell_type": "markdown",
   "metadata": {},
   "source": [
    "还有一种很巧妙的办法，用数论的方法。因为\n",
    "$$\n",
    "    n = 2^i \\cdot 3^j \\cdot 5^k, \\qquad i \\in [1, 31], j \\in [1, 20], k \\in [1, 14]\n",
    "$$\n",
    "所以$n$一定能被$2^{31} \\cdot 3^{20} \\cdot k^{14}$整除，因为\n",
    "$$\n",
    "    {2^{31} \\cdot 3^{20} \\cdot k^{14} \\over 2^i \\cdot 3^j \\cdot 5^k} = 2^{31 - i} \\cdot 3^{20 - j} \\cdot 5^{14 - k} \\in \\mathbb{Z}\n",
    "$$"
   ]
  },
  {
   "cell_type": "code",
   "execution_count": 27,
   "metadata": {},
   "outputs": [],
   "source": [
    "class Solution(object):\n",
    "    def isUgly(self, num):\n",
    "        \"\"\"\n",
    "        :type num: int\n",
    "        :rtype: bool\n",
    "        \"\"\"\n",
    "        #n = (2**31)*(3**20)*(5**14) = 4570198050078720000000000000\n",
    "        return False if num < 1 or (45701980500787200000000000000) % num != 0 else True"
   ]
  },
  {
   "cell_type": "code",
   "execution_count": 33,
   "metadata": {},
   "outputs": [
    {
     "data": {
      "text/plain": [
       "True"
      ]
     },
     "execution_count": 33,
     "metadata": {},
     "output_type": "execute_result"
    }
   ],
   "source": [
    "Solution().isUgly(16)"
   ]
  },
  {
   "cell_type": "markdown",
   "metadata": {},
   "source": [
    "这个速度非常快。数学对算法真的是降维打击。"
   ]
  },
  {
   "cell_type": "markdown",
   "metadata": {},
   "source": [
    "## 342. Power of Four\n",
    "\n",
    "<https://leetcode.com/problems/power-of-four/description/>"
   ]
  },
  {
   "cell_type": "code",
   "execution_count": 57,
   "metadata": {},
   "outputs": [],
   "source": [
    "class Solution(object):\n",
    "    def isPowerOfFour(self, num):\n",
    "        \"\"\"\n",
    "        :type num: int\n",
    "        :rtype: bool\n",
    "        \"\"\"\n",
    "        return True if 4294967296 % num == 0 else False"
   ]
  },
  {
   "cell_type": "code",
   "execution_count": 65,
   "metadata": {},
   "outputs": [
    {
     "data": {
      "text/plain": [
       "True"
      ]
     },
     "execution_count": 65,
     "metadata": {},
     "output_type": "execute_result"
    }
   ],
   "source": [
    "Solution().isPowerOfFour(-2147483648)"
   ]
  },
  {
   "cell_type": "markdown",
   "metadata": {},
   "source": [
    "## 290. Word Pattern\n",
    "\n",
    "<https://leetcode.com/problems/word-pattern/description/>"
   ]
  },
  {
   "cell_type": "markdown",
   "metadata": {},
   "source": [
    "做这个和上一题[一一对应映射的题](#205.-Isomorphic-Strings)有似曾相识的感觉。\n",
    "\n",
    "实际上解法一模一样。"
   ]
  },
  {
   "cell_type": "code",
   "execution_count": 34,
   "metadata": {},
   "outputs": [],
   "source": [
    "class Solution(object):\n",
    "    def wordPattern(self, pattern, str):\n",
    "        \"\"\"\n",
    "        :type pattern: str\n",
    "        :type str: str\n",
    "        :rtype: bool\n",
    "        \"\"\"\n",
    "        str = str.split(\" \")\n",
    "        return list(map(pattern.index, pattern)) == list(map(str.index, str))"
   ]
  },
  {
   "cell_type": "code",
   "execution_count": 36,
   "metadata": {},
   "outputs": [
    {
     "data": {
      "text/plain": [
       "False"
      ]
     },
     "execution_count": 36,
     "metadata": {},
     "output_type": "execute_result"
    }
   ],
   "source": [
    "Solution().wordPattern(\"aaaa\", \"dog cat cat dog\")"
   ]
  },
  {
   "cell_type": "code",
   "execution_count": 54,
   "metadata": {},
   "outputs": [],
   "source": [
    "class NumArray(object):\n",
    "\n",
    "    def __init__(self, nums):\n",
    "        \"\"\"\n",
    "        :type nums: List[int]\n",
    "        \"\"\"\n",
    "        if nums == []:\n",
    "            self.empty = True\n",
    "            return\n",
    "        else:\n",
    "            self.empty = False\n",
    "        self.nums = nums\n",
    "        self.integral = [nums[0]]\n",
    "        for i in nums[1: ]:\n",
    "            self.integral.append(self.integral[-1] + i)\n",
    "\n",
    "    def sumRange(self, i, j):\n",
    "        \"\"\"\n",
    "        :type i: int\n",
    "        :type j: int\n",
    "        :rtype: int\n",
    "        \"\"\"\n",
    "        if self.empty == True:\n",
    "            return 0\n",
    "        if i == 0:\n",
    "            return self.integral[j]\n",
    "        return self.integral[j] - self.integral[i - 1]\n",
    "\n",
    "\n",
    "# Your NumArray object will be instantiated and called as such:\n",
    "# obj = NumArray(nums)\n",
    "# param_1 = obj.sumRange(i,j)"
   ]
  },
  {
   "cell_type": "code",
   "execution_count": 55,
   "metadata": {},
   "outputs": [
    {
     "data": {
      "text/plain": [
       "-1"
      ]
     },
     "execution_count": 55,
     "metadata": {},
     "output_type": "execute_result"
    }
   ],
   "source": [
    "NumArray([-2, 0, 3, -5, 2, -1]).sumRange(2, 5)"
   ]
  },
  {
   "cell_type": "code",
   "execution_count": 56,
   "metadata": {
    "scrolled": true
   },
   "outputs": [
    {
     "data": {
      "text/plain": [
       "0"
      ]
     },
     "execution_count": 56,
     "metadata": {},
     "output_type": "execute_result"
    }
   ],
   "source": [
    "NumArray([]).sumRange(2, 5)"
   ]
  },
  {
   "cell_type": "markdown",
   "metadata": {},
   "source": [
    "## 367. Valid Perfect Square\n",
    "\n",
    "<https://leetcode.com/problems/valid-perfect-square/description/>"
   ]
  },
  {
   "cell_type": "code",
   "execution_count": 85,
   "metadata": {},
   "outputs": [],
   "source": [
    "class Solution(object):\n",
    "    def isPerfectSquare(self, num):\n",
    "        \"\"\"\n",
    "        :type num: int\n",
    "        :rtype: bool\n",
    "        \"\"\"\n",
    "        if num == 0:\n",
    "            return True\n",
    "        n = 1\n",
    "        while n ** 2 <= num:\n",
    "            if num == n ** 2:\n",
    "                return True\n",
    "            n += 1\n",
    "        return False # 超过了，不再算了"
   ]
  },
  {
   "cell_type": "markdown",
   "metadata": {},
   "source": [
    "有点看不懂下面这种解法。"
   ]
  },
  {
   "cell_type": "code",
   "execution_count": null,
   "metadata": {},
   "outputs": [],
   "source": [
    "class Solution(object):\n",
    "    def isPerfectSquare(self, num):\n",
    "        \"\"\"\n",
    "        :type num: int\n",
    "        :rtype: bool\n",
    "        \"\"\"\n",
    "        start, end = 0, num\n",
    "        while start < end - 1:\n",
    "            mid = (start + end)/2\n",
    "            if mid*mid == num:\n",
    "                return True\n",
    "            if mid*mid > num:\n",
    "                end = mid\n",
    "            else:\n",
    "                start = mid\n",
    "        if start*start == num or end*end == num:\n",
    "            return True\n",
    "        return False"
   ]
  },
  {
   "cell_type": "code",
   "execution_count": 89,
   "metadata": {},
   "outputs": [],
   "source": [
    "# The guess API is already defined for you.\n",
    "# @param num, your guess\n",
    "# @return -1 if my number is lower, 1 if my number is higher, otherwise return 0\n",
    "# def guess(num):\n",
    "\n",
    "class Solution(object):\n",
    "    def guessNumber(self, n):\n",
    "        \"\"\"\n",
    "        :type n: int\n",
    "        :rtype: int\n",
    "        \"\"\"\n",
    "        left = 0\n",
    "        right = n + 1\n",
    "        while True:\n",
    "            currentGuess = int(round((left + right) / 2))\n",
    "            result = guess(currentGuess)\n",
    "            if result == 0:\n",
    "                break\n",
    "            elif result == 1:\n",
    "                left = currentGuess\n",
    "            else:\n",
    "                right = currentGuess\n",
    "                \n",
    "        return currentGuess"
   ]
  },
  {
   "cell_type": "code",
   "execution_count": 98,
   "metadata": {},
   "outputs": [
    {
     "data": {
      "text/plain": [
       "2"
      ]
     },
     "execution_count": 98,
     "metadata": {},
     "output_type": "execute_result"
    }
   ],
   "source": [
    "Solution().guessNumber(2)"
   ]
  },
  {
   "cell_type": "markdown",
   "metadata": {},
   "source": [
    "## 400. Nth Digit\n",
    "\n",
    "<https://leetcode.com/problems/nth-digit/description/>"
   ]
  },
  {
   "cell_type": "markdown",
   "metadata": {},
   "source": [
    "这玩意叫[Champernowne constant](https://en.wikipedia.org/wiki/Champernowne_constant)。\n",
    "\n",
    "相关资料\n",
    "- http://oeis.org/A033307\n",
    "- http://oeis.org/A007376\n",
    "\n"
   ]
  },
  {
   "cell_type": "markdown",
   "metadata": {},
   "source": [
    "## 447. Number of Boomerangs\n",
    "\n",
    "<https://leetcode.com/problems/number-of-boomerangs/description/>"
   ]
  },
  {
   "cell_type": "markdown",
   "metadata": {},
   "source": [
    "本质上就是找到\n",
    "$$\n",
    "    \\left\\{(a_i, a_j, a_k) \\vphantom{\\sum}\\middle| |a_i - a_j| = |a_i - a_k| \\right\\}\n",
    "$$\n",
    "其中\n",
    "$$\n",
    "    a_i, a_j, a_k \\in \\{a_1, a_2, \\ldots, a_n\\}, a_i \\neq a_j \\neq a_k\n",
    "$$"
   ]
  },
  {
   "cell_type": "markdown",
   "metadata": {},
   "source": [
    "## 459. Repeated Substring Pattern\n",
    "\n",
    "<https://leetcode.com/problems/repeated-substring-pattern/description/>"
   ]
  },
  {
   "cell_type": "code",
   "execution_count": 4,
   "metadata": {},
   "outputs": [],
   "source": [
    "class Solution(object):\n",
    "    def repeatedSubstringPattern(self, s):\n",
    "        \"\"\"\n",
    "        :type s: str\n",
    "        :rtype: bool\n",
    "        \"\"\"\n",
    "        for i in range(1, int(len(s) / 2) + 1):\n",
    "            if len(s) % i == 0:\n",
    "                if s[0: i] * round(len(s) / i) == s:\n",
    "                    return True\n",
    "        return False"
   ]
  },
  {
   "cell_type": "code",
   "execution_count": 10,
   "metadata": {},
   "outputs": [
    {
     "data": {
      "text/plain": [
       "False"
      ]
     },
     "execution_count": 10,
     "metadata": {},
     "output_type": "execute_result"
    }
   ],
   "source": [
    "Solution().repeatedSubstringPattern(\"abcabcabca\")"
   ]
  },
  {
   "cell_type": "markdown",
   "metadata": {},
   "source": [
    "还有非常非常巧妙的办法。先把字符串$S$复读一遍，变成$S' = \\{S, S\\}$，再去掉第一个字符、去掉最后一个字符，变成$S''$。再判断$S$是不是$S''$的子字符串。\n",
    "\n",
    "这个方法我是不可能想出来的，但是我可以给出证明，证明这个方法是能区分复读字符串和非复读字符串的。注意，世界上的字符串要么是复读字符串，要么不是复读字符串，不存在既不是复读字符串也不是非复读字符串的字符串，也不存在既是复读字符串又是非复读字符串的字符串。这一点很重要。所以这个方法的目的是找到一种分割。\n",
    "\n",
    "充分条件：证明这个方法能识别出复读字符串。证明方法是假设原字符串就是复读字符串，我们需要证明出这个方法能够得出`s in (s + s)[1: -1]`的结论。\n",
    "\n",
    "假如一个字符串$S$是由一段长度为$p$的字符串重复$n$次得到的（$n > 1$），那么把这个整个字符串再复制一遍，变成$S' = \\{S, S\\}$，就会是长度为$p$的字符串重复$2 n$次得到的。然后再去掉第一个和最后一个字符，变成$S''$,这样$S''$里面含有$p$重复$2n - 2$次形成的字符串。\n",
    "\n",
    "因为$n > 1$，所以$2n - 2 > 0$，即$2n - 2 \\geq 1$，意思是$S''$里一定至少会出现一次$S$。\n",
    "\n",
    "所以上面的证明证明了对于复读字符串，这个方法能够识别出来。但是如果一个字符串明明是非复读字符串，这个方法会不会误判为复读字符串呢？接着看下面的必要性证明。\n",
    "\n",
    "必要条件：证明这个方法还能识别出非复读字符串。证明方法是假设这个方法得出了`s in (s + s)[1: -1]`的结果，证明这个字符串是复读字符串。\n",
    "\n",
    "假设原字符串$S = \\{a_i\\} = \\{a_1, a_2, \\ldots, a_n\\}$。复读一遍之后变成了\n",
    "$$\n",
    "    S' = \\{a_i, a_i\\} = \\{\\underbrace{a_1, a_2, \\ldots, a_n}_{S}, \\underbrace{a_1, a_2, \\ldots, a_n}_{S}\\}\n",
    "$$\n",
    "再掐头去尾变成了\n",
    "$$\n",
    "    S'' = \\{a_2, \\ldots, a_n, a_1, a_2, \\ldots, a_{n- 1}\\}\n",
    "$$\n",
    "现在存在一个$2 \\leq k \\leq n$，使得$S''$的一个子字符串\n",
    "$$\n",
    "\\begin{align}\n",
    "    &\\{a_k, a_{k + 1}, \\ldots, a_n, a_1, \\ldots, a_{k - 1}\\} \\\\\n",
    "    = &\\{a_1, a_2, \\ldots, a_n\\}\n",
    "\\end{align}\n",
    "$$\n",
    "即（写的好看一点）\n",
    "$$\n",
    "\\begin{align}\n",
    "    a_k &= a_1 \\\\\n",
    "    a_{k + 1} &= a_2 \\\\\n",
    "    a_{k + 2} &= a_3 \\\\\n",
    "    \\vdots \\\\\n",
    "    a_n &= a_{n - k + 1} \\\\\n",
    "    a_1 &= a_{n - k + 2} \\\\\n",
    "    a_2 &= a_{n - k + 3} \\\\\n",
    "    \\vdots \\\\\n",
    "    a_n &= a_{k - 1}\n",
    "\\end{align}\n",
    "$$"
   ]
  },
  {
   "cell_type": "code",
   "execution_count": 13,
   "metadata": {},
   "outputs": [],
   "source": [
    "class Solution:\n",
    "    def repeatedSubstringPattern(self, s):\n",
    "        \"\"\"\n",
    "        :type s: str\n",
    "        :rtype: bool\n",
    "        \"\"\"\n",
    "        return s in (s + s)[1: -1]"
   ]
  },
  {
   "cell_type": "code",
   "execution_count": 12,
   "metadata": {},
   "outputs": [
    {
     "data": {
      "text/plain": [
       "True"
      ]
     },
     "execution_count": 12,
     "metadata": {},
     "output_type": "execute_result"
    }
   ],
   "source": [
    "Solution().repeatedSubstringPattern(\"abcabc\")"
   ]
  },
  {
   "cell_type": "code",
   "execution_count": 18,
   "metadata": {},
   "outputs": [],
   "source": [
    "class Solution:\n",
    "    def thirdMax(self, nums):\n",
    "        \"\"\"\n",
    "        :type nums: List[int]\n",
    "        :rtype: int\n",
    "        \"\"\"\n",
    "        nums = set(nums)\n",
    "        return list(sorted(nums))[-3] if len(nums) >= 3 else max(nums)"
   ]
  },
  {
   "cell_type": "code",
   "execution_count": 21,
   "metadata": {},
   "outputs": [
    {
     "data": {
      "text/plain": [
       "1"
      ]
     },
     "execution_count": 21,
     "metadata": {},
     "output_type": "execute_result"
    }
   ],
   "source": [
    "Solution().thirdMax([1, 2, 3])"
   ]
  },
  {
   "cell_type": "code",
   "execution_count": 22,
   "metadata": {},
   "outputs": [],
   "source": [
    "class Solution:\n",
    "    def countSegments(self, s):\n",
    "        \"\"\"\n",
    "        :type s: str\n",
    "        :rtype: int\n",
    "        \"\"\"\n",
    "        return len(s.split())"
   ]
  },
  {
   "cell_type": "code",
   "execution_count": 23,
   "metadata": {},
   "outputs": [
    {
     "data": {
      "text/plain": [
       "5"
      ]
     },
     "execution_count": 23,
     "metadata": {},
     "output_type": "execute_result"
    }
   ],
   "source": [
    "Solution().countSegments(\"Hello, my name is John\")"
   ]
  }
 ],
 "metadata": {
  "kernelspec": {
   "display_name": "Python 3",
   "language": "python",
   "name": "python3"
  },
  "language_info": {
   "codemirror_mode": {
    "name": "ipython",
    "version": 3
   },
   "file_extension": ".py",
   "mimetype": "text/x-python",
   "name": "python",
   "nbconvert_exporter": "python",
   "pygments_lexer": "ipython3",
   "version": "3.6.5"
  }
 },
 "nbformat": 4,
 "nbformat_minor": 2
}
