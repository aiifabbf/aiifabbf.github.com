{
 "cells": [
  {
   "cell_type": "markdown",
   "metadata": {},
   "source": [
    "# 回到CS"
   ]
  },
  {
   "cell_type": "markdown",
   "metadata": {},
   "source": [
    "最近三个月实在是发生了太多的事情。\n",
    "\n",
    "7月份我满怀信心去了交大夏令营。但是到了交大非常失望。我一个人拎着箱子，从虹桥站转了三次地铁才到交大闵行校区。这里很偏僻，2km开外才有一家KFC和一家食其家。大门出去都是一些苍蝇馆子。这当然不算什么，毕竟我是来学知识的。到了宾馆——宾馆当然是提前自己定好的，学校绝对不会关心你住哪里的啦——急急忙忙赶去报到。会议室里坐着两个研究生，都在玩手机。我敲了门，其中一个人漫不经心地抬起头，另一个人还是在玩手机。这当然也不算什么，只是让人很不爽。\n",
    "\n",
    "报到完了之后当天也没什么事情了，我就吃完晚饭自己在学校里面逛。我特地到研究生宿舍去看了下，因为听说交大研究生是两人间，但是我很快发现都是三个人住一间。马上上网查，发现好像去年开始交大就强行把两人间改成了三人间。我又问了几个交大的朋友，发现确实是这样。我突然就有点不想来了。\n",
    "\n"
   ]
  },
  {
   "cell_type": "markdown",
   "metadata": {},
   "source": [
    "2018/9/23"
   ]
  }
 ],
 "metadata": {
  "kernelspec": {
   "display_name": "Python 3",
   "language": "python",
   "name": "python3"
  },
  "language_info": {
   "codemirror_mode": {
    "name": "ipython",
    "version": 3
   },
   "file_extension": ".py",
   "mimetype": "text/x-python",
   "name": "python",
   "nbconvert_exporter": "python",
   "pygments_lexer": "ipython3",
   "version": "3.6.5"
  }
 },
 "nbformat": 4,
 "nbformat_minor": 2
}
