{
 "cells": [
  {
   "cell_type": "markdown",
   "metadata": {},
   "source": [
    "# Leetcode中的算法"
   ]
  },
  {
   "cell_type": "markdown",
   "metadata": {},
   "source": [
    "待解决\n",
    "- [Longest Palindromic Substring](#5.-Longest-Palindromic-Substring)"
   ]
  },
  {
   "cell_type": "markdown",
   "metadata": {},
   "source": [
    "并不清楚原理的\n",
    "- [Beautiful Array](#932.-Beautiful-Array)"
   ]
  },
  {
   "cell_type": "markdown",
   "metadata": {},
   "source": [
    "怀疑Test case错了的\n",
    "- [Predict the Winner](#486.-Predict-the-Winner)"
   ]
  },
  {
   "cell_type": "markdown",
   "metadata": {},
   "source": [
    "新手向教程。因为我自己也是个萌新。以前总想着算法和我无关，遇到问题调用库就完事了。然而最近突然决定打算转CS做码农了。算法变成了不得不补的东西。其实我数学很一般，理解力也很差，所以我自认为我理解的东西，一定可以完全让别人理解（一边写这句话一边开始怀疑了嘻嘻）。我也没学过离散数学（唉～）。现在每天尽量最少做一道题，一点一点进步吧。"
   ]
  },
  {
   "cell_type": "markdown",
   "metadata": {},
   "source": [
    "这里列一些我认为比较典型的题目\n",
    "\n",
    "- [动态规划类](#动态规划类总结)\n",
    "  - [Maximum Subarray](#53.-Maximum-Subarray)\n",
    "  - [Best Time to Buy and Sell Stock](#121.-Best-Time-to-Buy-and-Sell-Stock)\n",
    "  - [House Robber](#198.-House-Robber)\n",
    "  - [Longest Substring Without Repeating Characters](#3.-Longest-Substring-Without-Repeating-Characters)\n",
    "  - [Minimum Cost Climbing Stairs](#746.-Min-Cost-Climbing-Stairs)\n",
    "  - [Longest Palindromic Substring](#5.-Longest-Palindromic-Substring)\n",
    "  - [Maximal Square](#221.-Maximal-Square)\n",
    "  - [Triangle](#120.-Triangle)\n",
    "  - [Minimum ASCII Delete Sum for Two Strings](#712.-Minimum-ASCII-Delete-Sum-for-Two-Strings)\n",
    "  - [Maximum Length of Pair Chain](#646.-Maximum-Length-of-Pair-Chain)\n",
    "  - [Longest Increasing Subsequence](#300.-Longest-Increasing-Subsequence)\n",
    "- [数学类](#数学类总结)\n",
    "  - [Bitwise AND of Numbers Range](#201.-Bitwise-AND-of-Numbers-Range)\n",
    "  - [Stone Game](#877.-Stone-Game)\n",
    "  - [Nth Digit](#400.-Nth-Digit)\n",
    "- [回溯类](#回溯类总结)\n",
    "  - [Additive Number](#306.-Additive-Number)\n",
    "- 杂项\n",
    "  - [1-bit and 2-bit Characters](#717.-1-bit-and-2-bit-Characters)久违地用到了有限状态机"
   ]
  },
  {
   "cell_type": "markdown",
   "metadata": {},
   "source": [
    "## 11. Container With Most Water\n",
    "\n",
    "<https://leetcode.com/problems/container-with-most-water/description/>"
   ]
  },
  {
   "cell_type": "markdown",
   "metadata": {},
   "source": [
    "本质上是找到\n",
    "$$\n",
    "    \\max\\left\\{\\min\\{a_i, a_j\\} \\cdot (j - i) \\middle| 0 \\leq i \\leq j \\leq n - 1\\right\\}\n",
    "$$"
   ]
  },
  {
   "cell_type": "code",
   "execution_count": null,
   "metadata": {},
   "outputs": [],
   "source": [
    "class Solution:\n",
    "    def maxArea(self, height):\n",
    "        \"\"\"\n",
    "        :type height: List[int]\n",
    "        :rtype: int\n",
    "        \"\"\"\n",
    "        maximum = 0\n",
    "        left = 0\n",
    "        right = len(height) - 1\n",
    "        possibleMaximum = 0\n",
    "        while left < right:\n",
    "            possibleMaximum = (right - left) * min(height[left], height[right])\n",
    "            maximum = max(maximum, possibleMaximum)\n",
    "            if height[left] <= height[right]:\n",
    "                left += 1\n",
    "            else:\n",
    "                right -= 1\n",
    "        return maximum"
   ]
  },
  {
   "cell_type": "markdown",
   "metadata": {},
   "source": [
    "## 53. Maximum Subarray\n",
    "\n",
    "<https://leetcode.com/problems/maximum-subarray/description/>"
   ]
  },
  {
   "cell_type": "markdown",
   "metadata": {},
   "source": [
    "本质上是找到\n",
    "$$\n",
    "    \\max\\left\\{\\sum_{k = i}^{j} a_k \\middle| 0 \\leq i \\leq j \\leq n - 1\\right\\}\n",
    "$$\n",
    "\n",
    "用一个叫做[Kadane's algorithm](https://en.wikipedia.org/wiki/Maximum_subarray_problem)的算法。有点数学归纳法的感觉。\n",
    "\n",
    "以\n",
    "```\n",
    "A = -2 1 -3 4 -1 2 1 -5\n",
    "```\n",
    "为例，定义$B_i$为`A[0: i+1]`的所有子序列中、所有包含第$i$个元素的子序列的和的最大值。\n",
    "\n",
    "这个很难看懂。我第一次看也很久才看明白。我们按照严格定义来。首先`A[0: i+1]`的所有“包含第$i$个元素的”子序列可以写成一个集合\n",
    "$$\n",
    "\\begin{align}\n",
    "    \\left\\{A[k, i + 1] \\middle| k \\in [0, i]\\right\\}\n",
    "\\end{align}\n",
    "$$\n",
    "\n",
    "> 以上面的例子为例，$A[0: 3]$的所有子序列是\n",
    "```\n",
    "A[0: 1], A[0: 2], A[0: 3], \n",
    "A[1: 2], A[1: 3],\n",
    "A[2: 3]\n",
    "```\n",
    "但是包含“第$i$个元素的”子序列只有\n",
    "```\n",
    "A[0: 3], A[1: 3], A[2: 3]\n",
    "```\n",
    "\n",
    "$B_i$的定义是\n",
    "$$\n",
    "\\begin{align}\n",
    "    B_i = \\max\\left\\{\\sum_{m = k}^{i} A_m \\middle| k \\in [0, i - 1]\\right\\}\n",
    "\\end{align}\n",
    "$$\n",
    "\n",
    "> 以上面的例子为例，$B_3$是\n",
    "```python\n",
    "max(sum(A[0: 3]), sum(A[1: 3]), sum(A[2: 3]))\n",
    "```\n",
    "而**不是**\n",
    "```python\n",
    "max(sum(A[0: 1]), sum(A[0: 2]), sum(A[0: 3]), ..., sum(A[2: 3]))\n",
    "```\n",
    "\n",
    "> 以上面的例子为例，可以算出所有的$B_i$\n",
    "```\n",
    "A -2  1 -3  4 -1  2  1 -5\n",
    "B -2  1 -2  4  3  5  6  1\n",
    "```\n",
    "\n",
    "最后答案是\n",
    "$$\n",
    "    \\max\\{B_i | i \\in [0, n - 1]\\}\n",
    "$$\n",
    "\n",
    "> 以上面的例子为例，最后答案是6。"
   ]
  },
  {
   "cell_type": "code",
   "execution_count": null,
   "metadata": {},
   "outputs": [],
   "source": [
    "class Solution:\n",
    "    def maxSubArray(self, nums):\n",
    "        \"\"\"\n",
    "        :type nums: List[int]\n",
    "        :rtype: int\n",
    "        \"\"\"\n",
    "        maximumSummationSoFar = nums[0]\n",
    "        possibleMaximumSummation = maximumSummationSoFar\n",
    "        for i in nums[1: ]:\n",
    "            maximumSummationSoFar = max(i, i + maximumSummationSoFar)\n",
    "            possibleMaximumSummation = max(maximumSummationSoFar, possibleMaximumSummation)\n",
    "        return possibleMaximumSummation"
   ]
  },
  {
   "cell_type": "markdown",
   "metadata": {},
   "source": [
    "很多人可能会和我一样，第一次错误地认为$B_i$的定义是`A[0: i + 1]`的**所有子序列**的和的最大值，而不是**所以包含了第i个元素的**的子序列的和的最大值。\n",
    "\n",
    "我后来仔细想了这个问题。对于数学归纳法而言，我们需要这一步推到下一步足够方便。如果按照我们臆想的那个错误定义，我们是很难从`A[0: i+1]`的所有子序列的和的最大值、推到`A[0: i+2]`的所有子序列的和的最大值的。但是我们很容易能从`A[0: i+1]`的所有包含第i个元素的子序列的和的最大值、推导出`A[0: i+2]`的所有包含第i+1个元素的子序列的和的最大值的。他们之间的关系就是一个很简单的\n",
    "$$\n",
    "\\begin{align}\n",
    "    B_{i + 1} = \\max\\{B_{i} + A_{i + 1}, A_{i + 1}\\}\n",
    "\\end{align}\n",
    "$$\n",
    "关系。\n",
    "\n",
    "可能有人还是没法理解上面这个式子怎么来的。我再仔细讲一遍。一定要记住，$B_i$一定是`A[0: i+1]`的所有包含了第i个元素的子序列的和的最大值。这是什么意思？意思是$B_i$是一个和，这个和一定含有`A[i]`的成分。否则就不满足定义了。\n",
    "\n",
    "OK，现在我们有了$B_i$了，怎么从$B_i$推到$B_{i + 1}$呢？同样的，$B_{i + 1}$必须包含`A[i+1]`的成分。这样我们就一个一个地试\n",
    "```\n",
    "A[i+1: i+2], A[i: i+2], A[i-1: i+2], ..., A[0: i+2]\n",
    "```\n",
    "这时候我们发现了一个问题：我们做了重复劳动了。哪里？你想想你刚才是怎么试出$B_i$的？你也是这样一个一个地试的\n",
    "```\n",
    "A[i: i+1], A[i-1: i+1], A[i-2: i+1], ..., A[0: i+1]\n",
    "```\n",
    "如果你还是看不出来哪里重复劳动了，我再把$B_{i + 1}$的地方写完整给你看\n",
    "```\n",
    "A[i+1: i+2] = 0           + A[i+1]\n",
    "A[i  : i+2] = A[i  : i+1] + A[i+1]\n",
    "A[i-1: i+2] = A[i-1: i+1] + A[i+1]\n",
    "...\n",
    "A[0  : i+2] = A[0  : i+1] + A[i+1]\n",
    "              ^^^^^^^^^^^\n",
    "```\n",
    "有没有看到重复劳动的地方？我们看到，除了第一项`A[i+1: i+2]`也就是`A[i+1]`之外，其他剩下的子序列都是算$B_i$时用到过的子序列、和`A[i+1]`拼起来的。"
   ]
  },
  {
   "cell_type": "markdown",
   "metadata": {},
   "source": [
    "## 121. Best Time to Buy and Sell Stock\n",
    "\n",
    "<https://leetcode.com/problems/best-time-to-buy-and-sell-stock/description/>"
   ]
  },
  {
   "cell_type": "markdown",
   "metadata": {},
   "source": [
    "本质上是找到\n",
    "$$\n",
    "    \\max\\{a_j - a_i | 0 \\leq i \\leq j \\leq n - 1\\}\n",
    "$$\n",
    "\n",
    "定义第i天的最大利润是$P_i$。那么这天的利润$P_i$和前面几天的利润有什么关系呢？\n",
    "\n",
    "- 今天股票价格比昨天低\n",
    "\n",
    "  那我应该昨天就卖了，所以今天的最大利润和昨天的最大利润一样。$P_i = P_{i - 1}$；\n",
    "  \n",
    "- 今天股票价格比昨天高、或者和昨天一样高\n",
    "\n",
    "  那我应该今天卖。因为今天卖肯定比昨天更赚钱。~~今天的利润比昨天会高$a_i - a_{i - 1}$。~~就是这里错了。如果昨天没有卖怎么办？所以今天的利润不是$P_{i - 1} + a_i - a_{i - 1}$，而是$a_i$减去有史以来见过的最低价$m_i$，即$P_i = a_i - m_i$。所以\n",
    "$$\n",
    "    P_i = \\max\\{P_{i - 1}, a_i - m_i\\}\n",
    "$$\n",
    "\n",
    "这样答案就是$P_{n - 1}$。"
   ]
  },
  {
   "cell_type": "code",
   "execution_count": 1,
   "metadata": {},
   "outputs": [],
   "source": [
    "class Solution:\n",
    "    def maxProfit(self, prices):\n",
    "        \"\"\"\n",
    "        :type prices: List[int]\n",
    "        :rtype: int\n",
    "        \"\"\"\n",
    "        if not prices:\n",
    "            return 0\n",
    "        purchasePrice = prices[0]\n",
    "        profit = 0\n",
    "        for value in prices[1: ]:\n",
    "            purchasePrice = min(value, purchasePrice)\n",
    "            profit = max(profit, value - purchasePrice)\n",
    "        return profit"
   ]
  },
  {
   "cell_type": "code",
   "execution_count": 3,
   "metadata": {},
   "outputs": [],
   "source": [
    "class Solution:\n",
    "    def maxProfit(self, prices):\n",
    "        \"\"\"\n",
    "        :type prices: List[int]\n",
    "        :rtype: int\n",
    "        \"\"\"\n",
    "        if not prices:\n",
    "            return 0\n",
    "        profits = [0]\n",
    "        minimumPriceSoFar = prices[0]\n",
    "        for i in range(len(prices))[1: ]:\n",
    "            minimumPriceSoFar = min(prices[i], minimumPriceSoFar)\n",
    "            profits.append(max(profits[i - 1], prices[i] - minimumPriceSoFar))\n",
    "        return profits[-1]"
   ]
  },
  {
   "cell_type": "markdown",
   "metadata": {},
   "source": [
    "## 152. Maximum Product Subarray\n",
    "\n",
    "<https://leetcode.com/problems/maximum-product-subarray/description/>"
   ]
  },
  {
   "cell_type": "markdown",
   "metadata": {},
   "source": [
    "本质上是要找到\n",
    "$$\n",
    "    \\max\\left\\{\\prod_{k = i}^{j} a_k \\middle| 0 \\leq i \\leq j \\leq n - 1\\right\\}\n",
    "$$\n",
    "\n",
    "定义到包括了第i个元素的最大积为$P_i$。$P_i$和前面的$P_j (j < i)$有什么关系呢？如果做过Maximum Subarray，可能我们很粗略的得出\n",
    "$$\n",
    "    P_i = \\max\\{P_{i - 1} \\cdot a_i, a_i\\}\n",
    "$$\n",
    "但是这时候会隐隐有一种感觉，感觉符号可能会来搅局。一个负号可能就会让最大积一下子变成最小积。仔细想想，上面的这个粗略的猜测有一个致命的问题，就是遇到负数之后，就会抛弃前面的乘积，只会取最新的这个负数。比如\n",
    "```\n",
    "2  3  4 -1\n",
    "```\n",
    "遇到-1后，$P_i$会马上变成-1。但是如果-1的后面还有负数\n",
    "```\n",
    "2  3  4 -1 -1\n",
    "```\n",
    "$P_i$会变成1，可是显然按照定义，这是不对的，$P_i$应该等于24。\n",
    "\n",
    "可能有一些突然，但是我们必须再定义一个$P'_i$，它是包括了第i个元素的最小积。所以完备的$P_i$的定义是\n",
    "$$\n",
    "\\begin{align}\n",
    "    P_i &= \\max\\{P_{i - 1} \\cdot a_i, a_i, P'_{i - 1} \\cdot a_i\\} \\\\\n",
    "    P'_i &= \\min\\{P_{i - 1} \\cdot a_i, a_i, P'_{i - 1} \\cdot a_i\\}\n",
    "\\end{align}\n",
    "$$\n",
    "\n",
    "这里$P_i$的定义和之前的Maximum Subarray非常类似，它是**包括了第i个元素成分的**最大积。\n",
    "\n",
    "所以答案也是$\\max\\{P_i\\}$。"
   ]
  },
  {
   "cell_type": "code",
   "execution_count": 7,
   "metadata": {},
   "outputs": [],
   "source": [
    "class Solution:\n",
    "    def maxProduct(self, nums):\n",
    "        \"\"\"\n",
    "        :type nums: List[int]\n",
    "        :rtype: int\n",
    "        \"\"\"\n",
    "        maximumProducts = [nums[0]]\n",
    "        minimumProducts = [nums[0]]\n",
    "        for index, value in enumerate(nums[1: ], 1):\n",
    "            maximumProducts.append(max(maximumProducts[index - 1] * value, minimumProducts[index - 1] * value, value))\n",
    "            minimumProducts.append(min(minimumProducts[index - 1] * value, maximumProducts[index - 1] * value, value))\n",
    "        return max(maximumProducts)"
   ]
  },
  {
   "cell_type": "markdown",
   "metadata": {},
   "source": [
    "## 198. House Robber\n",
    "\n",
    "<https://leetcode.com/problems/house-robber/description/>"
   ]
  },
  {
   "cell_type": "markdown",
   "metadata": {},
   "source": [
    "本质上是要找到\n",
    "$$\n",
    "    \\max\\left\\{\\sum_{k \\in K} a_k \\right\\}, \\quad \\text{$K$ is a set such that} \\begin{cases}\n",
    "        K \\subseteq \\{0, 1, \\ldots, n - 1\\}, \\\\\n",
    "        \\forall k_1, k_2 \\in K, k_1 \\neq k_2, |k_1 - k_2| > 1 \\\\\n",
    "    \\end{cases}\n",
    "$$\n",
    "\n",
    "还是动态规划。定义偷到第i家时，获得的最大利润是$P_i$。那么$P_i$与前面的项的关系是什么呢？是\n",
    "$$\n",
    "    P_i = \\max\\{a_i + P_{i - 2}, P_{i - 1}\\}\n",
    "$$\n",
    "意思是偷到第i家时，有两种选择\n",
    "- 要么这家不偷\n",
    "- 要么偷这家，但是前面一家、也就是第i-1家不能偷，否则就触发警报了\n",
    "\n",
    "最后答案就是$P_{n - 1}$。"
   ]
  },
  {
   "cell_type": "code",
   "execution_count": 2,
   "metadata": {},
   "outputs": [],
   "source": [
    "class Solution:\n",
    "    def rob(self, nums):\n",
    "        \"\"\"\n",
    "        :type nums: List[int]\n",
    "        :rtype: int\n",
    "        \"\"\"\n",
    "        oddSum = 0\n",
    "        evenSum = 0\n",
    "        for index, value in enumerate(nums):\n",
    "            if index % 2 == 0:\n",
    "                evenSum = max(oddSum, evenSum + value)\n",
    "            else:\n",
    "                oddSum = max(evenSum, oddSum + value)\n",
    "        return max(oddSum, evenSum)"
   ]
  },
  {
   "cell_type": "code",
   "execution_count": null,
   "metadata": {},
   "outputs": [],
   "source": [
    "class Solution:\n",
    "    def rob(self, nums):\n",
    "        \"\"\"\n",
    "        :type nums: List[int]\n",
    "        :rtype: int\n",
    "        \"\"\"\n",
    "        if not nums:\n",
    "            return 0\n",
    "        if len(nums) == 1:\n",
    "            return nums[0]\n",
    "        maximumSums = [nums[0], max(nums[0], nums[1])]\n",
    "        for i in range(len(nums))[2: ]:\n",
    "            maximumSums.append(max(nums[i] + maximumSums[i - 2], maximumSums[i - 1]))\n",
    "        return maximumSums[-1]"
   ]
  },
  {
   "cell_type": "markdown",
   "metadata": {},
   "source": [
    "## 213. House Robber II\n",
    "\n",
    "https://leetcode.com/problems/house-robber-ii/description/"
   ]
  },
  {
   "cell_type": "markdown",
   "metadata": {},
   "source": [
    "和I不同之处在于，这里的房子围成一个圆圈，所以第一间房子和最后一间房子是相邻的。"
   ]
  },
  {
   "cell_type": "markdown",
   "metadata": {},
   "source": [
    "总之就是抢了第一家，最后一家不能抢；或者抢了最后一家，第一家就不能抢；也可以第一家和最后一家都不抢。\n",
    "\n",
    "一种方法是直接I的程序跑三遍。取最大值好了。"
   ]
  },
  {
   "cell_type": "code",
   "execution_count": 150,
   "metadata": {},
   "outputs": [],
   "source": [
    "class Solution:\n",
    "    def rob(self, nums):\n",
    "        \"\"\"\n",
    "        :type nums: List[int]\n",
    "        :rtype: int\n",
    "        \"\"\"\n",
    "        if not nums:\n",
    "            return 0\n",
    "        if len(nums) == 1:\n",
    "            return nums[0]\n",
    "        if len(nums) == 2 or len(nums) == 3:\n",
    "            return max(nums)\n",
    "        q = []\n",
    "        for nums in [nums[0: -1], nums[1: ], nums[1: -1]]:\n",
    "            maximumSums = [nums[0], max(nums[0], nums[1])]\n",
    "            for i in range(len(nums))[2: ]:\n",
    "                maximumSums.append(max(nums[i] + maximumSums[i - 2], maximumSums[i - 1]))\n",
    "            q.append(maximumSums[-1])\n",
    "        return max(q)"
   ]
  },
  {
   "cell_type": "code",
   "execution_count": 151,
   "metadata": {},
   "outputs": [
    {
     "data": {
      "text/plain": [
       "3"
      ]
     },
     "execution_count": 151,
     "metadata": {},
     "output_type": "execute_result"
    }
   ],
   "source": [
    "Solution().rob([2,3,2])"
   ]
  },
  {
   "cell_type": "code",
   "execution_count": 152,
   "metadata": {},
   "outputs": [
    {
     "data": {
      "text/plain": [
       "4"
      ]
     },
     "execution_count": 152,
     "metadata": {},
     "output_type": "execute_result"
    }
   ],
   "source": [
    "Solution().rob([1,2,3,1])"
   ]
  },
  {
   "cell_type": "markdown",
   "metadata": {},
   "source": [
    "## 122. Best Time to Buy and Sell Stock II\n",
    "\n",
    "<https://leetcode.com/problems/best-time-to-buy-and-sell-stock-ii/description/>"
   ]
  },
  {
   "cell_type": "markdown",
   "metadata": {},
   "source": [
    "本质上是要找到\n",
    "$$\n",
    "    \\max\\left\\{\\sum_{k=1}^N (a_{s_k} - a_{b_k}) \\middle| 0 \\leq b_1 < s_1 < b_2 < s_2 < \\ldots < b_N < s_N \\leq n - 1\\right\\}\n",
    "$$\n",
    "\n",
    "这题和上一题的区别是Best Time to Buy and Sell Stock只能交易一次。这里是可以交易无限次，但是限制是每天只能最多做一次交易，并且手里不能同时有两只股票。也就是说不能第一天买，第二天又买，再都第三天卖掉。\n",
    "\n",
    "设第i天最大利润是$P_i$，那么$P_{i + 1}$和$P_i$有什么关系？如果第i+1天价格$a_{i + 1}$大于第i天价格$a_i$，那说明昨天不应该卖，应该今天卖掉，这样总利润比昨天高$a_{i + 1} - a_i$；如果今天价格比昨天低或者一样，那么昨天一定要卖掉，今天再入手抄底，这样总利润和昨天一样，不变。\n",
    "$$\n",
    "\\begin{align}\n",
    "    P_{i + 1} = \\begin{cases}\n",
    "        P_i + a_{i + 1} - a_i, &\\qquad a_{i + 1} > a_i \\\\\n",
    "        P_i &\\qquad a_{i + 1} \\leq a_i \\\\\n",
    "    \\end{cases}\n",
    "\\end{align}\n",
    "$$\n",
    "\n",
    "所以答案是原来数列的一阶差分、再过滤掉所有负数项、之后的和。\n",
    "$$\n",
    "    \\sum_{i = 0}^{n - 2} \\max\\{a_{i + 1} - a_i, 0\\}\n",
    "$$"
   ]
  },
  {
   "cell_type": "code",
   "execution_count": 26,
   "metadata": {},
   "outputs": [],
   "source": [
    "class Solution:\n",
    "    def maxProfit(self, prices):\n",
    "        \"\"\"\n",
    "        :type prices: List[int]\n",
    "        :rtype: int\n",
    "        \"\"\"\n",
    "        return sum(prices[i + 1] - prices[i] if prices[i + 1] > prices[i] else 0 for i in range(len(prices) - 1))"
   ]
  },
  {
   "cell_type": "code",
   "execution_count": 27,
   "metadata": {
    "scrolled": true
   },
   "outputs": [
    {
     "data": {
      "text/plain": [
       "4"
      ]
     },
     "execution_count": 27,
     "metadata": {},
     "output_type": "execute_result"
    }
   ],
   "source": [
    "Solution().maxProfit([1,2,3,4,5])"
   ]
  },
  {
   "cell_type": "markdown",
   "metadata": {},
   "source": [
    "## 3. Longest Substring Without Repeating Characters\n",
    "\n",
    "<https://leetcode.com/problems/longest-substring-without-repeating-characters/description/>"
   ]
  },
  {
   "cell_type": "markdown",
   "metadata": {},
   "source": [
    "本质上是要找到\n",
    "$$\n",
    "    \\max\\left\\{j - i \\middle| \\forall k_1, k_2 \\in [i, j], k_1 \\neq k_2: a_{k_1} \\neq a_{k_2}\\right\\}\n",
    "$$\n",
    "\n",
    "定义$S_i$为包含了$a_i$的、0到$a_i$之间最长的无重复字符的子字符串。那么$S_{i + 1}$和$S_i$有什么关系呢？\n",
    "- 如果$a_{i + 1}$不在$S_i$里，那么$S_{i + 1} = \\{S_i, a_{i + 1}\\}$\n",
    "- 如果$S_i$里面已经有$a_{i + 1}$了，$S_i$的定义可以保证$S_i$有且只有一次$a_{i + 1}$。找到它出现的地方，从它后面一个字符开始、把$S_i$切开成两段，取后面一段$S'_i$，这样$S_{i + 1} = \\{S'_i, a_{i + 1}\\}$\n",
    "\n",
    "答案就是$\\max\\{S_i\\}$。"
   ]
  },
  {
   "cell_type": "code",
   "execution_count": 9,
   "metadata": {},
   "outputs": [],
   "source": [
    "class Solution:\n",
    "    def lengthOfLongestSubstring(self, s):\n",
    "        \"\"\"\n",
    "        :type s: str\n",
    "        :rtype: int\n",
    "        \"\"\"\n",
    "        if len(s) == 0:\n",
    "            return 0\n",
    "        if len(s) == 1:\n",
    "            return 1\n",
    "        longestSubstringContainingCurrentCharacter = s[0]\n",
    "        longestSubstringLength = 1\n",
    "        for value in s[1: ]:\n",
    "            if value in longestSubstringContainingCurrentCharacter:\n",
    "                longestSubstringContainingCurrentCharacter = longestSubstringContainingCurrentCharacter[longestSubstringContainingCurrentCharacter.index(value) + 1: ] + value\n",
    "                longestSubstringLength = max(longestSubstringLength, len(longestSubstringContainingCurrentCharacter))\n",
    "            else:\n",
    "                longestSubstringContainingCurrentCharacter = longestSubstringContainingCurrentCharacter + value\n",
    "                longestSubstringLength = max(longestSubstringLength, len(longestSubstringContainingCurrentCharacter))\n",
    "        return longestSubstringLength"
   ]
  },
  {
   "cell_type": "code",
   "execution_count": 13,
   "metadata": {},
   "outputs": [
    {
     "data": {
      "text/plain": [
       "3"
      ]
     },
     "execution_count": 13,
     "metadata": {},
     "output_type": "execute_result"
    }
   ],
   "source": [
    "Solution().lengthOfLongestSubstring(\"abcabcbb\")"
   ]
  },
  {
   "cell_type": "markdown",
   "metadata": {},
   "source": [
    "## 123. Best Time to Buy and Sell Stock III\n",
    "\n",
    "<https://leetcode.com/problems/best-time-to-buy-and-sell-stock-iii/description/>"
   ]
  },
  {
   "cell_type": "markdown",
   "metadata": {},
   "source": [
    "这题和II的区别是，最多交易2次。\n",
    "\n",
    "本质上是找到\n",
    "$$\n",
    "    \\max\\{\\underbrace{\\max\\{a_j - a_i + a_l - a_k | 0 \\leq i < j < k < l \\leq n - 1\\}}_{交易2次}, \\underbrace{\\max\\{a_j - a_i | 0 \\leq i < j \\leq n - 1\\}}_{交易1次}, \\underbrace{0}_{不交易}\\}\n",
    "$$"
   ]
  },
  {
   "cell_type": "code",
   "execution_count": null,
   "metadata": {},
   "outputs": [],
   "source": [
    "class Solution:\n",
    "    def maxProfit(self, prices):\n",
    "        \"\"\"\n",
    "        :type prices: List[int]\n",
    "        :rtype: int\n",
    "        \"\"\"\n",
    "        "
   ]
  },
  {
   "cell_type": "markdown",
   "metadata": {},
   "source": [
    "## 70. Climbing Stairs\n",
    "\n",
    "<https://leetcode.com/problems/climbing-stairs/description/>"
   ]
  },
  {
   "cell_type": "markdown",
   "metadata": {},
   "source": [
    "到达第$i$级楼梯的方法有2种\n",
    "- 从第$i - 1$级跨1级上来\n",
    "- 从第$i - 2$级跨2级上来\n",
    "\n",
    "设$p_i$是达到第$i$级的方法数量。那么$p_i$和前面的项有什么关系呢？\n",
    "$$\n",
    "    p_i = p_{i - 1} + p_{i - 2}\n",
    "$$\n",
    "\n",
    "再想初始条件，如果一个楼梯只有1级，那当然只有一种方法，即$p_1 = 1$。如果一个楼梯有2级，那么有两种方法\n",
    "- 直接跨到第2级\n",
    "- 从第1级跨到第2级\n",
    "\n",
    "即$p_2 = 2$。\n",
    "\n",
    "完整的递推式就写出来了\n",
    "$$\n",
    "\\left\\{\\begin{align}\n",
    "    p_i &= p_{i - 1} + p_{i - 2} \\\\\n",
    "    p_1 &= 1 \\\\\n",
    "    p_2 &= 2\n",
    "\\end{align}\\right.\n",
    "$$"
   ]
  },
  {
   "cell_type": "markdown",
   "metadata": {},
   "source": [
    "最好想的算法就出来了。"
   ]
  },
  {
   "cell_type": "code",
   "execution_count": null,
   "metadata": {},
   "outputs": [],
   "source": [
    "class Solution:\n",
    "    def climbStairs(self, n):\n",
    "        \"\"\"\n",
    "        :type n: int\n",
    "        :rtype: int\n",
    "        \"\"\"\n",
    "        if n == 1:\n",
    "            return 1\n",
    "        if n == 2:\n",
    "            return 2\n",
    "        q = [0, 1, 2]\n",
    "        for i in range(3, n + 1):\n",
    "            q.append(q[i - 1] + q[i - 2])\n",
    "        return q[-1]"
   ]
  },
  {
   "cell_type": "markdown",
   "metadata": {},
   "source": [
    "当然也可以用数学方法降维打击。这个显然是个位移过的斐波那契数列`1 2 3 5 8 ...`。"
   ]
  },
  {
   "cell_type": "markdown",
   "metadata": {},
   "source": [
    "## 746. Min Cost Climbing Stairs\n",
    "\n",
    "<https://leetcode.com/problems/min-cost-climbing-stairs/description/>"
   ]
  },
  {
   "cell_type": "markdown",
   "metadata": {},
   "source": [
    "~~假设到了第$i - 1$级楼梯，此时最小成本是$P_{i - 1}$。那么$P_i$和$P_{i - 1}$有什么关系呢？~~\n",
    "\n",
    "~~如果第$i - 1$级楼梯是被略过的，那么不能跨过超过2级楼梯，第$i$级楼梯必须上去，所以$P_i = P_{i - 1} + a_i$。~~\n",
    "\n",
    "~~如果第$i - 1$级楼梯没有被略过，是花了成本的，那么可以比较一下$a_i$和$a_{i - 1}$，如果~~\n",
    "- ~~发现$a_i$比$a_{i - 1}$小，那说明其实第$i - 1$级刚才应该跳过的，应该直接从第$i - 2$级跳到第$i$级~~\n",
    "- ~~发现$a_i$比$a_{i - 1}$大，那么还是算了，第$i$级不要上去了吧，观望一下~~\n",
    "- ~~发现$a_i = a_{i - 1}$，这就有点难处理了。但是根据贪心的原则，还是应该到第$i$级上去。~~"
   ]
  },
  {
   "cell_type": "markdown",
   "metadata": {},
   "source": [
    "很可惜，上面我想了这么多，最后还是没能做出来。之前也做了这么多道DP题，遇到这种题还是做不出。这里也算是反面教材了一下。事实上DP是很简单的。只要想一个核心问题，就是怎样从前面的条件，比如$i - 1, i - 2$推到$i$，不需要考虑$i + 1$的情况。\n",
    "\n",
    "怎样到达第$i$级楼梯呢？我们发现只有两种方法\n",
    "- 从第$i - 2$级跨2级上来\n",
    "- 从第$i - 1$级跨1级上来\n",
    "\n",
    "这两种方法里肯定有一种成本最低。那就不管了，直接用一个$\\min$套起来\n",
    "$$\n",
    "    p_i = \\min\\{p_{i - 2} + a_{i - 2}, p_{i - 1} + a_{i - 1}\\}\n",
    "$$\n",
    "这时候千万不要想$i + 1$怎么样，完全不需要想。\n",
    "\n",
    "注意这个题目里面的$a_i$不是指从到达第$i$级的成本，而是指**从第$i$级出发、上一级（到达$i + 1$）或者两级（到达$i + 2$）的成本。**所以自然$p_i$也是指的到达第$i$级花的成本，里面是没有$a_i$的成分的。如果你要从第$i$级出发，才需要加上$a_i$。\n",
    "\n",
    "这时候再去想初始条件。因为一开始可以选择直接跨上第0个台阶，也可以选择直接跨上第1个台阶。**是不需要成本的！**这个条件非常关键，否则你就会写成`p[0] = cost[0], p[1] = min(cost[0], cost[1]）`。\n",
    "\n",
    "所以完整的递推式是\n",
    "$$\n",
    "\\left\\{\\begin{align}\n",
    "    p_i &= \\min\\{p_{i - 2} + a_{i - 2}, p_{i - 1} + a_{i - 2}\\} \\\\\n",
    "    p_0 &= 0 \\\\\n",
    "    p_1 &= 0 \\\\\n",
    "\\end{align}\\right.\n",
    "$$\n",
    "\n",
    "最终答案不是$p_{n - 1}$而是$p_n$。可以这么理解，最后你要跳到顶层，可以把顶层看成成本为0的一级楼梯。"
   ]
  },
  {
   "cell_type": "code",
   "execution_count": 124,
   "metadata": {},
   "outputs": [],
   "source": [
    "class Solution:\n",
    "    def minCostClimbingStairs(self, cost):\n",
    "        \"\"\"\n",
    "        :type cost: List[int]\n",
    "        :rtype: int\n",
    "        \"\"\"\n",
    "        p = [0, 0]\n",
    "        for index, value in enumerate(cost[2: ] + [0], 2):\n",
    "            p.append(min(p[index - 2] + cost[index - 2], p[index - 1] + cost[index - 1]))\n",
    "        print(p)\n",
    "        return p[-1]"
   ]
  },
  {
   "cell_type": "code",
   "execution_count": 125,
   "metadata": {},
   "outputs": [
    {
     "name": "stdout",
     "output_type": "stream",
     "text": [
      "[0, 0, 10, 15]\n"
     ]
    },
    {
     "data": {
      "text/plain": [
       "15"
      ]
     },
     "execution_count": 125,
     "metadata": {},
     "output_type": "execute_result"
    }
   ],
   "source": [
    "Solution().minCostClimbingStairs([10, 15, 20])"
   ]
  },
  {
   "cell_type": "code",
   "execution_count": 126,
   "metadata": {},
   "outputs": [
    {
     "name": "stdout",
     "output_type": "stream",
     "text": [
      "[0, 0, 1, 2, 2, 3, 3, 4, 4, 5, 6]\n"
     ]
    },
    {
     "data": {
      "text/plain": [
       "6"
      ]
     },
     "execution_count": 126,
     "metadata": {},
     "output_type": "execute_result"
    }
   ],
   "source": [
    "Solution().minCostClimbingStairs([1, 100, 1, 1, 1, 100, 1, 1, 100, 1])"
   ]
  },
  {
   "cell_type": "code",
   "execution_count": 127,
   "metadata": {},
   "outputs": [
    {
     "name": "stdout",
     "output_type": "stream",
     "text": [
      "[0, 0, 0, 0, 0]\n"
     ]
    },
    {
     "data": {
      "text/plain": [
       "0"
      ]
     },
     "execution_count": 127,
     "metadata": {},
     "output_type": "execute_result"
    }
   ],
   "source": [
    "Solution().minCostClimbingStairs([0, 0, 0, 1])"
   ]
  },
  {
   "cell_type": "markdown",
   "metadata": {},
   "source": [
    "## 279. Perfect Squares\n",
    "\n",
    "https://leetcode.com/problems/perfect-squares/description/"
   ]
  },
  {
   "cell_type": "markdown",
   "metadata": {},
   "source": [
    "本质上是把一个数$m$表示成\n",
    "$$\n",
    "    m = \\sum_{k = 1}^{+\\infty} a_k \\cdot k^2\n",
    "$$\n",
    "然后找到\n",
    "$$\n",
    "    \\min\\left\\{\\sum_{k = 1}^{+\\infty} a_k\\right\\}\n",
    "$$\n",
    "\n",
    "找了下资料，发现这个是一个叫[四平方定理 Lagrange's four-square theorem](https://en.wikipedia.org/wiki/Lagrange%27s_four-square_theorem)的东西。意思是任何一个数都可以表示成\n",
    "$$\n",
    "    m = a_0^2 + a_1^2 + a_2^2 + a_3^2\n",
    "$$\n",
    "其中$a_0, a_1, a_2, a_3 \\in \\mathbb{N}$，并且可以相等。\n",
    "\n",
    "大致思路是先找到比$m$小的最大的平方数$k$。"
   ]
  },
  {
   "cell_type": "code",
   "execution_count": null,
   "metadata": {},
   "outputs": [],
   "source": [
    "class Solution:\n",
    "    def numSquares(self, n):\n",
    "        \"\"\"\n",
    "        :type n: int\n",
    "        :rtype: int\n",
    "        \"\"\"\n",
    "        "
   ]
  },
  {
   "cell_type": "markdown",
   "metadata": {},
   "source": [
    "## 32. Longest Valid Parentheses\n",
    "\n",
    "https://leetcode.com/problems/longest-valid-parentheses/description/"
   ]
  },
  {
   "cell_type": "markdown",
   "metadata": {},
   "source": [
    "设$p_i$是包括了第$i$个字符的最长的valid parenthese字符串长度。那么$p_i$和前面的项有什么关系呢？\n",
    "\n"
   ]
  },
  {
   "cell_type": "code",
   "execution_count": null,
   "metadata": {},
   "outputs": [],
   "source": [
    "class Solution:\n",
    "    def longestValidParentheses(self, s):\n",
    "        \"\"\"\n",
    "        :type s: str\n",
    "        :rtype: int\n",
    "        \"\"\"\n",
    "        "
   ]
  },
  {
   "cell_type": "markdown",
   "metadata": {},
   "source": [
    "## 70. Climbing Stairs\n",
    "\n",
    "<https://leetcode.com/problems/climbing-stairs/description/>"
   ]
  },
  {
   "cell_type": "markdown",
   "metadata": {},
   "source": [
    "好像又是动态规划。设$f_n$是n级楼梯的爬法数量，需要找到$f_{n + 1}$和$f_n$的关系。\n",
    "\n",
    "发现爬到第n+1级有两种办法\n",
    "- 从第n级爬1级到第n+1级\n",
    "- 从第n-1级爬2级到第n+1级\n",
    "\n",
    "可能有人有疑问那么为什么不可以从第n-1级爬1级、再爬1级到第n+1级呢？因为这个方案已经被**从第n级爬1级到第n+1级**包括了。\n",
    "\n",
    "所以得到了$f_{n + 1}$的表达式\n",
    "$$\n",
    "\\begin{align}\n",
    "    f_{n + 1} = f_n + f_{n - 1}\n",
    "\\end{align}\n",
    "$$\n",
    "所以可以用动态规划遍历一遍，就得到答案了。\n",
    "\n",
    "还可以用数学方法降维打击。这个看上去有点像斐波那契数列。但是这个数列从1开始，也就是`1, 2, 3, 5 ...`而不是`1, 1, 2, 3, 5`。\n",
    "\n",
    "斐波那契数列的通项公式是\n",
    "$$\n",
    "    F_n = {\\left({1 + \\sqrt{5} \\over 2}\\right)^n - \\left({1 - \\sqrt{5} \\over 2}\\right)^n \\over \\sqrt{5}}\n",
    "$$\n",
    "在我们这个题目里面，$f_n = F_{n + 1}$。\n",
    "\n",
    "为了防止小数运算出错，外面再加一个`round`四舍五入到整数。"
   ]
  },
  {
   "cell_type": "markdown",
   "metadata": {},
   "source": [
    "数学方法"
   ]
  },
  {
   "cell_type": "code",
   "execution_count": 19,
   "metadata": {},
   "outputs": [],
   "source": [
    "from math import sqrt\n",
    "class Solution:\n",
    "    def climbStairs(self, n):\n",
    "        \"\"\"\n",
    "        :type n: int\n",
    "        :rtype: int\n",
    "        \"\"\"\n",
    "        return round((((1 + sqrt(5)) / 2) ** (n + 1) - ((1 - sqrt(5)) / 2) ** (n + 1)) / sqrt(5))"
   ]
  },
  {
   "cell_type": "code",
   "execution_count": 12,
   "metadata": {},
   "outputs": [
    {
     "data": {
      "text/plain": [
       "8"
      ]
     },
     "execution_count": 12,
     "metadata": {},
     "output_type": "execute_result"
    }
   ],
   "source": [
    "Solution().climbStairs(5)"
   ]
  },
  {
   "cell_type": "markdown",
   "metadata": {},
   "source": [
    "动态规划做法。"
   ]
  },
  {
   "cell_type": "code",
   "execution_count": 20,
   "metadata": {},
   "outputs": [],
   "source": [
    "class Solution:\n",
    "    def climbStairs(self, n):\n",
    "        \"\"\"\n",
    "        :type n: int\n",
    "        :rtype: int\n",
    "        \"\"\"\n",
    "        if n == 1:\n",
    "            return 1\n",
    "        if n == 2:\n",
    "            return 2\n",
    "        q = [0, 1, 2]\n",
    "        for i in range(3, n + 1):\n",
    "            q.append(q[i - 1] + q[i - 2])\n",
    "        return q[-1]"
   ]
  },
  {
   "cell_type": "code",
   "execution_count": 25,
   "metadata": {},
   "outputs": [
    {
     "data": {
      "text/plain": [
       "8"
      ]
     },
     "execution_count": 25,
     "metadata": {},
     "output_type": "execute_result"
    }
   ],
   "source": [
    "Solution().climbStairs(5)"
   ]
  },
  {
   "cell_type": "markdown",
   "metadata": {},
   "source": [
    "## 221. Maximal Square\n",
    "\n",
    "https://leetcode.com/problems/maximal-square/description/"
   ]
  },
  {
   "cell_type": "markdown",
   "metadata": {},
   "source": [
    "类似卡诺图问题。需要在图中找到一个面积为$n^2$的最大的方块区域。\n",
    "\n",
    "这个题居然也是动态规划题。我是实在没有想到。说明我对动态规划的理解还是有欠缺的。以前的动态规划题，$\\{p_i\\}$都是一维的数组。其实多维的也是可以的。比如这里可以设$p_{i, j}$是以点$(i, j)$为最右下角的、最大正方形的边长。那么$p_{i, j}$和前面的项有什么关系呢？\n",
    "\n",
    "注意这里因为是二维的情况，此处说的“前面的项”，不仅包括了$p_{i - 1, j - 1}$，也包括$p_{i - 1, j}, p_{i, j - 1}$等等。\n",
    "\n",
    "> 这个有点类似二维随机概率分布函数的算法。记得一维概率分布函数的算法是$\\int_{- \\infty}^x f(x) \\,dx$，二维是$\\int_{- \\infty}^x \\int_{- \\infty}^y f(x, y) \\,dx dy$。\n",
    "\n",
    "$$\n",
    "\\left\\{\\begin{align}\n",
    "    p_{i, j} &= \\begin{cases}\n",
    "        \\min\\{p_{i - 1, j - 1}, p_{i - 1, j}, p_{i, j - 1}\\} + 1, &\\qquad a_{i, j} = 1 \\\\\n",
    "        0, &\\qquad a_{i, j} = 0\n",
    "    \\end{cases} \\\\\n",
    "    p_{0, j} &= a_{0, j}, \\qquad \\forall j \\in [0, n - 1] && 上边界\\\\\n",
    "    p_{i, 0} &= a_{i, 0}, \\qquad \\forall i \\in [0, m - 1] && 左边界\n",
    "\\end{align}\\right.\n",
    "$$"
   ]
  },
  {
   "cell_type": "code",
   "execution_count": 434,
   "metadata": {},
   "outputs": [],
   "source": [
    "import copy\n",
    "class Solution(object):\n",
    "    def maximalSquare(self, matrix):\n",
    "        \"\"\"\n",
    "        :type matrix: List[List[str]]\n",
    "        :rtype: int\n",
    "        \"\"\"\n",
    "        if matrix == [] or matrix == [[]]:\n",
    "            return 0\n",
    "        p = copy.deepcopy(matrix)\n",
    "        p[0] = [int(i) for i in p[0]]\n",
    "        for j in range(1, len(matrix)):\n",
    "            p[j][0] = int(p[j][0])\n",
    "            \n",
    "        for i in range(1, len(matrix)):\n",
    "            for j in range(1, len(matrix[0])):\n",
    "                p[i][j] = min(p[i - 1][j - 1], p[i][j - 1], p[i - 1][j]) + 1 if int(matrix[i][j]) == 1 else 0\n",
    "#         print(p)\n",
    "        return max(max(i) for i in p) ** 2"
   ]
  },
  {
   "cell_type": "code",
   "execution_count": 435,
   "metadata": {},
   "outputs": [
    {
     "data": {
      "text/plain": [
       "2"
      ]
     },
     "execution_count": 435,
     "metadata": {},
     "output_type": "execute_result"
    }
   ],
   "source": [
    "Solution().maximalSquare([\n",
    "[1, 0, 1, 0, 0,],\n",
    "[1, 0, 1, 1, 1,],\n",
    "[1, 1, 1, 1, 1,],\n",
    "[1, 0, 0, 1, 0,],\n",
    "])"
   ]
  },
  {
   "cell_type": "markdown",
   "metadata": {},
   "source": [
    "## 264. Ugly Number II\n",
    "\n",
    "https://leetcode.com/problems/ugly-number-ii"
   ]
  },
  {
   "cell_type": "markdown",
   "metadata": {},
   "source": [
    "设第i个ulgy number是$p_i$。"
   ]
  },
  {
   "cell_type": "code",
   "execution_count": 494,
   "metadata": {},
   "outputs": [],
   "source": [
    "class Solution:\n",
    "    def nthUglyNumber(self, n):\n",
    "        \"\"\"\n",
    "        :type n: int\n",
    "        :rtype: int\n",
    "        \"\"\"\n",
    "        if n == 1:\n",
    "            return 1\n",
    "        t2 = 0\n",
    "        t3 = 0\n",
    "        t5 = 0\n",
    "        p = [1]\n",
    "        for i in range(1, n):\n",
    "            p.append(min(p[t2] * 2, p[t3] * 3, p[t5] * 5))\n",
    "            if p[-1] == p[t2] * 2:\n",
    "                t2 += 1\n",
    "            if p[-1] == p[t3] * 3:\n",
    "                t3 += 1\n",
    "            if p[-1] == p[t5] * 5:\n",
    "                t5 += 1\n",
    "                \n",
    "#         print(p)\n",
    "        return p[-1]"
   ]
  },
  {
   "cell_type": "code",
   "execution_count": 495,
   "metadata": {
    "scrolled": true
   },
   "outputs": [
    {
     "name": "stdout",
     "output_type": "stream",
     "text": [
      "[1, 2, 3, 4, 5, 6, 8]\n"
     ]
    },
    {
     "data": {
      "text/plain": [
       "8"
      ]
     },
     "execution_count": 495,
     "metadata": {},
     "output_type": "execute_result"
    }
   ],
   "source": [
    "Solution().nthUglyNumber(7)"
   ]
  },
  {
   "cell_type": "markdown",
   "metadata": {},
   "source": [
    "## 396. Rotate Function\n",
    "\n",
    "https://leetcode.com/problems/rotate-function/description/"
   ]
  },
  {
   "cell_type": "markdown",
   "metadata": {},
   "source": [
    "假设\n",
    "$$\n",
    "    A = (\\begin{matrix}\n",
    "    a_0 & a_1 & a_2 & \\ldots & a_{n - 1}\n",
    "    \\end{matrix})^T\n",
    "$$\n",
    "要找到\n",
    "$$\n",
    "    \\left(\\begin{matrix}\n",
    "        0 & 1 & 2 & \\ldots & n - 2 & n - 1 \\\\\n",
    "        1 & 2 & 3 & \\ldots & n - 1 & 0 \\\\\n",
    "        2 & 3 & 4 & \\ldots & 0 & 1 \\\\\n",
    "        \\vdots & & & \\ddots & & \\vdots \\\\\n",
    "        n - 1 & 0 & 1 & \\ldots & n - 3 & n - 2 \\\\\n",
    "    \\end{matrix}\\right)\\left(\\begin{matrix}\n",
    "        a_0 \\\\\n",
    "        a_1 \\\\\n",
    "        a_2 \\\\\n",
    "        \\vdots \\\\\n",
    "        a_{n - 1}\n",
    "    \\end{matrix}\\right) = B\n",
    "$$\n",
    "中最大的元素。\n",
    "\n",
    "但其实上面的式子不能告诉我们什么。观察$b_i$和$b_{i - 1}$的关系。\n",
    "$$\n",
    "    b_i - b_{i - 1} = \\left(\\sum_{k = 0}^{n - 1} a_k\\right) - n a_{n - i}\n",
    "$$\n",
    "初始条件\n",
    "$$\n",
    "\\begin{align}\n",
    "    b_0 &= 0 a_0 + 1 a_1 + 2 a_2 + \\ldots + (n - 1) a_{n - 1} \\\\\n",
    "    &= \\sum_{k = 0}^{n - 1} k a_k\n",
    "\\end{align}\n",
    "$$"
   ]
  },
  {
   "cell_type": "code",
   "execution_count": 548,
   "metadata": {},
   "outputs": [],
   "source": [
    "class Solution:\n",
    "    def maxRotateFunction(self, A):\n",
    "        \"\"\"\n",
    "        :type A: List[int]\n",
    "        :rtype: int\n",
    "        \"\"\"\n",
    "        if len(A) == 0 or len(A) == 1:\n",
    "            return 0\n",
    "        aSum = sum(A)\n",
    "        aLength = len(A)\n",
    "        b = [sum(i * A[i] for i in range(aLength))]\n",
    "        for index, value in enumerate(A[1: ], 1):\n",
    "            b.append(b[-1] + aSum - aLength * A[aLength - index])\n",
    "        return max(b)"
   ]
  },
  {
   "cell_type": "code",
   "execution_count": 549,
   "metadata": {},
   "outputs": [
    {
     "data": {
      "text/plain": [
       "26"
      ]
     },
     "execution_count": 549,
     "metadata": {},
     "output_type": "execute_result"
    }
   ],
   "source": [
    "Solution().maxRotateFunction([4, 3, 2, 6])"
   ]
  },
  {
   "cell_type": "markdown",
   "metadata": {},
   "source": [
    "## 363. Max Sum of Rectangle No Larger Than K\n",
    "\n",
    "https://leetcode.com/problems/max-sum-of-rectangle-no-larger-than-k/description/"
   ]
  },
  {
   "cell_type": "markdown",
   "metadata": {},
   "source": [
    "和[Maximal Square](#221.-Maximal-Square)有点像。\n",
    "\n",
    "设$p_{i, j}$是以$(i, j)$为右下角的~~正方形的~~看错题了，这里应该是长方形、不超过$k$的最大和。那么$p_{i, j}$和前面的项有什么关系呢？\n",
    "$$\n",
    "    p_{i, j} = \n",
    "$$\n",
    "\n",
    "算了，这个真的没法做。"
   ]
  },
  {
   "cell_type": "code",
   "execution_count": 567,
   "metadata": {},
   "outputs": [],
   "source": [
    "import copy\n",
    "class Solution:\n",
    "    def maxSumSubmatrix(self, matrix, k):\n",
    "        \"\"\"\n",
    "        :type matrix: List[List[int]]\n",
    "        :type k: int\n",
    "        :rtype: int\n",
    "        \"\"\"\n",
    "        if matrix == [] or matrix == [[]]:\n",
    "            return 0\n",
    "        \n",
    "        p = copy.deepcopy(matrix)\n",
    "        \n",
    "        for i in range(len(matrix)):\n",
    "            for j in range(len(matrix[0])):\n",
    "                if i == 0 and j == 0: # upper left corner\n",
    "                    p[i][j] = max(filter(lambda x: x <= k, [matrix[i][j]]), default=0)\n",
    "                elif i == 0:\n",
    "                    p[i][j] = max(filter(lambda x: x <= k, [p[i][j - 1] + matrix[i][j], \n",
    "                                                            matrix[i][j]]), default=0)\n",
    "                elif j == 0:\n",
    "                    p[i][j] = max(filter(lambda x: x <= k, [p[i - 1][j] + matrix[i][j],\n",
    "                                                            matrix[i][j]]), default=0)\n",
    "                else:\n",
    "                    p[i][j] = max(filter(lambda x: x <= k, [p[i - 1][j - 1] + matrix[i][j], \n",
    "                                                            p[i][j - 1] + matrix[i][j], \n",
    "                                                            p[i - 1][j] + matrix[i][j],\n",
    "                                                            matrix[i][j]]), default=0)\n",
    "        print(p)\n",
    "        return max(max(i) for i in p)"
   ]
  },
  {
   "cell_type": "code",
   "execution_count": 563,
   "metadata": {},
   "outputs": [
    {
     "data": {
      "text/plain": [
       "2"
      ]
     },
     "execution_count": 563,
     "metadata": {},
     "output_type": "execute_result"
    }
   ],
   "source": [
    "Solution().maxSumSubmatrix([[1,0,1],[0,-2,3]], 2)"
   ]
  },
  {
   "cell_type": "code",
   "execution_count": 564,
   "metadata": {},
   "outputs": [
    {
     "data": {
      "text/plain": [
       "0"
      ]
     },
     "execution_count": 564,
     "metadata": {},
     "output_type": "execute_result"
    }
   ],
   "source": [
    "Solution().maxSumSubmatrix([[3, 3, 3],[3, 3, 3]], 2)"
   ]
  },
  {
   "cell_type": "code",
   "execution_count": 568,
   "metadata": {},
   "outputs": [
    {
     "name": "stdout",
     "output_type": "stream",
     "text": [
      "[[2, 2, 1]]\n"
     ]
    },
    {
     "data": {
      "text/plain": [
       "2"
      ]
     },
     "execution_count": 568,
     "metadata": {},
     "output_type": "execute_result"
    }
   ],
   "source": [
    "Solution().maxSumSubmatrix([[2, 2, -1]], 3)"
   ]
  },
  {
   "cell_type": "markdown",
   "metadata": {},
   "source": [
    "## 368. Largest Divisible Subset\n",
    "\n",
    "https://leetcode.com/problems/largest-divisible-subset/description/"
   ]
  },
  {
   "cell_type": "code",
   "execution_count": null,
   "metadata": {},
   "outputs": [],
   "source": [
    "class Solution:\n",
    "    def largestDivisibleSubset(self, nums):\n",
    "        \"\"\"\n",
    "        :type nums: List[int]\n",
    "        :rtype: List[int]\n",
    "        \"\"\"\n",
    "        "
   ]
  },
  {
   "cell_type": "markdown",
   "metadata": {},
   "source": [
    "## 5. Longest Palindromic Substring\n",
    "\n",
    "https://leetcode.com/problems/longest-palindromic-substring/description/"
   ]
  },
  {
   "cell_type": "markdown",
   "metadata": {},
   "source": [
    "找到最长的回文子字符串。"
   ]
  },
  {
   "cell_type": "code",
   "execution_count": 125,
   "metadata": {},
   "outputs": [],
   "source": [
    "class Solution:\n",
    "    def longestPalindrome(self, s):\n",
    "        \"\"\"\n",
    "        :type s: str\n",
    "        :rtype: str\n",
    "        \"\"\"\n",
    "        pool = set()\n",
    "        for i in range(len(s)):\n",
    "            for j in range(i + 1, len(s) + 1):\n",
    "                if s[i: j] == s[i: j][:: -1]:\n",
    "                    pool.add(s[i: j])\n",
    "                    \n",
    "        return max(pool, key=lambda x: len(x), default=\"\")"
   ]
  },
  {
   "cell_type": "code",
   "execution_count": 126,
   "metadata": {},
   "outputs": [
    {
     "data": {
      "text/plain": [
       "'anana'"
      ]
     },
     "execution_count": 126,
     "metadata": {},
     "output_type": "execute_result"
    }
   ],
   "source": [
    "Solution().longestPalindrome(\"banana\")"
   ]
  },
  {
   "cell_type": "markdown",
   "metadata": {},
   "source": [
    "我一开始只能想到上面的暴力算法，但是这个会time limit exceed。"
   ]
  },
  {
   "cell_type": "markdown",
   "metadata": {},
   "source": [
    "有一种叫Manacher的算法。可以优化到$O(n)$复杂度。\n",
    "\n",
    "一些资料\n",
    "- https://segmentfault.com/a/1190000008484167\n",
    "- https://en.wikipedia.org/wiki/Longest_palindromic_substring\n",
    "\n",
    "下面的代码是segmentfault上直接抄过来的。"
   ]
  },
  {
   "cell_type": "code",
   "execution_count": 127,
   "metadata": {},
   "outputs": [],
   "source": [
    "class Solution:\n",
    "    def longestPalindrome(self, s):\n",
    "        \"\"\"\n",
    "        :type s: str\n",
    "        :rtype: str\n",
    "        \"\"\"\n",
    "        s = '#' + '#'.join(s) + '#'\n",
    "        l = len(s)\n",
    "        r = [0] * l\n",
    "        mx, pos = 0, 0\n",
    "        for i in range(l):\n",
    "            if i > mx:\n",
    "                r[i] = 1\n",
    "            else:\n",
    "                r[i] = min(r[2 * pos - i], mx - i)\n",
    "\n",
    "            while i - r[i] >= 0 and i + r[i] < l and s[i + r[i]] == s[i - r[i]]:\n",
    "                r[i] += 1\n",
    "\n",
    "            if r[i] + i - 1 > mx:\n",
    "                mx = r[i] + i - 1\n",
    "                pos = i\n",
    "        radius = max(r) - 1\n",
    "        s1 = r.index(radius + 1) - radius\n",
    "        s2 = s1 + radius * 2\n",
    "        return s[s1: s2].replace(\"#\", \"\")"
   ]
  },
  {
   "cell_type": "code",
   "execution_count": 124,
   "metadata": {},
   "outputs": [
    {
     "data": {
      "text/plain": [
       "'anana'"
      ]
     },
     "execution_count": 124,
     "metadata": {},
     "output_type": "execute_result"
    }
   ],
   "source": [
    "Solution().longestPalindrome(\"banana\")"
   ]
  },
  {
   "cell_type": "markdown",
   "metadata": {},
   "source": [
    "设$p_i$是以$a'_i$为中心的最长回文字符串的**半径**。但是其实这里叫半径不是特别贴切，比如\n",
    "```\n",
    "i 0 1 2 3 4 5 6\n",
    "---------------\n",
    "  # a # b # b #\n",
    "---------------\n",
    "p 1 2 1 2 3 2 1\n",
    "```\n",
    "中，$p_0$是1，$p_1$是2。只能说这里的半径的定义是回文字符串总长度的一半减0.5。\n",
    "\n",
    "那么可以看到最长回文子字符串的长度就是$\\max\\{p_i\\} - 1$。再通过$\\operatorname{argmax}$转换一下就可以得到那个最长回文子字符串了。"
   ]
  },
  {
   "cell_type": "code",
   "execution_count": 42,
   "metadata": {},
   "outputs": [],
   "source": [
    "import operator\n",
    "class Solution:\n",
    "    def longestPalindrome(self, s):\n",
    "        \"\"\"\n",
    "        :type s: str\n",
    "        :rtype: str\n",
    "        \"\"\"\n",
    "        s = '#' + '#'.join(s) + '#'\n",
    "        dp = [1]\n",
    "        for i in range(1, len(s)):\n",
    "            radius = 1\n",
    "            for j in range(1, min(i, len(s) - i - 1) + 1): # 从中心开始往两边逐个检查\n",
    "                if s[i - j] == s[i + j]: # 遇到一样的\n",
    "                    radius += 1\n",
    "                else: # 遇到不一样的\n",
    "                    break\n",
    "            dp.append(radius)\n",
    "            \n",
    "        argmaxRadius, maxRadius = max(enumerate(dp), key=operator.itemgetter(1)) # 得到最长回文子字符串的中心下标和半径\n",
    "        s1 = argmaxRadius - maxRadius + 1 # 左边界\n",
    "        s2 = argmaxRadius + maxRadius # 右边界\n",
    "        return s[s1: s2].replace(\"#\", \"\")"
   ]
  },
  {
   "cell_type": "code",
   "execution_count": 45,
   "metadata": {
    "scrolled": true
   },
   "outputs": [
    {
     "data": {
      "text/plain": [
       "'anana'"
      ]
     },
     "execution_count": 45,
     "metadata": {},
     "output_type": "execute_result"
    }
   ],
   "source": [
    "Solution().longestPalindrome(\"banana\")"
   ]
  },
  {
   "cell_type": "markdown",
   "metadata": {},
   "source": [
    "稍微快一点的版本。"
   ]
  },
  {
   "cell_type": "code",
   "execution_count": 46,
   "metadata": {},
   "outputs": [],
   "source": [
    "class Solution:\n",
    "    def longestPalindrome(self, s):\n",
    "        \"\"\"\n",
    "        :type s: str\n",
    "        :rtype: str\n",
    "        \"\"\"\n",
    "        s = '#' + '#'.join(s) + '#'\n",
    "        argmaxRadius = 0\n",
    "        maxRadius = 1\n",
    "        for i in range(1, len(s)):\n",
    "            radius = 1\n",
    "            for j in range(1, min(i, len(s) - i - 1) + 1): # 从中心开始往两边逐个检查\n",
    "                if s[i - j] == s[i + j]: # 遇到一样的\n",
    "                    radius += 1\n",
    "                else: # 遇到不一样的\n",
    "                    break\n",
    "            if radius > maxRadius:\n",
    "                maxRadius = radius\n",
    "                argmaxRadius = i\n",
    "            \n",
    "        s1 = argmaxRadius - maxRadius + 1 # 左边界\n",
    "        s2 = argmaxRadius + maxRadius # 右边界\n",
    "        return s[s1: s2].replace(\"#\", \"\")"
   ]
  },
  {
   "cell_type": "code",
   "execution_count": 47,
   "metadata": {
    "scrolled": true
   },
   "outputs": [
    {
     "data": {
      "text/plain": [
       "'anana'"
      ]
     },
     "execution_count": 47,
     "metadata": {},
     "output_type": "execute_result"
    }
   ],
   "source": [
    "Solution().longestPalindrome(\"banana\")"
   ]
  },
  {
   "cell_type": "markdown",
   "metadata": {},
   "source": [
    "上面的代码根本没有用到dp的思想，而且复杂度应该还是$O(n^2)$。但是却可以过。不过这样就没有意思了。\n",
    "\n",
    "还是来思考一下递推式。"
   ]
  },
  {
   "cell_type": "code",
   "execution_count": 56,
   "metadata": {},
   "outputs": [],
   "source": [
    "class Solution:\n",
    "    def longestPalindrome(self, s):\n",
    "        \"\"\"\n",
    "        :type s: str\n",
    "        :rtype: str\n",
    "        \"\"\"\n",
    "        s = '#' + '#'.join(s) + '#'\n",
    "        dp = [1]\n",
    "        argmaxRadius = 0\n",
    "        maxRadius = 1\n",
    "        for i in range(1, len(s)):\n",
    "            if i < argmaxRadius + maxRadius:\n",
    "                radius = dp[2 * argmaxRadius - i]\n",
    "            else:\n",
    "                radius = 1\n",
    "            searchRange = range(radius, min(i, len(s) - i - 1) + 1)\n",
    "            for j in searchRange: # 从中心开始往两边逐个检查\n",
    "                if s[i - j] == s[i + j]: # 遇到一样的\n",
    "                    radius += 1\n",
    "                else: # 遇到不一样的\n",
    "                    break\n",
    "            dp.append(radius)\n",
    "            if radius > maxRadius:\n",
    "                maxRadius = radius\n",
    "                argmaxRadius = i\n",
    "            \n",
    "        s1 = argmaxRadius - maxRadius + 1 # 左边界\n",
    "        s2 = argmaxRadius + maxRadius # 右边界\n",
    "        return s[s1: s2].replace(\"#\", \"\")"
   ]
  },
  {
   "cell_type": "code",
   "execution_count": 57,
   "metadata": {
    "scrolled": true
   },
   "outputs": [
    {
     "data": {
      "text/plain": [
       "'anana'"
      ]
     },
     "execution_count": 57,
     "metadata": {},
     "output_type": "execute_result"
    }
   ],
   "source": [
    "Solution().longestPalindrome(\"banana\")"
   ]
  },
  {
   "cell_type": "markdown",
   "metadata": {},
   "source": [
    "## 516. Longest Palindromic Subsequence\n",
    "\n",
    "这道题和上面的longest palindromic substring的区别在于，这道题里面不要求连续。"
   ]
  },
  {
   "cell_type": "code",
   "execution_count": null,
   "metadata": {},
   "outputs": [],
   "source": []
  },
  {
   "cell_type": "markdown",
   "metadata": {},
   "source": [
    "## 898. Bitwise ORs of Subarrays\n",
    "\n",
    "https://leetcode.com/problems/bitwise-ors-of-subarrays/description/"
   ]
  },
  {
   "cell_type": "markdown",
   "metadata": {},
   "source": [
    "本质上是要找到\n",
    "$$\n",
    "    \\left\\{\\prod_{k = i}^j a_k \\middle| 0 \\leq i \\leq j \\leq n - 1\\right\\}\n",
    "$$"
   ]
  },
  {
   "cell_type": "code",
   "execution_count": 212,
   "metadata": {},
   "outputs": [],
   "source": [
    "import functools\n",
    "class Solution:\n",
    "    def subarrayBitwiseORs(self, A):\n",
    "        \"\"\"\n",
    "        :type A: List[int]\n",
    "        :rtype: int\n",
    "        \"\"\"\n",
    "        if A == []:\n",
    "            return 0\n",
    "        p = [{A[0]}]\n",
    "        for index, value in enumerate(A[1: ], 1):\n",
    "            p.append({i | value for i in p[-1]} | {value, })\n",
    "#         print(p)\n",
    "        return len(functools.reduce(lambda x, y: x.union(y), p))"
   ]
  },
  {
   "cell_type": "markdown",
   "metadata": {},
   "source": [
    "上面是暴力解法。肯定会time limit exceed。"
   ]
  },
  {
   "cell_type": "code",
   "execution_count": 195,
   "metadata": {},
   "outputs": [],
   "source": [
    "class Solution:\n",
    "    def subarrayBitwiseORs(self, A):\n",
    "        \"\"\"\n",
    "        :type A: List[int]\n",
    "        :rtype: int\n",
    "        \"\"\"\n",
    "        if A == []:\n",
    "            return 0\n",
    "        p = [1]\n",
    "        allOrs = {A[0]}\n",
    "        lastOr = A[0]\n",
    "        for index, value in enumerate(A[1: ], 1):\n",
    "            currentOr = lastOr | value\n",
    "            allOrs.update([value, currentOr, value | A[index - 1]])\n",
    "            \n",
    "            lastOr = currentOr\n",
    "#         print(allOrs)\n",
    "        return len(allOrs)"
   ]
  },
  {
   "cell_type": "code",
   "execution_count": 213,
   "metadata": {
    "scrolled": true
   },
   "outputs": [
    {
     "name": "stdout",
     "output_type": "stream",
     "text": [
      "[{0}]\n"
     ]
    },
    {
     "data": {
      "text/plain": [
       "1"
      ]
     },
     "execution_count": 213,
     "metadata": {},
     "output_type": "execute_result"
    }
   ],
   "source": [
    "Solution().subarrayBitwiseORs([0])"
   ]
  },
  {
   "cell_type": "code",
   "execution_count": 214,
   "metadata": {},
   "outputs": [
    {
     "name": "stdout",
     "output_type": "stream",
     "text": [
      "[{1}, {1}, {2, 3}]\n"
     ]
    },
    {
     "data": {
      "text/plain": [
       "3"
      ]
     },
     "execution_count": 214,
     "metadata": {},
     "output_type": "execute_result"
    }
   ],
   "source": [
    "Solution().subarrayBitwiseORs([1, 1, 2])"
   ]
  },
  {
   "cell_type": "code",
   "execution_count": 215,
   "metadata": {},
   "outputs": [
    {
     "name": "stdout",
     "output_type": "stream",
     "text": [
      "[{1}, {2, 3}, {4, 6, 7}]\n"
     ]
    },
    {
     "data": {
      "text/plain": [
       "6"
      ]
     },
     "execution_count": 215,
     "metadata": {},
     "output_type": "execute_result"
    }
   ],
   "source": [
    "Solution().subarrayBitwiseORs([1, 2, 4])"
   ]
  },
  {
   "cell_type": "code",
   "execution_count": 216,
   "metadata": {},
   "outputs": [
    {
     "name": "stdout",
     "output_type": "stream",
     "text": [
      "[{3}, {11}]\n"
     ]
    },
    {
     "data": {
      "text/plain": [
       "2"
      ]
     },
     "execution_count": 216,
     "metadata": {},
     "output_type": "execute_result"
    }
   ],
   "source": [
    "Solution().subarrayBitwiseORs([3, 11])"
   ]
  },
  {
   "cell_type": "code",
   "execution_count": 217,
   "metadata": {},
   "outputs": [
    {
     "name": "stdout",
     "output_type": "stream",
     "text": [
      "[{30}, {126}, {88, 126}, {121, 97, 127}, {99, 98, 123, 127}, {98, 99, 66, 123, 127}]\n"
     ]
    },
    {
     "data": {
      "text/plain": [
       "10"
      ]
     },
     "execution_count": 217,
     "metadata": {},
     "output_type": "execute_result"
    }
   ],
   "source": [
    "Solution().subarrayBitwiseORs([30, 126, 88, 97, 98, 66])"
   ]
  },
  {
   "cell_type": "markdown",
   "metadata": {},
   "source": [
    "## 650. 2 Keys Keyboard\n",
    "\n",
    "https://leetcode.com/problems/2-keys-keyboard/description/"
   ]
  },
  {
   "cell_type": "markdown",
   "metadata": {},
   "source": [
    "设打到$i$个字符时，需要的最少步骤数量是$P_i$。那么$P_i$和前面的项有什么关系呢？\n",
    "\n",
    "如果$i$有因数$a_1, a_2, \\ldots, a_n$，那么就有$n$种方法构成$i$个A\n",
    "- $a_1$个A复制1下，然后粘贴$i / a_1 - 1$次，所以总共在$P_{a_1}$的基础上再操作$i / a_1$次\n",
    "- $a_2$个A复制1下，然后粘贴$i / a_2 - 1$次\n",
    "- ...\n",
    "- $a_n$个A复制1下，然后粘贴$i / a_n - 1$次\n",
    "\n",
    "也就是说\n",
    "$$\n",
    "    P_i = \\min\\left\\{P_{a_k} + {i \\over a_k} \\middle| k \\in \\{1, 2, \\ldots, n\\}\\right\\}\n",
    "$$\n",
    "\n",
    "初始条件\n",
    "$$\n",
    "    P_1 = 0\n",
    "$$"
   ]
  },
  {
   "cell_type": "code",
   "execution_count": 304,
   "metadata": {},
   "outputs": [],
   "source": [
    "import math\n",
    "class Solution:\n",
    "    def minSteps(self, n):\n",
    "        \"\"\"\n",
    "        :type n: int\n",
    "        :rtype: int\n",
    "        \"\"\"\n",
    "        if n == 1:\n",
    "            return 0\n",
    "        p = [0, 0]\n",
    "        for i in range(2, n + 1):\n",
    "            divisors = []\n",
    "            for divisor in range(1, i // 2 + 1):\n",
    "                if i % divisor == 0:\n",
    "                    divisors.append(divisor)\n",
    "#             print(i, divisors)\n",
    "            p.append(min([p[ak] + i // ak for ak in divisors]))\n",
    "#         print(p)\n",
    "        return p[-1]"
   ]
  },
  {
   "cell_type": "code",
   "execution_count": 305,
   "metadata": {},
   "outputs": [
    {
     "data": {
      "text/plain": [
       "6"
      ]
     },
     "execution_count": 305,
     "metadata": {},
     "output_type": "execute_result"
    }
   ],
   "source": [
    "Solution().minSteps(9)"
   ]
  },
  {
   "cell_type": "markdown",
   "metadata": {},
   "source": [
    "最快的好像是用递归做的，但是python限制递归深度。所以我不推荐用。\n",
    "\n",
    "下面这种也不错。"
   ]
  },
  {
   "cell_type": "code",
   "execution_count": 303,
   "metadata": {},
   "outputs": [],
   "source": [
    "class Solution:\n",
    "    def minSteps(self, n):\n",
    "        \"\"\"\n",
    "        :type n: int\n",
    "        :rtype: int\n",
    "        \"\"\"\n",
    "        ans = 0\n",
    "        d = 2\n",
    "        while n > 1:\n",
    "            while n % d == 0:\n",
    "                ans += d\n",
    "                n /= d\n",
    "            d += 1\n",
    "        return ans"
   ]
  },
  {
   "cell_type": "markdown",
   "metadata": {},
   "source": [
    "## 120. Triangle"
   ]
  },
  {
   "cell_type": "markdown",
   "metadata": {},
   "source": [
    "找到三角形从上到下最小花费。\n",
    "\n",
    "设$p_{i, j}$是到达第i行、第j个元素的最小花费。"
   ]
  },
  {
   "cell_type": "code",
   "execution_count": 22,
   "metadata": {},
   "outputs": [],
   "source": [
    "class Solution:\n",
    "    def minimumTotal(self, triangle):\n",
    "        \"\"\"\n",
    "        :type triangle: List[List[int]]\n",
    "        :rtype: int\n",
    "        \"\"\"\n",
    "        if len(triangle) == 0:\n",
    "            return 0\n",
    "        p = [[triangle[0][0]]]\n",
    "        for index, value in enumerate(triangle[1: ], 1):\n",
    "            thisRow = [p[-1][0] + value[0]]\n",
    "            for i, v in enumerate(value[1: -1], 1):\n",
    "                thisRow.append(min(p[-1][i - 1], p[-1][i]) + v)\n",
    "            thisRow.append(p[-1][-1] + value[-1])\n",
    "#             print(thisRow)\n",
    "            p.append(thisRow)\n",
    "        return min(p[-1])"
   ]
  },
  {
   "cell_type": "markdown",
   "metadata": {},
   "source": [
    "稍微优化点空间。\n",
    "\n",
    "突然发现不仅优化了空间，还顺便优化了时间。可能因为python列表的`.append()`很慢吧。"
   ]
  },
  {
   "cell_type": "code",
   "execution_count": 25,
   "metadata": {},
   "outputs": [],
   "source": [
    "class Solution:\n",
    "    def minimumTotal(self, triangle):\n",
    "        \"\"\"\n",
    "        :type triangle: List[List[int]]\n",
    "        :rtype: int\n",
    "        \"\"\"\n",
    "        if len(triangle) == 0:\n",
    "            return 0\n",
    "        p = [triangle[0][0]]\n",
    "        for index, value in enumerate(triangle[1: ], 1):\n",
    "            thisRow = [p[0] + value[0]]\n",
    "            for i, v in enumerate(value[1: -1], 1):\n",
    "                thisRow.append(min(p[i - 1], p[i]) + v)\n",
    "            thisRow.append(p[-1] + value[-1])\n",
    "#             print(thisRow)\n",
    "            p = thisRow\n",
    "        return min(p)"
   ]
  },
  {
   "cell_type": "markdown",
   "metadata": {},
   "source": [
    "还有一种更好的办法是从底往上考虑。这样做有2个好处\n",
    "- 最终答案就是`p[0]`，不需要再费$O(n)$时间算出`min(p)`\n",
    "- 不用单独考虑最边上的元素，代码更好看"
   ]
  },
  {
   "cell_type": "code",
   "execution_count": 7,
   "metadata": {},
   "outputs": [],
   "source": [
    "class Solution:\n",
    "    def minimumTotal(self, triangle):\n",
    "        \"\"\"\n",
    "        :type triangle: List[List[int]]\n",
    "        :rtype: int\n",
    "        \"\"\"\n",
    "        if len(triangle) == 0:\n",
    "            return 0\n",
    "        p = triangle[-1]\n",
    "        for index, value in enumerate(triangle[: -1][:: -1]):\n",
    "            p = [min(p[i], p[i + 1]) + value[i] for i in range(len(value))]\n",
    "        return p[0]"
   ]
  },
  {
   "cell_type": "code",
   "execution_count": 8,
   "metadata": {},
   "outputs": [
    {
     "data": {
      "text/plain": [
       "11"
      ]
     },
     "execution_count": 8,
     "metadata": {},
     "output_type": "execute_result"
    }
   ],
   "source": [
    "Solution().minimumTotal([\n",
    "     [2],\n",
    "    [3,4],\n",
    "   [6,5,7],\n",
    "  [4,1,8,3]\n",
    "])"
   ]
  },
  {
   "cell_type": "code",
   "execution_count": 9,
   "metadata": {},
   "outputs": [
    {
     "data": {
      "text/plain": [
       "-1"
      ]
     },
     "execution_count": 9,
     "metadata": {},
     "output_type": "execute_result"
    }
   ],
   "source": [
    "Solution().minimumTotal([[-1]\n",
    "                        ,[2,3]\n",
    "                      ,[1,-1,-3]])"
   ]
  },
  {
   "cell_type": "markdown",
   "metadata": {},
   "source": [
    "## 931. Minimum Falling Path Sum\n",
    "\n",
    "感觉和上一题triangle差不多。还是用DP的方法生成到当前这一行每个元素的最小花费。"
   ]
  },
  {
   "cell_type": "code",
   "execution_count": 10,
   "metadata": {},
   "outputs": [],
   "source": [
    "class Solution:\n",
    "    def minFallingPathSum(self, A):\n",
    "        \"\"\"\n",
    "        :type A: List[List[int]]\n",
    "        :rtype: int\n",
    "        \"\"\"\n",
    "        if A == [] or A == [[]]:\n",
    "            return 0\n",
    "        if len(A) == 1:\n",
    "            return A[0][0]\n",
    "        lastRowCost = A[0]\n",
    "        for index, row in enumerate(A[1: ], 1):\n",
    "            leftCost = [row[0] + min(lastRowCost[0], lastRowCost[1])]\n",
    "            rightCost = [row[-1] + min(lastRowCost[-1], lastRowCost[-2])]\n",
    "            middleCost = []\n",
    "            for i, value in enumerate(row[1: -1], 1):\n",
    "                middleCost.append(value + min(lastRowCost[i - 1: i + 2]))\n",
    "            lastRowCost = leftCost + middleCost + rightCost\n",
    "        return min(lastRowCost)"
   ]
  },
  {
   "cell_type": "code",
   "execution_count": 11,
   "metadata": {},
   "outputs": [
    {
     "data": {
      "text/plain": [
       "12"
      ]
     },
     "execution_count": 11,
     "metadata": {},
     "output_type": "execute_result"
    }
   ],
   "source": [
    "Solution().minFallingPathSum([\n",
    "    [1, 2, 3],\n",
    "    [4, 5, 6],\n",
    "    [7, 8, 9]\n",
    "])"
   ]
  },
  {
   "cell_type": "code",
   "execution_count": 13,
   "metadata": {},
   "outputs": [
    {
     "data": {
      "text/plain": [
       "4"
      ]
     },
     "execution_count": 13,
     "metadata": {},
     "output_type": "execute_result"
    }
   ],
   "source": [
    "Solution().minFallingPathSum([\n",
    "    [1, 2],\n",
    "    [3, 4]\n",
    "])"
   ]
  },
  {
   "cell_type": "markdown",
   "metadata": {},
   "source": [
    "## 413. Arithmetic Slices\n",
    "\n",
    "有点maximum subarray的变种的感觉。感觉凡是遇到这种**最长连续子序列**的问题都可以这么做。\n",
    "\n",
    "用$p_i$表示，以第i个元素为结尾的、长度大于等于3的数列切片的数量。那么$p_i$和前面的项有什么关系？\n",
    "\n",
    "发现，因为$p_{i - 1}$是以前面一项为结尾的、长度大于等于3的数列切片的数量，所以如果\n",
    "- $a_i$和$a_{i - 1}, a_{i - 2}$能构成等差数列，那么$p_i = p_{i - 1} + 1$\n",
    "- $a_i$和$a_{i - 1}, a_{i - 2}$不构成等差数列，那么$p_i = 0$"
   ]
  },
  {
   "cell_type": "code",
   "execution_count": 6,
   "metadata": {},
   "outputs": [],
   "source": [
    "class Solution:\n",
    "    def numberOfArithmeticSlices(self, A):\n",
    "        \"\"\"\n",
    "        :type A: List[int]\n",
    "        :rtype: int\n",
    "        \"\"\"\n",
    "        if len(A) < 3:\n",
    "            return 0\n",
    "        if A[1] * 2 == A[0] + A[2]:\n",
    "            p = [0, 0, 1]\n",
    "            q = 1\n",
    "        else:\n",
    "            p = [0, 0, 0]\n",
    "            q = 0\n",
    "        for index, value in enumerate(A[3: ], 3):\n",
    "            if A[index - 1] * 2 == A[index - 2] + value:\n",
    "                p.append(p[-1] + 1)\n",
    "                q += p[-1]\n",
    "            else:\n",
    "                p.append(0)\n",
    "#         return sum(q) # 最后的sum很慢。改成一边加一边算，最后就不用sum了，比较快。\n",
    "        return q"
   ]
  },
  {
   "cell_type": "code",
   "execution_count": 7,
   "metadata": {},
   "outputs": [
    {
     "data": {
      "text/plain": [
       "3"
      ]
     },
     "execution_count": 7,
     "metadata": {},
     "output_type": "execute_result"
    }
   ],
   "source": [
    "Solution().numberOfArithmeticSlices([1, 2, 3, 4])"
   ]
  },
  {
   "cell_type": "markdown",
   "metadata": {},
   "source": [
    "## 712. Minimum ASCII Delete Sum for Two Strings\n",
    "\n",
    "粗看，感觉像是\n",
    "1. 找到最长公共子序列（不一定连续）\n",
    "1. 各自删掉不在最长公共子序列里的元素\n",
    "\n",
    "但是有个问题，保留最长公共子序列不一定是最省钱的方法，因为每个字母的价格不同，它们是有权重的。\n",
    "\n",
    "怎么从dp的角度思考这个问题呢？\n",
    "\n",
    "令$p_{i, j}$是使`s1[0: i]`和`s2[0: j]`相等的最小花费。那么$p_{i, j}$和前面的项有什么关系呢？\n",
    "- 如果`s1[i] == s2[j]`，那么不需要删掉任何一个字符，所以$p_{i, j} = p_{i - 1, j - 1}$\n",
    "- 如果`s1[i] != s2[j]`，那么说明出现了不相等的字符，一定要删掉某个字符，那么到底删`s1[i]`还是`s2[j]`?\n",
    "  \n",
    "  - 如果只删`s1[i]`，那么总花费是$p_{i - 1, j} + \\operatorname{ord} s_{1(i)}$\n",
    "  - 如果只删`s2[j]`，那么总花费是$p_{i, j - 1} + \\operatorname{ord} s_{2(j)}$\n",
    "  - 如果删除`s1[i]`和`s2[j]`，那么总花费是$p_{i - 1, j - 1} + \\operatorname{ord} s_{1(i)} + \\operatorname{ord} s_{2(j)}$\n",
    "  \n",
    "    实际上，这种情况已经被前两种情况包括了。\n",
    "    \n",
    "    例子\n",
    "    ```\n",
    "    p  |e    e\n",
    "    --------------\n",
    "    e  |0    e\n",
    "    a  |a    ae\n",
    "    ```\n",
    "    最右下角的一格的`ae`，可以由第一第二条情况得到，当然第三条也能得到`ae`，但是没必要。\n",
    "  \n",
    "再来看一下初始条件。这里要当心一种情况，就是其中一个字符串是空字符串的情况。如果按传统的方法，如果其中一个字符串是空字符串的话，整个表格的就没有面积了。为了处理这种情况，我们把字符串起始位看做单独的一个字符∅。当然这种方法还有更大的一个好处，就是能帮助我们更容易看清楚初始条件。\n",
    "\n",
    "我们发现，更新第一行的时候，因为s1还是空字符串，所以s2来一个字符，就要删掉一个字符，这样第一行变成了s2的一个累积\n",
    "```\n",
    "    ∅    s    e    a\n",
    "---------------------\n",
    "∅  |0    s    se   sea\n",
    "```\n",
    "\n",
    "更新第一列的时候，也是相同的情况。\n",
    "\n",
    "所以总结下来，递推式是\n",
    "$$\n",
    "\\left\\{\\begin{aligned}\n",
    "    p_{i, j} &= \\min\\{p_{i - 1, j} + \\operatorname{ord} s_{1(i)}, p_{i, j - 1} + \\operatorname{ord} s_{2(j)}\\} \\\\\n",
    "    p_{0, j} &= \\sum_{j = 0}^{\\operatorname{len} S_2} \\operatorname{ord} s_{(2), j} \\\\\n",
    "    p_{i, 0} &= \\sum_{j = 0}^{\\operatorname{len} S_1} \\operatorname{ord} s_{(1), i} \\\\\n",
    "\\end{aligned}\\right.\n",
    "$$\n",
    "  \n",
    "例子\n",
    "```\n",
    "    ∅    s    e    a\n",
    "---------------------\n",
    "∅  |0    s    se   sea\n",
    "e  |e    se   s    sa\n",
    "a  |ea   s    sa   s\n",
    "t  |eat  seat sat  st\n",
    "```"
   ]
  },
  {
   "cell_type": "code",
   "execution_count": 38,
   "metadata": {},
   "outputs": [],
   "source": [
    "import itertools\n",
    "class Solution:\n",
    "    def minimumDeleteSum(self, s1, s2):\n",
    "        \"\"\"\n",
    "        :type s1: str\n",
    "        :type s2: str\n",
    "        :rtype: int\n",
    "        \"\"\"\n",
    "        s1 = \"\\x00\" + s1\n",
    "        s2 = \"\\x00\" + s2\n",
    "        dp = [list(itertools.accumulate(map(ord, s2)))]\n",
    "        for i, row in enumerate(s1[1: ], 1):\n",
    "            dp.append([ord(row) + dp[-1][0]])\n",
    "            for j, col in enumerate(s2[1: ], 1):\n",
    "                if s1[i] == s2[j]:\n",
    "                    dp[-1].append(dp[i - 1][j - 1])\n",
    "                else:\n",
    "                    dp[-1].append(min(dp[i - 1][j] + ord(s1[i]), dp[i][j - 1] + ord(s2[j])))\n",
    "#         print(dp)\n",
    "        return dp[-1][-1]"
   ]
  },
  {
   "cell_type": "markdown",
   "metadata": {},
   "source": [
    "不要保存整个表，因为`list.append`比较慢。可以快那么一点点。"
   ]
  },
  {
   "cell_type": "code",
   "execution_count": 48,
   "metadata": {},
   "outputs": [],
   "source": [
    "import itertools\n",
    "class Solution:\n",
    "    def minimumDeleteSum(self, s1, s2):\n",
    "        \"\"\"\n",
    "        :type s1: str\n",
    "        :type s2: str\n",
    "        :rtype: int\n",
    "        \"\"\"\n",
    "        s1 = \"\\x00\" + s1\n",
    "        s2 = \"\\x00\" + s2\n",
    "        dp = list(itertools.accumulate(map(ord, s2)))\n",
    "        for i, row in enumerate(s1[1: ], 1):\n",
    "            thisRow = [ord(row) + dp[0]]\n",
    "            for j, col in enumerate(s2[1: ], 1):\n",
    "                if s1[i] == s2[j]:\n",
    "                    thisRow.append(dp[j - 1])\n",
    "                else:\n",
    "                    thisRow.append(min(dp[j] + ord(s1[i]), thisRow[j - 1] + ord(s2[j])))\n",
    "            dp = thisRow\n",
    "#         print(dp)\n",
    "        return dp[-1]"
   ]
  },
  {
   "cell_type": "code",
   "execution_count": 49,
   "metadata": {},
   "outputs": [
    {
     "data": {
      "text/plain": [
       "403"
      ]
     },
     "execution_count": 49,
     "metadata": {},
     "output_type": "execute_result"
    }
   ],
   "source": [
    "Solution().minimumDeleteSum(\"delete\", \"leet\")"
   ]
  },
  {
   "cell_type": "code",
   "execution_count": 50,
   "metadata": {},
   "outputs": [
    {
     "data": {
      "text/plain": [
       "195"
      ]
     },
     "execution_count": 50,
     "metadata": {},
     "output_type": "execute_result"
    }
   ],
   "source": [
    "Solution().minimumDeleteSum(\"a\", \"b\")"
   ]
  },
  {
   "cell_type": "markdown",
   "metadata": {},
   "source": [
    "## 646. Maximum Length of Pair Chain\n",
    "\n",
    "这道题我没有找答案，自己想出来的（终于！）感觉做多了，对动态规划有点感觉了。一看到题目就有种强烈的[Maximum Subarray](#53.-Maximum-Subarray)感。\n",
    "\n",
    "先以左边界排序（我也不知道能不能按右边界排序）。设$a_i, b_i$分别是第i个区间的左边界和右边界。设$p_i$是**必须以第i个区间为结尾的**最长的chain的数量。那么$p_i$和前面的项有什么联系呢？\n",
    "\n",
    "发现，如果第i-1个区间的右边界小于第i个区间的左边界的话，chain就可以+1，比如\n",
    "```\n",
    "..., (1, 2), (3, 4)\n",
    "```\n",
    "这样$p_i = p_{i - 1} + 1$。\n",
    "\n",
    "但是如果第i-1个区间的右边界大于等于第i个区间的左边界的话，chain就不能直接+1，因为和前面紧邻的区间没办法加起来，比如\n",
    "```\n",
    "..., (1, 2), (2, 3)\n",
    "```\n",
    "那这个时候怎么办？只能再往前看一格，看第i-2个区间的右边界满不满足右边界小于第i个区间的左边界\n",
    "```\n",
    "..., (0, 1), (1, 2), (2, 3)\n",
    "```\n",
    "很好！可以，那么$p_i = p_{i - 2} + 1$。\n",
    "\n",
    "可是如果第i-2个区间的右边界还是不满足怎么办？再往前看一格。第i-3个区间的右边界还是不满足怎么办？再往前看一格...第1个区间的右边界还是不满足怎么办？不能再往前看一格了，那就只能$p_i = 1$了。\n",
    "\n",
    "总结出递推式\n",
    "$$\n",
    "    p_i = \\left\\{\\begin{aligned}\n",
    "        p_{i - 1} + 1, &\\qquad b_{i - 1} < a_i \\\\\n",
    "        p_{i - 2} + 1, &\\qquad b_{i - 2} < a_i \\\\\n",
    "        \\vdots \\\\\n",
    "        p_1 + 1, &\\qquad b_1 < a_i \\\\\n",
    "        1, &\\qquad \\text{otherwise}\n",
    "    \\end{aligned}\\right.\n",
    "$$\n",
    "\n",
    "初始条件很简单，就是$p_1 = 1$。"
   ]
  },
  {
   "cell_type": "code",
   "execution_count": 13,
   "metadata": {},
   "outputs": [],
   "source": [
    "class Solution:\n",
    "    def findLongestChain(self, pairs):\n",
    "        \"\"\"\n",
    "        :type pairs: List[List[int]]\n",
    "        :rtype: int\n",
    "        \"\"\"\n",
    "        if pairs == []:\n",
    "            return 0\n",
    "        pairs = sorted(pairs, key=lambda x: x[0]) # 先排序\n",
    "        dp = [1]\n",
    "        for i, (left, right) in enumerate(pairs[1: ], 1):\n",
    "            for j, _ in list(enumerate(pairs[: i]))[:: -1]: # 倒序查找\n",
    "                if left > pairs[j][-1]: # 找到了\n",
    "                    dp.append(dp[j] + 1)\n",
    "                    break\n",
    "            else: # 迭代一遍没找到\n",
    "                dp.append(1) # 只能是1了\n",
    "#         print(dp)\n",
    "        return max(dp)"
   ]
  },
  {
   "cell_type": "code",
   "execution_count": 18,
   "metadata": {},
   "outputs": [
    {
     "data": {
      "text/plain": [
       "2"
      ]
     },
     "execution_count": 18,
     "metadata": {},
     "output_type": "execute_result"
    }
   ],
   "source": [
    "Solution().findLongestChain([[1,2], [2,3], [3,4]])"
   ]
  },
  {
   "cell_type": "code",
   "execution_count": 19,
   "metadata": {},
   "outputs": [
    {
     "data": {
      "text/plain": [
       "2"
      ]
     },
     "execution_count": 19,
     "metadata": {},
     "output_type": "execute_result"
    }
   ],
   "source": [
    "Solution().findLongestChain([[1,2], [2,3], [3,4], [4,5]])"
   ]
  },
  {
   "cell_type": "markdown",
   "metadata": {},
   "source": [
    "还看到一种很简短的做法。但是为什么要按右边界排序、为什么能cover所有情况，我还不理解。\n",
    "\n",
    "据说按右边界排序的原因是贪心法。"
   ]
  },
  {
   "cell_type": "code",
   "execution_count": 17,
   "metadata": {},
   "outputs": [],
   "source": [
    "import operator\n",
    "class Solution:\n",
    "    def findLongestChain(self, pairs):\n",
    "        \"\"\"\n",
    "        :type pairs: List[List[int]]\n",
    "        :rtype: int\n",
    "        \"\"\"\n",
    "        maximumRight, maximumChainLength = float('-inf'), 0 # cur是目前最大右边界，res是目前最大chain长度\n",
    "        for p in sorted(pairs, key=operator.itemgetter(1)): # 按右边界排序\n",
    "            if maximumRight < p[0]: \n",
    "                maximumRight, maximumChainLength = p[1], maximumChainLength + 1\n",
    "        return maximumChainLength"
   ]
  },
  {
   "cell_type": "markdown",
   "metadata": {},
   "source": [
    "## 64. Minimum Path Sum\n",
    "\n",
    "教科书式dp。\n",
    "\n",
    "设$p_{i, j}$是到达$(i, j)$格点的最小花费。那么$p_{i, j}$和前面的项有什么关系？\n",
    "\n",
    "非常简单，因为要达到$(i, j)$格点，只能\n",
    "- 要么从$(i - 1, j)$往下面走一格\n",
    "- 要么从$(i, j - 1)$往右边走一格\n",
    "\n",
    "所以递推式是\n",
    "$$\n",
    "    p_{i, j} = \\min\\{p_{i - 1, j}, p_{i, j - 1}\\} + a_{i, j}\n",
    "$$\n",
    "初始条件\n",
    "$$\n",
    "\\left\\{\\begin{aligned}\n",
    "    p_{0, j} &= \\sum_{k = 0}^j p_{0, k} \\\\\n",
    "    p_{i, 0} &= \\sum_{k = 0}^i p_{k, 0}\n",
    "\\end{aligned}\\right.\n",
    "$$"
   ]
  },
  {
   "cell_type": "code",
   "execution_count": 52,
   "metadata": {},
   "outputs": [],
   "source": [
    "import itertools\n",
    "class Solution:\n",
    "    def minPathSum(self, grid):\n",
    "        \"\"\"\n",
    "        :type grid: List[List[int]]\n",
    "        :rtype: int\n",
    "        \"\"\"\n",
    "        lastRow = list(itertools.accumulate(grid[0]))\n",
    "        for i, row in enumerate(grid[1: ], 1):\n",
    "            thisRow = [lastRow[0] + row[0]]\n",
    "            for j, col in enumerate(row[1: ], 1):\n",
    "                thisRow.append(min(thisRow[-1], lastRow[j]) + col)\n",
    "            lastRow = thisRow\n",
    "        return lastRow[-1]"
   ]
  },
  {
   "cell_type": "code",
   "execution_count": 53,
   "metadata": {},
   "outputs": [
    {
     "data": {
      "text/plain": [
       "7"
      ]
     },
     "execution_count": 53,
     "metadata": {},
     "output_type": "execute_result"
    }
   ],
   "source": [
    "Solution().minPathSum([\n",
    "  [1,3,1],\n",
    "  [1,5,1],\n",
    "  [4,2,1]\n",
    "])"
   ]
  },
  {
   "cell_type": "code",
   "execution_count": 54,
   "metadata": {},
   "outputs": [
    {
     "data": {
      "text/plain": [
       "1"
      ]
     },
     "execution_count": 54,
     "metadata": {},
     "output_type": "execute_result"
    }
   ],
   "source": [
    "Solution().minPathSum([\n",
    "  [1]\n",
    "])"
   ]
  },
  {
   "cell_type": "markdown",
   "metadata": {},
   "source": [
    "## 486. Predict the Winner\n",
    "\n",
    "被[Stone Game](#877.-Stone-Game)坑过一次之后，我觉得这道题也可以转化成Stone Game来做。而且它说了平局算先手赢。\n",
    "\n",
    "所以如果\n",
    "- nums长度是偶数，这题就变成Stone Game了，所以先手必赢\n",
    "- nums长度是奇数\n",
    "\n",
    "  情况有点麻烦，有可能后手会赢。要先转化成偶数情况。\n",
    "  \n",
    "  首先要计算除去头或尾之后，剩下的元素的奇数偶数下标和。算出之后，后手一定会选大的那个，但是会出现两种情况\n",
    "  - 后手在小局里赢了之后，数量比先手大，那么后手赢\n",
    "  - 后手在小局里赢了之后，数量小于等于先手，那么先手赢\n",
    "  \n",
    "  先手在这种情况下，可以做的事情是\n",
    "  - 假装自己选头，然后计算出剩下的奇数偶数和的差，发现\n",
    "  \n",
    "    - 差大于头，那么后手一定选大的那个，自己必输\n",
    "    - 差小于等于头，那么后手即使选了大的那个，也抵不上自己选的，所以还是自己赢\n",
    "      \n",
    "  - 假装自己选尾，然后计算出剩下的奇数偶数和的差，发现\n",
    "  \n",
    "    - 差大于尾，那么后手一定选大的那个，自己必输\n",
    "    - 差小于等于尾，那么后手即便选了大的那个，也抵不上自己选的，所以还是自己赢\n",
    "    \n",
    "可是这题的Test case有一点奇怪。在`[0,0,7,6,5,6,1]`的时候，先手应该是必赢的。"
   ]
  },
  {
   "cell_type": "code",
   "execution_count": 61,
   "metadata": {},
   "outputs": [],
   "source": [
    "class Solution:\n",
    "    def PredictTheWinner(self, nums):\n",
    "        \"\"\"\n",
    "        :type nums: List[int]\n",
    "        :rtype: bool\n",
    "        \"\"\"\n",
    "        if len(nums) % 2 == 0:\n",
    "            return True\n",
    "        else:\n",
    "            if (abs(sum(nums[1: ][:: 2]) - sum(nums[2: ][:: 2])) > nums[0]) \\\n",
    "            and (abs(sum(nums[: -1][1: ][:: 2]) - sum(nums[: -1][:: 2])) > nums[-1]):\n",
    "                return False\n",
    "            return True"
   ]
  },
  {
   "cell_type": "code",
   "execution_count": 62,
   "metadata": {},
   "outputs": [
    {
     "data": {
      "text/plain": [
       "False"
      ]
     },
     "execution_count": 62,
     "metadata": {},
     "output_type": "execute_result"
    }
   ],
   "source": [
    "Solution().PredictTheWinner([1, 5, 2])"
   ]
  },
  {
   "cell_type": "code",
   "execution_count": 63,
   "metadata": {},
   "outputs": [
    {
     "data": {
      "text/plain": [
       "True"
      ]
     },
     "execution_count": 63,
     "metadata": {},
     "output_type": "execute_result"
    }
   ],
   "source": [
    "Solution().PredictTheWinner([1, 5, 233, 7])"
   ]
  },
  {
   "cell_type": "code",
   "execution_count": 65,
   "metadata": {},
   "outputs": [
    {
     "data": {
      "text/plain": [
       "True"
      ]
     },
     "execution_count": 65,
     "metadata": {},
     "output_type": "execute_result"
    }
   ],
   "source": [
    "Solution().PredictTheWinner([0,0,7,6,5,6,1])"
   ]
  },
  {
   "cell_type": "markdown",
   "metadata": {},
   "source": [
    "## 312. Burst Balloons\n",
    "\n",
    "（膨胀了，开始做hard题了嘻嘻）"
   ]
  },
  {
   "cell_type": "code",
   "execution_count": null,
   "metadata": {},
   "outputs": [],
   "source": [
    "class Solution:\n",
    "    def maxCoins(self, nums):\n",
    "        \"\"\"\n",
    "        :type nums: List[int]\n",
    "        :rtype: int\n",
    "        \"\"\"\n",
    "        "
   ]
  },
  {
   "cell_type": "markdown",
   "metadata": {},
   "source": [
    "## 62. Unique Paths\n",
    "\n",
    "https://leetcode.com/problems/unique-paths/description/\n",
    "\n",
    "我感觉这道题是一道数学题（但是我没想出通项公式怎么求）。给你一个m x n的矩阵，有个机器人在左上角，终点在右下角，机器人只能往右或往下走，问你有几种走法。\n",
    "\n",
    "设$p_{i, j}$是到达$(i, j)$的走法个数。要走到$(i, j)$，只能\n",
    "- 要么从$(i - 1, j)$往下走一格\n",
    "- 要么从$(i, j - 1)$往右走一格\n",
    "\n",
    "所以递推式显然是\n",
    "$$\n",
    "    p_{i, j} = p_{i - 1, j} + p_{i, j - 1}\n",
    "$$\n",
    "\n",
    "边界条件是\n",
    "$$\n",
    "\\left\\{\\begin{aligned}\n",
    "    p_{0, 0} &= 0 \\\\\n",
    "    p_{0, j} &= 1 \\\\\n",
    "    p_{i, 0} &= 1\n",
    "\\end{aligned}\\right.\n",
    "$$"
   ]
  },
  {
   "cell_type": "markdown",
   "metadata": {},
   "source": [
    "DP做法。"
   ]
  },
  {
   "cell_type": "code",
   "execution_count": 71,
   "metadata": {},
   "outputs": [],
   "source": [
    "class Solution:\n",
    "    def uniquePaths(self, m, n):\n",
    "        \"\"\"\n",
    "        :type m: int\n",
    "        :type n: int\n",
    "        :rtype: int\n",
    "        \"\"\"\n",
    "        if n == 1 or m == 1:\n",
    "            return 1\n",
    "        lastRow = [0] + [1] * (n - 1)\n",
    "        for i in range(1, m):\n",
    "            thisRow = [1]\n",
    "            for j in range(1, n):\n",
    "                thisRow.append(thisRow[-1] + lastRow[j])\n",
    "            lastRow = thisRow\n",
    "        return lastRow[-1]"
   ]
  },
  {
   "cell_type": "code",
   "execution_count": 73,
   "metadata": {},
   "outputs": [
    {
     "data": {
      "text/plain": [
       "6"
      ]
     },
     "execution_count": 73,
     "metadata": {},
     "output_type": "execute_result"
    }
   ],
   "source": [
    "Solution().uniquePaths(3, 3)"
   ]
  },
  {
   "cell_type": "markdown",
   "metadata": {},
   "source": [
    "我觉得是有通项公式的……"
   ]
  },
  {
   "cell_type": "markdown",
   "metadata": {},
   "source": [
    "## 63. Unique Paths II\n",
    "\n",
    "加了障碍物，无非就是多加个判断。"
   ]
  },
  {
   "cell_type": "code",
   "execution_count": 130,
   "metadata": {},
   "outputs": [],
   "source": [
    "class Solution:\n",
    "    def uniquePathsWithObstacles(self, obstacleGrid):\n",
    "        \"\"\"\n",
    "        :type obstacleGrid: List[List[int]]\n",
    "        :rtype: int\n",
    "        \"\"\"\n",
    "        if len(obstacleGrid) == 1: # one row\n",
    "            if 1 in obstacleGrid[0]:\n",
    "                return 0\n",
    "            else:\n",
    "                return 1\n",
    "        if len(obstacleGrid[0]) == 1: # one column\n",
    "            if any(1 in i for i in obstacleGrid):\n",
    "                return 0\n",
    "            else:\n",
    "                return 1\n",
    "            \n",
    "        if obstacleGrid[0][0] == 1:\n",
    "            return 0\n",
    "            \n",
    "        lastRow = [0]\n",
    "        for j in range(1, len(obstacleGrid[0])):\n",
    "            if j == 1:\n",
    "                if obstacleGrid[0][1] == 1:\n",
    "                    lastRow.append(0)\n",
    "                else:\n",
    "                    lastRow.append(1)\n",
    "            else:\n",
    "                if obstacleGrid[0][j] == 1:\n",
    "                    lastRow.append(0)\n",
    "                else:\n",
    "                    lastRow.append(lastRow[-1])\n",
    "                \n",
    "#         print(lastRow)\n",
    "                \n",
    "        for i in range(1, len(obstacleGrid)):\n",
    "            if i == 1:\n",
    "                if obstacleGrid[1][0] == 1:\n",
    "                    thisRow = [0]\n",
    "                else:\n",
    "                    thisRow = [1]\n",
    "            else:\n",
    "                if obstacleGrid[i][0] == 1:\n",
    "                    thisRow = [0]\n",
    "                else:\n",
    "                    thisRow = [lastRow[0]]\n",
    "                \n",
    "            for j in range(1, len(obstacleGrid[0])):\n",
    "                if obstacleGrid[i][j] == 1:\n",
    "                    thisRow.append(0)\n",
    "                else:\n",
    "                    thisRow.append(thisRow[-1] + lastRow[j])\n",
    "            lastRow = thisRow\n",
    "#             print(lastRow)\n",
    "        return lastRow[-1]"
   ]
  },
  {
   "cell_type": "code",
   "execution_count": 131,
   "metadata": {},
   "outputs": [
    {
     "data": {
      "text/plain": [
       "2"
      ]
     },
     "execution_count": 131,
     "metadata": {},
     "output_type": "execute_result"
    }
   ],
   "source": [
    "Solution().uniquePathsWithObstacles([\n",
    "  [0,0,0],\n",
    "  [0,1,0],\n",
    "  [0,0,0]\n",
    "])"
   ]
  },
  {
   "cell_type": "code",
   "execution_count": 132,
   "metadata": {},
   "outputs": [
    {
     "data": {
      "text/plain": [
       "0"
      ]
     },
     "execution_count": 132,
     "metadata": {},
     "output_type": "execute_result"
    }
   ],
   "source": [
    "Solution().uniquePathsWithObstacles([\n",
    "  [1,0],\n",
    "  [0,0],\n",
    "])"
   ]
  },
  {
   "cell_type": "code",
   "execution_count": 133,
   "metadata": {},
   "outputs": [
    {
     "data": {
      "text/plain": [
       "1637984640"
      ]
     },
     "execution_count": 133,
     "metadata": {},
     "output_type": "execute_result"
    }
   ],
   "source": [
    "Solution().uniquePathsWithObstacles([[0,0,0,0,0,0,0,0,1,0,1,0,0,0,0,0,0,0,0,1,0,0,0,0,0,1,0,0,0,0,0,0,0],[0,0,0,0,0,0,0,0,0,0,0,0,1,0,0,0,0,1,0,0,0,0,0,0,0,0,0,0,0,0,0,0,1],[0,0,0,0,0,1,0,1,0,0,0,0,0,0,0,0,0,0,0,0,0,1,0,0,0,0,1,0,0,0,0,0,0],[1,1,1,0,0,0,0,1,0,0,0,0,0,0,0,0,1,0,0,1,1,0,0,0,0,0,0,0,0,1,0,0,1],[0,0,1,0,0,1,0,0,0,0,0,0,0,0,0,0,0,0,0,0,0,0,0,1,0,0,0,1,0,0,0,0,0],[0,0,0,1,0,1,0,0,0,0,1,1,0,0,0,0,0,0,0,0,1,0,0,0,0,0,0,0,0,0,1,1,0],[1,0,1,1,1,0,0,0,0,1,0,0,0,0,0,0,0,0,1,0,0,0,0,0,1,0,0,0,0,0,0,0,0],[0,0,1,0,0,0,0,0,0,0,0,0,0,0,0,1,0,0,1,0,1,0,0,0,1,0,1,0,0,0,0,0,0],[0,0,0,0,0,0,0,0,0,0,1,0,0,0,0,0,0,0,0,0,0,0,0,0,0,0,0,1,1,0,0,1,0],[0,0,0,0,0,0,0,0,0,1,1,0,0,0,0,0,0,0,0,0,0,0,1,1,0,0,0,1,0,0,0,0,0],[0,1,1,0,0,0,0,0,0,0,0,0,0,0,0,0,1,0,0,0,1,0,0,0,0,0,0,0,0,0,0,0,0],[1,0,1,0,0,0,0,0,0,0,0,1,0,0,1,0,0,0,0,1,0,1,0,0,0,1,0,1,0,0,0,0,1],[0,0,0,0,0,0,0,0,0,0,0,1,0,0,0,0,0,1,0,1,0,0,0,0,0,0,1,1,0,0,0,0,0],[0,1,0,1,0,0,0,0,1,0,0,1,0,0,0,0,0,0,0,1,1,0,0,0,0,0,0,1,0,0,0,0,0],[0,1,0,0,0,0,0,0,1,0,0,1,1,0,0,0,0,0,0,0,0,0,0,0,0,0,1,0,0,1,1,0,1],[1,0,0,0,0,1,0,0,1,0,0,0,0,0,0,0,1,0,0,0,0,0,0,0,0,0,0,0,0,0,0,0,0],[0,0,0,0,0,0,0,0,0,0,0,0,0,0,1,0,0,1,0,0,0,0,1,1,0,0,1,0,0,0,0,0,0],[0,0,1,0,0,0,0,0,0,0,1,0,0,1,0,0,1,0,0,0,0,0,0,1,1,0,1,0,0,0,0,1,1],[0,1,0,0,1,0,0,0,0,0,0,0,0,1,0,0,0,0,0,0,0,0,0,0,0,1,0,1,1,0,1,0,1],[1,1,1,0,1,0,0,0,0,1,0,0,0,0,0,0,1,0,1,0,1,1,0,0,0,0,0,0,0,0,0,0,0],[0,0,0,0,1,1,0,0,0,0,0,0,0,0,0,0,0,1,0,0,0,1,0,0,0,0,0,0,0,0,0,1,1],[0,0,0,1,0,0,0,0,0,0,0,0,0,0,0,0,0,1,0,0,0,0,0,1,0,1,0,0,0,1,0,0,0]])"
   ]
  },
  {
   "cell_type": "markdown",
   "metadata": {},
   "source": [
    "但是上面的代码写的实在是太难看了……居然也打败了99%。"
   ]
  },
  {
   "cell_type": "markdown",
   "metadata": {},
   "source": [
    "## 740. Delete and Earn\n",
    "\n",
    "这道题和[House Robber](#198.-House-Robber)有点像，都是不能取相邻的东西。\n",
    "\n",
    "问题在于，这道题需要先做个直方图，再按横轴从小到大排序，再用dp。\n",
    "\n",
    "设$a_i$是直方图的横轴按从小到大排序之后，第i个数。比如`[2, 2, 3, 3, 4]`这个数列，做完直方图、再按横轴排序之后是\n",
    "```\n",
    "item #\n",
    "----------\n",
    "2    2\n",
    "3    3\n",
    "4    1\n",
    "```\n",
    "意思是数列里出现了三个数2, 3, 4。它们就是直方图的横轴。那么排完序后就是`2, 3, 4`。那么$a_0$就是2，$a_1$是3，$a_2$是4。\n",
    "\n",
    "设$p_i$是算上直方图里第i个数之后，当前为止最大的收益。那么$p_i$和前面的项有什么关系？\n",
    "- 首先如果$a_i$和前面一个数$a_{i - 1}$并不相邻，那根本不用考虑什么拿不拿的问题，直接拿就完事儿了，反正拿了也不可能冲突，那肯定是拿了之后收益更大\n",
    "- 但是如果$a_i$和前面一个数$a_{i - 1}$相邻，那就很不幸了。要考虑拿不拿的问题\n",
    "  \n",
    "  - 如果拿$a_i$，那么前面一个数$a_{i - 1}$就不能拿，只能拿再前面一个$a_{i - 2}$，那么$p_i = p_{i - 2} + a_i \\cdot \\#{a_i}$\n",
    "  - 如果不拿$a_i$，那么$p_i = p_{i - 1}$，无事发生\n",
    "  \n",
    "  所以最后要比一个大小，使$p_i$符合定义**到当前元素之后为止的最大收益**。\n",
    "  \n",
    "这样递推式就出来了\n",
    "$$\n",
    "    p_i = \\left\\{\\begin{aligned}\n",
    "        p_{i - 1} + a_i \\cdot \\# a_i, &\\qquad a_i - a_{i - 1} > 1 \\\\\n",
    "        \\max\\{p_{i - 2} + a_i \\cdot \\# a_i, p_{i - 1}\\}, &\\qquad a_i - a_{i - 1} = 1 \\\\\n",
    "    \\end{aligned}\\right.\n",
    "$$\n",
    "\n",
    "接下来看初始条件。因为递推式里出现了$p_{i - 2}$，所以初始条件需要考虑$p_0, p_1$。\n",
    "\n",
    "$$\n",
    "\\left\\{\\begin{aligned}\n",
    "    p_0 &= a_0 \\cdot \\# a_i \\\\\n",
    "    p_1 &= \\left\\{\\begin{aligned}\n",
    "        p_0 + a_1 \\cdot \\# a_1, &\\qquad a_1 - a_0 > 1 \\\\\n",
    "        \\max\\{p_0, a_1 \\cdot \\# a_1\\}, &\\qquad a_1 - a_0 = 1\\\\\n",
    "    \\end{aligned}\\right.\n",
    "\\end{aligned}\\right.\n",
    "$$\n",
    "或者你也可以在最前面填充一个0，让直方图从0开始。这样可以少写一个初始条件。"
   ]
  },
  {
   "cell_type": "code",
   "execution_count": 25,
   "metadata": {},
   "outputs": [],
   "source": [
    "import collections\n",
    "class Solution:\n",
    "    def deleteAndEarn(self, nums):\n",
    "        \"\"\"\n",
    "        :type nums: List[int]\n",
    "        :rtype: int\n",
    "        \"\"\"\n",
    "        if nums == []:\n",
    "            return 0\n",
    "        counter = collections.Counter(nums)\n",
    "        if len(counter) == 1:\n",
    "            return nums[0] * len(nums)\n",
    "        \n",
    "        indexes = sorted(counter.keys())\n",
    "        dp = [indexes[0] * counter[indexes[0]]]\n",
    "        if indexes[1] - indexes[0] == 1:\n",
    "            dp.append(max(dp[0], indexes[1] * counter[indexes[1]]))\n",
    "        else:\n",
    "            dp.append(dp[0] + indexes[1] * counter[indexes[1]])\n",
    "            \n",
    "        for i in range(2, len(indexes)):\n",
    "            if indexes[i] - indexes[i - 1] > 1: # 当前这个数和前面一个数并不相邻，所以直接加上就完事儿了\n",
    "                dp.append(dp[-1] + indexes[i] * counter[indexes[i]])\n",
    "            else: # 当前这个数和前面一个数相邻，残念\n",
    "                dp.append(max(dp[-2] + indexes[i] * counter[indexes[i]], \\\n",
    "                             dp[-1]))\n",
    "#         print(counter)\n",
    "#         print(dp)\n",
    "        return dp[-1]"
   ]
  },
  {
   "cell_type": "code",
   "execution_count": 34,
   "metadata": {},
   "outputs": [
    {
     "data": {
      "text/plain": [
       "9"
      ]
     },
     "execution_count": 34,
     "metadata": {},
     "output_type": "execute_result"
    }
   ],
   "source": [
    "Solution().deleteAndEarn([2, 2, 3, 3, 3, 4])"
   ]
  },
  {
   "cell_type": "code",
   "execution_count": 33,
   "metadata": {},
   "outputs": [
    {
     "data": {
      "text/plain": [
       "6"
      ]
     },
     "execution_count": 33,
     "metadata": {},
     "output_type": "execute_result"
    }
   ],
   "source": [
    "Solution().deleteAndEarn([2, 3, 4])"
   ]
  },
  {
   "cell_type": "code",
   "execution_count": 32,
   "metadata": {
    "scrolled": true
   },
   "outputs": [
    {
     "data": {
      "text/plain": [
       "43"
      ]
     },
     "execution_count": 32,
     "metadata": {},
     "output_type": "execute_result"
    }
   ],
   "source": [
    "Solution().deleteAndEarn([1,6,3,3,8,4,8,10,1,3])"
   ]
  },
  {
   "cell_type": "markdown",
   "metadata": {},
   "source": [
    "因为python的list的append操作非常慢，所以最好能不用list就不用list。这里我们发现递推式只与前面两项有关系，所以只要保存上一次和上上一次的结果就可以了。\n",
    "\n",
    "这样能快很多。下面的代码直接打败了99.54 %。"
   ]
  },
  {
   "cell_type": "code",
   "execution_count": 31,
   "metadata": {},
   "outputs": [],
   "source": [
    "import collections\n",
    "class Solution:\n",
    "    def deleteAndEarn(self, nums):\n",
    "        \"\"\"\n",
    "        :type nums: List[int]\n",
    "        :rtype: int\n",
    "        \"\"\"\n",
    "        if nums == []:\n",
    "            return 0\n",
    "        counter = collections.Counter(nums)\n",
    "        if len(counter) == 1:\n",
    "            return nums[0] * len(nums)\n",
    "        \n",
    "        indexes = sorted(counter.keys())\n",
    "        dp1 = indexes[0] * counter[indexes[0]]\n",
    "        if indexes[1] - indexes[0] == 1:\n",
    "            dp2 = max(dp1, indexes[1] * counter[indexes[1]])\n",
    "        else:\n",
    "            dp2 = dp1 + indexes[1] * counter[indexes[1]]\n",
    "            \n",
    "        for i in range(2, len(indexes)):\n",
    "            if indexes[i] - indexes[i - 1] > 1: # 当前这个数和前面一个数并不相邻，所以直接加上就完事儿了\n",
    "                temp = dp2 + indexes[i] * counter[indexes[i]]\n",
    "            else: # 当前这个数和前面一个数相邻，残念\n",
    "                temp = max(dp1 + indexes[i] * counter[indexes[i]], \\\n",
    "                             dp2)\n",
    "            dp1 = dp2\n",
    "            dp2 = temp\n",
    "#         print(counter)\n",
    "#         print(dp)\n",
    "        return dp2"
   ]
  },
  {
   "cell_type": "markdown",
   "metadata": {},
   "source": [
    "## 873. Length of Longest Fibonacci Subsequence\n",
    "\n",
    "如果是substring还挺好做的……但是这里是subsequence，意思是取出来的子序列里面的每一个元素在原序列里面不一定要相邻。\n",
    "\n",
    "[substring和subsequence的区别](https://en.wikipedia.org/wiki/Subsequence)"
   ]
  },
  {
   "cell_type": "code",
   "execution_count": 93,
   "metadata": {},
   "outputs": [],
   "source": [
    "class Solution:\n",
    "    def lenLongestFibSubseq(self, A):\n",
    "        \"\"\"\n",
    "        :type A: List[int]\n",
    "        :rtype: int\n",
    "        \"\"\"\n",
    "        if len(A) < 3:\n",
    "            return 1\n",
    "        dp = [0, 0]\n",
    "        for i, value in enumerate(A[2: ], 2):\n",
    "            if value == A[i - 1] + A[i - 2]:\n",
    "                dp.append(dp[-1] + 1)\n",
    "            else:\n",
    "                dp.append(1)\n",
    "        return max(dp)"
   ]
  },
  {
   "cell_type": "code",
   "execution_count": 94,
   "metadata": {},
   "outputs": [
    {
     "data": {
      "text/plain": [
       "1"
      ]
     },
     "execution_count": 94,
     "metadata": {},
     "output_type": "execute_result"
    }
   ],
   "source": [
    "Solution().lenLongestFibSubseq([1,2,3,4,5,6,7,8])"
   ]
  },
  {
   "cell_type": "markdown",
   "metadata": {},
   "source": [
    "-----\n",
    "\n",
    "## 动态规划类总结\n",
    "\n",
    "观察上面的几个题目，会发现它们基本上都是这样的形式：找到\n",
    "$$\n",
    "    \\max\\{f(i, j) | 0 \\leq i \\leq j \\leq n - 1\\}\n",
    "$$\n",
    "\n",
    "- 当$f(i, j) = \\sum_{k = i}^{j} a_k$时，变成了Maximum Subarray问题;\n",
    "- 当$f(i, j) = \\min\\{a_i, a_j\\} \\cdot (j - i)$，变成了Container with Most Water问题；\n",
    "- 当$f(i, j) = a_j - a_i$，变成了Best Time to Buy and Sell Stock问题;\n",
    "- 当$f(i, j) = \\prod_{k = i}^{j} a_k$时，变成了Maximum Product Subarray问题；\n",
    "\n",
    "### 何时答案是$\\max\\{P_i\\}$、何时答案是$P_{n - 1}$？\n",
    "\n",
    "### 该怎么选择合适的$P_i$的定义？"
   ]
  },
  {
   "cell_type": "markdown",
   "metadata": {},
   "source": [
    "## 15. 3Sum\n",
    "\n",
    "<https://leetcode.com/problems/3sum/description/>"
   ]
  },
  {
   "cell_type": "markdown",
   "metadata": {},
   "source": [
    "本质上是要找到\n",
    "$$\n",
    "    \\{(a_i, a_j, a_k) | 0 \\leq i < j < k \\leq n - 1, a_i + a_j + a_k = 0\\}\n",
    "$$"
   ]
  },
  {
   "cell_type": "markdown",
   "metadata": {},
   "source": [
    "## 201. Bitwise AND of Numbers Range\n",
    "\n",
    "https://leetcode.com/problems/bitwise-and-of-numbers-range/description/"
   ]
  },
  {
   "cell_type": "markdown",
   "metadata": {},
   "source": [
    "比较浅显的办法是直接reduce。"
   ]
  },
  {
   "cell_type": "code",
   "execution_count": 362,
   "metadata": {},
   "outputs": [],
   "source": [
    "import functools\n",
    "class Solution(object):\n",
    "    def rangeBitwiseAnd(self, m, n):\n",
    "        \"\"\"\n",
    "        :type m: int\n",
    "        :type n: int\n",
    "        :rtype: int\n",
    "        \"\"\"\n",
    "        return functools.reduce(lambda x, y: x & y, range(m, n + 1))"
   ]
  },
  {
   "cell_type": "code",
   "execution_count": 368,
   "metadata": {},
   "outputs": [
    {
     "data": {
      "text/plain": [
       "0"
      ]
     },
     "execution_count": 368,
     "metadata": {},
     "output_type": "execute_result"
    }
   ],
   "source": [
    "Solution().rangeBitwiseAnd(8, 17)"
   ]
  },
  {
   "cell_type": "markdown",
   "metadata": {},
   "source": [
    "但是在数非常大的时候非常非常慢。\n",
    "\n",
    "有一个规律。所有是2的次方的数都是最开头有一个1，然后接下来全都是0。所以如果一个区间里面\n",
    "- 存在$2^n$\n",
    "\n",
    "  这时有两种情况\n",
    "  - 最大的$2^n$不是左边界\n",
    "    \n",
    "    意味着存在比$2^n$小的数，这些数的最前面是0，这样什么都不用看了，结果直接是0\n",
    "    \n",
    "  - 最大的$2^n$是左边界\n",
    "  \n",
    "    意味着没有比$2^n$小的数，所以没有最前面的0。这样结果直接就是这个$2^n$\n",
    "    \n",
    "- 不存在$2^n$\n",
    "  \n",
    "  好像只能reduce了。"
   ]
  },
  {
   "cell_type": "markdown",
   "metadata": {},
   "source": [
    "[这里](https://www.cnblogs.com/grandyang/p/4431646.html)给出了一种非常巧妙的办法。通过找规律可以发现这个题目是找区间内所有的数的二进制表示中、从左边算起、最长的公共部分，找到最长公共部分之后，再在右边补完0。\n",
    "\n",
    "方法是先建一个全1的mask。这里也要注意是$2^{31} - 1$而不是$2^{31}$。然后每次和上下边界bitwise and，如果发现两个结果相等了，~~说明这个mask就是了~~这是不对的，应该取这个相等的结果；如果不是，那么mask继续左移1位。如果mask左移到变成0了，就说明确实没有公共部分。"
   ]
  },
  {
   "cell_type": "code",
   "execution_count": 398,
   "metadata": {},
   "outputs": [],
   "source": [
    "import functools\n",
    "class Solution(object):\n",
    "    def rangeBitwiseAnd(self, m, n):\n",
    "        \"\"\"\n",
    "        :type m: int\n",
    "        :type n: int\n",
    "        :rtype: int\n",
    "        \"\"\"\n",
    "        mask = 2 ** 31 - 1\n",
    "        for offset in range(32):\n",
    "            q = mask << offset\n",
    "#             print(bin(q))\n",
    "            if (q & m) == (q & n):\n",
    "                return q & m\n",
    "        return 0"
   ]
  },
  {
   "cell_type": "code",
   "execution_count": 399,
   "metadata": {},
   "outputs": [
    {
     "data": {
      "text/plain": [
       "0"
      ]
     },
     "execution_count": 399,
     "metadata": {},
     "output_type": "execute_result"
    }
   ],
   "source": [
    "Solution().rangeBitwiseAnd(0, 1)"
   ]
  },
  {
   "cell_type": "markdown",
   "metadata": {},
   "source": [
    "最快的是这种。但是也很难理解。\n",
    "\n",
    "又出现了`i & (i - 1)`这个幽灵。"
   ]
  },
  {
   "cell_type": "code",
   "execution_count": null,
   "metadata": {},
   "outputs": [],
   "source": [
    "class Solution(object):\n",
    "    def rangeBitwiseAnd(self, m, n):\n",
    "        \"\"\"\n",
    "        :type m: int\n",
    "        :type n: int\n",
    "        :rtype: int\n",
    "        \"\"\"\n",
    "        res = n\n",
    "        while res > m:\n",
    "            res = res & (res - 1)\n",
    "        return res"
   ]
  },
  {
   "cell_type": "markdown",
   "metadata": {},
   "source": [
    "[这个解释](https://leetcode.com/problems/bitwise-and-of-numbers-range/discuss/56719/JavaPython-easy-solution-with-explanation)也很不错。"
   ]
  },
  {
   "cell_type": "code",
   "execution_count": null,
   "metadata": {},
   "outputs": [],
   "source": [
    "def rangeBitwiseAnd(self, m, n):\n",
    "    i = 0\n",
    "    while m != n:\n",
    "        m >>= 1\n",
    "        n >>= 1\n",
    "        i += 1\n",
    "    return n << i"
   ]
  },
  {
   "cell_type": "markdown",
   "metadata": {},
   "source": [
    "## 461. Hamming Distance\n",
    "\n",
    "https://leetcode.com/problems/hamming-distance/description/"
   ]
  },
  {
   "cell_type": "markdown",
   "metadata": {},
   "source": [
    "hamming重量的意思是一个数的二进制表示中、1的个数。\n",
    "\n",
    "可以逐位统计1的个数。先看这个数是不是单数，如果是，那么最低位必定是1；如果不是，最低位是0。统计完后，把数右移一位。直到这个数变成0。"
   ]
  },
  {
   "cell_type": "code",
   "execution_count": 142,
   "metadata": {},
   "outputs": [],
   "source": [
    "class Solution(object):\n",
    "    def hammingWeight(self, n):\n",
    "        \"\"\"\n",
    "        :type n: int\n",
    "        :rtype: int\n",
    "        \"\"\"\n",
    "        ones = 0\n",
    "        while n != 0:\n",
    "            if n % 2:\n",
    "                ones += 1\n",
    "            n = n >> 1\n",
    "        return ones"
   ]
  },
  {
   "cell_type": "code",
   "execution_count": 147,
   "metadata": {},
   "outputs": [
    {
     "data": {
      "text/plain": [
       "2"
      ]
     },
     "execution_count": 147,
     "metadata": {},
     "output_type": "execute_result"
    }
   ],
   "source": [
    "Solution().hammingWeight(3)"
   ]
  },
  {
   "cell_type": "markdown",
   "metadata": {},
   "source": [
    "## 202. Happy Number\n",
    "\n",
    "<https://leetcode.com/problems/happy-number/description/>"
   ]
  },
  {
   "cell_type": "markdown",
   "metadata": {},
   "source": [
    "如果是快乐数，那么一定会出现1。如果不是快乐数，也没有必要一直while循环下去，而是会出现周期。所以需要开一个集合，如果见到1，直接返回True；如果不是1，先看下集合里有没有这个数、也就是看一下以前有没有出现过这个数字，如果出现过了，那就说明开始周期循环了，以后也没有必要再循环下去了，直接返回False。"
   ]
  },
  {
   "cell_type": "code",
   "execution_count": 152,
   "metadata": {},
   "outputs": [],
   "source": [
    "class Solution(object):\n",
    "    def isHappy(self, n):\n",
    "        \"\"\"\n",
    "        :type n: int\n",
    "        :rtype: bool\n",
    "        \"\"\"\n",
    "        numbers = set()\n",
    "        while True:\n",
    "            n = sum(int(i) ** 2 for i in str(n))\n",
    "            if n == 1:\n",
    "                return True\n",
    "            \n",
    "            if n in numbers:\n",
    "                return False\n",
    "            else:\n",
    "                numbers.add(n)"
   ]
  },
  {
   "cell_type": "code",
   "execution_count": 153,
   "metadata": {},
   "outputs": [
    {
     "data": {
      "text/plain": [
       "True"
      ]
     },
     "execution_count": 153,
     "metadata": {},
     "output_type": "execute_result"
    }
   ],
   "source": [
    "Solution().isHappy(19)"
   ]
  },
  {
   "cell_type": "markdown",
   "metadata": {},
   "source": [
    "## 190. Reverse Bits\n",
    "\n",
    "<https://leetcode.com/problems/reverse-bits/description/>"
   ]
  },
  {
   "cell_type": "markdown",
   "metadata": {},
   "source": [
    "Python内建`bin`做法。"
   ]
  },
  {
   "cell_type": "code",
   "execution_count": 136,
   "metadata": {},
   "outputs": [],
   "source": [
    "class Solution:\n",
    "    # @param n, an integer\n",
    "    # @return an integer\n",
    "    def reverseBits(self, n):\n",
    "        return int(\"{:0>32}\".format(bin(n)[2: ])[:: -1], 2)"
   ]
  },
  {
   "cell_type": "code",
   "execution_count": 137,
   "metadata": {},
   "outputs": [
    {
     "data": {
      "text/plain": [
       "964176192"
      ]
     },
     "execution_count": 137,
     "metadata": {},
     "output_type": "execute_result"
    }
   ],
   "source": [
    "Solution().reverseBits(43261596)"
   ]
  },
  {
   "cell_type": "markdown",
   "metadata": {},
   "source": [
    "另外建一个数，每次左移再加上n的最低位。左移32次。\n",
    "\n",
    "有点像颠倒stack的方法。先建另一个stack，然后不停地pop原来的stack，pop出来的元素放到新的stack上。"
   ]
  },
  {
   "cell_type": "code",
   "execution_count": 148,
   "metadata": {},
   "outputs": [],
   "source": [
    "class Solution:\n",
    "    # @param n, an integer\n",
    "    # @return an integer\n",
    "    def reverseBits(self, n):\n",
    "        q = 0\n",
    "        for i in range(32):\n",
    "            q = (q << 1) + (n & 1)\n",
    "            n = n >> 1\n",
    "        return q"
   ]
  },
  {
   "cell_type": "code",
   "execution_count": 149,
   "metadata": {
    "scrolled": true
   },
   "outputs": [
    {
     "data": {
      "text/plain": [
       "964176192"
      ]
     },
     "execution_count": 149,
     "metadata": {},
     "output_type": "execute_result"
    }
   ],
   "source": [
    "Solution().reverseBits(43261596)"
   ]
  },
  {
   "cell_type": "markdown",
   "metadata": {},
   "source": [
    "Leetcode显示第一种做法更快。"
   ]
  },
  {
   "cell_type": "markdown",
   "metadata": {},
   "source": [
    "## 477. Total Hamming Distance\n",
    "\n",
    "https://leetcode.com/problems/total-hamming-distance/description/"
   ]
  },
  {
   "cell_type": "markdown",
   "metadata": {},
   "source": [
    "最naive的做法是生成两两对，然后计算每对的hamming距离，再加起来。\n",
    "\n",
    "但是这肯定不是最快做法。所以我们找规律。发现就是统计在每一位上、有多少数在这一位上是0、有多少数在这一位上是1、然后这两个数字相乘、再把每一位的结果加起来。"
   ]
  },
  {
   "cell_type": "code",
   "execution_count": 76,
   "metadata": {},
   "outputs": [],
   "source": [
    "class Solution(object):\n",
    "    def totalHammingDistance(self, nums):\n",
    "        \"\"\"\n",
    "        :type nums: List[int]\n",
    "        :rtype: int\n",
    "        \"\"\"\n",
    "        if nums == []:\n",
    "            return 0\n",
    "        summation = 0\n",
    "        length = len(nums)\n",
    "        for offset in range(max(nums).bit_length()):\n",
    "            q = len([i for i in nums if (i >> offset) % 2 == 0])\n",
    "            summation += q * (length - q)\n",
    "        return summation"
   ]
  },
  {
   "cell_type": "code",
   "execution_count": 77,
   "metadata": {},
   "outputs": [
    {
     "data": {
      "text/plain": [
       "6"
      ]
     },
     "execution_count": 77,
     "metadata": {},
     "output_type": "execute_result"
    }
   ],
   "source": [
    "Solution().totalHammingDistance([4, 14, 2])"
   ]
  },
  {
   "cell_type": "code",
   "execution_count": 78,
   "metadata": {
    "scrolled": true
   },
   "outputs": [
    {
     "data": {
      "text/plain": [
       "0"
      ]
     },
     "execution_count": 78,
     "metadata": {},
     "output_type": "execute_result"
    }
   ],
   "source": [
    "Solution().totalHammingDistance([])"
   ]
  },
  {
   "cell_type": "markdown",
   "metadata": {},
   "source": [
    "下面这个的核心思想和我的一样，但是有一个小技巧，利用了`zip()`使“对位”更方便了。"
   ]
  },
  {
   "cell_type": "code",
   "execution_count": 82,
   "metadata": {},
   "outputs": [],
   "source": [
    "class Solution(object):\n",
    "    def totalHammingDistance(self, nums):\n",
    "        \"\"\"\n",
    "        :type nums: List[int]\n",
    "        :rtype: int\n",
    "        \"\"\"\n",
    "        ans = 0\n",
    "        n = len(nums)\n",
    "        for i in zip(*map(lambda x: bin(x)[2: ].zfill(32), nums)):\n",
    "            zero = i.count(\"0\")\n",
    "            ans += zero * (n-zero)\n",
    "        return ans"
   ]
  },
  {
   "cell_type": "code",
   "execution_count": 83,
   "metadata": {},
   "outputs": [
    {
     "data": {
      "text/plain": [
       "6"
      ]
     },
     "execution_count": 83,
     "metadata": {},
     "output_type": "execute_result"
    }
   ],
   "source": [
    "Solution().totalHammingDistance([4, 14, 2])"
   ]
  },
  {
   "cell_type": "markdown",
   "metadata": {},
   "source": [
    "## 470. Implement Rand10() Using Rand7()\n",
    "\n",
    "https://leetcode.com/problems/implement-rand10-using-rand7/description/"
   ]
  },
  {
   "cell_type": "markdown",
   "metadata": {},
   "source": [
    "本质上是一个随机变量$X$满足\n",
    "$$\n",
    "    P(X = k) = {1 \\over 7}, \\qquad \\forall k \\in \\{1, 2, 3, 4, 5, 6, 7\\}\n",
    "$$\n",
    "\n",
    "两次`rand7`调用可以看做是完全独立的，所以第二次调用可以看成是另一个随机变量$Y$，它和$X$独立同分布(i.i.d)。\n",
    "\n",
    "这样我们的样本空间就可以扩展到49个状态，且它们的概率完全相同\n",
    "$$\n",
    "    P(X = k, Y = l) = {1 \\over 49}, \\qquad \\forall \\left(\\begin{matrix} k & l \\end{matrix}\\right)^T \\in \\{1, 2, 3, 4, 5, 6, 7\\}^2\n",
    "$$\n",
    "\n",
    "而我们仅仅要求有10个概率完全相同的状态。反正不怕状态少，怕的是状态不够多，所以最简单的方法是随便选定10个状态，如果某次测试，发现测试结果不在这10个状态里，就直接扔掉，下一次重新来。"
   ]
  },
  {
   "cell_type": "code",
   "execution_count": 195,
   "metadata": {},
   "outputs": [],
   "source": [
    "import random\n",
    "def rand7():\n",
    "    return random.randint(1, 7)"
   ]
  },
  {
   "cell_type": "code",
   "execution_count": 210,
   "metadata": {},
   "outputs": [],
   "source": [
    "# The rand7() API is already defined for you.\n",
    "# def rand7():\n",
    "# @return a random integer in the range 1 to 7\n",
    "\n",
    "class Solution:\n",
    "    def rand10(self):\n",
    "        \"\"\"\n",
    "        :rtype: int\n",
    "        \"\"\"\n",
    "        space = {(1, j): j for j in range(1, 8)}\n",
    "        space.update({(2, 1): 8, (2, 2): 9, (2, 3): 10})\n",
    "        while True:\n",
    "            a = rand7()\n",
    "            b = rand7()\n",
    "            if not (a, b) in space:\n",
    "                continue\n",
    "            else:\n",
    "                return space[(a, b)]"
   ]
  },
  {
   "cell_type": "code",
   "execution_count": 209,
   "metadata": {},
   "outputs": [
    {
     "data": {
      "text/plain": [
       "9"
      ]
     },
     "execution_count": 209,
     "metadata": {},
     "output_type": "execute_result"
    }
   ],
   "source": [
    "Solution().rand10()"
   ]
  },
  {
   "cell_type": "markdown",
   "metadata": {},
   "source": [
    "## 172. Factorial Trailing Zeroes\n",
    "\n",
    "https://leetcode.com/problems/factorial-trailing-zeroes/description/"
   ]
  },
  {
   "cell_type": "markdown",
   "metadata": {},
   "source": [
    "数$n!$的末尾0的个数。直接算也是可以的但是太慢。\n",
    "\n",
    "本质上是找到$n!$的因子里最多有多少2、 5对，因为一对2和5乘起来能在最后产生一个0。\n",
    "\n",
    "但是观察发现2的因子数目永远大于等于5的因子数目，所以只要数小的那个、也就是5的因子个数就可以了。"
   ]
  },
  {
   "cell_type": "code",
   "execution_count": 254,
   "metadata": {},
   "outputs": [],
   "source": [
    "class Solution:\n",
    "    def trailingZeroes(self, n):\n",
    "        \"\"\"\n",
    "        :type n: int\n",
    "        :rtype: int\n",
    "        \"\"\"\n",
    "        count = 0\n",
    "        while n:\n",
    "            q = n // 5\n",
    "            count += q\n",
    "            n = q\n",
    "        return count"
   ]
  },
  {
   "cell_type": "code",
   "execution_count": 257,
   "metadata": {},
   "outputs": [
    {
     "data": {
      "text/plain": [
       "6"
      ]
     },
     "execution_count": 257,
     "metadata": {},
     "output_type": "execute_result"
    }
   ],
   "source": [
    "Solution().trailingZeroes(25)"
   ]
  },
  {
   "cell_type": "markdown",
   "metadata": {},
   "source": [
    "递归做法。但是Python限制最大递归深度，所以不推荐。"
   ]
  },
  {
   "cell_type": "code",
   "execution_count": null,
   "metadata": {},
   "outputs": [],
   "source": [
    "class Solution:\n",
    "    def trailingZeroes(self, n):\n",
    "        \"\"\"\n",
    "        :type n: int\n",
    "        :rtype: int\n",
    "        \"\"\"\n",
    "        if n == 0:\n",
    "            return 0\n",
    "        return n // 5 + self.trailingZeroes(n // 5)"
   ]
  },
  {
   "cell_type": "markdown",
   "metadata": {},
   "source": [
    "## 343. Integer Break\n",
    "\n",
    "https://leetcode.com/problems/integer-break/description/"
   ]
  },
  {
   "cell_type": "markdown",
   "metadata": {},
   "source": [
    "题目要求，把一个整数$N$拆分成几个整数$a_1, a_2, \\ldots, a_n$，使得$\\prod_{k = 1}^n a_k$最大。\n",
    "\n",
    "改写问题。已知\n",
    "$$\n",
    "    \\sum_{k = 1}^n a_k = N\n",
    "$$\n",
    "那么\n",
    "$$\n",
    "    \\prod_{k = 1}^n a_k \\leq \\left({N \\over n}\\right)^n\n",
    "$$\n",
    "等号在$a_1 = a_2 = \\ldots = a_n = {N \\over n}$时成立。\n",
    "\n",
    "先研究下积的极大值。这里无耻的用一下导数（按理说是不能用的，因为$n$是整数）\n",
    "$$\n",
    "    {d \\over dn} \\left({N \\over n}\\right)^n = \\left({N \\over n}\\right)^n (\\ln N - \\ln n - 1)\n",
    "$$\n",
    "极大值处$n$的取值是\n",
    "$$\n",
    "    n = {N \\over e}\n",
    "$$\n",
    "极大值是\n",
    "$$\n",
    "    e^{N \\over e}\n",
    "$$\n",
    "而且在极大值处，每份的大小是\n",
    "$$\n",
    "    e\n",
    "$$\n",
    "\n",
    "也就是说，尽量要把这个数切成每份接近$e$。最接近$e$的整数是3，所以要尽量把数字拆成每份都是3。\n",
    "\n",
    "当然不是每个整数都能被3整除\n",
    "- 被3除余1，这时候最后剩下的一个数是1，但是1对积没有帮助，所以不如再借一个3，和1拼成一个4\n",
    "- 被3除余2，没问题\n",
    "\n",
    "然后要当心n = 1, 2, 3的情况，这些是特殊情况。\n",
    "- n = 1, 2的时候，最大是1\n",
    "- n = 3的时候，最大是2\n",
    "\n",
    "从4开始就能用上面的规则了。"
   ]
  },
  {
   "cell_type": "code",
   "execution_count": 46,
   "metadata": {},
   "outputs": [],
   "source": [
    "class Solution:\n",
    "    def integerBreak(self, n):\n",
    "        \"\"\"\n",
    "        :type n: int\n",
    "        :rtype: int\n",
    "        \"\"\"\n",
    "        if n == 1 or n == 2:\n",
    "            return 1\n",
    "        if n == 3:\n",
    "            return 2\n",
    "        if n % 3 == 0:\n",
    "            return round(3 ** (n / 3))\n",
    "        elif n % 3 == 1:\n",
    "            return 4 * 3 ** (n // 3 - 1)\n",
    "        else:\n",
    "            return 3 ** (n // 3) * 2"
   ]
  },
  {
   "cell_type": "code",
   "execution_count": 50,
   "metadata": {},
   "outputs": [
    {
     "data": {
      "text/plain": [
       "4"
      ]
     },
     "execution_count": 50,
     "metadata": {},
     "output_type": "execute_result"
    }
   ],
   "source": [
    "Solution().integerBreak(4)"
   ]
  },
  {
   "cell_type": "markdown",
   "metadata": {},
   "source": [
    "## 421. Maximum XOR of Two Numbers in an Array\n",
    "\n",
    "https://leetcode.com/problems/maximum-xor-of-two-numbers-in-an-array/description/"
   ]
  },
  {
   "cell_type": "markdown",
   "metadata": {},
   "source": [
    "本质上要找到\n",
    "$$\n",
    "    \\max\\{a_i \\oplus a_j | a_i, a_j \\in A\\}\n",
    "$$"
   ]
  },
  {
   "cell_type": "markdown",
   "metadata": {},
   "source": [
    "https://www.cnblogs.com/grandyang/p/5991530.html 的解法"
   ]
  },
  {
   "cell_type": "code",
   "execution_count": 6,
   "metadata": {},
   "outputs": [],
   "source": [
    "class Solution:\n",
    "    def findMaximumXOR(self, nums):\n",
    "        \"\"\"\n",
    "        :type nums: List[int]\n",
    "        :rtype: int\n",
    "        \"\"\"\n",
    "        q = 0\n",
    "        mask = 0\n",
    "        for i in range(0, 32)[:: -1]:\n",
    "            mask |= (1 << i)\n",
    "            s = set()\n",
    "            for num in nums:\n",
    "                s.add(num & mask)\n",
    "            t = q | (1 << i)\n",
    "            for prefix in s:\n",
    "                if t ^ prefix in s:\n",
    "                    q = t\n",
    "                    break\n",
    "        return q"
   ]
  },
  {
   "cell_type": "code",
   "execution_count": 7,
   "metadata": {},
   "outputs": [
    {
     "data": {
      "text/plain": [
       "30"
      ]
     },
     "execution_count": 7,
     "metadata": {},
     "output_type": "execute_result"
    }
   ],
   "source": [
    "Solution().findMaximumXOR([10,23,20,18,28])"
   ]
  },
  {
   "cell_type": "markdown",
   "metadata": {},
   "source": [
    "## 932. Beautiful Array"
   ]
  },
  {
   "cell_type": "markdown",
   "metadata": {},
   "source": [
    "设数列$\\{a_k\\}$是$1, 2, 3, \\ldots, N$。\n",
    "\n",
    "$\\{a'_k\\}$是$\\{a_k\\}$的一种重排，并且\n",
    "$$\n",
    "    \\forall 1 \\leq i < k < j \\leq N, \\qquad 2 a_k \\neq a_i + a_j\n",
    "$$\n",
    "试找出任意一种满足上面定义的重排。"
   ]
  },
  {
   "cell_type": "code",
   "execution_count": 1,
   "metadata": {},
   "outputs": [],
   "source": [
    "class Solution:\n",
    "    def beautifulArray(self, N):\n",
    "        \"\"\"\n",
    "        :type N: int\n",
    "        :rtype: List[int]\n",
    "        \"\"\"\n",
    "        return sorted(range(1, N + 1), key=lambda x: bin(x)[2: ][:: -1])"
   ]
  },
  {
   "cell_type": "markdown",
   "metadata": {},
   "source": [
    "上面我们已经从理论上找到了这样一种重排。根据一个数的二进制表示的倒序、按lexical顺序来排序，就能满足要求。"
   ]
  },
  {
   "cell_type": "code",
   "execution_count": 2,
   "metadata": {},
   "outputs": [
    {
     "data": {
      "text/plain": [
       "[4, 2, 1, 3]"
      ]
     },
     "execution_count": 2,
     "metadata": {},
     "output_type": "execute_result"
    }
   ],
   "source": [
    "Solution().beautifulArray(4)"
   ]
  },
  {
   "cell_type": "code",
   "execution_count": 3,
   "metadata": {},
   "outputs": [
    {
     "data": {
      "text/plain": [
       "[4, 2, 1, 5, 3]"
      ]
     },
     "execution_count": 3,
     "metadata": {},
     "output_type": "execute_result"
    }
   ],
   "source": [
    "Solution().beautifulArray(5)"
   ]
  },
  {
   "cell_type": "markdown",
   "metadata": {},
   "source": [
    "## 877. Stone Game"
   ]
  },
  {
   "cell_type": "markdown",
   "metadata": {},
   "source": [
    "这题绝了。\n",
    "\n",
    "首先有一个博弈论定理叫<a href=\"https://en.wikipedia.org/wiki/Zermelo%27s_theorem_(game_theory)\">Zermelo's theorem</a>。说在规则公平的双人回合制游戏里，先手必赢。\n",
    "\n",
    "可能这个比较难理解。以这道题为例，首先石头有偶数堆、石头的总个数是奇数，所以不会存在平局。为什么？\n",
    "- 石头有偶数堆，所以游戏结束时，两人手里的石头的堆数一定相同\n",
    "- 石头的总个数是奇数，因为奇数只能由一个奇数加一个偶数，所以游戏结束时，一定是\n",
    "\n",
    "  - 先手有偶数个石头\n",
    "  - 后手有奇数个石头\n",
    "  \n",
    "  或者\n",
    "  \n",
    "  - 先手有奇数个石头\n",
    "  - 后手有偶数个石头\n",
    "  \n",
    "  因为一个数不可能既是偶数又是奇数，所以先手和后手一定有人赢有人输，不会出现平局。\n",
    "\n",
    "Alex是先手，那么他其实可以二选一\n",
    "- 全部选index是偶数的石头堆0, 2, 4, ..., n - 2\n",
    "- 全部选index是奇数的石头堆1, 3, 5, ..., n - 1\n",
    "\n",
    "关键在于看index是偶数的石头堆的石头总数和index是奇数的石头堆的石头总数哪个大。哪个大，Alex就选哪个。假如index是偶数的石头堆加起来石头总数大于index是奇数的石头堆加起来石头总数，那么Alex就全选偶数。\n",
    "\n",
    "因为上面说过了，石头总数是奇数，所以只可能出现二选一的情况\n",
    "- index是偶数的石头堆加起来石头总数是偶数，index是奇数的石头堆加起来石头总数是奇数\n",
    "- index是偶数的石头堆加起来石头总数是奇数，index是奇数的石头堆加起来石头总是是偶数\n",
    "\n",
    "既然一个数不能又是偶数又是奇数，所以必然会出现二选一的情况\n",
    "- index是偶数的石头堆加起来石头总数大\n",
    "- index是奇数的石头堆加起来石头总数大\n",
    "\n",
    "所以Alex算一下index是偶数的石头堆加起来的石头总数、index是奇数的石头堆加起来的石头总数，看哪个大，就一直选偶数或奇数就能稳赢。\n",
    "\n",
    "可是，Alex能全部选index是偶数的石头堆、或者全部选index是奇数的石头堆吗？Bob会允许他这样做吗？Bob有阻止Alex的办法吗？\n",
    "\n",
    "不幸的是，Bob还真没有。因为Alex有先手优势，所以他能为所欲为，而且Bob根本阻止不了他。\n",
    "\n",
    "我们假设游戏开始前，Alex经过计算，发现index是偶数的石头堆加起来石头总数是比较大的，于是他决定全选偶数堆。这样他第一回合就会选第0堆石头收入囊中。此时，场上的石头堆只有第1到第n-1堆，Bob只能选择第1堆或者第n-1堆，而1和n-1都是奇数！那么如果\n",
    "- Bob选了第1堆。于是下一回合Alex可以选择第2堆或第n-1堆。而Alex一定会选择第2堆\n",
    "- Bob选了第n-1堆。于是下一回合Alex可以选择第1堆或第n-2堆。而Alex一定会选择第n-2堆\n",
    "\n",
    "Bob想要逆转局势根本不可能。"
   ]
  },
  {
   "cell_type": "code",
   "execution_count": null,
   "metadata": {},
   "outputs": [],
   "source": [
    "class Solution:\n",
    "    def stoneGame(self, piles):\n",
    "        \"\"\"\n",
    "        :type piles: List[int]\n",
    "        :rtype: bool\n",
    "        \"\"\"\n",
    "        return True"
   ]
  },
  {
   "cell_type": "markdown",
   "metadata": {},
   "source": [
    "## 494. Target Sum"
   ]
  },
  {
   "cell_type": "code",
   "execution_count": null,
   "metadata": {},
   "outputs": [],
   "source": [
    "class Solution:\n",
    "    def findTargetSumWays(self, nums, S):\n",
    "        \"\"\"\n",
    "        :type nums: List[int]\n",
    "        :type S: int\n",
    "        :rtype: int\n",
    "        \"\"\"\n",
    "        "
   ]
  },
  {
   "cell_type": "markdown",
   "metadata": {},
   "source": [
    "## 数学类总结"
   ]
  },
  {
   "cell_type": "markdown",
   "metadata": {},
   "source": [
    "## 306. Additive Number"
   ]
  },
  {
   "cell_type": "code",
   "execution_count": null,
   "metadata": {},
   "outputs": [],
   "source": [
    "class Solution:\n",
    "    def threeSum(self, nums):\n",
    "        \"\"\"\n",
    "        :type nums: List[int]\n",
    "        :rtype: List[List[int]]\n",
    "        \"\"\"\n",
    "        if len(nums) < 3:\n",
    "            return False\n",
    "        start = 0\n",
    "        n1 = 1\n",
    "        n2 = 2\n",
    "        n3 = 3"
   ]
  },
  {
   "cell_type": "markdown",
   "metadata": {},
   "source": [
    "## 回溯类总结"
   ]
  },
  {
   "cell_type": "markdown",
   "metadata": {},
   "source": [
    "## 17. Letter Combinations of a Phone Number\n",
    "\n",
    "<https://leetcode.com/problems/letter-combinations-of-a-phone-number/description/>"
   ]
  },
  {
   "cell_type": "code",
   "execution_count": 1,
   "metadata": {},
   "outputs": [],
   "source": [
    "import itertools\n",
    "class Solution:\n",
    "    def letterCombinations(self, digits):\n",
    "        \"\"\"\n",
    "        :type digits: str\n",
    "        :rtype: List[str]\n",
    "        \"\"\"\n",
    "        dictionary = {\n",
    "            \"2\": list(\"abc\"),\n",
    "            \"3\": list(\"def\"),\n",
    "            \"4\": list(\"ghi\"),\n",
    "            \"5\": list(\"jkl\"),\n",
    "            \"6\": list(\"mno\"),\n",
    "            \"7\": list(\"pqrs\"),\n",
    "            \"8\": list(\"tuv\"),\n",
    "            \"9\": list(\"wxyz\")\n",
    "        }\n",
    "#         dictionary = dict(zip(list('23456789'),'abc def ghi jkl mno pqrs tuv wxyz'.split()))\n",
    "#         这样写更好\n",
    "        return [\"\".join(i) for i in itertools.product(*[dictionary[j] for j in digits])]"
   ]
  },
  {
   "cell_type": "code",
   "execution_count": 2,
   "metadata": {
    "scrolled": true
   },
   "outputs": [
    {
     "data": {
      "text/plain": [
       "['ad', 'ae', 'af', 'bd', 'be', 'bf', 'cd', 'ce', 'cf']"
      ]
     },
     "execution_count": 2,
     "metadata": {},
     "output_type": "execute_result"
    }
   ],
   "source": [
    "Solution().letterCombinations(\"23\")"
   ]
  },
  {
   "cell_type": "markdown",
   "metadata": {},
   "source": [
    "## 20. Valid Parentheses\n",
    "\n",
    "<https://leetcode.com/problems/valid-parentheses/description/>"
   ]
  },
  {
   "cell_type": "code",
   "execution_count": 16,
   "metadata": {},
   "outputs": [],
   "source": [
    "class Solution:\n",
    "    def isValid(self, s):\n",
    "        \"\"\"\n",
    "        :type s: str\n",
    "        :rtype: bool\n",
    "        \"\"\"\n",
    "        stack = []\n",
    "        pairs = {\n",
    "            \"(\": \")\",\n",
    "            \"[\": \"]\",\n",
    "            \"{\": \"}\"\n",
    "        }\n",
    "        for i in s:\n",
    "            if i in [\"(\", \"[\", \"{\"]:\n",
    "                stack.append(i)\n",
    "            else:\n",
    "                if stack == []:\n",
    "                    return False\n",
    "                elif i != pairs[stack[-1]]:\n",
    "                    return False\n",
    "                else:\n",
    "                    stack.pop()\n",
    "        if stack == []:\n",
    "            return True\n",
    "        else:\n",
    "            return False"
   ]
  },
  {
   "cell_type": "code",
   "execution_count": 20,
   "metadata": {},
   "outputs": [
    {
     "data": {
      "text/plain": [
       "False"
      ]
     },
     "execution_count": 20,
     "metadata": {},
     "output_type": "execute_result"
    }
   ],
   "source": [
    "Solution().isValid(\"]\")"
   ]
  },
  {
   "cell_type": "markdown",
   "metadata": {},
   "source": [
    "## 12. Integer to Roman\n",
    "\n",
    "<https://leetcode.com/problems/integer-to-roman/description/>"
   ]
  },
  {
   "cell_type": "code",
   "execution_count": 3,
   "metadata": {},
   "outputs": [],
   "source": [
    "class Solution:\n",
    "    def intToRoman(self, num):\n",
    "        \"\"\"\n",
    "        :type num: int\n",
    "        :rtype: str\n",
    "        \"\"\"\n",
    "        M = [\"\", \"M\", \"MM\", \"MMM\"] #千\n",
    "        C = [\"\", \"C\", \"CC\", \"CCC\", \"CD\", \"D\", \"DC\", \"DCC\", \"DCCC\", \"CM\"] #百\n",
    "        X = [\"\", \"X\", \"XX\", \"XXX\", \"XL\", \"L\", \"LX\", \"LXX\", \"LXXX\", \"XC\"] #十\n",
    "        I = [\"\", \"I\", \"II\", \"III\", \"IV\", \"V\", \"VI\", \"VII\", \"VIII\", \"IX\"] #个\n",
    "        return M[num//1000] + C[(num%1000)//100] + X[(num%100)//10] + I[num%10]"
   ]
  },
  {
   "cell_type": "code",
   "execution_count": 4,
   "metadata": {},
   "outputs": [
    {
     "data": {
      "text/plain": [
       "'MCMXCIV'"
      ]
     },
     "execution_count": 4,
     "metadata": {},
     "output_type": "execute_result"
    }
   ],
   "source": [
    "Solution().intToRoman(1994)"
   ]
  },
  {
   "cell_type": "markdown",
   "metadata": {},
   "source": [
    "## 13. Roman to Integer\n",
    "\n",
    "<https://leetcode.com/problems/roman-to-integer/description/>"
   ]
  },
  {
   "cell_type": "code",
   "execution_count": null,
   "metadata": {},
   "outputs": [],
   "source": []
  },
  {
   "cell_type": "markdown",
   "metadata": {},
   "source": [
    "## 171. Excel Sheet Column Number\n",
    "\n",
    "<https://leetcode.com/problems/excel-sheet-column-number/description/>"
   ]
  },
  {
   "cell_type": "code",
   "execution_count": 33,
   "metadata": {},
   "outputs": [],
   "source": [
    "class Solution:\n",
    "    def titleToNumber(self, s):\n",
    "        \"\"\"\n",
    "        :type s: str\n",
    "        :rtype: int\n",
    "        \"\"\"\n",
    "        return sum((ord(value) - 64) * 26 ** index for index, value in enumerate(s[:: -1]))"
   ]
  },
  {
   "cell_type": "code",
   "execution_count": 39,
   "metadata": {},
   "outputs": [
    {
     "data": {
      "text/plain": [
       "702"
      ]
     },
     "execution_count": 39,
     "metadata": {},
     "output_type": "execute_result"
    }
   ],
   "source": [
    "Solution().titleToNumber(\"ZZ\")"
   ]
  },
  {
   "cell_type": "markdown",
   "metadata": {},
   "source": [
    "## 168. Excel Sheet Column Title\n",
    "\n",
    "<https://leetcode.com/problems/excel-sheet-column-title/description/>"
   ]
  },
  {
   "cell_type": "markdown",
   "metadata": {},
   "source": [
    "171题反过来。设数字是$m$，那么$m$可以表示成\n",
    "$$\n",
    "    m = a_{n - 1} \\cdot 26^{n - 1} + a_{n - 1} \\cdot 26^{n - 2} + \\ldots + a_0 \\cdot 26^0\n",
    "$$\n",
    "其中权重数$a_i$可以这么算出来\n",
    "$$\n",
    "\\begin{align}\n",
    "    a_{n - 1} &= m \\mod 26^{n - 1} \\\\\n",
    "    a_{n - 2} &= (m - a_{n - 1} \\cdot 26^{n - 1}) \\mod 26^{n - 2} \\\\\n",
    "    a_{n - 3} &= (m - a_{n - 1} \\cdot 26^{n - 1} - a_{n - 2} \\cdot 26^{n - 2}) \\mod 26^{n - 3} \\\\\n",
    "    \\vdots \\\\\n",
    "    a_k &= \\left(m - \\sum_{i = k + 1}^{n - 1} a_k \\cdot 26^i\\right) \\mod 26^k \\\\\n",
    "    \\vdots \\\\\n",
    "    a_0 &= \\left(m - \\sum_{i = 1}^{n - 1} a_i \\cdot 26^i\\right) \\mod 26^0\n",
    "\\end{align}\n",
    "$$\n",
    "但是excel这个计数法则是不正确的，用上面的方法是**错误的，**因为没有0。你想，1是A，26是Z，但是27是AA，而不是A0。A又当0又当1。"
   ]
  },
  {
   "cell_type": "markdown",
   "metadata": {},
   "source": [
    "```cpp\n",
    "class Solution {\n",
    "public:\n",
    "    string convertToTitle(int n) {\n",
    "        string ret = \"\";\n",
    "        while(n)\n",
    "        {\n",
    "            ret = (char)((n-1)%26+'A') + ret;\n",
    "            n = (n-1)/26;\n",
    "        }\n",
    "        return ret;\n",
    "    }\n",
    "};\n",
    "```"
   ]
  },
  {
   "cell_type": "code",
   "execution_count": 133,
   "metadata": {},
   "outputs": [],
   "source": [
    "class Solution:\n",
    "    def convertToTitle(self, n):\n",
    "        \"\"\"\n",
    "        :type n: int\n",
    "        :rtype: str\n",
    "        \"\"\"\n",
    "        s = \"\"\n",
    "        while n:\n",
    "            s = chr((n - 1) % 26 + ord(\"A\")) + s\n",
    "            n = (n - 1) // 26\n",
    "        return s"
   ]
  },
  {
   "cell_type": "code",
   "execution_count": 134,
   "metadata": {
    "scrolled": true
   },
   "outputs": [
    {
     "data": {
      "text/plain": [
       "'ZZ'"
      ]
     },
     "execution_count": 134,
     "metadata": {},
     "output_type": "execute_result"
    }
   ],
   "source": [
    "Solution().convertToTitle(702)"
   ]
  },
  {
   "cell_type": "markdown",
   "metadata": {},
   "source": [
    "## 205. Isomorphic Strings\n",
    "\n",
    "<https://leetcode.com/problems/isomorphic-strings/description/>"
   ]
  },
  {
   "cell_type": "markdown",
   "metadata": {},
   "source": [
    "验证A和B之间是否存在一个一一对应的映射。"
   ]
  },
  {
   "cell_type": "code",
   "execution_count": 165,
   "metadata": {},
   "outputs": [],
   "source": [
    "class Solution(object):\n",
    "    def isIsomorphic(self, s, t):\n",
    "        \"\"\"\n",
    "        :type s: str\n",
    "        :type t: str\n",
    "        :rtype: bool\n",
    "        \"\"\"\n",
    "        return list(map(s.find, s)) == list(map(t.find, t))"
   ]
  },
  {
   "cell_type": "code",
   "execution_count": 166,
   "metadata": {},
   "outputs": [
    {
     "data": {
      "text/plain": [
       "False"
      ]
     },
     "execution_count": 166,
     "metadata": {},
     "output_type": "execute_result"
    }
   ],
   "source": [
    "Solution().isIsomorphic(\"papee\", \"title\")"
   ]
  },
  {
   "cell_type": "markdown",
   "metadata": {},
   "source": [
    "上面的解法本质上是把字符串序列替换成其中每个字符在这个字符串里第一次出现的位置组成的序列，然后比较两个字符串变换后的序列是否相同。这个解法真的很巧妙，我非常喜欢。\n",
    "\n",
    "为什么验证每个字符第一次出现的位置是否相同和问题是等价的呢?我也没法严格证明这个问题。"
   ]
  },
  {
   "cell_type": "code",
   "execution_count": 167,
   "metadata": {},
   "outputs": [],
   "source": [
    "class Solution(object):\n",
    "    def isIsomorphic(self, s, t):\n",
    "        \"\"\"\n",
    "        :type s: str\n",
    "        :type t: str\n",
    "        :rtype: bool\n",
    "        \"\"\"\n",
    "        return len(set(s)) == len(set(t)) == len(set((i, j) for i, j in zip(s, t)))"
   ]
  },
  {
   "cell_type": "code",
   "execution_count": 169,
   "metadata": {},
   "outputs": [
    {
     "data": {
      "text/plain": [
       "True"
      ]
     },
     "execution_count": 169,
     "metadata": {},
     "output_type": "execute_result"
    }
   ],
   "source": [
    "Solution().isIsomorphic(\"paper\", \"title\")"
   ]
  },
  {
   "cell_type": "markdown",
   "metadata": {},
   "source": [
    "上面的解法是我想出来的直观的解法。速度稍微慢一点。\n",
    "\n",
    "前一个等号`len(set(s)) == len(set(t))`保证了两个序列里不会有出现元素种类数目不同。也就是不会出现`abc, abb`这种情况；第二个等号保证了即使元素种类数目相同、同一个也元素不会映射两次，比如`aba, baa`这种情况。"
   ]
  },
  {
   "cell_type": "markdown",
   "metadata": {},
   "source": [
    "## 219. Contains Duplicate II\n",
    "\n",
    "<https://leetcode.com/problems/contains-duplicate-ii/description/>"
   ]
  },
  {
   "cell_type": "code",
   "execution_count": 5,
   "metadata": {},
   "outputs": [],
   "source": [
    "class Solution(object):\n",
    "    def containsNearbyDuplicate(self, nums, k):\n",
    "        \"\"\"\n",
    "        :type nums: List[int]\n",
    "        :type k: int\n",
    "        :rtype: bool\n",
    "        \"\"\"\n",
    "#         if k + 1 > len(nums):\n",
    "#             k = len(nums) - 1\n",
    "#         for i in range(len(nums) - k):\n",
    "#             print(nums[i: i + k + 1])\n",
    "#             if k + 1 != len(set(nums[i: i + k + 1])):\n",
    "#                 return True\n",
    "#         return False\n",
    "        dictionary = {}\n",
    "        for index, value in enumerate(nums):\n",
    "            if value in dictionary: # 如果值已经在里面的话，就判断j - i <= k。\n",
    "                if index - dictionary[value] <= k:\n",
    "                    return True # 说明找到了\n",
    "            dictionary[value] = index # 不管在不在，都需要更新最近坐标\n",
    "        return False # 找了一圈都没有"
   ]
  },
  {
   "cell_type": "code",
   "execution_count": 6,
   "metadata": {},
   "outputs": [
    {
     "data": {
      "text/plain": [
       "True"
      ]
     },
     "execution_count": 6,
     "metadata": {},
     "output_type": "execute_result"
    }
   ],
   "source": [
    "Solution().containsNearbyDuplicate([1,2,3,1], 3)"
   ]
  },
  {
   "cell_type": "code",
   "execution_count": 7,
   "metadata": {},
   "outputs": [
    {
     "data": {
      "text/plain": [
       "True"
      ]
     },
     "execution_count": 7,
     "metadata": {},
     "output_type": "execute_result"
    }
   ],
   "source": [
    "Solution().containsNearbyDuplicate([1,0,1,1], 1)"
   ]
  },
  {
   "cell_type": "code",
   "execution_count": 8,
   "metadata": {},
   "outputs": [
    {
     "data": {
      "text/plain": [
       "False"
      ]
     },
     "execution_count": 8,
     "metadata": {},
     "output_type": "execute_result"
    }
   ],
   "source": [
    "Solution().containsNearbyDuplicate([1,2,3,1,2,3], 2)"
   ]
  },
  {
   "cell_type": "code",
   "execution_count": 9,
   "metadata": {},
   "outputs": [
    {
     "data": {
      "text/plain": [
       "True"
      ]
     },
     "execution_count": 9,
     "metadata": {},
     "output_type": "execute_result"
    }
   ],
   "source": [
    "Solution().containsNearbyDuplicate([99, 99], 2)"
   ]
  },
  {
   "cell_type": "markdown",
   "metadata": {},
   "source": [
    "## 263. Ugly Number\n",
    "\n",
    "<https://leetcode.com/problems/ugly-number/description/>"
   ]
  },
  {
   "cell_type": "markdown",
   "metadata": {},
   "source": [
    "总之先把所有的数都生成出来存在set里面，再判断就非常非常快了。"
   ]
  },
  {
   "cell_type": "code",
   "execution_count": 21,
   "metadata": {},
   "outputs": [],
   "source": [
    "import itertools\n",
    "numbers = {2**i * 3**j * 5**k for i, j, k in itertools.product(range(32), range(21), range(15))}\n",
    "numbers = {i for i in numbers if i <= 2**31}\n",
    "\n",
    "class Solution(object):\n",
    "    def isUgly(self, num):\n",
    "        \"\"\"\n",
    "        :type num: int\n",
    "        :rtype: bool\n",
    "        \"\"\"\n",
    "        return num in numbers"
   ]
  },
  {
   "cell_type": "code",
   "execution_count": 24,
   "metadata": {},
   "outputs": [
    {
     "data": {
      "text/plain": [
       "True"
      ]
     },
     "execution_count": 24,
     "metadata": {},
     "output_type": "execute_result"
    }
   ],
   "source": [
    "Solution().isUgly(64)"
   ]
  },
  {
   "cell_type": "markdown",
   "metadata": {},
   "source": [
    "还有一种很巧妙的办法，用数论的方法。因为\n",
    "$$\n",
    "    n = 2^i \\cdot 3^j \\cdot 5^k, \\qquad i \\in [1, 31], j \\in [1, 20], k \\in [1, 14]\n",
    "$$\n",
    "所以$n$一定能被$2^{31} \\cdot 3^{20} \\cdot k^{14}$整除，因为\n",
    "$$\n",
    "    {2^{31} \\cdot 3^{20} \\cdot k^{14} \\over 2^i \\cdot 3^j \\cdot 5^k} = 2^{31 - i} \\cdot 3^{20 - j} \\cdot 5^{14 - k} \\in \\mathbb{Z}\n",
    "$$"
   ]
  },
  {
   "cell_type": "code",
   "execution_count": 27,
   "metadata": {},
   "outputs": [],
   "source": [
    "class Solution(object):\n",
    "    def isUgly(self, num):\n",
    "        \"\"\"\n",
    "        :type num: int\n",
    "        :rtype: bool\n",
    "        \"\"\"\n",
    "        #n = (2**31)*(3**20)*(5**14) = 4570198050078720000000000000\n",
    "        return False if num < 1 or (45701980500787200000000000000) % num != 0 else True"
   ]
  },
  {
   "cell_type": "code",
   "execution_count": 33,
   "metadata": {},
   "outputs": [
    {
     "data": {
      "text/plain": [
       "True"
      ]
     },
     "execution_count": 33,
     "metadata": {},
     "output_type": "execute_result"
    }
   ],
   "source": [
    "Solution().isUgly(16)"
   ]
  },
  {
   "cell_type": "markdown",
   "metadata": {},
   "source": [
    "这个速度非常快。数学对算法真的是降维打击。"
   ]
  },
  {
   "cell_type": "markdown",
   "metadata": {},
   "source": [
    "## 342. Power of Four\n",
    "\n",
    "<https://leetcode.com/problems/power-of-four/description/>"
   ]
  },
  {
   "cell_type": "code",
   "execution_count": 57,
   "metadata": {},
   "outputs": [],
   "source": [
    "class Solution(object):\n",
    "    def isPowerOfFour(self, num):\n",
    "        \"\"\"\n",
    "        :type num: int\n",
    "        :rtype: bool\n",
    "        \"\"\"\n",
    "        return True if 4294967296 % num == 0 else False"
   ]
  },
  {
   "cell_type": "code",
   "execution_count": 65,
   "metadata": {},
   "outputs": [
    {
     "data": {
      "text/plain": [
       "True"
      ]
     },
     "execution_count": 65,
     "metadata": {},
     "output_type": "execute_result"
    }
   ],
   "source": [
    "Solution().isPowerOfFour(-2147483648)"
   ]
  },
  {
   "cell_type": "markdown",
   "metadata": {},
   "source": [
    "## 290. Word Pattern\n",
    "\n",
    "<https://leetcode.com/problems/word-pattern/description/>"
   ]
  },
  {
   "cell_type": "markdown",
   "metadata": {},
   "source": [
    "做这个和上一题[一一对应映射的题](#205.-Isomorphic-Strings)有似曾相识的感觉。\n",
    "\n",
    "实际上解法一模一样。"
   ]
  },
  {
   "cell_type": "code",
   "execution_count": 34,
   "metadata": {},
   "outputs": [],
   "source": [
    "class Solution(object):\n",
    "    def wordPattern(self, pattern, str):\n",
    "        \"\"\"\n",
    "        :type pattern: str\n",
    "        :type str: str\n",
    "        :rtype: bool\n",
    "        \"\"\"\n",
    "        str = str.split(\" \")\n",
    "        return list(map(pattern.index, pattern)) == list(map(str.index, str))"
   ]
  },
  {
   "cell_type": "code",
   "execution_count": 36,
   "metadata": {},
   "outputs": [
    {
     "data": {
      "text/plain": [
       "False"
      ]
     },
     "execution_count": 36,
     "metadata": {},
     "output_type": "execute_result"
    }
   ],
   "source": [
    "Solution().wordPattern(\"aaaa\", \"dog cat cat dog\")"
   ]
  },
  {
   "cell_type": "code",
   "execution_count": 54,
   "metadata": {},
   "outputs": [],
   "source": [
    "class NumArray(object):\n",
    "\n",
    "    def __init__(self, nums):\n",
    "        \"\"\"\n",
    "        :type nums: List[int]\n",
    "        \"\"\"\n",
    "        if nums == []:\n",
    "            self.empty = True\n",
    "            return\n",
    "        else:\n",
    "            self.empty = False\n",
    "        self.nums = nums\n",
    "        self.integral = [nums[0]]\n",
    "        for i in nums[1: ]:\n",
    "            self.integral.append(self.integral[-1] + i)\n",
    "\n",
    "    def sumRange(self, i, j):\n",
    "        \"\"\"\n",
    "        :type i: int\n",
    "        :type j: int\n",
    "        :rtype: int\n",
    "        \"\"\"\n",
    "        if self.empty == True:\n",
    "            return 0\n",
    "        if i == 0:\n",
    "            return self.integral[j]\n",
    "        return self.integral[j] - self.integral[i - 1]\n",
    "\n",
    "\n",
    "# Your NumArray object will be instantiated and called as such:\n",
    "# obj = NumArray(nums)\n",
    "# param_1 = obj.sumRange(i,j)"
   ]
  },
  {
   "cell_type": "code",
   "execution_count": 55,
   "metadata": {},
   "outputs": [
    {
     "data": {
      "text/plain": [
       "-1"
      ]
     },
     "execution_count": 55,
     "metadata": {},
     "output_type": "execute_result"
    }
   ],
   "source": [
    "NumArray([-2, 0, 3, -5, 2, -1]).sumRange(2, 5)"
   ]
  },
  {
   "cell_type": "code",
   "execution_count": 56,
   "metadata": {
    "scrolled": true
   },
   "outputs": [
    {
     "data": {
      "text/plain": [
       "0"
      ]
     },
     "execution_count": 56,
     "metadata": {},
     "output_type": "execute_result"
    }
   ],
   "source": [
    "NumArray([]).sumRange(2, 5)"
   ]
  },
  {
   "cell_type": "markdown",
   "metadata": {},
   "source": [
    "## 367. Valid Perfect Square\n",
    "\n",
    "<https://leetcode.com/problems/valid-perfect-square/description/>"
   ]
  },
  {
   "cell_type": "code",
   "execution_count": 85,
   "metadata": {},
   "outputs": [],
   "source": [
    "class Solution(object):\n",
    "    def isPerfectSquare(self, num):\n",
    "        \"\"\"\n",
    "        :type num: int\n",
    "        :rtype: bool\n",
    "        \"\"\"\n",
    "        if num == 0:\n",
    "            return True\n",
    "        n = 1\n",
    "        while n ** 2 <= num:\n",
    "            if num == n ** 2:\n",
    "                return True\n",
    "            n += 1\n",
    "        return False # 超过了，不再算了"
   ]
  },
  {
   "cell_type": "markdown",
   "metadata": {},
   "source": [
    "有点看不懂下面这种解法。"
   ]
  },
  {
   "cell_type": "code",
   "execution_count": null,
   "metadata": {},
   "outputs": [],
   "source": [
    "class Solution(object):\n",
    "    def isPerfectSquare(self, num):\n",
    "        \"\"\"\n",
    "        :type num: int\n",
    "        :rtype: bool\n",
    "        \"\"\"\n",
    "        start, end = 0, num\n",
    "        while start < end - 1:\n",
    "            mid = (start + end)/2\n",
    "            if mid*mid == num:\n",
    "                return True\n",
    "            if mid*mid > num:\n",
    "                end = mid\n",
    "            else:\n",
    "                start = mid\n",
    "        if start*start == num or end*end == num:\n",
    "            return True\n",
    "        return False"
   ]
  },
  {
   "cell_type": "code",
   "execution_count": 89,
   "metadata": {},
   "outputs": [],
   "source": [
    "# The guess API is already defined for you.\n",
    "# @param num, your guess\n",
    "# @return -1 if my number is lower, 1 if my number is higher, otherwise return 0\n",
    "# def guess(num):\n",
    "\n",
    "class Solution(object):\n",
    "    def guessNumber(self, n):\n",
    "        \"\"\"\n",
    "        :type n: int\n",
    "        :rtype: int\n",
    "        \"\"\"\n",
    "        left = 0\n",
    "        right = n + 1\n",
    "        while True:\n",
    "            currentGuess = int(round((left + right) / 2))\n",
    "            result = guess(currentGuess)\n",
    "            if result == 0:\n",
    "                break\n",
    "            elif result == 1:\n",
    "                left = currentGuess\n",
    "            else:\n",
    "                right = currentGuess\n",
    "                \n",
    "        return currentGuess"
   ]
  },
  {
   "cell_type": "code",
   "execution_count": 98,
   "metadata": {},
   "outputs": [
    {
     "data": {
      "text/plain": [
       "2"
      ]
     },
     "execution_count": 98,
     "metadata": {},
     "output_type": "execute_result"
    }
   ],
   "source": [
    "Solution().guessNumber(2)"
   ]
  },
  {
   "cell_type": "markdown",
   "metadata": {},
   "source": [
    "## 400. Nth Digit\n",
    "\n",
    "<https://leetcode.com/problems/nth-digit/description/>"
   ]
  },
  {
   "cell_type": "markdown",
   "metadata": {},
   "source": [
    "这玩意叫[Champernowne constant](https://en.wikipedia.org/wiki/Champernowne_constant)。\n",
    "\n",
    "相关资料\n",
    "- http://oeis.org/A033307\n",
    "- http://oeis.org/A007376\n",
    "\n",
    "但是貌似没有通项公式（有就好了直接秒杀）。那就只能来慢慢想了。\n",
    "\n",
    "最笨的办法就是把这个数列直接弄出来。然后直接以n取下标就好了。可是上限是$2^31$，如果每个字符只占一个字节，那么也要大概2 GB空间才能存下这个数列。\n",
    "\n",
    "那我们就看看能不能来优化。我们至少要先判断出**第n个字符所在的那个数字的位数。**这里有个规律。\n",
    "- `1, 2, 3, ..., 9`一共9个1位数。n从1到9\n",
    "- `10, 11, 12, ..., 99`一共90个2位数。n从10到189\n",
    "- `100, 101, 102, ..., 999`一共900个3位数。n从189到...（算不出了）\n",
    "- ...\n",
    "- `1000...0, 1000...1, 1000...2, ..., 999...9`一共$9 \\cdot 10^{i - 1}$个$i$位数。n从$\\sum_{k = 1}^i 9 \\cdot 10^{k - 1} \\cdot k$到$\\sum_{k = 1}^{i + 1} 9 \\cdot 10^{k - 1} \\cdot k$\n",
    "\n",
    "这样就非常好办了。一下子就能判断出第n个字符所在的那个数字到底是一个几位数。\n",
    "\n",
    "但是判断出来几位数还没完，还要再细化到**第n个字符所在的那个数字到底是几。**这一步不如上一步难，因为我们已经判断出第n个字符所在的那个数字是几位数了，而这个数字所在的区间里的所有数字的位数都是相同的。"
   ]
  },
  {
   "cell_type": "code",
   "execution_count": 54,
   "metadata": {},
   "outputs": [],
   "source": [
    "class Solution:\n",
    "    def findNthDigit(self, n):\n",
    "        \"\"\"\n",
    "        :type n: int\n",
    "        :rtype: int\n",
    "        \"\"\"\n",
    "        digitsThisInterval = 1\n",
    "        accumulativeDigitsBefore = 0\n",
    "        while True:\n",
    "            accumulativeDigitsUntilThisInterval = accumulativeDigitsBefore + 9 * 10 ** (digitsThisInterval - 1) * digitsThisInterval\n",
    "            if n <= accumulativeDigitsUntilThisInterval:\n",
    "                break\n",
    "            else:\n",
    "                accumulativeDigitsBefore = accumulativeDigitsUntilThisInterval\n",
    "                digitsThisInterval += 1\n",
    "        \n",
    "        firstNumberThisInterval = 10 ** (digitsThisInterval - 1)\n",
    "        thisNumber = (n - accumulativeDigitsBefore - 1) // digitsThisInterval + firstNumberThisInterval\n",
    "#         print(thisNumber)\n",
    "        return int(str(thisNumber)[n - accumulativeDigitsBefore - digitsThisInterval * (thisNumber - firstNumberThisInterval) - 1])"
   ]
  },
  {
   "cell_type": "code",
   "execution_count": 58,
   "metadata": {},
   "outputs": [
    {
     "name": "stdout",
     "output_type": "stream",
     "text": [
      "100\n"
     ]
    },
    {
     "data": {
      "text/plain": [
       "1"
      ]
     },
     "execution_count": 58,
     "metadata": {},
     "output_type": "execute_result"
    }
   ],
   "source": [
    "Solution().findNthDigit(190)"
   ]
  },
  {
   "cell_type": "markdown",
   "metadata": {},
   "source": [
    "## 447. Number of Boomerangs\n",
    "\n",
    "<https://leetcode.com/problems/number-of-boomerangs/description/>"
   ]
  },
  {
   "cell_type": "markdown",
   "metadata": {},
   "source": [
    "本质上就是找到\n",
    "$$\n",
    "    \\left\\{(a_i, a_j, a_k) \\vphantom{\\sum}\\middle| |a_i - a_j| = |a_i - a_k| \\right\\}\n",
    "$$\n",
    "其中\n",
    "$$\n",
    "    a_i, a_j, a_k \\in \\{a_1, a_2, \\ldots, a_n\\}, a_i \\neq a_j \\neq a_k\n",
    "$$"
   ]
  },
  {
   "cell_type": "markdown",
   "metadata": {},
   "source": [
    "## 459. Repeated Substring Pattern\n",
    "\n",
    "<https://leetcode.com/problems/repeated-substring-pattern/description/>"
   ]
  },
  {
   "cell_type": "code",
   "execution_count": 4,
   "metadata": {},
   "outputs": [],
   "source": [
    "class Solution(object):\n",
    "    def repeatedSubstringPattern(self, s):\n",
    "        \"\"\"\n",
    "        :type s: str\n",
    "        :rtype: bool\n",
    "        \"\"\"\n",
    "        for i in range(1, int(len(s) / 2) + 1):\n",
    "            if len(s) % i == 0:\n",
    "                if s[0: i] * round(len(s) / i) == s:\n",
    "                    return True\n",
    "        return False"
   ]
  },
  {
   "cell_type": "code",
   "execution_count": 10,
   "metadata": {},
   "outputs": [
    {
     "data": {
      "text/plain": [
       "False"
      ]
     },
     "execution_count": 10,
     "metadata": {},
     "output_type": "execute_result"
    }
   ],
   "source": [
    "Solution().repeatedSubstringPattern(\"abcabcabca\")"
   ]
  },
  {
   "cell_type": "markdown",
   "metadata": {},
   "source": [
    "还有非常非常巧妙的办法。先把字符串$S$复读一遍，变成$S' = \\{S, S\\}$，再去掉第一个字符、去掉最后一个字符，变成$S''$。再判断$S$是不是$S''$的子字符串。\n",
    "\n",
    "这个方法我是不可能想出来的，但是我可以给出证明，证明这个方法是能区分复读字符串和非复读字符串的。注意，世界上的字符串要么是复读字符串，要么不是复读字符串，不存在既不是复读字符串也不是非复读字符串的字符串，也不存在既是复读字符串又是非复读字符串的字符串。这一点很重要。所以这个方法的目的是找到一种分割。\n",
    "\n",
    "充分条件：证明这个方法能识别出复读字符串。证明方法是假设原字符串就是复读字符串，我们需要证明出这个方法能够得出`s in (s + s)[1: -1]`的结论。\n",
    "\n",
    "假如一个字符串$S$是由一段长度为$p$的字符串重复$n$次得到的（$n > 1$），那么把这个整个字符串再复制一遍，变成$S' = \\{S, S\\}$，就会是长度为$p$的字符串重复$2 n$次得到的。然后再去掉第一个和最后一个字符，变成$S''$,这样$S''$里面含有$p$重复$2n - 2$次形成的字符串。\n",
    "\n",
    "因为$n > 1$，所以$2n - 2 > 0$，即$2n - 2 \\geq 1$，意思是$S''$里一定至少会出现一次$S$。\n",
    "\n",
    "所以上面的证明证明了对于复读字符串，这个方法能够识别出来。但是如果一个字符串明明是非复读字符串，这个方法会不会误判为复读字符串呢？接着看下面的必要性证明。\n",
    "\n",
    "必要条件：证明这个方法还能识别出非复读字符串。证明方法是假设这个方法得出了`s in (s + s)[1: -1]`的结果，证明这个字符串是复读字符串。\n",
    "\n",
    "假设原字符串$S = \\{a_i\\} = \\{a_1, a_2, \\ldots, a_n\\}$。复读一遍之后变成了\n",
    "$$\n",
    "    S' = \\{a_i, a_i\\} = \\{\\underbrace{a_1, a_2, \\ldots, a_n}_{S}, \\underbrace{a_1, a_2, \\ldots, a_n}_{S}\\}\n",
    "$$\n",
    "再掐头去尾变成了\n",
    "$$\n",
    "    S'' = \\{a_2, \\ldots, a_n, a_1, a_2, \\ldots, a_{n- 1}\\}\n",
    "$$\n",
    "现在存在一个$2 \\leq k \\leq n$，使得$S''$的一个子字符串\n",
    "$$\n",
    "\\begin{align}\n",
    "    &\\{a_k, a_{k + 1}, \\ldots, a_n, a_1, \\ldots, a_{k - 1}\\} \\\\\n",
    "    = &\\{a_1, a_2, \\ldots, a_n\\}\n",
    "\\end{align}\n",
    "$$\n",
    "即（写的好看一点）\n",
    "$$\n",
    "\\begin{align}\n",
    "    a_k &= a_1 \\\\\n",
    "    a_{k + 1} &= a_2 \\\\\n",
    "    a_{k + 2} &= a_3 \\\\\n",
    "    \\vdots \\\\\n",
    "    a_n &= a_{n - k + 1} \\\\\n",
    "    a_1 &= a_{n - k + 2} \\\\\n",
    "    a_2 &= a_{n - k + 3} \\\\\n",
    "    \\vdots \\\\\n",
    "    a_n &= a_{k - 1}\n",
    "\\end{align}\n",
    "$$\n",
    "\n",
    "据说这个叫KMP算法。"
   ]
  },
  {
   "cell_type": "code",
   "execution_count": 13,
   "metadata": {},
   "outputs": [],
   "source": [
    "class Solution:\n",
    "    def repeatedSubstringPattern(self, s):\n",
    "        \"\"\"\n",
    "        :type s: str\n",
    "        :rtype: bool\n",
    "        \"\"\"\n",
    "        return s in (s + s)[1: -1]"
   ]
  },
  {
   "cell_type": "code",
   "execution_count": 12,
   "metadata": {},
   "outputs": [
    {
     "data": {
      "text/plain": [
       "True"
      ]
     },
     "execution_count": 12,
     "metadata": {},
     "output_type": "execute_result"
    }
   ],
   "source": [
    "Solution().repeatedSubstringPattern(\"abcabc\")"
   ]
  },
  {
   "cell_type": "markdown",
   "metadata": {},
   "source": [
    "## "
   ]
  },
  {
   "cell_type": "code",
   "execution_count": 18,
   "metadata": {},
   "outputs": [],
   "source": [
    "class Solution:\n",
    "    def thirdMax(self, nums):\n",
    "        \"\"\"\n",
    "        :type nums: List[int]\n",
    "        :rtype: int\n",
    "        \"\"\"\n",
    "        nums = set(nums)\n",
    "        return list(sorted(nums))[-3] if len(nums) >= 3 else max(nums)"
   ]
  },
  {
   "cell_type": "code",
   "execution_count": 21,
   "metadata": {},
   "outputs": [
    {
     "data": {
      "text/plain": [
       "1"
      ]
     },
     "execution_count": 21,
     "metadata": {},
     "output_type": "execute_result"
    }
   ],
   "source": [
    "Solution().thirdMax([1, 2, 3])"
   ]
  },
  {
   "cell_type": "markdown",
   "metadata": {},
   "source": [
    "## 434. Number of Segments in a String\n",
    "\n",
    "<https://leetcode.com/problems/number-of-segments-in-a-string/description/>"
   ]
  },
  {
   "cell_type": "code",
   "execution_count": 22,
   "metadata": {},
   "outputs": [],
   "source": [
    "class Solution:\n",
    "    def countSegments(self, s):\n",
    "        \"\"\"\n",
    "        :type s: str\n",
    "        :rtype: int\n",
    "        \"\"\"\n",
    "        return len(s.split())"
   ]
  },
  {
   "cell_type": "code",
   "execution_count": 23,
   "metadata": {},
   "outputs": [
    {
     "data": {
      "text/plain": [
       "5"
      ]
     },
     "execution_count": 23,
     "metadata": {},
     "output_type": "execute_result"
    }
   ],
   "source": [
    "Solution().countSegments(\"Hello, my name is John\")"
   ]
  },
  {
   "cell_type": "markdown",
   "metadata": {},
   "source": [
    "## 338. Counting Bits\n",
    "\n",
    "<https://leetcode.com/problems/counting-bits/description/>"
   ]
  },
  {
   "cell_type": "markdown",
   "metadata": {},
   "source": [
    "查了下，这个数列叫hamming weight数列。\n",
    "\n",
    "相关资料\n",
    "- http://oeis.org/A000120\n",
    "\n",
    "通项公式\n",
    "$$\n",
    "    a_n = n - \\sum_{k = 1}^n \\left\\lfloor n \\over 2^k\\right\\rfloor\n",
    "$$"
   ]
  },
  {
   "cell_type": "code",
   "execution_count": 130,
   "metadata": {},
   "outputs": [],
   "source": [
    "class Solution:\n",
    "    def countBits(self, num):\n",
    "        \"\"\"\n",
    "        :type num: int\n",
    "        :rtype: List[int]\n",
    "        \"\"\"\n",
    "        return [bin(i).count(\"1\") for i in range(num + 1)]"
   ]
  },
  {
   "cell_type": "code",
   "execution_count": 131,
   "metadata": {},
   "outputs": [
    {
     "data": {
      "text/plain": [
       "[0, 1, 1, 2, 1, 2]"
      ]
     },
     "execution_count": 131,
     "metadata": {},
     "output_type": "execute_result"
    }
   ],
   "source": [
    "Solution().countBits(5)"
   ]
  },
  {
   "cell_type": "markdown",
   "metadata": {},
   "source": [
    "不使用`bin()`的办法。这个有一点DP的感觉。\n",
    "\n",
    "首先定义$i$二进制表示中1的个数为$p_i$。那么$p_i$和前面的项有什么关系呢？\n",
    "\n",
    "这里用的技巧是`i & (i - 1)`。其实这个技巧更多时候用来判断一个数是不是2的指数。凡是2的指数的数都有一个特点，就是最前面有一个1，然后后面都是0。这个不容易想出方法来判断。但是我们知道凡是2的指数的数减去1之后，就变成了从某个位置开始往右全是1。\n",
    "$$\n",
    "\\begin{align}\n",
    "\\begin{aligned}\n",
    "    2^0 &= 1_2 \\\\\n",
    "    2^1 &= 10_2 \\\\\n",
    "    2^2 &= 100_2 \\\\\n",
    "\\end{aligned}\\qquad\n",
    "\\begin{aligned}\n",
    "    2^0 - 1 &= 0_2 \\\\\n",
    "    2^1 - 1 &= 1_2 \\\\\n",
    "    2^2 - 1 &= 11_2 \\\\\n",
    "\\end{aligned}\n",
    "\\end{align}\n",
    "$$\n",
    "所以凡是2的指数的数，`i & (i - 1)`必等于0。\n",
    "\n",
    "而“不是2的指数的数，`i & (i - 1)`必不等于0”这个怎么证明？\n",
    "\n",
    "回到正题，$i$的二进制表示中1的个数就是$i \\& (i - 1)$的二进制表示中1的个数加1。即\n",
    "$$\n",
    "    p_i = p_{i \\& (i - 1)} + 1\n",
    "$$\n",
    "\n",
    "为什么会这样？"
   ]
  },
  {
   "cell_type": "code",
   "execution_count": 139,
   "metadata": {},
   "outputs": [],
   "source": [
    "class Solution:\n",
    "    def countBits(self, num):\n",
    "        \"\"\"\n",
    "        :type num: int\n",
    "        :rtype: List[int]\n",
    "        \"\"\"\n",
    "        if num == 0:\n",
    "            return [0]\n",
    "        if num == 1:\n",
    "            return [0, 1]\n",
    "        q = [0, 1]\n",
    "        for i in list(range(num + 1))[2: ]:\n",
    "            print(i & (i - 1))\n",
    "            q.append(q[i & (i - 1)] + 1)\n",
    "        return q"
   ]
  },
  {
   "cell_type": "code",
   "execution_count": 137,
   "metadata": {},
   "outputs": [
    {
     "name": "stdout",
     "output_type": "stream",
     "text": [
      "0\n",
      "2\n",
      "0\n",
      "4\n"
     ]
    },
    {
     "data": {
      "text/plain": [
       "[0, 1, 1, 2, 1, 2]"
      ]
     },
     "execution_count": 137,
     "metadata": {},
     "output_type": "execute_result"
    }
   ],
   "source": [
    "Solution().countBits(5)"
   ]
  },
  {
   "cell_type": "markdown",
   "metadata": {},
   "source": [
    "## 300. Longest Increasing Subsequence\n",
    "\n",
    "<https://leetcode.com/problems/longest-increasing-subsequence/description/>\n",
    "\n",
    "设包含了第i个元素的递增subsequence最大长度是$p_i$。$p_i$和前面的项有什么关系呢？\n",
    "\n",
    "$$\n",
    "p_i = \\left\\{\\begin{aligned}\n",
    "    1 + \\max\\{p_j | a_j < a_i, j < i\\}, &\\qquad \\{p_j | a_j < a_i, j < i\\} \\neq \\emptyset \\\\\n",
    "    1, &\\qquad \\{p_j | a_j < a_i, j < i\\} = \\emptyset\n",
    "\\end{aligned}\\right.\n",
    "$$\n",
    "\n",
    "初始条件很简单，\n",
    "$$\n",
    "p_0 = 1\n",
    "$$"
   ]
  },
  {
   "cell_type": "code",
   "execution_count": 116,
   "metadata": {},
   "outputs": [],
   "source": [
    "class Solution:\n",
    "    def lengthOfLIS(self, nums):\n",
    "        \"\"\"\n",
    "        :type nums: List[int]\n",
    "        :rtype: int\n",
    "        \"\"\"\n",
    "        if nums == []:\n",
    "            return 0\n",
    "        dp = [1]\n",
    "        for i, value in enumerate(nums[1: ], 1):\n",
    "            dp.append(max([dp[j] + 1 for j, _ in list(enumerate(nums[: i])) if _ < value], default=1))\n",
    "#         print(dp)\n",
    "        return max(dp)"
   ]
  },
  {
   "cell_type": "code",
   "execution_count": 114,
   "metadata": {},
   "outputs": [
    {
     "data": {
      "text/plain": [
       "4"
      ]
     },
     "execution_count": 114,
     "metadata": {},
     "output_type": "execute_result"
    }
   ],
   "source": [
    "Solution().lengthOfLIS([10,9,2,5,3,7,101,18])"
   ]
  },
  {
   "cell_type": "code",
   "execution_count": 115,
   "metadata": {},
   "outputs": [
    {
     "data": {
      "text/plain": [
       "1"
      ]
     },
     "execution_count": 115,
     "metadata": {},
     "output_type": "execute_result"
    }
   ],
   "source": [
    "Solution().lengthOfLIS([10])"
   ]
  },
  {
   "cell_type": "code",
   "execution_count": 111,
   "metadata": {},
   "outputs": [
    {
     "name": "stdout",
     "output_type": "stream",
     "text": [
      "[1, 2, 3, 4, 5, 3, 6, 4, 5]\n"
     ]
    },
    {
     "data": {
      "text/plain": [
       "6"
      ]
     },
     "execution_count": 111,
     "metadata": {},
     "output_type": "execute_result"
    }
   ],
   "source": [
    "Solution().lengthOfLIS([1,3,6,7,9,4,10,5,6])"
   ]
  },
  {
   "cell_type": "markdown",
   "metadata": {},
   "source": [
    "## 357. Count Numbers with Unique Digits\n",
    "\n",
    "https://leetcode.com/problems/count-numbers-with-unique-digits/description/"
   ]
  },
  {
   "cell_type": "markdown",
   "metadata": {},
   "source": [
    "找规律\n",
    "- $n = 1$时，$[0, 9)$总共10个\n",
    "- $n = 2$时，$[0 - 9)$总共10个,$[10, 100)$总共$9 \\times 9 = 81$个\n",
    "- $n = 3$时，$[0 - 9)$总共10个,$[10, 100)$总共$9 \\times 9 = 81$个，$[100, 1000)$总共$9 \\times 9 \\times 8 = 648$个\n",
    "\n",
    "所以找到递推式\n",
    "$$\n",
    "\\left\\{\\begin{align}\n",
    "    p_i &= p_{i - 1} + \\underbrace{9 \\times 9 \\times 8 \\times 7 \\times \\ldots}_{i个} = p_{i - 1} + 9 \\cdot {9! \\over [9 - (i - 1)]!}\\\\\n",
    "    p_0 &= 1 \\\\\n",
    "\\end{align}\\right.\n",
    "$$"
   ]
  },
  {
   "cell_type": "code",
   "execution_count": 165,
   "metadata": {},
   "outputs": [],
   "source": [
    "import math\n",
    "class Solution:\n",
    "    def countNumbersWithUniqueDigits(self, n):\n",
    "        \"\"\"\n",
    "        :type n: int\n",
    "        :rtype: int\n",
    "        \"\"\"\n",
    "        if n == 0:\n",
    "            return 1\n",
    "        p = [1]\n",
    "        for i in range(1, n + 1):\n",
    "            p.append(p[-1] + 9 * round(math.factorial(9) / math.factorial(9 - (i - 1))))\n",
    "        return p[-1]"
   ]
  },
  {
   "cell_type": "code",
   "execution_count": 166,
   "metadata": {},
   "outputs": [
    {
     "data": {
      "text/plain": [
       "739"
      ]
     },
     "execution_count": 166,
     "metadata": {},
     "output_type": "execute_result"
    }
   ],
   "source": [
    "Solution().countNumbersWithUniqueDigits(3)"
   ]
  },
  {
   "cell_type": "markdown",
   "metadata": {},
   "source": [
    "## 392. Is Subsequence\n",
    "\n",
    "https://leetcode.com/problems/is-subsequence/description/"
   ]
  },
  {
   "cell_type": "markdown",
   "metadata": {},
   "source": [
    "判断`s`是不是`t`的一个subsequence（不一定要连续）\n",
    "\n",
    "那就一个一个来判断吧。首先判断`s[0]`在不在`t`里面，\n",
    "- 如果不在\n",
    "\n",
    "  那么肯定不是subsequence，直接False\n",
    "  \n",
    "- 如果在\n",
    "\n",
    "   那么好，找到`s[0]`在`t`里面第一次出现的位置`k`，那么`s[0]`就搞定了，`t[0: k + 1]`也直接不用看了，因为即便`s[1]`出现在`t[0: k + 1]`里面也没有意义。所以我们把`s`截断成`s[1: ]`，`t`也截断成`t[k + 1: ]`。\n",
    "   \n",
    "   然后这个过程反复重复，如果最后`s`变成了空字符串，意味着`s`里面的每一个元素都在`t`里找到了，而且是按`s`里的顺序在`t`中出现的，也就符合了subsequence的定义。\n",
    "\n",
    "为什么是找第一次出现的位置呢？我也很难说清楚严谨的道理，但是总感觉这是个自然的想法。"
   ]
  },
  {
   "cell_type": "code",
   "execution_count": 100,
   "metadata": {},
   "outputs": [],
   "source": [
    "class Solution:\n",
    "    def isSubsequence(self, s, t):\n",
    "        \"\"\"\n",
    "        :type s: str\n",
    "        :type t: str\n",
    "        :rtype: bool\n",
    "        \"\"\"\n",
    "        while s != \"\":\n",
    "            if s[0] in t:\n",
    "                t = t[t.index(s[0]) + 1: ]\n",
    "                s = s[1: ]\n",
    "            else:\n",
    "                return False\n",
    "        return True"
   ]
  },
  {
   "cell_type": "markdown",
   "metadata": {},
   "source": [
    "居然打败了100%。\n",
    "\n",
    "这个做法没有用dp的思想（吧）"
   ]
  },
  {
   "cell_type": "code",
   "execution_count": 101,
   "metadata": {},
   "outputs": [
    {
     "data": {
      "text/plain": [
       "True"
      ]
     },
     "execution_count": 101,
     "metadata": {},
     "output_type": "execute_result"
    }
   ],
   "source": [
    "Solution().isSubsequence(\"ace\", \"abcde\")"
   ]
  },
  {
   "cell_type": "code",
   "execution_count": 102,
   "metadata": {},
   "outputs": [
    {
     "data": {
      "text/plain": [
       "False"
      ]
     },
     "execution_count": 102,
     "metadata": {},
     "output_type": "execute_result"
    }
   ],
   "source": [
    "Solution().isSubsequence(\"b\", \"c\")"
   ]
  },
  {
   "cell_type": "code",
   "execution_count": 104,
   "metadata": {},
   "outputs": [
    {
     "data": {
      "text/plain": [
       "False"
      ]
     },
     "execution_count": 104,
     "metadata": {},
     "output_type": "execute_result"
    }
   ],
   "source": [
    "Solution().isSubsequence(\"axc\", \"ahbgdc\")"
   ]
  },
  {
   "cell_type": "markdown",
   "metadata": {},
   "source": [
    "## 46. Permutations\n",
    "\n",
    "https://leetcode.com/problems/permutations/description/"
   ]
  },
  {
   "cell_type": "code",
   "execution_count": 182,
   "metadata": {},
   "outputs": [],
   "source": [
    "import itertools\n",
    "class Solution:\n",
    "    def permute(self, nums):\n",
    "        \"\"\"\n",
    "        :type nums: List[int]\n",
    "        :rtype: List[List[int]]\n",
    "        \"\"\"\n",
    "        return [list(i) for i in itertools.permutations(nums)]"
   ]
  },
  {
   "cell_type": "code",
   "execution_count": 183,
   "metadata": {},
   "outputs": [
    {
     "data": {
      "text/plain": [
       "[[1, 2, 3], [1, 3, 2], [2, 1, 3], [2, 3, 1], [3, 1, 2], [3, 2, 1]]"
      ]
     },
     "execution_count": 183,
     "metadata": {},
     "output_type": "execute_result"
    }
   ],
   "source": [
    "Solution().permute([1, 2, 3])"
   ]
  },
  {
   "cell_type": "markdown",
   "metadata": {},
   "source": [
    "## 47. Permutations II\n",
    "\n",
    "https://leetcode.com/problems/permutations-ii/description/"
   ]
  },
  {
   "cell_type": "markdown",
   "metadata": {},
   "source": [
    "这题出现了重复的数，但是结果中却又不能出现重复的数。\n",
    "\n",
    "比如`[1, 1, 2]`，结果中`[1, 1, 2], [1, 1, 2]`算一个。"
   ]
  },
  {
   "cell_type": "code",
   "execution_count": 184,
   "metadata": {},
   "outputs": [],
   "source": [
    "import itertools\n",
    "class Solution:\n",
    "    def permuteUnique(self, nums):\n",
    "        \"\"\"\n",
    "        :type nums: List[int]\n",
    "        :rtype: List[List[int]]\n",
    "        \"\"\"\n",
    "        return [list(i) for i in set(itertools.permutations(nums))]"
   ]
  },
  {
   "cell_type": "code",
   "execution_count": 186,
   "metadata": {},
   "outputs": [
    {
     "data": {
      "text/plain": [
       "[[1, 2, 1], [2, 1, 1], [1, 1, 2]]"
      ]
     },
     "execution_count": 186,
     "metadata": {},
     "output_type": "execute_result"
    }
   ],
   "source": [
    "Solution().permuteUnique([1, 1, 2])"
   ]
  },
  {
   "cell_type": "markdown",
   "metadata": {},
   "source": [
    "## 48. Rotate Image\n",
    "\n",
    "https://leetcode.com/problems/rotate-image/description/"
   ]
  },
  {
   "cell_type": "markdown",
   "metadata": {},
   "source": [
    "一个n阶方阵$M$顺时针旋转等价于先转置，再相对垂直线镜面翻转。"
   ]
  },
  {
   "cell_type": "code",
   "execution_count": 214,
   "metadata": {},
   "outputs": [],
   "source": [
    "class Solution:\n",
    "    def rotate(self, matrix):\n",
    "        \"\"\"\n",
    "        :type matrix: List[List[int]]\n",
    "        :rtype: void Do not return anything, modify matrix in-place instead.\n",
    "        \"\"\"\n",
    "        n = len(matrix)\n",
    "        for i in range(n):\n",
    "            for j in range(i, n):\n",
    "                matrix[i][j], matrix[j][i] = matrix[j][i], matrix[i][j]\n",
    "                print(i, j)\n",
    "        \n",
    "        for i in range(n):\n",
    "            for j in range(n // 2):\n",
    "                matrix[i][j], matrix[i][n - j - 1] = matrix[i][n - j - 1], matrix[i][j]\n",
    "                print(i, j)\n",
    "                \n",
    "        print(matrix)"
   ]
  },
  {
   "cell_type": "code",
   "execution_count": 215,
   "metadata": {},
   "outputs": [
    {
     "name": "stdout",
     "output_type": "stream",
     "text": [
      "0 0\n",
      "0 1\n",
      "0 2\n",
      "1 1\n",
      "1 2\n",
      "2 2\n",
      "0 0\n",
      "1 0\n",
      "2 0\n",
      "[[7, 4, 1], [8, 5, 2], [9, 6, 3]]\n"
     ]
    }
   ],
   "source": [
    "Solution().rotate([\n",
    "  [1,2,3],\n",
    "  [4,5,6],\n",
    "  [7,8,9]\n",
    "])"
   ]
  },
  {
   "cell_type": "markdown",
   "metadata": {},
   "source": [
    "## 27. Remove Element\n",
    "\n",
    "https://leetcode.com/problems/remove-element/description/"
   ]
  },
  {
   "cell_type": "code",
   "execution_count": 221,
   "metadata": {},
   "outputs": [],
   "source": [
    "class Solution:\n",
    "    def removeElement(self, nums, val):\n",
    "        \"\"\"\n",
    "        :type nums: List[int]\n",
    "        :type val: int\n",
    "        :rtype: int\n",
    "        \"\"\"\n",
    "        pos = []\n",
    "        for index, value in enumerate(nums):\n",
    "            if value == val:\n",
    "                pos.append(index)\n",
    "#         print(pos)\n",
    "        for i in pos[:: -1]:\n",
    "            nums[i: i + 1] = []\n",
    "        return len(nums)\n",
    "        "
   ]
  },
  {
   "cell_type": "code",
   "execution_count": 222,
   "metadata": {},
   "outputs": [
    {
     "name": "stdout",
     "output_type": "stream",
     "text": [
      "[0, 3]\n"
     ]
    },
    {
     "data": {
      "text/plain": [
       "2"
      ]
     },
     "execution_count": 222,
     "metadata": {},
     "output_type": "execute_result"
    }
   ],
   "source": [
    "Solution().removeElement([3, 2, 2, 3], 3)"
   ]
  },
  {
   "cell_type": "markdown",
   "metadata": {},
   "source": [
    "这种写法也很漂亮。"
   ]
  },
  {
   "cell_type": "code",
   "execution_count": null,
   "metadata": {},
   "outputs": [],
   "source": [
    "class Solution:\n",
    "    def removeElement(self, nums, val):\n",
    "        \"\"\"\n",
    "        :type nums: List[int]\n",
    "        :type val: int\n",
    "        :rtype: int\n",
    "        \"\"\"\n",
    "        while val in nums:\n",
    "            nums.remove(val)\n",
    "        return len(nums)"
   ]
  },
  {
   "cell_type": "markdown",
   "metadata": {},
   "source": [
    "## Search Range"
   ]
  },
  {
   "cell_type": "code",
   "execution_count": 223,
   "metadata": {},
   "outputs": [],
   "source": [
    "class Solution:\n",
    "    def searchRange(self, nums, target):\n",
    "        \"\"\"\n",
    "        :type nums: List[int]\n",
    "        :type target: int\n",
    "        :rtype: List[int]\n",
    "        \"\"\"\n",
    "        q = [-1, -1]\n",
    "        for index, value in enumerate(nums):\n",
    "            if value == target:\n",
    "                if q[0] == -1: # met for the first time\n",
    "                    q = [index, index]\n",
    "                else: # met once before\n",
    "                    q[1] = index\n",
    "        return q"
   ]
  },
  {
   "cell_type": "code",
   "execution_count": 225,
   "metadata": {},
   "outputs": [
    {
     "data": {
      "text/plain": [
       "[-1, -1]"
      ]
     },
     "execution_count": 225,
     "metadata": {},
     "output_type": "execute_result"
    }
   ],
   "source": [
    "Solution().searchRange([5,7,7,8,8,10], 6)"
   ]
  },
  {
   "cell_type": "markdown",
   "metadata": {},
   "source": [
    "## 55. Jump Game\n",
    "\n",
    "https://leetcode.com/problems/jump-game/description/"
   ]
  },
  {
   "cell_type": "markdown",
   "metadata": {},
   "source": [
    "跳到最后一级、第$n - 1$级的方法有$n - 1$种\n",
    "- 从第$n - 2$级跳1级\n",
    "- 从第$n - 3$级跳2级\n",
    "- 从第$n - 4$级跳3级\n",
    "- ...\n",
    "- 从第0级跳$n - 1$级"
   ]
  },
  {
   "cell_type": "code",
   "execution_count": null,
   "metadata": {},
   "outputs": [],
   "source": [
    "class Solution:\n",
    "    def canJump(self, nums):\n",
    "        \"\"\"\n",
    "        :type nums: List[int]\n",
    "        :rtype: bool\n",
    "        \"\"\"\n",
    "        "
   ]
  },
  {
   "cell_type": "markdown",
   "metadata": {},
   "source": [
    "## 54. Spiral Matrix\n",
    "\n",
    "https://leetcode.com/problems/spiral-matrix/description/"
   ]
  },
  {
   "cell_type": "markdown",
   "metadata": {},
   "source": [
    "这边我用递归的思想来做的。对于任意一个矩阵\n",
    "$$\n",
    "\\left[\\begin{matrix}\n",
    "    a_{0, 0} & a_{0, 1} & \\ldots & a_{0, n - 1} \\\\\n",
    "    \\vdots & \\ddots & & \\vdots \\\\\n",
    "    a_{m - 1, 0} & a_{m - 1, 1} & \\ldots & a_{m - 1, n - 1}\n",
    "\\end{matrix}\\right]\n",
    "$$\n",
    "首先输出第一行、从$a_{0, 0}$到$a_{0, n - 1}$，再输出最后一列、从$a_{1, n - 1}$到$a_{m - 1, n - 1}$。这样这个矩阵的上、右就处理完了，接下来应该处理下、左。\n",
    "\n",
    "发现处理下、左的方式也可以用同一段代码处理，只不过这个矩阵要先处理一下：\n",
    "1. 先去掉刚才处理的上、右，得到一个子矩阵\n",
    "1. 显微镜对称一下、也就是先上下颠倒一下、再左右颠倒一下\n",
    "\n",
    "这样再递归调用以下，把所有结果拼起来就好了。再加点极端case处理。"
   ]
  },
  {
   "cell_type": "code",
   "execution_count": 246,
   "metadata": {},
   "outputs": [],
   "source": [
    "class Solution:\n",
    "    def spiralOrder(self, matrix):\n",
    "        \"\"\"\n",
    "        :type matrix: List[List[int]]\n",
    "        :rtype: List[int]\n",
    "        \"\"\"\n",
    "        if not matrix:\n",
    "            return []\n",
    "        rows = len(matrix)\n",
    "        columns = len(matrix[0])\n",
    "        if rows == 1:\n",
    "            return matrix[0]\n",
    "        if columns == 1:\n",
    "            return [i[0] for i in matrix]\n",
    "        subMatrix = [i[: -1] for i in matrix[1: ]]\n",
    "#         print(subMatrix)\n",
    "#         print([i[columns - 1] for i in matrix[1: ]])\n",
    "#         print([i[:: -1] for i in subMatrix[:: -1]])\n",
    "        return matrix[0] + [i[columns - 1] for i in matrix[1: ]] + self.spiralOrder([i[:: -1] for i in subMatrix[:: -1]])"
   ]
  },
  {
   "cell_type": "code",
   "execution_count": 243,
   "metadata": {},
   "outputs": [
    {
     "data": {
      "text/plain": [
       "[1, 2, 3, 4, 8, 12, 11, 10, 9, 5, 6, 7]"
      ]
     },
     "execution_count": 243,
     "metadata": {},
     "output_type": "execute_result"
    }
   ],
   "source": [
    "Solution().spiralOrder([\n",
    "  [1, 2, 3, 4],\n",
    "  [5, 6, 7, 8],\n",
    "  [9,10,11,12]\n",
    "])"
   ]
  },
  {
   "cell_type": "code",
   "execution_count": 244,
   "metadata": {},
   "outputs": [
    {
     "data": {
      "text/plain": [
       "[1, 2, 3, 6, 9, 8, 7, 4, 5]"
      ]
     },
     "execution_count": 244,
     "metadata": {},
     "output_type": "execute_result"
    }
   ],
   "source": [
    "Solution().spiralOrder([\n",
    " [ 1, 2, 3 ],\n",
    " [ 4, 5, 6 ],\n",
    " [ 7, 8, 9 ]\n",
    "])"
   ]
  },
  {
   "cell_type": "code",
   "execution_count": 247,
   "metadata": {},
   "outputs": [
    {
     "data": {
      "text/plain": [
       "[]"
      ]
     },
     "execution_count": 247,
     "metadata": {},
     "output_type": "execute_result"
    }
   ],
   "source": [
    "Solution().spiralOrder([])"
   ]
  },
  {
   "cell_type": "code",
   "execution_count": 248,
   "metadata": {},
   "outputs": [
    {
     "data": {
      "text/plain": [
       "[]"
      ]
     },
     "execution_count": 248,
     "metadata": {},
     "output_type": "execute_result"
    }
   ],
   "source": [
    "Solution().spiralOrder([[]])"
   ]
  },
  {
   "cell_type": "markdown",
   "metadata": {},
   "source": [
    "## 59. Spiral Matrix II\n",
    "\n",
    "https://leetcode.com/problems/spiral-matrix-ii/description/"
   ]
  },
  {
   "cell_type": "code",
   "execution_count": 325,
   "metadata": {},
   "outputs": [],
   "source": [
    "class Solution:\n",
    "    def generateMatrix(self, n):\n",
    "        \"\"\"\n",
    "        :type n: int\n",
    "        :rtype: List[List[int]]\n",
    "        \"\"\"\n",
    "        matrix = [[n ** 2]]\n",
    "        for i in range(2 * (n - 1)):\n",
    "            # first rotate the matrix\n",
    "            rows = len(matrix)\n",
    "            columns = len(matrix[0])\n",
    "            matrix = [[matrix[r][c] for r in range(rows)[:: -1]] for c in range(columns)]\n",
    "#             print(i, matrix)\n",
    "            # insert new line\n",
    "            matrix.insert(0, list(range(matrix[0][-1] - rows, matrix[0][-1])))\n",
    "        return matrix"
   ]
  },
  {
   "cell_type": "code",
   "execution_count": 333,
   "metadata": {},
   "outputs": [
    {
     "name": "stdout",
     "output_type": "stream",
     "text": [
      "0 [[25]]\n",
      "1 [[25, 24]]\n",
      "2 [[25, 22], [24, 23]]\n",
      "3 [[24, 25, 20], [23, 22, 21]]\n",
      "4 [[23, 24, 17], [22, 25, 18], [21, 20, 19]]\n",
      "5 [[21, 22, 23, 14], [20, 25, 24, 15], [19, 18, 17, 16]]\n",
      "6 [[19, 20, 21, 10], [18, 25, 22, 11], [17, 24, 23, 12], [16, 15, 14, 13]]\n",
      "7 [[16, 17, 18, 19, 6], [15, 24, 25, 20, 7], [14, 23, 22, 21, 8], [13, 12, 11, 10, 9]]\n"
     ]
    },
    {
     "data": {
      "text/plain": [
       "[[1, 2, 3, 4, 5],\n",
       " [16, 17, 18, 19, 6],\n",
       " [15, 24, 25, 20, 7],\n",
       " [14, 23, 22, 21, 8],\n",
       " [13, 12, 11, 10, 9]]"
      ]
     },
     "execution_count": 333,
     "metadata": {},
     "output_type": "execute_result"
    }
   ],
   "source": [
    "Solution().generateMatrix(5)"
   ]
  },
  {
   "cell_type": "markdown",
   "metadata": {},
   "source": [
    "## 73. Set Matrix Zeroes\n",
    "\n",
    "https://leetcode.com/problems/set-matrix-zeroes/description/"
   ]
  },
  {
   "cell_type": "code",
   "execution_count": 340,
   "metadata": {},
   "outputs": [],
   "source": [
    "class Solution:\n",
    "    def setZeroes(self, matrix):\n",
    "        \"\"\"\n",
    "        :type matrix: List[List[int]]\n",
    "        :rtype: void Do not return anything, modify matrix in-place instead.\n",
    "        \"\"\"\n",
    "        if matrix == [[]]:\n",
    "            return [[]]\n",
    "        rowWithZeros = set()\n",
    "        columnWithZeros = set()\n",
    "        # scan matrix\n",
    "        for i in range(len(matrix)):\n",
    "            for j in range(len(matrix[0])):\n",
    "                if matrix[i][j] == 0:\n",
    "                    rowWithZeros.add(i)\n",
    "                    columnWithZeros.add(j)\n",
    "                    \n",
    "        for i in rowWithZeros:\n",
    "            matrix[i] = [0] * len(matrix[0])\n",
    "        for i in columnWithZeros:\n",
    "            for j in matrix:\n",
    "                j[i] = 0\n",
    "#         return matrix"
   ]
  },
  {
   "cell_type": "code",
   "execution_count": 341,
   "metadata": {},
   "outputs": [
    {
     "data": {
      "text/plain": [
       "[[0, 0, 0, 0], [0, 4, 5, 0], [0, 3, 1, 0]]"
      ]
     },
     "execution_count": 341,
     "metadata": {},
     "output_type": "execute_result"
    }
   ],
   "source": [
    "Solution().setZeroes([\n",
    "  [0,1,2,0],\n",
    "  [3,4,5,2],\n",
    "  [1,3,1,5]\n",
    "])"
   ]
  },
  {
   "cell_type": "code",
   "execution_count": 342,
   "metadata": {},
   "outputs": [
    {
     "data": {
      "text/plain": [
       "[[1, 0, 1], [0, 0, 0], [1, 0, 1]]"
      ]
     },
     "execution_count": 342,
     "metadata": {},
     "output_type": "execute_result"
    }
   ],
   "source": [
    "Solution().setZeroes([\n",
    "  [1,1,1],\n",
    "  [1,0,1],\n",
    "  [1,1,1]\n",
    "])"
   ]
  },
  {
   "cell_type": "markdown",
   "metadata": {},
   "source": [
    "## 74. Search a 2D Matrix\n",
    "\n",
    "https://leetcode.com/problems/search-a-2d-matrix/description/"
   ]
  },
  {
   "cell_type": "code",
   "execution_count": 348,
   "metadata": {},
   "outputs": [],
   "source": [
    "class Solution:\n",
    "    def searchMatrix(self, matrix, target):\n",
    "        \"\"\"\n",
    "        :type matrix: List[List[int]]\n",
    "        :type target: int\n",
    "        :rtype: bool\n",
    "        \"\"\"\n",
    "        for index, value in enumerate(matrix):\n",
    "            if not value:\n",
    "                return False\n",
    "            if value[0] <= target <= value[-1]:\n",
    "                if target in value:\n",
    "                    return True\n",
    "                else:\n",
    "                    return False\n",
    "        return False"
   ]
  },
  {
   "cell_type": "code",
   "execution_count": 344,
   "metadata": {},
   "outputs": [
    {
     "data": {
      "text/plain": [
       "False"
      ]
     },
     "execution_count": 344,
     "metadata": {},
     "output_type": "execute_result"
    }
   ],
   "source": [
    "Solution().searchMatrix([\n",
    "  [1,   3,  5,  7],\n",
    "  [10, 11, 16, 20],\n",
    "  [23, 30, 34, 50]\n",
    "], 13)"
   ]
  },
  {
   "cell_type": "code",
   "execution_count": 345,
   "metadata": {},
   "outputs": [
    {
     "data": {
      "text/plain": [
       "True"
      ]
     },
     "execution_count": 345,
     "metadata": {},
     "output_type": "execute_result"
    }
   ],
   "source": [
    "Solution().searchMatrix([\n",
    "  [1,   3,  5,  7],\n",
    "  [10, 11, 16, 20],\n",
    "  [23, 30, 34, 50]\n",
    "], 3)"
   ]
  },
  {
   "cell_type": "code",
   "execution_count": 349,
   "metadata": {},
   "outputs": [
    {
     "data": {
      "text/plain": [
       "False"
      ]
     },
     "execution_count": 349,
     "metadata": {},
     "output_type": "execute_result"
    }
   ],
   "source": [
    "Solution().searchMatrix([[]], 3)"
   ]
  },
  {
   "cell_type": "markdown",
   "metadata": {},
   "source": [
    "## 56. Merge Intervals\n",
    "\n",
    "https://leetcode.com/problems/merge-intervals/description/"
   ]
  },
  {
   "cell_type": "code",
   "execution_count": null,
   "metadata": {},
   "outputs": [],
   "source": [
    "# Definition for an interval.\n",
    "# class Interval:\n",
    "#     def __init__(self, s=0, e=0):\n",
    "#         self.start = s\n",
    "#         self.end = e\n",
    "\n",
    "class Solution:\n",
    "    def merge(self, intervals):\n",
    "        \"\"\"\n",
    "        :type intervals: List[Interval]\n",
    "        :rtype: List[Interval]\n",
    "        \"\"\"\n",
    "        if len(intervals) == 0:\n",
    "            return []\n",
    "        q = [intervals[0]]\n",
    "        for index, value in enumerate(intervals[1: ], 1):\n",
    "            for interval in q:\n",
    "                "
   ]
  },
  {
   "cell_type": "code",
   "execution_count": 350,
   "metadata": {},
   "outputs": [],
   "source": [
    "import itertools\n",
    "class Solution:\n",
    "    def combine(self, n, k):\n",
    "        \"\"\"\n",
    "        :type n: int\n",
    "        :type k: int\n",
    "        :rtype: List[List[int]]\n",
    "        \"\"\"\n",
    "        return [list(i) for i in itertools.combinations(range(1, n + 1), k)]"
   ]
  },
  {
   "cell_type": "code",
   "execution_count": 351,
   "metadata": {},
   "outputs": [
    {
     "data": {
      "text/plain": [
       "[[1, 2], [1, 3], [1, 4], [2, 3], [2, 4], [3, 4]]"
      ]
     },
     "execution_count": 351,
     "metadata": {},
     "output_type": "execute_result"
    }
   ],
   "source": [
    "Solution().combine(4, 2)"
   ]
  },
  {
   "cell_type": "markdown",
   "metadata": {},
   "source": [
    "## 78. Subsets\n",
    "\n",
    "https://leetcode.com/problems/subsets/description/"
   ]
  },
  {
   "cell_type": "code",
   "execution_count": 360,
   "metadata": {},
   "outputs": [],
   "source": [
    "import itertools\n",
    "class Solution:\n",
    "    def subsets(self, nums):\n",
    "        \"\"\"\n",
    "        :type nums: List[int]\n",
    "        :rtype: List[List[int]]\n",
    "        \"\"\"\n",
    "        return [list(i) for i in sum([list(itertools.combinations(nums, i)) for i in range(0, len(nums) + 1)], [])]"
   ]
  },
  {
   "cell_type": "code",
   "execution_count": 361,
   "metadata": {},
   "outputs": [
    {
     "data": {
      "text/plain": [
       "[[], [1], [2], [3], [1, 2], [1, 3], [2, 3], [1, 2, 3]]"
      ]
     },
     "execution_count": 361,
     "metadata": {},
     "output_type": "execute_result"
    }
   ],
   "source": [
    "Solution().subsets([1, 2, 3])"
   ]
  },
  {
   "cell_type": "markdown",
   "metadata": {},
   "source": [
    "## Search Matrix II"
   ]
  },
  {
   "cell_type": "code",
   "execution_count": 426,
   "metadata": {},
   "outputs": [],
   "source": [
    "class Solution(object):\n",
    "    def searchMatrix(self, matrix, target):\n",
    "        \"\"\"\n",
    "        :type matrix: List[List[int]]\n",
    "        :type target: int\n",
    "        :rtype: bool\n",
    "        \"\"\"\n",
    "        if matrix == [[]] or matrix == []:\n",
    "            return False\n",
    "        if len(matrix[0]) == 1:\n",
    "            for row in matrix:\n",
    "                if row[0] == target:\n",
    "                    return True\n",
    "                if row[0] > target:\n",
    "                    return False\n",
    "            return False\n",
    "        for row in matrix:\n",
    "            if row[0] <= target <= row[-1]:\n",
    "                if target in row:\n",
    "                    return True\n",
    "            if row[0] > target:\n",
    "                return False\n",
    "        return False"
   ]
  },
  {
   "cell_type": "code",
   "execution_count": 427,
   "metadata": {},
   "outputs": [
    {
     "data": {
      "text/plain": [
       "False"
      ]
     },
     "execution_count": 427,
     "metadata": {},
     "output_type": "execute_result"
    }
   ],
   "source": [
    "Solution().searchMatrix([\n",
    "  [1,   4,  7, 11, 15],\n",
    "  [2,   5,  8, 12, 19],\n",
    "  [3,   6,  9, 16, 22],\n",
    "  [10, 13, 14, 17, 24],\n",
    "  [18, 21, 23, 26, 30]\n",
    "], 0)"
   ]
  },
  {
   "cell_type": "code",
   "execution_count": 430,
   "metadata": {},
   "outputs": [
    {
     "data": {
      "text/plain": [
       "False"
      ]
     },
     "execution_count": 430,
     "metadata": {},
     "output_type": "execute_result"
    }
   ],
   "source": [
    "Solution().searchMatrix([[1], [2]], 0)"
   ]
  },
  {
   "cell_type": "markdown",
   "metadata": {},
   "source": [
    "## 239. Sliding Window Maximum\n",
    "\n",
    "https://leetcode.com/problems/sliding-window-maximum/description/"
   ]
  },
  {
   "cell_type": "code",
   "execution_count": 431,
   "metadata": {},
   "outputs": [],
   "source": [
    "class Solution:\n",
    "    def maxSlidingWindow(self, nums, k):\n",
    "        \"\"\"\n",
    "        :type nums: List[int]\n",
    "        :type k: int\n",
    "        :rtype: List[int]\n",
    "        \"\"\"\n",
    "        "
   ]
  },
  {
   "cell_type": "code",
   "execution_count": null,
   "metadata": {},
   "outputs": [],
   "source": [
    "Solution().maxSlidingWindow()"
   ]
  },
  {
   "cell_type": "markdown",
   "metadata": {},
   "source": [
    "## 233. Number of Digit One\n",
    "\n",
    "https://leetcode.com/problems/number-of-digit-one/description/"
   ]
  },
  {
   "cell_type": "markdown",
   "metadata": {},
   "source": [
    "相关资料\n",
    "- http://oeis.org/A094798"
   ]
  },
  {
   "cell_type": "code",
   "execution_count": 436,
   "metadata": {},
   "outputs": [],
   "source": [
    "class Solution:\n",
    "    def countDigitOne(self, n):\n",
    "        \"\"\"\n",
    "        :type n: int\n",
    "        :rtype: int\n",
    "        \"\"\"\n",
    "        return sum(str(i).count(\"1\") for i in range(n - 1))"
   ]
  },
  {
   "cell_type": "code",
   "execution_count": 437,
   "metadata": {},
   "outputs": [
    {
     "ename": "KeyboardInterrupt",
     "evalue": "",
     "output_type": "error",
     "traceback": [
      "\u001b[0;31m---------------------------------------------------------------------------\u001b[0m",
      "\u001b[0;31mKeyboardInterrupt\u001b[0m                         Traceback (most recent call last)",
      "\u001b[0;32m<ipython-input-437-62a1628f3669>\u001b[0m in \u001b[0;36m<module>\u001b[0;34m()\u001b[0m\n\u001b[0;32m----> 1\u001b[0;31m \u001b[0mSolution\u001b[0m\u001b[0;34m(\u001b[0m\u001b[0;34m)\u001b[0m\u001b[0;34m.\u001b[0m\u001b[0mcountDigitOne\u001b[0m\u001b[0;34m(\u001b[0m\u001b[0;36m2\u001b[0m\u001b[0;34m**\u001b[0m\u001b[0;36m31\u001b[0m\u001b[0;34m)\u001b[0m\u001b[0;34m\u001b[0m\u001b[0m\n\u001b[0m",
      "\u001b[0;32m<ipython-input-436-38fde659dfcc>\u001b[0m in \u001b[0;36mcountDigitOne\u001b[0;34m(self, n)\u001b[0m\n\u001b[1;32m      5\u001b[0m         \u001b[0;34m:\u001b[0m\u001b[0mrtype\u001b[0m\u001b[0;34m:\u001b[0m \u001b[0mint\u001b[0m\u001b[0;34m\u001b[0m\u001b[0m\n\u001b[1;32m      6\u001b[0m         \"\"\"\n\u001b[0;32m----> 7\u001b[0;31m         \u001b[0;32mreturn\u001b[0m \u001b[0msum\u001b[0m\u001b[0;34m(\u001b[0m\u001b[0mstr\u001b[0m\u001b[0;34m(\u001b[0m\u001b[0mi\u001b[0m\u001b[0;34m)\u001b[0m\u001b[0;34m.\u001b[0m\u001b[0mcount\u001b[0m\u001b[0;34m(\u001b[0m\u001b[0;34m\"1\"\u001b[0m\u001b[0;34m)\u001b[0m \u001b[0;32mfor\u001b[0m \u001b[0mi\u001b[0m \u001b[0;32min\u001b[0m \u001b[0mrange\u001b[0m\u001b[0;34m(\u001b[0m\u001b[0mn\u001b[0m \u001b[0;34m-\u001b[0m \u001b[0;36m1\u001b[0m\u001b[0;34m)\u001b[0m\u001b[0;34m)\u001b[0m\u001b[0;34m\u001b[0m\u001b[0m\n\u001b[0m",
      "\u001b[0;32m<ipython-input-436-38fde659dfcc>\u001b[0m in \u001b[0;36m<genexpr>\u001b[0;34m(.0)\u001b[0m\n\u001b[1;32m      5\u001b[0m         \u001b[0;34m:\u001b[0m\u001b[0mrtype\u001b[0m\u001b[0;34m:\u001b[0m \u001b[0mint\u001b[0m\u001b[0;34m\u001b[0m\u001b[0m\n\u001b[1;32m      6\u001b[0m         \"\"\"\n\u001b[0;32m----> 7\u001b[0;31m         \u001b[0;32mreturn\u001b[0m \u001b[0msum\u001b[0m\u001b[0;34m(\u001b[0m\u001b[0mstr\u001b[0m\u001b[0;34m(\u001b[0m\u001b[0mi\u001b[0m\u001b[0;34m)\u001b[0m\u001b[0;34m.\u001b[0m\u001b[0mcount\u001b[0m\u001b[0;34m(\u001b[0m\u001b[0;34m\"1\"\u001b[0m\u001b[0;34m)\u001b[0m \u001b[0;32mfor\u001b[0m \u001b[0mi\u001b[0m \u001b[0;32min\u001b[0m \u001b[0mrange\u001b[0m\u001b[0;34m(\u001b[0m\u001b[0mn\u001b[0m \u001b[0;34m-\u001b[0m \u001b[0;36m1\u001b[0m\u001b[0;34m)\u001b[0m\u001b[0;34m)\u001b[0m\u001b[0;34m\u001b[0m\u001b[0m\n\u001b[0m",
      "\u001b[0;31mKeyboardInterrupt\u001b[0m: "
     ]
    }
   ],
   "source": [
    "Solution().countDigitOne(2**31)"
   ]
  },
  {
   "cell_type": "markdown",
   "metadata": {},
   "source": [
    "## 260. Single Number III\n",
    "\n",
    "https://leetcode.com/problems/single-number-iii/description/"
   ]
  },
  {
   "cell_type": "code",
   "execution_count": 497,
   "metadata": {},
   "outputs": [],
   "source": [
    "import collections\n",
    "class Solution:\n",
    "    def singleNumber(self, nums):\n",
    "        \"\"\"\n",
    "        :type nums: List[int]\n",
    "        :rtype: List[int]\n",
    "        \"\"\"\n",
    "        counter = collections.Counter(nums)\n",
    "        return [index for index, value in counter.items() if value == 1]"
   ]
  },
  {
   "cell_type": "code",
   "execution_count": 498,
   "metadata": {},
   "outputs": [
    {
     "data": {
      "text/plain": [
       "[3, 5]"
      ]
     },
     "execution_count": 498,
     "metadata": {},
     "output_type": "execute_result"
    }
   ],
   "source": [
    "Solution().singleNumber([1, 2, 1, 3, 5, 2])"
   ]
  },
  {
   "cell_type": "markdown",
   "metadata": {},
   "source": [
    "## 287. Find the Duplicate Number\n",
    "\n",
    "https://leetcode.com/problems/find-the-duplicate-number/description/"
   ]
  },
  {
   "cell_type": "code",
   "execution_count": 499,
   "metadata": {},
   "outputs": [],
   "source": [
    "import collections\n",
    "class Solution:\n",
    "    def findDuplicate(self, nums):\n",
    "        \"\"\"\n",
    "        :type nums: List[int]\n",
    "        :rtype: int\n",
    "        \"\"\"\n",
    "        counter = collections.Counter(nums)\n",
    "        return [index for index, value in counter.items() if value != 1][0]"
   ]
  },
  {
   "cell_type": "markdown",
   "metadata": {},
   "source": [
    "但是上面的解法空间复杂度不是$O(1)$。"
   ]
  },
  {
   "cell_type": "markdown",
   "metadata": {},
   "source": [
    "## 274. H-Index\n",
    "\n",
    "https://leetcode.com/problems/h-index/description/"
   ]
  },
  {
   "cell_type": "code",
   "execution_count": 512,
   "metadata": {},
   "outputs": [],
   "source": [
    "class Solution:\n",
    "    def hIndex(self, citations):\n",
    "        \"\"\"\n",
    "        :type citations: List[int]\n",
    "        :rtype: int\n",
    "        \"\"\"\n",
    "        citations.sort(reverse=True)\n",
    "        return max([min(citations[i], i + 1) for i in range(len(citations))], default=0)"
   ]
  },
  {
   "cell_type": "code",
   "execution_count": 513,
   "metadata": {},
   "outputs": [
    {
     "data": {
      "text/plain": [
       "3"
      ]
     },
     "execution_count": 513,
     "metadata": {},
     "output_type": "execute_result"
    }
   ],
   "source": [
    "Solution().hIndex([3,0,6,1,5])"
   ]
  },
  {
   "cell_type": "markdown",
   "metadata": {},
   "source": [
    "## 342. Power of Four\n",
    "\n",
    "https://leetcode.com/problems/power-of-four/description/"
   ]
  },
  {
   "cell_type": "markdown",
   "metadata": {},
   "source": [
    "先看它是不是$2^k$，用上次的方法`i & (i - 1) == 0`判断。\n",
    "\n",
    "然后再数二进制里面0的个数，如果是偶数个，那就是了。"
   ]
  },
  {
   "cell_type": "code",
   "execution_count": 515,
   "metadata": {},
   "outputs": [],
   "source": [
    "class Solution:\n",
    "    def isPowerOfFour(self, num):\n",
    "        \"\"\"\n",
    "        :type num: int\n",
    "        :rtype: bool\n",
    "        \"\"\"\n",
    "        return True if num & (num - 1) == 0 and bin(num)[2: ].count(\"0\") % 2 == 0 else False"
   ]
  },
  {
   "cell_type": "code",
   "execution_count": 518,
   "metadata": {},
   "outputs": [
    {
     "data": {
      "text/plain": [
       "False"
      ]
     },
     "execution_count": 518,
     "metadata": {},
     "output_type": "execute_result"
    }
   ],
   "source": [
    "Solution().isPowerOfFour(8)"
   ]
  },
  {
   "cell_type": "markdown",
   "metadata": {},
   "source": [
    "还有一种很巧妙的办法是看这个数的底数为4的对数是不是整数。如果一个数$n$是$4^k$，那么\n",
    "$$\n",
    "    k = \\log_4 n\n",
    "$$\n",
    "\n",
    "但是因为浮点数的精度问题，所以这个方法有局限。"
   ]
  },
  {
   "cell_type": "code",
   "execution_count": 519,
   "metadata": {},
   "outputs": [],
   "source": [
    "import math\n",
    "class Solution:\n",
    "    def isPowerOfFour(self, num):\n",
    "        \"\"\"\n",
    "        :type num: int\n",
    "        :rtype: bool\n",
    "        \"\"\"\n",
    "        return math.log(num, 4).is_integer()"
   ]
  },
  {
   "cell_type": "code",
   "execution_count": 532,
   "metadata": {},
   "outputs": [
    {
     "data": {
      "text/plain": [
       "False"
      ]
     },
     "execution_count": 532,
     "metadata": {},
     "output_type": "execute_result"
    }
   ],
   "source": [
    "Solution().isPowerOfFour(4**990)"
   ]
  },
  {
   "cell_type": "markdown",
   "metadata": {},
   "source": [
    "上面这里就失效了。"
   ]
  },
  {
   "cell_type": "markdown",
   "metadata": {},
   "source": [
    "## 326. Power of Three\n",
    "\n",
    "https://leetcode.com/problems/power-of-three/description/"
   ]
  },
  {
   "cell_type": "markdown",
   "metadata": {},
   "source": [
    "3为底有一点麻烦。\n",
    "\n",
    "可以用`while`不停地除以三，如果最后变成了1，那就是了，如果中间突然不能整除3了，说明有杂质。"
   ]
  },
  {
   "cell_type": "code",
   "execution_count": 533,
   "metadata": {},
   "outputs": [],
   "source": [
    "class Solution:\n",
    "    def isPowerOfThree(self, n):\n",
    "        \"\"\"\n",
    "        :type n: int\n",
    "        :rtype: bool\n",
    "        \"\"\"\n",
    "        if n <= 0:\n",
    "            return False\n",
    "        while True:\n",
    "            if n == 1:\n",
    "                return True\n",
    "            if n % 3 != 0:\n",
    "                return False\n",
    "            else:\n",
    "                n = n / 3"
   ]
  },
  {
   "cell_type": "code",
   "execution_count": 542,
   "metadata": {},
   "outputs": [
    {
     "data": {
      "text/plain": [
       "False"
      ]
     },
     "execution_count": 542,
     "metadata": {},
     "output_type": "execute_result"
    }
   ],
   "source": [
    "Solution().isPowerOfThree(28)"
   ]
  },
  {
   "cell_type": "markdown",
   "metadata": {},
   "source": [
    "同样这个方法也可以用在前面的power of two, power of four问题里面。"
   ]
  },
  {
   "cell_type": "markdown",
   "metadata": {},
   "source": [
    "还有非常巧妙的办法。"
   ]
  },
  {
   "cell_type": "code",
   "execution_count": null,
   "metadata": {},
   "outputs": [],
   "source": [
    "class Solution:\n",
    "    \"\"\"\n",
    "    T: O(1)\n",
    "    S: O(1)\n",
    "\n",
    "    - Use the maximum power of 3 to test current number\n",
    "    - 3 ** 19 < 0x7FFFFFFF < 3 ** 20\n",
    "    \"\"\"\n",
    "    def isPowerOfThree(self, n):\n",
    "        \"\"\"\n",
    "        :type n: int\n",
    "        :rtype: bool\n",
    "        \"\"\"\n",
    "        return n > 0 and (3 ** 19) % n == 0"
   ]
  },
  {
   "cell_type": "markdown",
   "metadata": {},
   "source": [
    "这也太赖皮了。\n",
    "\n",
    "但是这个方法无法用在power of four里面。"
   ]
  },
  {
   "cell_type": "markdown",
   "metadata": {},
   "source": [
    "## 372. Super Pow\n",
    "\n",
    "https://leetcode.com/problems/super-pow/description/"
   ]
  },
  {
   "cell_type": "code",
   "execution_count": null,
   "metadata": {},
   "outputs": [],
   "source": [
    "class Solution:\n",
    "    def superPow(self, a, b):\n",
    "        \"\"\"\n",
    "        :type a: int\n",
    "        :type b: List[int]\n",
    "        :rtype: int\n",
    "        \"\"\"\n",
    "        "
   ]
  },
  {
   "cell_type": "markdown",
   "metadata": {},
   "source": [
    "## 441. Arranging Coins\n",
    "\n",
    "https://leetcode.com/problems/arranging-coins/description/"
   ]
  },
  {
   "cell_type": "markdown",
   "metadata": {},
   "source": [
    "如果$n$是某个$k$的累加，那么\n",
    "$$\n",
    "    n = 1 + 2 + \\ldots + k = {k (k + 1) \\over 2}\n",
    "$$\n",
    "这时\n",
    "$$\n",
    "    k = {\\sqrt{8 n + 1} \\over 2} - {1 \\over 2}\n",
    "$$\n",
    "\n",
    "所以答案是$\\left\\lfloor{\\sqrt{8 n + 1} \\over 2} - {1 \\over 2}\\right\\rfloor$。"
   ]
  },
  {
   "cell_type": "code",
   "execution_count": 23,
   "metadata": {},
   "outputs": [],
   "source": [
    "class Solution:\n",
    "    def arrangeCoins(self, n):\n",
    "        \"\"\"\n",
    "        :type n: int\n",
    "        :rtype: int\n",
    "        \"\"\"\n",
    "        if n == 0:\n",
    "            return 0\n",
    "        if n == 1:\n",
    "            return 1\n",
    "        k = 2\n",
    "        while True:\n",
    "            if (k * (k + 1)) >> 1 == n:\n",
    "                return k\n",
    "            if (k * (k + 1)) >> 1 > n:\n",
    "                break\n",
    "            else:\n",
    "                k += 1\n",
    "        return k - 1"
   ]
  },
  {
   "cell_type": "code",
   "execution_count": 30,
   "metadata": {},
   "outputs": [
    {
     "data": {
      "text/plain": [
       "3"
      ]
     },
     "execution_count": 30,
     "metadata": {},
     "output_type": "execute_result"
    }
   ],
   "source": [
    "Solution().arrangeCoins(7)"
   ]
  },
  {
   "cell_type": "code",
   "execution_count": 31,
   "metadata": {},
   "outputs": [
    {
     "data": {
      "text/plain": [
       "64637"
      ]
     },
     "execution_count": 31,
     "metadata": {},
     "output_type": "execute_result"
    }
   ],
   "source": [
    "Solution().arrangeCoins(2089018456)"
   ]
  },
  {
   "cell_type": "markdown",
   "metadata": {},
   "source": [
    "但是上面这个算法很慢。"
   ]
  },
  {
   "cell_type": "code",
   "execution_count": 41,
   "metadata": {},
   "outputs": [],
   "source": [
    "import math\n",
    "class Solution:\n",
    "    def arrangeCoins(self, n):\n",
    "        \"\"\"\n",
    "        :type n: int\n",
    "        :rtype: int\n",
    "        \"\"\"\n",
    "        return int(math.sqrt(8 * n + 1) / 2 - 1 / 2)"
   ]
  },
  {
   "cell_type": "code",
   "execution_count": 45,
   "metadata": {},
   "outputs": [
    {
     "data": {
      "text/plain": [
       "64637"
      ]
     },
     "execution_count": 45,
     "metadata": {},
     "output_type": "execute_result"
    }
   ],
   "source": [
    "Solution().arrangeCoins(2089018456)"
   ]
  },
  {
   "cell_type": "markdown",
   "metadata": {},
   "source": [
    "## 442. Find All Duplicates in an Array\n",
    "\n",
    "https://leetcode.com/problems/find-all-duplicates-in-an-array/description/"
   ]
  },
  {
   "cell_type": "code",
   "execution_count": 46,
   "metadata": {},
   "outputs": [],
   "source": [
    "import collections\n",
    "class Solution:\n",
    "    def findDuplicates(self, nums):\n",
    "        \"\"\"\n",
    "        :type nums: List[int]\n",
    "        :rtype: List[int]\n",
    "        \"\"\"\n",
    "        counter = collections.Counter(nums)\n",
    "        return [index for index, value in counter.items() if value == 2]"
   ]
  },
  {
   "cell_type": "code",
   "execution_count": 47,
   "metadata": {},
   "outputs": [
    {
     "data": {
      "text/plain": [
       "[3, 2]"
      ]
     },
     "execution_count": 47,
     "metadata": {},
     "output_type": "execute_result"
    }
   ],
   "source": [
    "Solution().findDuplicates([4,3,2,7,8,2,3,1])"
   ]
  },
  {
   "cell_type": "markdown",
   "metadata": {},
   "source": [
    "## 451. Sort Characters By Frequency\n",
    "\n",
    "https://leetcode.com/problems/sort-characters-by-frequency/description/"
   ]
  },
  {
   "cell_type": "code",
   "execution_count": 59,
   "metadata": {},
   "outputs": [],
   "source": [
    "import collections\n",
    "class Solution:\n",
    "    def frequencySort(self, s):\n",
    "        \"\"\"\n",
    "        :type s: str\n",
    "        :rtype: str\n",
    "        \"\"\"\n",
    "        counter = collections.Counter(s)\n",
    "        return \"\".join(index * value for index, value in counter.most_common())"
   ]
  },
  {
   "cell_type": "code",
   "execution_count": 60,
   "metadata": {},
   "outputs": [
    {
     "data": {
      "text/plain": [
       "'bbAa'"
      ]
     },
     "execution_count": 60,
     "metadata": {},
     "output_type": "execute_result"
    }
   ],
   "source": [
    "Solution().frequencySort(\"Aabb\")"
   ]
  },
  {
   "cell_type": "markdown",
   "metadata": {},
   "source": [
    "## 463. Island Perimeter\n",
    "\n",
    "https://leetcode.com/problems/island-perimeter/description/"
   ]
  },
  {
   "cell_type": "markdown",
   "metadata": {},
   "source": [
    "我觉得不难，但是corner case特别特别多。test case也一定会测你函数的覆盖率。"
   ]
  },
  {
   "cell_type": "code",
   "execution_count": null,
   "metadata": {},
   "outputs": [],
   "source": [
    "class Solution(object):\n",
    "    def islandPerimeter(self, grid):\n",
    "        \"\"\"\n",
    "        :type grid: List[List[int]]\n",
    "        :rtype: int\n",
    "        \"\"\"\n",
    "        "
   ]
  },
  {
   "cell_type": "markdown",
   "metadata": {},
   "source": [
    "## 456. 132 Pattern\n",
    "\n",
    "https://leetcode.com/problems/132-pattern/description/"
   ]
  },
  {
   "cell_type": "markdown",
   "metadata": {},
   "source": []
  },
  {
   "cell_type": "code",
   "execution_count": 61,
   "metadata": {},
   "outputs": [],
   "source": [
    "class Solution(object):\n",
    "    def find132pattern(self, nums):\n",
    "        \"\"\"\n",
    "        :type nums: List[int]\n",
    "        :rtype: bool\n",
    "        \"\"\"\n",
    "        if len(nums) < 3:\n",
    "            return False\n",
    "        maximums = [nums[0]]\n",
    "        minimums = [nums[0]]\n",
    "        for index, value in enumerate(nums[1: ], 1):\n",
    "            if value > minimums[-1] and value < maximums[-1]:\n",
    "                return True\n",
    "            maximums.append(max(maximums[-1], value))\n",
    "            minimums.append(min(minimums[-1], value))\n",
    "        return False"
   ]
  },
  {
   "cell_type": "code",
   "execution_count": 62,
   "metadata": {},
   "outputs": [
    {
     "data": {
      "text/plain": [
       "False"
      ]
     },
     "execution_count": 62,
     "metadata": {},
     "output_type": "execute_result"
    }
   ],
   "source": [
    "Solution().find132pattern([1, 2, 3, 4])"
   ]
  },
  {
   "cell_type": "code",
   "execution_count": 63,
   "metadata": {},
   "outputs": [
    {
     "data": {
      "text/plain": [
       "True"
      ]
     },
     "execution_count": 63,
     "metadata": {},
     "output_type": "execute_result"
    }
   ],
   "source": [
    "Solution().find132pattern([3, 1, 4, 2])"
   ]
  },
  {
   "cell_type": "code",
   "execution_count": 64,
   "metadata": {},
   "outputs": [
    {
     "data": {
      "text/plain": [
       "True"
      ]
     },
     "execution_count": 64,
     "metadata": {},
     "output_type": "execute_result"
    }
   ],
   "source": [
    "Solution().find132pattern([-1, 3, 2, 0])"
   ]
  },
  {
   "cell_type": "code",
   "execution_count": 65,
   "metadata": {},
   "outputs": [
    {
     "data": {
      "text/plain": [
       "True"
      ]
     },
     "execution_count": 65,
     "metadata": {},
     "output_type": "execute_result"
    }
   ],
   "source": [
    "Solution().find132pattern([1,0,1,-4,-3])"
   ]
  },
  {
   "cell_type": "markdown",
   "metadata": {},
   "source": [
    "## 468. Validate IP Address\n",
    "\n",
    "https://leetcode.com/problems/validate-ip-address/description/"
   ]
  },
  {
   "cell_type": "markdown",
   "metadata": {},
   "source": [
    "用正则表达式可以秒杀。\n",
    "\n",
    "IPv4地址\n",
    "```\n",
    "(1?[1-9]?\\d|2[0-4]\\d|25[0-5])(\\.(1?[1-9]?\\d|2[0-4]\\d|25[0-5])){3}$\n",
    "```\n",
    "\n",
    "IPv6地址\n",
    "```\n",
    "([0-9A-Fa-f]{1,4})(:([0-9A-Fa-f]{1,4})){7}$\n",
    "```"
   ]
  },
  {
   "cell_type": "code",
   "execution_count": 107,
   "metadata": {},
   "outputs": [],
   "source": [
    "import re\n",
    "class Solution(object):\n",
    "    def validIPAddress(self, IP):\n",
    "        \"\"\"\n",
    "        :type IP: str\n",
    "        :rtype: str\n",
    "        \"\"\"\n",
    "        if bool(re.fullmatch(r\"(1?[1-9]?\\d|2[0-4]\\d|25[0-5])(\\.(1?[1-9]?\\d|2[0-4]\\d|25[0-5])){3}$\", IP)):\n",
    "            return \"IPv4\"\n",
    "        elif bool(re.fullmatch(r\"([0-9A-Fa-f]{1,4})(:([0-9A-Fa-f]{1,4})){7}$\", IP)):\n",
    "            return \"IPv6\"\n",
    "        return \"Neither\""
   ]
  },
  {
   "cell_type": "code",
   "execution_count": 108,
   "metadata": {},
   "outputs": [
    {
     "data": {
      "text/plain": [
       "'IPv4'"
      ]
     },
     "execution_count": 108,
     "metadata": {},
     "output_type": "execute_result"
    }
   ],
   "source": [
    "Solution().validIPAddress(\"172.16.254.1\")"
   ]
  },
  {
   "cell_type": "code",
   "execution_count": 109,
   "metadata": {},
   "outputs": [
    {
     "data": {
      "text/plain": [
       "'IPv4'"
      ]
     },
     "execution_count": 109,
     "metadata": {},
     "output_type": "execute_result"
    }
   ],
   "source": [
    "Solution().validIPAddress(\"255.255.255.255\")"
   ]
  },
  {
   "cell_type": "code",
   "execution_count": 110,
   "metadata": {},
   "outputs": [
    {
     "data": {
      "text/plain": [
       "'Neither'"
      ]
     },
     "execution_count": 110,
     "metadata": {},
     "output_type": "execute_result"
    }
   ],
   "source": [
    "Solution().validIPAddress(\"255.255.255.256\")"
   ]
  },
  {
   "cell_type": "code",
   "execution_count": 111,
   "metadata": {},
   "outputs": [
    {
     "data": {
      "text/plain": [
       "'IPv6'"
      ]
     },
     "execution_count": 111,
     "metadata": {},
     "output_type": "execute_result"
    }
   ],
   "source": [
    "Solution().validIPAddress(\"2001:0db8:85a3:0:0:8A2E:0370:7334\")"
   ]
  },
  {
   "cell_type": "code",
   "execution_count": 112,
   "metadata": {},
   "outputs": [
    {
     "data": {
      "text/plain": [
       "'Neither'"
      ]
     },
     "execution_count": 112,
     "metadata": {},
     "output_type": "execute_result"
    }
   ],
   "source": [
    "Solution().validIPAddress(\"01.01.01.01\")"
   ]
  },
  {
   "cell_type": "markdown",
   "metadata": {},
   "source": [
    "## 189. Rotate Array\n",
    "\n",
    "https://leetcode.com/problems/rotate-array/description/"
   ]
  },
  {
   "cell_type": "code",
   "execution_count": 223,
   "metadata": {},
   "outputs": [],
   "source": [
    "class Solution:\n",
    "    def rotate(self, nums, k):\n",
    "        \"\"\"\n",
    "        :type nums: List[int]\n",
    "        :type k: int\n",
    "        :rtype: void Do not return anything, modify nums in-place instead.\n",
    "        \"\"\"\n",
    "        length = len(nums)\n",
    "        for i in range(k % length):\n",
    "            nums.insert(0, nums.pop())\n",
    "#         print(nums)"
   ]
  },
  {
   "cell_type": "code",
   "execution_count": 228,
   "metadata": {},
   "outputs": [
    {
     "name": "stdout",
     "output_type": "stream",
     "text": [
      "[7, 1, 2, 3, 4, 5, 6]\n"
     ]
    }
   ],
   "source": [
    "Solution().rotate([1,2,3,4,5,6,7], 1)"
   ]
  },
  {
   "cell_type": "code",
   "execution_count": 226,
   "metadata": {},
   "outputs": [
    {
     "name": "stdout",
     "output_type": "stream",
     "text": [
      "[3, 99, -1, -100]\n"
     ]
    }
   ],
   "source": [
    "Solution().rotate([-1,-100,3,99], 2)"
   ]
  },
  {
   "cell_type": "markdown",
   "metadata": {},
   "source": [
    "切片方法。也是我一开始想到的方法。"
   ]
  },
  {
   "cell_type": "code",
   "execution_count": 242,
   "metadata": {},
   "outputs": [],
   "source": [
    "class Solution:\n",
    "    def rotate(self, nums, k):\n",
    "        \"\"\"\n",
    "        :type nums: List[int]\n",
    "        :type k: int\n",
    "        :rtype: void Do not return anything, modify nums in-place instead.\n",
    "        \"\"\"\n",
    "        n = len(nums)\n",
    "        k = k % n\n",
    "        nums[:] = nums[n-k: ] + nums[: n-k]"
   ]
  },
  {
   "cell_type": "code",
   "execution_count": 243,
   "metadata": {},
   "outputs": [],
   "source": [
    "Solution().rotate([1, 3], 1)"
   ]
  },
  {
   "cell_type": "markdown",
   "metadata": {},
   "source": [
    "## 438. Find All Anagrams in a String\n",
    "\n",
    "https://leetcode.com/problems/find-all-anagrams-in-a-string/description/"
   ]
  },
  {
   "cell_type": "code",
   "execution_count": 269,
   "metadata": {},
   "outputs": [],
   "source": [
    "import collections\n",
    "class Solution:\n",
    "    def findAnagrams(self, s, p):\n",
    "        \"\"\"\n",
    "        :type s: str\n",
    "        :type p: str\n",
    "        :rtype: List[int]\n",
    "        \"\"\"\n",
    "        if len(p) > len(s):\n",
    "            return []\n",
    "        counterP = collections.Counter(p)\n",
    "        lengthP = len(p)\n",
    "        q = []\n",
    "        for i in range(len(s) - lengthP + 1):\n",
    "            counterS = collections.Counter(s[i: i + lengthP])\n",
    "#             print(counterS)\n",
    "            if counterS == counterP:\n",
    "                q.append(i)\n",
    "        return q"
   ]
  },
  {
   "cell_type": "code",
   "execution_count": 270,
   "metadata": {},
   "outputs": [
    {
     "name": "stdout",
     "output_type": "stream",
     "text": [
      "Counter({'c': 1, 'b': 1, 'a': 1})\n",
      "Counter({'b': 1, 'a': 1, 'e': 1})\n",
      "Counter({'a': 1, 'e': 1, 'b': 1})\n",
      "Counter({'e': 1, 'b': 1, 'a': 1})\n",
      "Counter({'b': 2, 'a': 1})\n",
      "Counter({'a': 2, 'b': 1})\n",
      "Counter({'b': 1, 'a': 1, 'c': 1})\n",
      "Counter({'a': 1, 'c': 1, 'd': 1})\n"
     ]
    },
    {
     "data": {
      "text/plain": [
       "[0, 6]"
      ]
     },
     "execution_count": 270,
     "metadata": {},
     "output_type": "execute_result"
    }
   ],
   "source": [
    "Solution().findAnagrams(\"cbaebabacd\", \"abc\")"
   ]
  },
  {
   "cell_type": "code",
   "execution_count": 271,
   "metadata": {},
   "outputs": [
    {
     "name": "stdout",
     "output_type": "stream",
     "text": [
      "Counter({'a': 1, 'b': 1})\n",
      "Counter({'b': 1, 'a': 1})\n",
      "Counter({'a': 1, 'b': 1})\n"
     ]
    },
    {
     "data": {
      "text/plain": [
       "[0, 1, 2]"
      ]
     },
     "execution_count": 271,
     "metadata": {},
     "output_type": "execute_result"
    }
   ],
   "source": [
    "Solution().findAnagrams(\"abab\", \"ab\")"
   ]
  },
  {
   "cell_type": "markdown",
   "metadata": {},
   "source": [
    "## 788. Rotated Digits\n",
    "\n",
    "https://leetcode.com/problems/rotated-digits/description/"
   ]
  },
  {
   "cell_type": "code",
   "execution_count": 9,
   "metadata": {},
   "outputs": [],
   "source": [
    "class Solution:\n",
    "    def rotatedDigits(self, N):\n",
    "        \"\"\"\n",
    "        :type N: int\n",
    "        :rtype: int\n",
    "        \"\"\"\n",
    "        return len([i for i in range(1, N + 1) if all(j not in str(i) for j in \"018347\")])"
   ]
  },
  {
   "cell_type": "code",
   "execution_count": 10,
   "metadata": {},
   "outputs": [
    {
     "data": {
      "text/plain": [
       "4"
      ]
     },
     "execution_count": 10,
     "metadata": {},
     "output_type": "execute_result"
    }
   ],
   "source": [
    "Solution().rotatedDigits(10)"
   ]
  },
  {
   "cell_type": "code",
   "execution_count": 12,
   "metadata": {},
   "outputs": [],
   "source": [
    "class Solution:\n",
    "    def rotatedDigits(self, N):\n",
    "        \"\"\"\n",
    "        :type N: int\n",
    "        :rtype: int\n",
    "        \"\"\"\n",
    "        res = 0\n",
    "        for n in range(1, N+1):\n",
    "            if not all(c in \"0125689\" for c in str(n)):\n",
    "                continue\n",
    "            if any(c in \"2569\" for c in str(n)):\n",
    "                res += 1\n",
    "        return res"
   ]
  },
  {
   "cell_type": "code",
   "execution_count": 13,
   "metadata": {},
   "outputs": [
    {
     "data": {
      "text/plain": [
       "4"
      ]
     },
     "execution_count": 13,
     "metadata": {},
     "output_type": "execute_result"
    }
   ],
   "source": [
    "Solution().rotatedDigits(10)"
   ]
  },
  {
   "cell_type": "markdown",
   "metadata": {},
   "source": [
    "## 796. Rotate String\n",
    "\n",
    "https://leetcode.com/problems/rotate-string/description/"
   ]
  },
  {
   "cell_type": "code",
   "execution_count": 20,
   "metadata": {},
   "outputs": [],
   "source": [
    "class Solution:\n",
    "    def rotateString(self, A, B):\n",
    "        \"\"\"\n",
    "        :type A: str\n",
    "        :type B: str\n",
    "        :rtype: bool\n",
    "        \"\"\"\n",
    "        if A == \"\" and B == \"\":\n",
    "            return True\n",
    "        \n",
    "        A = list(A)\n",
    "        B = list(B)\n",
    "        \n",
    "        if len(A) != len(B):\n",
    "             return False\n",
    "            \n",
    "        length = len(A)\n",
    "        for i in range(length):\n",
    "            if A == B:\n",
    "                return True\n",
    "            A.insert(0, A.pop())\n",
    "        return False"
   ]
  },
  {
   "cell_type": "code",
   "execution_count": 21,
   "metadata": {},
   "outputs": [
    {
     "data": {
      "text/plain": [
       "True"
      ]
     },
     "execution_count": 21,
     "metadata": {},
     "output_type": "execute_result"
    }
   ],
   "source": [
    "Solution().rotateString(\"abcde\", \"bcdea\")"
   ]
  },
  {
   "cell_type": "code",
   "execution_count": 22,
   "metadata": {
    "scrolled": true
   },
   "outputs": [
    {
     "data": {
      "text/plain": [
       "True"
      ]
     },
     "execution_count": 22,
     "metadata": {},
     "output_type": "execute_result"
    }
   ],
   "source": [
    "Solution().rotateString(\"\", \"\")"
   ]
  },
  {
   "cell_type": "markdown",
   "metadata": {},
   "source": [
    "## 405. Convert a Number to Hexadecimal\n",
    "\n",
    "https://leetcode.com/problems/convert-a-number-to-hexadecimal/description/"
   ]
  },
  {
   "cell_type": "markdown",
   "metadata": {},
   "source": [
    "要求不能用内建的函数直接转换。\n",
    "\n",
    "不知道用`struct`算不算符合要求。"
   ]
  },
  {
   "cell_type": "code",
   "execution_count": 39,
   "metadata": {},
   "outputs": [],
   "source": [
    "import struct\n",
    "class Solution:\n",
    "    def toHex(self, num):\n",
    "        \"\"\"\n",
    "        :type num: int\n",
    "        :rtype: str\n",
    "        \"\"\"\n",
    "        if num == 0:\n",
    "            return \"0\"\n",
    "        return struct.pack(\">i\", num).hex().lstrip(\"0\")"
   ]
  },
  {
   "cell_type": "code",
   "execution_count": 33,
   "metadata": {},
   "outputs": [
    {
     "data": {
      "text/plain": [
       "'fffffffe'"
      ]
     },
     "execution_count": 33,
     "metadata": {},
     "output_type": "execute_result"
    }
   ],
   "source": [
    "Solution().toHex(-2)"
   ]
  },
  {
   "cell_type": "code",
   "execution_count": 34,
   "metadata": {},
   "outputs": [
    {
     "data": {
      "text/plain": [
       "'0'"
      ]
     },
     "execution_count": 34,
     "metadata": {},
     "output_type": "execute_result"
    }
   ],
   "source": [
    "Solution().toHex(0)"
   ]
  },
  {
   "cell_type": "code",
   "execution_count": 38,
   "metadata": {},
   "outputs": [],
   "source": [
    "class Solution:\n",
    "    def toHex(self, num):\n",
    "        \"\"\"\n",
    "        :type num: int\n",
    "        :rtype: str\n",
    "        \"\"\"\n",
    "        if num == 0:\n",
    "            return \"0\"\n",
    "        ans = \"\"\n",
    "        mp = \"0123456789abcdef\"\n",
    "        for i in range(8):\n",
    "            n = num & 15\n",
    "            c = mp[n]\n",
    "            ans = c + ans\n",
    "            num = num >> 4\n",
    "        return ans.lstrip(\"0\")"
   ]
  },
  {
   "cell_type": "markdown",
   "metadata": {},
   "source": [
    "## 647. Palindromic Substrings\n",
    "\n",
    "https://leetcode.com/problems/palindromic-substrings/description/"
   ]
  },
  {
   "cell_type": "code",
   "execution_count": 45,
   "metadata": {},
   "outputs": [],
   "source": [
    "class Solution:\n",
    "    def countSubstrings(self, s):\n",
    "        \"\"\"\n",
    "        :type s: str\n",
    "        :rtype: int\n",
    "        \"\"\"\n",
    "        return sum(1 if s[i: j] == s[i: j][:: -1] else 0 for i in range(0, len(s)) for j in range(i + 1, len(s) + 1))"
   ]
  },
  {
   "cell_type": "code",
   "execution_count": 46,
   "metadata": {},
   "outputs": [
    {
     "data": {
      "text/plain": [
       "6"
      ]
     },
     "execution_count": 46,
     "metadata": {},
     "output_type": "execute_result"
    }
   ],
   "source": [
    "Solution().countSubstrings(\"aaa\")"
   ]
  },
  {
   "cell_type": "markdown",
   "metadata": {},
   "source": [
    "上面做法是$O(n^3)$。应该还有更好的做法。"
   ]
  },
  {
   "cell_type": "code",
   "execution_count": 55,
   "metadata": {},
   "outputs": [],
   "source": [
    "import collections\n",
    "class Solution:\n",
    "    def topKFrequent(self, nums, k):\n",
    "        \"\"\"\n",
    "        :type nums: List[int]\n",
    "        :type k: int\n",
    "        :rtype: List[int]\n",
    "        \"\"\"\n",
    "        return [i[0] for i in collections.Counter(nums).most_common(k)]"
   ]
  },
  {
   "cell_type": "code",
   "execution_count": 57,
   "metadata": {},
   "outputs": [
    {
     "data": {
      "text/plain": [
       "[1, 3]"
      ]
     },
     "execution_count": 57,
     "metadata": {},
     "output_type": "execute_result"
    }
   ],
   "source": [
    "Solution().topKFrequent([1, 1, 3, 3], 3)"
   ]
  },
  {
   "cell_type": "markdown",
   "metadata": {},
   "source": [
    "## 869. Reordered Power of 2\n",
    "\n",
    "https://leetcode.com/problems/reordered-power-of-2/description/"
   ]
  },
  {
   "cell_type": "code",
   "execution_count": 77,
   "metadata": {},
   "outputs": [],
   "source": [
    "import itertools\n",
    "class Solution:\n",
    "    def reorderedPowerOf2(self, N):\n",
    "        \"\"\"\n",
    "        :type N: int\n",
    "        :rtype: bool\n",
    "        \"\"\"\n",
    "        for i in set(itertools.permutations(str(N))):\n",
    "#             print(i)\n",
    "            if i[0] == \"0\":\n",
    "                continue\n",
    "            q = int(\"\".join(i))\n",
    "            if q & (q - 1) == 0:\n",
    "                return True\n",
    "        return False"
   ]
  },
  {
   "cell_type": "code",
   "execution_count": 81,
   "metadata": {},
   "outputs": [
    {
     "data": {
      "text/plain": [
       "True"
      ]
     },
     "execution_count": 81,
     "metadata": {},
     "output_type": "execute_result"
    }
   ],
   "source": [
    "Solution().reorderedPowerOf2(850239671)"
   ]
  },
  {
   "cell_type": "code",
   "execution_count": 79,
   "metadata": {
    "scrolled": true
   },
   "outputs": [
    {
     "data": {
      "text/plain": [
       "True"
      ]
     },
     "execution_count": 79,
     "metadata": {},
     "output_type": "execute_result"
    }
   ],
   "source": [
    "Solution().reorderedPowerOf2(121278734)"
   ]
  },
  {
   "cell_type": "markdown",
   "metadata": {},
   "source": [
    "但是上面的做法会time limit exceed。\n",
    "\n",
    "如果换个思路，我们不去检测每个组合，而是反过来，生成和N位数相同的2的指数，然后用`Counter`数每个数出现的次数。\n",
    "\n",
    "发现$2^{31} > 10^9 $所以最多只要位移32次就好了。"
   ]
  },
  {
   "cell_type": "code",
   "execution_count": 96,
   "metadata": {},
   "outputs": [],
   "source": [
    "import collections\n",
    "class Solution:\n",
    "    def reorderedPowerOf2(self, N):\n",
    "        \"\"\"\n",
    "        :type N: int\n",
    "        :rtype: bool\n",
    "        \"\"\"\n",
    "        lengthN = len(str(N))\n",
    "        counter = collections.Counter(str(N))\n",
    "        targets = []\n",
    "        for i in range(32):\n",
    "            q = str(1 << i)\n",
    "            if len(q) == lengthN:\n",
    "                targets.append(q)\n",
    "#         print(targets)\n",
    "        if any(collections.Counter(i) == counter for i in targets):\n",
    "            return True\n",
    "        else:\n",
    "            return False"
   ]
  },
  {
   "cell_type": "code",
   "execution_count": 97,
   "metadata": {},
   "outputs": [
    {
     "name": "stdout",
     "output_type": "stream",
     "text": [
      "['134217728', '268435456', '536870912']\n"
     ]
    },
    {
     "data": {
      "text/plain": [
       "True"
      ]
     },
     "execution_count": 97,
     "metadata": {},
     "output_type": "execute_result"
    }
   ],
   "source": [
    "Solution().reorderedPowerOf2(850239671)"
   ]
  },
  {
   "cell_type": "code",
   "execution_count": 98,
   "metadata": {
    "scrolled": true
   },
   "outputs": [
    {
     "name": "stdout",
     "output_type": "stream",
     "text": [
      "['134217728', '268435456', '536870912']\n"
     ]
    },
    {
     "data": {
      "text/plain": [
       "True"
      ]
     },
     "execution_count": 98,
     "metadata": {},
     "output_type": "execute_result"
    }
   ],
   "source": [
    "Solution().reorderedPowerOf2(121278734)"
   ]
  },
  {
   "cell_type": "code",
   "execution_count": 99,
   "metadata": {
    "scrolled": true
   },
   "outputs": [
    {
     "name": "stdout",
     "output_type": "stream",
     "text": [
      "['1', '2', '4', '8']\n"
     ]
    },
    {
     "data": {
      "text/plain": [
       "True"
      ]
     },
     "execution_count": 99,
     "metadata": {},
     "output_type": "execute_result"
    }
   ],
   "source": [
    "Solution().reorderedPowerOf2(1)"
   ]
  },
  {
   "cell_type": "markdown",
   "metadata": {},
   "source": [
    "上面的方法非常好。"
   ]
  },
  {
   "cell_type": "markdown",
   "metadata": {},
   "source": [
    "## 697. Degree of an Array\n",
    "\n",
    "https://leetcode.com/problems/degree-of-an-array/description/"
   ]
  },
  {
   "cell_type": "code",
   "execution_count": 109,
   "metadata": {},
   "outputs": [],
   "source": [
    "import collections\n",
    "class Solution:\n",
    "    def findShortestSubArray(self, nums):\n",
    "        \"\"\"\n",
    "        :type nums: List[int]\n",
    "        :rtype: int\n",
    "        \"\"\"\n",
    "        counter = collections.Counter(nums)\n",
    "        mostCommonTimes = counter.most_common(1)[0][1]\n",
    "        mostCommons = [index for index, value in counter.most_common() if value == mostCommonTimes]\n",
    "#         找到所有出现频率和最频繁出现的那个数字的出现频率相同的数字\n",
    "#         print(mostCommons)\n",
    "        return len(nums) - max(nums[:: -1].index(i) + nums.index(i) for i in mostCommons)"
   ]
  },
  {
   "cell_type": "code",
   "execution_count": 107,
   "metadata": {},
   "outputs": [
    {
     "name": "stdout",
     "output_type": "stream",
     "text": [
      "[1, 2]\n"
     ]
    },
    {
     "data": {
      "text/plain": [
       "2"
      ]
     },
     "execution_count": 107,
     "metadata": {},
     "output_type": "execute_result"
    }
   ],
   "source": [
    "Solution().findShortestSubArray([1, 2, 2, 3, 1])"
   ]
  },
  {
   "cell_type": "code",
   "execution_count": 108,
   "metadata": {},
   "outputs": [
    {
     "name": "stdout",
     "output_type": "stream",
     "text": [
      "[2]\n"
     ]
    },
    {
     "data": {
      "text/plain": [
       "6"
      ]
     },
     "execution_count": 108,
     "metadata": {},
     "output_type": "execute_result"
    }
   ],
   "source": [
    "Solution().findShortestSubArray([1, 2, 2, 3, 1, 4, 2])"
   ]
  },
  {
   "cell_type": "markdown",
   "metadata": {},
   "source": [
    "## 554. Brick Wall\n",
    "\n",
    "https://leetcode.com/problems/brick-wall/description/"
   ]
  },
  {
   "cell_type": "markdown",
   "metadata": {},
   "source": [
    "搞一个`dict`，当然最好用`defaultdict`，记录距离墙最左端每个单位距离的缝隙的数量。遍历每行就好了。\n",
    "\n",
    "还要注意最后处理一下corner case，也就是把最右的情况去掉。"
   ]
  },
  {
   "cell_type": "code",
   "execution_count": 123,
   "metadata": {},
   "outputs": [],
   "source": [
    "import collections\n",
    "class Solution:\n",
    "    def leastBricks(self, wall):\n",
    "        \"\"\"\n",
    "        :type wall: List[List[int]]\n",
    "        :rtype: int\n",
    "        \"\"\"\n",
    "        seeps = collections.defaultdict(int)\n",
    "        width = sum(wall[0])\n",
    "        for row in wall:\n",
    "            for index, brick in enumerate(row):\n",
    "                seeps[sum(row[0: index]) + brick] += 1\n",
    "        del seeps[width]\n",
    "#         print(seeps)\n",
    "        return len(wall) - max(seeps.values(), default=0)"
   ]
  },
  {
   "cell_type": "code",
   "execution_count": 124,
   "metadata": {},
   "outputs": [
    {
     "name": "stdout",
     "output_type": "stream",
     "text": [
      "defaultdict(<class 'int'>, {1: 3, 3: 3, 5: 2, 4: 4, 2: 1})\n"
     ]
    },
    {
     "data": {
      "text/plain": [
       "2"
      ]
     },
     "execution_count": 124,
     "metadata": {},
     "output_type": "execute_result"
    }
   ],
   "source": [
    "Solution().leastBricks([[1,2,2,1],\n",
    " [3,1,2],\n",
    " [1,3,2],\n",
    " [2,4],\n",
    " [3,1,2],\n",
    " [1,3,1,1]])"
   ]
  },
  {
   "cell_type": "code",
   "execution_count": 126,
   "metadata": {},
   "outputs": [
    {
     "name": "stdout",
     "output_type": "stream",
     "text": [
      "defaultdict(<class 'int'>, {})\n"
     ]
    },
    {
     "data": {
      "text/plain": [
       "2"
      ]
     },
     "execution_count": 126,
     "metadata": {},
     "output_type": "execute_result"
    }
   ],
   "source": [
    "Solution().leastBricks([\n",
    "    [3],\n",
    "    [3]\n",
    "])"
   ]
  },
  {
   "cell_type": "markdown",
   "metadata": {},
   "source": [
    "一点小改动，可以快很多。"
   ]
  },
  {
   "cell_type": "code",
   "execution_count": 127,
   "metadata": {},
   "outputs": [],
   "source": [
    "import collections\n",
    "class Solution:\n",
    "    def leastBricks(self, wall):\n",
    "        \"\"\"\n",
    "        :type wall: List[List[int]]\n",
    "        :rtype: int\n",
    "        \"\"\"\n",
    "        seeps = collections.defaultdict(int)\n",
    "        width = sum(wall[0])\n",
    "        for row in wall:\n",
    "            i = 0\n",
    "            for index, brick in enumerate(row):\n",
    "                i += brick\n",
    "                seeps[i] += 1\n",
    "        del seeps[width]\n",
    "#         print(seeps)\n",
    "        return len(wall) - max(seeps.values(), default=0)"
   ]
  },
  {
   "cell_type": "code",
   "execution_count": 128,
   "metadata": {},
   "outputs": [
    {
     "data": {
      "text/plain": [
       "2"
      ]
     },
     "execution_count": 128,
     "metadata": {},
     "output_type": "execute_result"
    }
   ],
   "source": [
    "Solution().leastBricks([\n",
    "    [3],\n",
    "    [3]\n",
    "])"
   ]
  },
  {
   "cell_type": "markdown",
   "metadata": {},
   "source": [
    "## 318. Maximum Product of Word Lengths\n",
    "\n",
    "https://leetcode.com/problems/maximum-product-of-word-lengths/description/"
   ]
  },
  {
   "cell_type": "markdown",
   "metadata": {},
   "source": [
    "要在`words`找到两个元素，使得它们没有共同字母、并且两个元素的长度的积最大。\n",
    "\n",
    "暴力做法就是先筛选出所有没有共同字母的单词对，然后算他们的长度积，拿到最大的。复杂度是$O(n^2)$。\n",
    "\n",
    "但是在筛选这个步骤可以做点优化。可以用一下`dict`，index是类似hash的东西，设置26位，每一位指示是否有a, b, c, ..., z这些字母，value存由同样字母组成的单词的最大长度。这样列举单词对的时候，对数也会少很多，因为很多单词的组成字母都是一样的。列举单词对的时候，取出的都是由同样字母组成的单词里最长的词的长度。\n",
    "\n",
    "判断的时候更快更简单，直接按位与，如果两个单词组成字母没有重合的，按位与出来的结果是0。"
   ]
  },
  {
   "cell_type": "code",
   "execution_count": 189,
   "metadata": {},
   "outputs": [],
   "source": [
    "import itertools\n",
    "import collections\n",
    "class Solution:\n",
    "    def maxProduct(self, words):\n",
    "        \"\"\"\n",
    "        :type words: List[str]\n",
    "        :rtype: int\n",
    "        \"\"\"\n",
    "        q = collections.defaultdict(int)\n",
    "        for word in set(words):\n",
    "            index = sum(1 << (ord(char) - 97) for char in set(word)) # `a`的ascii是97\n",
    "            q[index] = max(q[index], len(word))\n",
    "#         print(words)\n",
    "        return max((a[1] * b[1] for a, b in itertools.combinations(q.items(), 2) if a[0] & b[0] == 0), default=0)"
   ]
  },
  {
   "cell_type": "code",
   "execution_count": 179,
   "metadata": {},
   "outputs": [
    {
     "data": {
      "text/plain": [
       "16"
      ]
     },
     "execution_count": 179,
     "metadata": {},
     "output_type": "execute_result"
    }
   ],
   "source": [
    "Solution().maxProduct([\"abcw\",\"baz\",\"foo\",\"bar\",\"xtfn\",\"abcdef\"])"
   ]
  },
  {
   "cell_type": "code",
   "execution_count": 180,
   "metadata": {},
   "outputs": [
    {
     "data": {
      "text/plain": [
       "0"
      ]
     },
     "execution_count": 180,
     "metadata": {},
     "output_type": "execute_result"
    }
   ],
   "source": [
    "Solution().maxProduct([])"
   ]
  },
  {
   "cell_type": "code",
   "execution_count": 181,
   "metadata": {},
   "outputs": [
    {
     "data": {
      "text/plain": [
       "0"
      ]
     },
     "execution_count": 181,
     "metadata": {},
     "output_type": "execute_result"
    }
   ],
   "source": [
    "Solution().maxProduct([\"a\",\"aa\",\"aaa\",\"aaaa\"])"
   ]
  },
  {
   "cell_type": "code",
   "execution_count": 182,
   "metadata": {},
   "outputs": [
    {
     "data": {
      "text/plain": [
       "4"
      ]
     },
     "execution_count": 182,
     "metadata": {},
     "output_type": "execute_result"
    }
   ],
   "source": [
    "Solution().maxProduct([\"a\",\"ab\",\"abc\",\"d\",\"cd\",\"bcd\",\"abcd\"])"
   ]
  },
  {
   "cell_type": "code",
   "execution_count": 183,
   "metadata": {},
   "outputs": [
    {
     "data": {
      "text/plain": [
       "45"
      ]
     },
     "execution_count": 183,
     "metadata": {},
     "output_type": "execute_result"
    }
   ],
   "source": [
    "Solution().maxProduct([\"bdcecbcadca\",\"caafd\",\"bcadc\",\"eaedfcd\",\"fcdecf\",\"dee\",\"bfedd\",\"ffafd\",\"eceaffa\",\"caabe\",\"fbdb\",\"acafbccaa\",\"cdc\",\"ecfdebaafde\",\"cddbabf\",\"adc\",\"cccce\",\"cbbe\",\"beedf\",\"fafbfdcb\",\"ceecfabedbd\",\"aadbedeaf\",\"cffdcfde\",\"fbbdfdccce\",\"ccada\",\"fb\",\"fa\",\"ec\",\"dddafded\",\"accdda\",\"acaad\",\"ba\",\"dabe\",\"cdfcaa\",\"caadfedd\",\"dcdcab\",\"fadbabace\",\"edfdb\",\"dbaaffdfa\",\"efdffceeeb\",\"aefdf\",\"fbadcfcc\",\"dcaeddd\",\"baeb\",\"beddeed\",\"fbfdffa\",\"eecacbbd\",\"fcde\",\"fcdb\",\"eac\",\"aceffea\",\"ebabfffdaab\",\"eedbd\",\"fdeed\",\"aeb\",\"fbb\",\"ad\",\"bcafdabfbdc\",\"cfcdf\",\"deadfed\",\"acdadbdcdb\",\"fcbdbeeb\",\"cbeb\",\"acbcafca\",\"abbcbcbaef\",\"aadcafddf\",\"bd\",\"edcebadec\",\"cdcbabbdacc\",\"adabaea\",\"dcebf\",\"ffacdaeaeeb\",\"afedfcadbb\",\"aecccdfbaff\",\"dfcfda\",\"febb\",\"bfffcaa\",\"dffdbcbeacf\",\"cfa\",\"eedeadfafd\",\"fcaa\",\"addbcad\",\"eeaaa\",\"af\",\"fafc\",\"bedbbbdfae\",\"adfecadcabe\",\"efffdaa\",\"bafbcbcbe\",\"fcafabcc\",\"ec\",\"dbddd\",\"edfaeabecee\",\"fcbedad\",\"abcddfbc\",\"afdafb\",\"afe\",\"cdad\",\"abdffbc\",\"dbdbebdbb\"])"
   ]
  },
  {
   "cell_type": "code",
   "execution_count": null,
   "metadata": {},
   "outputs": [],
   "source": [
    "class Solution(object):\n",
    "    def maxProduct(self, words):\n",
    "        d = {}\n",
    "        for w in words:\n",
    "            mask = 0\n",
    "            for c in set(w):\n",
    "                mask |= (1 << (ord(c) - 97))\n",
    "            d[mask] = max(d.get(mask, 0), len(w))\n",
    "        return max([d[x] * d[y] for x in d for y in d if not x & y] or [0])"
   ]
  },
  {
   "cell_type": "markdown",
   "metadata": {},
   "source": [
    "暴力判断。time limit exceed。"
   ]
  },
  {
   "cell_type": "code",
   "execution_count": 184,
   "metadata": {},
   "outputs": [],
   "source": [
    "import itertools\n",
    "class Solution:\n",
    "    def maxProduct(self, words):\n",
    "        \"\"\"\n",
    "        :type words: List[str]\n",
    "        :rtype: int\n",
    "        \"\"\"\n",
    "        q = 0\n",
    "        for word1, word2 in itertools.combinations(set(words), 2):\n",
    "            if not set(word1).intersection(word2):\n",
    "                q = max(q, len(word1) * len(word2))\n",
    "        return q"
   ]
  },
  {
   "cell_type": "code",
   "execution_count": 185,
   "metadata": {},
   "outputs": [
    {
     "data": {
      "text/plain": [
       "4"
      ]
     },
     "execution_count": 185,
     "metadata": {},
     "output_type": "execute_result"
    }
   ],
   "source": [
    "Solution().maxProduct([\"a\",\"ab\",\"abc\",\"d\",\"cd\",\"bcd\",\"abcd\"])"
   ]
  },
  {
   "cell_type": "code",
   "execution_count": 186,
   "metadata": {},
   "outputs": [
    {
     "data": {
      "text/plain": [
       "16"
      ]
     },
     "execution_count": 186,
     "metadata": {},
     "output_type": "execute_result"
    }
   ],
   "source": [
    "Solution().maxProduct([\"abcw\",\"baz\",\"foo\",\"bar\",\"xtfn\",\"abcdef\"])"
   ]
  },
  {
   "cell_type": "markdown",
   "metadata": {},
   "source": [
    "## 599. Minimum Index Sum of Two Lists\n",
    "\n",
    "https://leetcode.com/problems/minimum-index-sum-of-two-lists/description/"
   ]
  },
  {
   "cell_type": "code",
   "execution_count": 226,
   "metadata": {},
   "outputs": [],
   "source": [
    "import collections\n",
    "class Solution:\n",
    "    def findRestaurant(self, list1, list2):\n",
    "        \"\"\"\n",
    "        :type list1: List[str]\n",
    "        :type list2: List[str]\n",
    "        :rtype: List[str]\n",
    "        \"\"\"\n",
    "        commons = set(list1).intersection(list2)\n",
    "        ranking = collections.Counter({i: list1.index(i) + list2.index(i) for i in commons})\n",
    "        minima = ranking.most_common()[:: -1][0][1]\n",
    "        return [index for index, value in ranking.items() if value == minima]"
   ]
  },
  {
   "cell_type": "code",
   "execution_count": 227,
   "metadata": {},
   "outputs": [
    {
     "data": {
      "text/plain": [
       "['Shogun']"
      ]
     },
     "execution_count": 227,
     "metadata": {},
     "output_type": "execute_result"
    }
   ],
   "source": [
    "Solution().findRestaurant([\"Shogun\", \"Tapioca Express\", \"Burger King\", \"KFC\"]\n",
    ", [\"Piatti\", \"The Grill at Torrey Pines\", \"Hungry Hunter Steakhouse\", \"Shogun\"])"
   ]
  },
  {
   "cell_type": "code",
   "execution_count": 228,
   "metadata": {},
   "outputs": [
    {
     "data": {
      "text/plain": [
       "['Shogun']"
      ]
     },
     "execution_count": 228,
     "metadata": {},
     "output_type": "execute_result"
    }
   ],
   "source": [
    "Solution().findRestaurant([\"Shogun\", \"Tapioca Express\", \"Burger King\", \"KFC\"]\n",
    ", [\"KFC\", \"Shogun\", \"Burger King\"])"
   ]
  },
  {
   "cell_type": "markdown",
   "metadata": {},
   "source": [
    "## 592. Fraction Addition and Subtraction\n",
    "\n",
    "https://leetcode.com/problems/fraction-addition-and-subtraction/description/"
   ]
  },
  {
   "cell_type": "code",
   "execution_count": 307,
   "metadata": {},
   "outputs": [],
   "source": [
    "import fractions\n",
    "class Solution:\n",
    "    def fractionAddition(self, expression):\n",
    "        \"\"\"\n",
    "        :type expression: str\n",
    "        :rtype: str\n",
    "        \"\"\"\n",
    "        args = map(fractions.Fraction, expression.replace(\"+\", \" +\").replace(\"-\", \" -\").split())\n",
    "        q = sum(args)\n",
    "        return str(q.numerator) + \"/\" + str(q.denominator)"
   ]
  },
  {
   "cell_type": "code",
   "execution_count": 240,
   "metadata": {},
   "outputs": [
    {
     "data": {
      "text/plain": [
       "'0/1'"
      ]
     },
     "execution_count": 240,
     "metadata": {},
     "output_type": "execute_result"
    }
   ],
   "source": [
    "Solution().fractionAddition(\"-1/2+1/2\")"
   ]
  },
  {
   "cell_type": "code",
   "execution_count": 308,
   "metadata": {},
   "outputs": [
    {
     "data": {
      "text/plain": [
       "'-1/42'"
      ]
     },
     "execution_count": 308,
     "metadata": {},
     "output_type": "execute_result"
    }
   ],
   "source": [
    "Solution().fractionAddition(\"-1/6+1/7\")"
   ]
  },
  {
   "cell_type": "markdown",
   "metadata": {},
   "source": [
    "## 846. Hand of Straights\n",
    "\n",
    "https://leetcode.com/problems/hand-of-straights/description/"
   ]
  },
  {
   "cell_type": "code",
   "execution_count": null,
   "metadata": {},
   "outputs": [],
   "source": [
    "class Solution:\n",
    "    def isNStraightHand(self, hand, W):\n",
    "        \"\"\"\n",
    "        :type hand: List[int]\n",
    "        :type W: int\n",
    "        :rtype: bool\n",
    "        \"\"\"\n",
    "        if len(hand) % len(W) != 0:\n",
    "            return False\n",
    "        \n",
    "        "
   ]
  },
  {
   "cell_type": "markdown",
   "metadata": {},
   "source": [
    "## 507. Perfect Number"
   ]
  },
  {
   "cell_type": "code",
   "execution_count": 1,
   "metadata": {},
   "outputs": [],
   "source": [
    "class Solution:\n",
    "    def checkPerfectNumber(self, num):\n",
    "        \"\"\"\n",
    "        :type num: int\n",
    "        :rtype: bool\n",
    "        \"\"\"\n",
    "        divisors = []\n",
    "        for i in range(1, num // 2 + 1):\n",
    "            if num % i == 0:\n",
    "                divisors.append(i)\n",
    "        return sum(divisors) == num"
   ]
  },
  {
   "cell_type": "code",
   "execution_count": 4,
   "metadata": {
    "scrolled": true
   },
   "outputs": [
    {
     "data": {
      "text/plain": [
       "False"
      ]
     },
     "execution_count": 4,
     "metadata": {},
     "output_type": "execute_result"
    }
   ],
   "source": [
    "Solution().checkPerfectNumber(20996011)"
   ]
  },
  {
   "cell_type": "markdown",
   "metadata": {},
   "source": [
    "上面的太慢了。\n",
    "\n",
    "实际上perfect numbers是很少的很少的，少到人们怀疑是否有无限个perfect numbers。\n",
    "\n",
    "https://en.wikipedia.org/wiki/Perfect_number"
   ]
  },
  {
   "cell_type": "code",
   "execution_count": 5,
   "metadata": {},
   "outputs": [],
   "source": [
    "class Solution:\n",
    "    def checkPerfectNumber(self, num):\n",
    "        \"\"\"\n",
    "        :type num: int\n",
    "        :rtype: bool\n",
    "        \"\"\"\n",
    "        return num in {6, 28, 496, 8128, 33550336, 8589869056}"
   ]
  },
  {
   "cell_type": "markdown",
   "metadata": {},
   "source": [
    "## 455. Assign Cookies\n",
    "\n",
    "https://leetcode.com/problems/assign-cookies/description/"
   ]
  },
  {
   "cell_type": "code",
   "execution_count": null,
   "metadata": {},
   "outputs": [],
   "source": [
    "class Solution:\n",
    "    def findContentChildren(self, g, s):\n",
    "        \"\"\"\n",
    "        :type g: List[int]\n",
    "        :type s: List[int]\n",
    "        :rtype: int\n",
    "        \"\"\"\n",
    "        g = sorted(g)\n",
    "        s = sorted(s)\n",
    "        length = len(g)\n",
    "        for cookie in s:\n",
    "            if cookie >= "
   ]
  },
  {
   "cell_type": "markdown",
   "metadata": {},
   "source": [
    "## 684. Redundant Connection\n",
    "\n",
    "https://leetcode.com/problems/redundant-connection/description/"
   ]
  },
  {
   "cell_type": "markdown",
   "metadata": {},
   "source": [
    "## 498. Diagonal Traverse\n",
    "\n",
    "https://leetcode.com/problems/diagonal-traverse/description/"
   ]
  },
  {
   "cell_type": "code",
   "execution_count": 10,
   "metadata": {},
   "outputs": [],
   "source": [
    "class Solution:\n",
    "    def findDiagonalOrder(self, matrix):\n",
    "        \"\"\"\n",
    "        :type matrix: List[List[int]]\n",
    "        :rtype: List[int]\n",
    "        \"\"\"\n",
    "        indices = sorted(((i, j) for i in range(len(matrix)) for j in range(len(matrix[0]))), key=lambda x: x[0] + x[1] - x[(x[0] + x[1]) % 2] * 0.00000001)\n",
    "        return [matrix[i][j] for i, j in indices]"
   ]
  },
  {
   "cell_type": "code",
   "execution_count": 11,
   "metadata": {},
   "outputs": [
    {
     "data": {
      "text/plain": [
       "[1, 2, 4, 7, 5, 3, 6, 8, 9]"
      ]
     },
     "execution_count": 11,
     "metadata": {},
     "output_type": "execute_result"
    }
   ],
   "source": [
    "Solution().findDiagonalOrder([\n",
    " [ 1, 2, 3 ],\n",
    " [ 4, 5, 6 ],\n",
    " [ 7, 8, 9 ]\n",
    "]\n",
    ")"
   ]
  },
  {
   "cell_type": "markdown",
   "metadata": {},
   "source": [
    "## 89. Gray Code\n",
    "\n",
    "https://leetcode.com/problems/gray-code/description/"
   ]
  },
  {
   "cell_type": "markdown",
   "metadata": {},
   "source": [
    "https://en.wikipedia.org/wiki/Gray_code 这里有最快的方法。\n",
    "\n",
    "```c\n",
    "unsigned int BinaryToGray(unsigned int num)\n",
    "{\n",
    "    return num ^ (num >> 1);\n",
    "}\n",
    "\n",
    "/*\n",
    " * This function converts a reflected binary\n",
    " * Gray code number to a binary number.\n",
    " * Each Gray code bit is exclusive-ored with all\n",
    " * more significant bits.\n",
    " */\n",
    "unsigned int GrayToBinary(unsigned int num)\n",
    "{\n",
    "    unsigned int mask = num >> 1;\n",
    "    while (mask != 0)\n",
    "    {\n",
    "        num = num ^ mask;\n",
    "        mask = mask >> 1;\n",
    "    }\n",
    "    return num;\n",
    "}\n",
    "```"
   ]
  },
  {
   "cell_type": "code",
   "execution_count": 12,
   "metadata": {},
   "outputs": [],
   "source": [
    "class Solution:\n",
    "    def grayCode(self, n):\n",
    "        \"\"\"\n",
    "        :type n: int\n",
    "        :rtype: List[int]\n",
    "        \"\"\"\n",
    "        return [i ^ (i >> 1) for i in range(2 ** n)]"
   ]
  },
  {
   "cell_type": "code",
   "execution_count": 13,
   "metadata": {},
   "outputs": [
    {
     "data": {
      "text/plain": [
       "[0, 1, 3, 2]"
      ]
     },
     "execution_count": 13,
     "metadata": {},
     "output_type": "execute_result"
    }
   ],
   "source": [
    "Solution().grayCode(2)"
   ]
  },
  {
   "cell_type": "code",
   "execution_count": 14,
   "metadata": {},
   "outputs": [
    {
     "data": {
      "text/plain": [
       "[0]"
      ]
     },
     "execution_count": 14,
     "metadata": {},
     "output_type": "execute_result"
    }
   ],
   "source": [
    "Solution().grayCode(0)"
   ]
  },
  {
   "cell_type": "markdown",
   "metadata": {},
   "source": [
    "## 717. 1-bit and 2-bit Characters\n",
    "\n",
    "https://leetcode.com/problems/1-bit-and-2-bit-characters/description/"
   ]
  },
  {
   "cell_type": "markdown",
   "metadata": {},
   "source": [
    "感觉可以用Moore状态机来做。\n",
    "\n",
    "- `state0`表示检测到了0\n",
    "  \n",
    "  - 如果遇到1，进入`state1`\n",
    "  - 如果遇到0，待在原地\n",
    "  \n",
    "- `state1`表示已经接收到了一个1，还在等待下一个字符\n",
    "  \n",
    "  - 如果再遇到一个1，进入`state11`\n",
    "  - 如果遇到一个0，进入`state10`\n",
    "  \n",
    "- `state11`表示检测到了11\n",
    "\n",
    "  - 如果遇到1，进入`state1`\n",
    "  - 如果遇到0，进入`state0`\n",
    "  \n",
    "- `state10`表示检测到了10\n",
    "    \n",
    "  - 如果遇到1，进入`state1`\n",
    "  - 如果遇到0，进入`state0`"
   ]
  },
  {
   "cell_type": "code",
   "execution_count": 16,
   "metadata": {},
   "outputs": [],
   "source": [
    "class Solution:\n",
    "    def isOneBitCharacter(self, bits):\n",
    "        \"\"\"\n",
    "        :type bits: List[int]\n",
    "        :rtype: bool\n",
    "        \"\"\"\n",
    "        state0 = 0\n",
    "        state1 = 1\n",
    "        state11 = 2\n",
    "        state10 = 3\n",
    "        state = state0\n",
    "        for i in bits:\n",
    "            if state == state0:\n",
    "                if i == 1:\n",
    "                    state = state1\n",
    "            elif state == state1:\n",
    "                if i == 1:\n",
    "                    state = state11\n",
    "                elif i == 0:\n",
    "                    state = state10\n",
    "            elif state == state11:\n",
    "                if i == 0:\n",
    "                    state = state0\n",
    "                elif i == 1:\n",
    "                    state = state1\n",
    "            elif state == state10:\n",
    "                if i == 1:\n",
    "                    state = state1\n",
    "                elif i == 0:\n",
    "                    state = state0\n",
    "        return state == state0"
   ]
  },
  {
   "cell_type": "code",
   "execution_count": 17,
   "metadata": {},
   "outputs": [
    {
     "data": {
      "text/plain": [
       "True"
      ]
     },
     "execution_count": 17,
     "metadata": {},
     "output_type": "execute_result"
    }
   ],
   "source": [
    "Solution().isOneBitCharacter([1, 0, 0])"
   ]
  },
  {
   "cell_type": "code",
   "execution_count": 18,
   "metadata": {},
   "outputs": [
    {
     "data": {
      "text/plain": [
       "False"
      ]
     },
     "execution_count": 18,
     "metadata": {},
     "output_type": "execute_result"
    }
   ],
   "source": [
    "Solution().isOneBitCharacter([1, 1, 1, 0])"
   ]
  },
  {
   "cell_type": "code",
   "execution_count": 22,
   "metadata": {},
   "outputs": [
    {
     "data": {
      "text/plain": [
       "False"
      ]
     },
     "execution_count": 22,
     "metadata": {},
     "output_type": "execute_result"
    }
   ],
   "source": [
    "Solution().isOneBitCharacter([1, 0])"
   ]
  },
  {
   "cell_type": "markdown",
   "metadata": {},
   "source": [
    "## 494. Target Sum\n",
    "\n",
    "https://leetcode.com/problems/target-sum/description/"
   ]
  },
  {
   "cell_type": "code",
   "execution_count": null,
   "metadata": {},
   "outputs": [],
   "source": [
    "class Solution:\n",
    "    def findTargetSumWays(self, nums, S):\n",
    "        \"\"\"\n",
    "        :type nums: List[int]\n",
    "        :type S: int\n",
    "        :rtype: int\n",
    "        \"\"\"\n",
    "        "
   ]
  },
  {
   "cell_type": "markdown",
   "metadata": {},
   "source": [
    "## 386. Lexicographical Numbers\n",
    "\n",
    "https://leetcode.com/problems/lexicographical-numbers/description/"
   ]
  },
  {
   "cell_type": "code",
   "execution_count": 23,
   "metadata": {},
   "outputs": [],
   "source": [
    "class Solution:\n",
    "    def lexicalOrder(self, n):\n",
    "        \"\"\"\n",
    "        :type n: int\n",
    "        :rtype: List[int]\n",
    "        \"\"\"\n",
    "        return sorted(range(1, n + 1), key=str)"
   ]
  },
  {
   "cell_type": "markdown",
   "metadata": {},
   "source": [
    "## 857. Minimum Cost to Hire K Workers\n",
    "\n",
    "https://leetcode.com/problems/minimum-cost-to-hire-k-workers/description/"
   ]
  },
  {
   "cell_type": "code",
   "execution_count": null,
   "metadata": {},
   "outputs": [],
   "source": [
    "class Solution:\n",
    "    def mincostToHireWorkers(self, quality, wage, K):\n",
    "        \"\"\"\n",
    "        :type quality: List[int]\n",
    "        :type wage: List[int]\n",
    "        :type K: int\n",
    "        :rtype: float\n",
    "        \"\"\"\n",
    "        "
   ]
  },
  {
   "cell_type": "markdown",
   "metadata": {},
   "source": [
    "##  820. Short Encoding of Words"
   ]
  },
  {
   "cell_type": "code",
   "execution_count": 1,
   "metadata": {},
   "outputs": [],
   "source": [
    "class Solution:\n",
    "    def minimumLengthEncoding(self, words):\n",
    "        \"\"\"\n",
    "        :type words: List[str]\n",
    "        :rtype: int\n",
    "        \"\"\"\n",
    "        words = sorted(words, key=len)\n",
    "        popIndexes = set()\n",
    "        for index, value in enumerate(words[: -1]):\n",
    "            for value2 in words[index + 1:]:\n",
    "                if value2.endswith(value):\n",
    "                    popIndexes.add(index)\n",
    "        return sum([len(value) if index not in popIndexes else 0 for index, value in enumerate(words)]) + len(words) - len(popIndexes)"
   ]
  },
  {
   "cell_type": "code",
   "execution_count": 19,
   "metadata": {},
   "outputs": [
    {
     "data": {
      "text/plain": [
       "10"
      ]
     },
     "execution_count": 19,
     "metadata": {},
     "output_type": "execute_result"
    }
   ],
   "source": [
    "Solution().minimumLengthEncoding([\"time\", \"me\", \"bell\"])"
   ]
  },
  {
   "cell_type": "code",
   "execution_count": 20,
   "metadata": {},
   "outputs": [
    {
     "data": {
      "text/plain": [
       "5"
      ]
     },
     "execution_count": 20,
     "metadata": {},
     "output_type": "execute_result"
    }
   ],
   "source": [
    "Solution().minimumLengthEncoding([\"time\", \"time\", \"time\", \"time\"])"
   ]
  },
  {
   "cell_type": "code",
   "execution_count": 22,
   "metadata": {},
   "outputs": [
    {
     "data": {
      "text/plain": [
       "14018"
      ]
     },
     "execution_count": 22,
     "metadata": {},
     "output_type": "execute_result"
    }
   ],
   "source": [
    "Solution().minimumLengthEncoding([\"nydoptn\",\"yayfxmu\",\"aiprifz\",\"yhgwgk\",\"ahmisb\",\"drwkqe\",\"bdffcj\",\"kyhxu\",\"dibeapv\",\"bijkq\",\"pkdgi\",\"fyufy\",\"hbksgrv\",\"pvgmoc\",\"mmcebki\",\"rymco\",\"wdicegh\",\"tdxwpws\",\"fhgqaq\",\"pvhnv\",\"buvrttd\",\"ssfjlzn\",\"gobdr\",\"gvzxvqu\",\"qftzcyw\",\"snlbc\",\"wykqmb\",\"lhqeod\",\"hoakq\",\"klynp\",\"xktvp\",\"mqvlw\",\"txwtek\",\"zyxyrmd\",\"ziwclz\",\"kyqnm\",\"teaka\",\"rwgob\",\"ttfbim\",\"hxiwyj\",\"zlvstwe\",\"rlqyiea\",\"lcjlna\",\"ficwcv\",\"ncunyc\",\"oeivcp\",\"vbabub\",\"wkjeakk\",\"cccnn\",\"zijhvk\",\"eqofjf\",\"dwejn\",\"fgzmn\",\"mdbko\",\"fddep\",\"objwjoj\",\"nozppgq\",\"qjvjzwo\",\"skbtqt\",\"hybuwq\",\"vhojvxl\",\"sbsoya\",\"zuuxzn\",\"vnhmh\",\"ilquam\",\"cwkax\",\"eeafltm\",\"vryqoy\",\"fgggc\",\"phnnsab\",\"sfcqf\",\"heyhn\",\"thhdvng\",\"uezij\",\"ddkgw\",\"tophaq\",\"ygzzd\",\"iajodf\",\"hjkpb\",\"kasguse\",\"xlupcg\",\"qnbzrl\",\"uuuqeuv\",\"uadhr\",\"pqrxmdh\",\"oykep\",\"qeadmz\",\"sudmjnw\",\"tssxpd\",\"toihkac\",\"diyjpvs\",\"remwdf\",\"hmwbi\",\"gffrjyv\",\"ozhrex\",\"xyzmilo\",\"hddkpi\",\"ctkgxnr\",\"gfxyw\",\"zzincl\",\"hrynql\",\"qzzqe\",\"xvitfw\",\"nieys\",\"xpypq\",\"rxkcs\",\"qbiyb\",\"qadcnq\",\"fmebxns\",\"zbdbtsa\",\"uuinbkh\",\"oefidb\",\"zkxcv\",\"ktwrnga\",\"rflkuf\",\"qsmhyw\",\"bxvemr\",\"uadxc\",\"wiinrw\",\"mzyfc\",\"gihwxyp\",\"vrbdjqr\",\"mjddrvo\",\"efbczf\",\"ibjkr\",\"dsohbz\",\"ycauu\",\"nqyxbl\",\"bqroe\",\"cnnzzy\",\"owzcyi\",\"dwcsgre\",\"yfzhdx\",\"qvatjf\",\"kaoqbzn\",\"kwupop\",\"zkeidd\",\"oouzy\",\"nxckj\",\"rxmyyz\",\"sqntq\",\"olkeub\",\"bqjsm\",\"eufael\",\"ksixhfv\",\"xuhanwe\",\"cofwcbd\",\"fzjcij\",\"gpsjl\",\"bapovu\",\"obqre\",\"uifqmsj\",\"vbzzttp\",\"tksmq\",\"jtnrud\",\"xflgah\",\"efnctvf\",\"esckym\",\"nqjibdt\",\"wnaezdp\",\"uknidqs\",\"lgwfgl\",\"cpzbozd\",\"dukhrq\",\"zrjna\",\"yjjrdx\",\"vkilz\",\"fmudp\",\"pvtoz\",\"yajjvm\",\"iuakp\",\"mnjzpd\",\"hozwt\",\"mtynp\",\"rwnsei\",\"mzjbbhg\",\"ueyxbi\",\"rwdzloh\",\"aktlbgy\",\"hrrpj\",\"aejpjf\",\"geuwwnd\",\"zobuwr\",\"tncsz\",\"eegjet\",\"qllgsl\",\"rcyqtnx\",\"ctgnwc\",\"qfidyon\",\"sskvc\",\"hjxfqgl\",\"zwtjx\",\"rqcfgrp\",\"hdhneaf\",\"nkdgzfx\",\"kslmfy\",\"ekdpc\",\"ttanaur\",\"pktbwv\",\"uwioi\",\"spvcn\",\"ysxhiab\",\"gpbol\",\"iftorp\",\"jigcdbh\",\"qitnldl\",\"nakriw\",\"qzdvgn\",\"zsjcsh\",\"uprgu\",\"xkfjeyn\",\"eqret\",\"cpqxer\",\"pwpwucl\",\"jeuye\",\"lcufq\",\"kavqfk\",\"nqwiroe\",\"uiikdze\",\"snxlwqv\",\"fvuro\",\"nleao\",\"qwlnkog\",\"twbzu\",\"lmeerl\",\"iluvy\",\"wnekqb\",\"vpuyt\",\"sdxct\",\"likghq\",\"wrkbht\",\"vyane\",\"dbpjqol\",\"vwylo\",\"mcvrute\",\"krgbbwz\",\"tceomvv\",\"agzzrf\",\"pjvcji\",\"xzxfxd\",\"lmsywbm\",\"zrgdjng\",\"tajqw\",\"pqdfld\",\"vjwakmc\",\"euvdk\",\"ixmrzc\",\"zewxii\",\"kugorfj\",\"rfyanwb\",\"zdmcqpj\",\"impgtsf\",\"rwddxr\",\"dykwre\",\"xnhxgk\",\"ieels\",\"eyzbynm\",\"uuklvh\",\"yyxjcfy\",\"nphqzvo\",\"qguludy\",\"fmstky\",\"waqyunj\",\"zzhgbne\",\"adtsdl\",\"adjnzlw\",\"wuyhkia\",\"fqnir\",\"osppjl\",\"tcwhx\",\"fsare\",\"cnkeo\",\"kajfiq\",\"bzzqp\",\"bpffp\",\"tkthlj\",\"jtwfe\",\"wuarz\",\"oefhkeq\",\"pwxhr\",\"smkiupd\",\"kwwxmrv\",\"urkptza\",\"wxeai\",\"nkqos\",\"nyxrb\",\"aikjnl\",\"efowc\",\"kfkkzx\",\"laqcga\",\"zmcmda\",\"ibwcx\",\"xlcyfqp\",\"luzctq\",\"drmol\",\"blcxn\",\"zrvbfpl\",\"upokwz\",\"iddzazt\",\"yghsgok\",\"gqyaqw\",\"flihmkt\",\"padioya\",\"ljcrmi\",\"ddlqavg\",\"liocmg\",\"gspwjpq\",\"rzdyut\",\"sloknwi\",\"hllgq\",\"uiyszv\",\"fviyzbc\",\"gorwlho\",\"stsilp\",\"wdhjgg\",\"yozyq\",\"bckrpf\",\"velto\",\"hnxpo\",\"umkyei\",\"rvfsnp\",\"yvkxhhp\",\"ezaton\",\"mqcvb\",\"wqvgue\",\"tusqbyt\",\"wchzlt\",\"ibbuvcm\",\"opkjvuc\",\"adgkwo\",\"wusgua\",\"mtqdj\",\"epwhbe\",\"vlfmbjd\",\"luwwenu\",\"ielwha\",\"djrtxdt\",\"ziyyh\",\"btxkfe\",\"hsxjsg\",\"ajxyd\",\"qphevu\",\"hgpdou\",\"kwgxb\",\"idysvn\",\"osswshn\",\"cpxmqf\",\"wdhsvou\",\"kvqpwen\",\"hezjd\",\"xdfuipa\",\"xzyhhee\",\"agqnlog\",\"aewbrzc\",\"uaaam\",\"wnxpto\",\"xzwou\",\"eyomid\",\"ffalsz\",\"djcsm\",\"kxfanu\",\"aqsseu\",\"glrtwcn\",\"eddiz\",\"astsano\",\"xsyii\",\"ofasv\",\"pbvue\",\"isahv\",\"cotyg\",\"tcnhuio\",\"yhvtgfe\",\"tjxsu\",\"lsgqbm\",\"teddl\",\"lwjlb\",\"londd\",\"ajilfg\",\"arfdu\",\"csjvp\",\"bkkxure\",\"xnzdao\",\"uqlxp\",\"bvwqejr\",\"sqrjyrv\",\"uzguf\",\"rikez\",\"hgwsvvt\",\"srdyfpm\",\"rbblpvw\",\"qjywel\",\"ygrhmz\",\"gpblr\",\"aubhdbv\",\"kkefilk\",\"abcos\",\"ozvpumt\",\"rrtft\",\"ticit\",\"dnssibi\",\"rnvxc\",\"mrfhiu\",\"roywhsw\",\"nlklh\",\"ddery\",\"ulqkj\",\"ppvjge\",\"gvlwfd\",\"hyuxv\",\"qxuxx\",\"rnkov\",\"zbuylcy\",\"fclbi\",\"uacho\",\"pvlog\",\"eebnace\",\"ilwsmp\",\"szkpe\",\"qvyfq\",\"aehbum\",\"grrumf\",\"iyrxoym\",\"zqmab\",\"zvoxjtf\",\"wmgfz\",\"yhlwmk\",\"azthhn\",\"xgeqe\",\"bhrtr\",\"uiwmhiy\",\"imqzab\",\"mxvqpq\",\"wsogtd\",\"pgmoehg\",\"krmsgqw\",\"zjgnk\",\"mkvozhp\",\"cfwhj\",\"gktcvml\",\"frjzdli\",\"uepot\",\"rnush\",\"edygzgl\",\"pzhyow\",\"soqqv\",\"dullbdf\",\"ztbdo\",\"dqkak\",\"risvhf\",\"tpegh\",\"fdexde\",\"sblkydw\",\"obvvee\",\"hdexqto\",\"omuirn\",\"msvzm\",\"uwmsoj\",\"ozfdne\",\"behsi\",\"yflmmnc\",\"jcylxbp\",\"woiba\",\"dwvobn\",\"sqmnqju\",\"dikrvn\",\"xqbrs\",\"rywhaxp\",\"gkypz\",\"mmbqg\",\"vcnnv\",\"lcqrjcu\",\"udenxrk\",\"iouex\",\"rxhla\",\"oeufo\",\"wfliy\",\"lrfcpq\",\"vkqjwr\",\"ptufhfe\",\"vboqdd\",\"bdwtzef\",\"zbmfboo\",\"qscjw\",\"gcmig\",\"zcgoez\",\"fzxtkot\",\"zttpbc\",\"ullojn\",\"lgvdl\",\"bupzsbf\",\"xfiqe\",\"qjfozyu\",\"vimodg\",\"yjuhns\",\"exczoyp\",\"kjuvhp\",\"yacuuoj\",\"kudtyp\",\"hvfey\",\"duvuj\",\"wqlck\",\"ltgwabr\",\"tytfvjb\",\"btbnr\",\"ncbtd\",\"ucbexch\",\"qyurg\",\"nlzmqlu\",\"syyiuio\",\"nynoa\",\"jwbkzj\",\"hmozpm\",\"kfzqeu\",\"tgkkty\",\"pmhyoz\",\"gjunk\",\"heacc\",\"awgos\",\"fdtig\",\"ylavbey\",\"qazas\",\"ccbrkb\",\"vglswu\",\"srkfjrl\",\"igqqflt\",\"vhfnl\",\"whtwrj\",\"dagotl\",\"sjxmqqd\",\"ceizi\",\"wwcsjw\",\"fglsj\",\"ocydit\",\"qcxkji\",\"rpcuin\",\"dyzurw\",\"iuovjxc\",\"cgojnru\",\"bfkcn\",\"mnjkti\",\"vdskrvr\",\"cigds\",\"dasrzho\",\"ukkgsq\",\"hympgbt\",\"uowyypx\",\"dfcqpc\",\"deavlou\",\"ycngrex\",\"wrsvry\",\"lkzyczl\",\"bwqczba\",\"yrxpta\",\"gnseu\",\"oaifza\",\"zgqhmt\",\"cakcg\",\"regdpy\",\"btojyqt\",\"mvymsl\",\"xnutze\",\"qqdgf\",\"xgpldtl\",\"zcdquaf\",\"pdcbq\",\"poxvbhm\",\"krxewlg\",\"plbbre\",\"lifxikf\",\"dwwenyl\",\"ulmka\",\"lxzpdbe\",\"iecgc\",\"cdaxdl\",\"urjwun\",\"hojyh\",\"dmhfoe\",\"ivbpbzu\",\"svizs\",\"msaqcag\",\"fxrbdgg\",\"rplyy\",\"kjhobj\",\"vwvdfv\",\"bvoed\",\"plqtvk\",\"pbcmy\",\"wcmxkyk\",\"uzyzdu\",\"wjtwpv\",\"bnsskq\",\"kyjmwfy\",\"ayvafc\",\"aekknl\",\"kkemp\",\"nummx\",\"wcest\",\"liaqg\",\"mrkju\",\"pkbjl\",\"ooxkqxk\",\"izssj\",\"qnizr\",\"bsxgu\",\"ohwrjn\",\"endyt\",\"dqybmd\",\"ckzpy\",\"crqhb\",\"eaqbg\",\"uarexfa\",\"hrlrbla\",\"wrbume\",\"fomlo\",\"xhoght\",\"dyivd\",\"nowwvmb\",\"lzgdipl\",\"ptssel\",\"clmuv\",\"dispadv\",\"ysdmkcu\",\"gmtavy\",\"biiuuj\",\"muzcr\",\"koyqm\",\"inrentg\",\"dbylwp\",\"yfndruf\",\"vxqnhy\",\"setzr\",\"ouxkb\",\"nerwcng\",\"vlyiv\",\"sbqaers\",\"xnjvbg\",\"zragsva\",\"vtjok\",\"gdume\",\"cocges\",\"bqjzg\",\"mcsut\",\"hdvijr\",\"jxkbeo\",\"vsitiw\",\"zhedhyt\",\"dnxbk\",\"kzrlj\",\"yqqem\",\"qdtel\",\"cxcmouq\",\"ypyiofo\",\"zvodw\",\"ovvfrq\",\"xejsu\",\"eercqku\",\"osnshz\",\"hosdif\",\"gjqwvx\",\"xkvkju\",\"tzxto\",\"ifwlqx\",\"hixnjav\",\"krgpc\",\"garej\",\"vkufnjc\",\"ajmacqx\",\"xaxso\",\"frdvmem\",\"kpjjwd\",\"uocheqh\",\"ediuhx\",\"nwwyoi\",\"jvyjaev\",\"eplpce\",\"jbhaal\",\"iwdhthc\",\"jnkusgt\",\"caxvl\",\"bvzqtyz\",\"srpqqa\",\"kzaogkv\",\"fqdtga\",\"jhcwhav\",\"ffandne\",\"nhxabcx\",\"cyqmdcq\",\"xaqcj\",\"cicabs\",\"foicwi\",\"rhyfgvl\",\"zqygsqh\",\"woxfyhb\",\"sfzfk\",\"vweqqib\",\"pmqlvkd\",\"rvabt\",\"aycsy\",\"bvkvln\",\"cqebt\",\"tdsswc\",\"lqrcpw\",\"xuvoa\",\"pdqzp\",\"ropgr\",\"cvajde\",\"ttjixzz\",\"ovwfzz\",\"pxpum\",\"grucrmv\",\"kehxbz\",\"sspwb\",\"sfibzh\",\"yrnvktb\",\"epsdkit\",\"iwylfs\",\"jklfnt\",\"llzlnjw\",\"wtthn\",\"whsog\",\"fsnhmea\",\"pibhfmo\",\"ujvzdnr\",\"wgcyc\",\"kcrnfow\",\"zjssihl\",\"dsghve\",\"mveuzx\",\"duqdogr\",\"rsayem\",\"zpqzgh\",\"dhpiai\",\"vkapza\",\"cqchscd\",\"szergiw\",\"povnuy\",\"nckhv\",\"yygbk\",\"neptki\",\"iqpjngb\",\"eyrgs\",\"utenun\",\"vvyxzb\",\"kanyau\",\"psfuy\",\"ezfxhi\",\"auwcyz\",\"tsrsug\",\"uojiw\",\"sionsjl\",\"errwqse\",\"yyxtn\",\"uhaudph\",\"ubpijk\",\"cgmiwgs\",\"mrwej\",\"lcozwr\",\"sczkn\",\"mkinca\",\"kajafa\",\"sfspoqy\",\"qabklg\",\"yvduo\",\"mnfqru\",\"xvvdsca\",\"oixtxzp\",\"biayfd\",\"tdwfhey\",\"jsipdk\",\"oxnxy\",\"blzcn\",\"detufsp\",\"ybmnvs\",\"dzisxn\",\"bjjzb\",\"fejeby\",\"mcayl\",\"eqkmm\",\"kjnhmmg\",\"dvthn\",\"kqgyqy\",\"bcfwy\",\"ozhvx\",\"jdkkfia\",\"glctyce\",\"thshyl\",\"vqscn\",\"mwfll\",\"qiift\",\"mpiqn\",\"focwej\",\"byxood\",\"uooxir\",\"authex\",\"htaddtv\",\"ezmuul\",\"sgixtux\",\"dzoqzg\",\"cejof\",\"tgnqg\",\"ymlzj\",\"tmxycig\",\"htnimpg\",\"guehuow\",\"bgemiu\",\"qkqcx\",\"zdkzdls\",\"zexmti\",\"quyjoec\",\"gfejoz\",\"fxhsz\",\"gbrtif\",\"rukcnhy\",\"ebrgbzf\",\"vvnbxts\",\"nkylpon\",\"pobciji\",\"juvpyim\",\"rqkakuh\",\"jbbbk\",\"opdgq\",\"lumjxea\",\"hqezakn\",\"kyfcm\",\"btaec\",\"rbysvzu\",\"dxncqf\",\"kvrpwri\",\"zqsqipn\",\"rjgga\",\"obybdhk\",\"rmgvlok\",\"ghjiy\",\"flwgvqw\",\"ksawyhu\",\"bvbav\",\"eksugfh\",\"svxhapr\",\"zajlvi\",\"chdxyr\",\"oalkdm\",\"jlcojsv\",\"grynxo\",\"crlnx\",\"ojxcn\",\"etuuo\",\"pdygfbt\",\"jaujv\",\"qnguua\",\"jltkjx\",\"tntlra\",\"obhpj\",\"razxr\",\"iejhfz\",\"wotwr\",\"pvhed\",\"unqkz\",\"atvcj\",\"sfrnn\",\"tpmwx\",\"jqnsp\",\"jnymzo\",\"staiv\",\"rlayct\",\"tsdbstu\",\"ayogdd\",\"soegov\",\"cjsodir\",\"uzbvsn\",\"qursx\",\"vxtzez\",\"fuqtt\",\"qbesfut\",\"mrwgj\",\"edfky\",\"uuuaeg\",\"ipwwg\",\"nqabvi\",\"psnpz\",\"wbqsqb\",\"osnxwu\",\"genfxx\",\"njqvip\",\"innrdgu\",\"gehergm\",\"zllqfij\",\"jedgk\",\"strdca\",\"xlidkg\",\"peqvz\",\"qcgnvti\",\"qnmsfzl\",\"mjwhjbt\",\"uqnsc\",\"ncfxbm\",\"tdotxqk\",\"reqmr\",\"ofvdx\",\"kkzlp\",\"gjvec\",\"lmhguaj\",\"oikix\",\"cuegfel\",\"eloutd\",\"extvvzp\",\"skwxuz\",\"wqaeac\",\"fskyavp\",\"dcfyu\",\"bsoijo\",\"kfqdphk\",\"wytlkc\",\"fvrdtvv\",\"hdjbifb\",\"rsdhdn\",\"nvqoiie\",\"uznunom\",\"kcfjads\",\"pnqrdew\",\"kljpxnk\",\"jynulq\",\"iudafgu\",\"ljgunu\",\"pqqtvtc\",\"nyxmebq\",\"zjmyrz\",\"jmxhgta\",\"knzhaeg\",\"bsapi\",\"fycgud\",\"pzptqpf\",\"hqkilzv\",\"jyxssv\",\"guzvct\",\"auldf\",\"nfarwhj\",\"vmupo\",\"utigdhp\",\"origpr\",\"zakhnuv\",\"nnijrhz\",\"whodoct\",\"jrujrb\",\"unwok\",\"ymmlw\",\"cpdmzen\",\"bmgrjnu\",\"ajlkanl\",\"milnz\",\"sdzky\",\"vmjrkld\",\"oybtfur\",\"jgrfdi\",\"dmjcbww\",\"ktwomq\",\"aajsczt\",\"nfnccff\",\"bwlvjuq\",\"vdwjjrh\",\"yiwpjw\",\"dsrhzjn\",\"tgfdv\",\"uuzwqy\",\"geryayy\",\"yjqdag\",\"gqksoiu\",\"vrupk\",\"slsah\",\"belkdo\",\"ntoxx\",\"iwmupw\",\"qatiwok\",\"ahftce\",\"ttpzi\",\"cexqocr\",\"klxzl\",\"tnycg\",\"qnfikw\",\"hhpwc\",\"vjjnyk\",\"ybcocdi\",\"ggcdfo\",\"tiaow\",\"jynar\",\"oiueg\",\"mnkvj\",\"wcaxa\",\"plhoqvq\",\"xxzck\",\"vzgiod\",\"fqzabtq\",\"ecegyq\",\"bfcjcis\",\"eeakg\",\"qkdqt\",\"amtnpj\",\"ngzgj\",\"cqnztaq\",\"lvpmtup\",\"idped\",\"tfqmstr\",\"deyktd\",\"piirssq\",\"jqcyn\",\"txudy\",\"dhjxng\",\"demfkp\",\"lvswa\",\"tkfiu\",\"yfgiwme\",\"bqhfme\",\"nahxru\",\"yttdvwy\",\"azypnj\",\"ruflgr\",\"drutc\",\"ubvccx\",\"kssau\",\"zusprk\",\"ifnpt\",\"yqzymv\",\"fwxsz\",\"tyzbp\",\"nskskw\",\"sklygmn\",\"sqgnv\",\"gfmoo\",\"oxqvper\",\"wwxig\",\"kxfhgb\",\"vblps\",\"uxqqto\",\"limcbo\",\"gkbtbm\",\"egupux\",\"clpeg\",\"eysabqd\",\"ftaabvd\",\"nehiyz\",\"llzvllp\",\"opdbhxe\",\"iktmt\",\"jibxdia\",\"kqvxbd\",\"incitqc\",\"ycmxpcu\",\"iyvgzzw\",\"crpdcj\",\"sidsjh\",\"kgezv\",\"lcfmbqk\",\"gcbfgyl\",\"pfvwdw\",\"xuokr\",\"ttwxr\",\"pwjyzqo\",\"bzwwd\",\"filtf\",\"jgoqowg\",\"fajtelw\",\"shiipvq\",\"hmvkgc\",\"dyftrof\",\"yqpfd\",\"jsekqgo\",\"pmzzg\",\"dtvrwu\",\"hjsmeh\",\"evhhtfx\",\"fvcjgvz\",\"dbwpm\",\"ukhfm\",\"vmnraze\",\"krofx\",\"azixozl\",\"hjxaf\",\"vyhrrs\",\"aoadmh\",\"vkowji\",\"vhibgvi\",\"xvzesj\",\"ponkak\",\"emihkjk\",\"csnszm\",\"tgczmcq\",\"rbsete\",\"gecld\",\"bhhzhf\",\"bxrobn\",\"stjazoo\",\"wdxjqoz\",\"tgpwp\",\"vcwdrt\",\"qudhlzk\",\"ompwav\",\"jmprpxl\",\"glbqwbo\",\"lgoskh\",\"oggliik\",\"wgyfy\",\"xjdxw\",\"zlrli\",\"ovjpalp\",\"qochtic\",\"iokibyb\",\"tfwrw\",\"pnrvq\",\"ydqki\",\"qezwrg\",\"jkmdez\",\"fxgst\",\"vwndsd\",\"qdvixjc\",\"oavco\",\"bgyoqb\",\"trhyic\",\"fsedk\",\"sqbtbic\",\"cgmsc\",\"hhbdwph\",\"gwjugf\",\"euyksf\",\"zuqkbkz\",\"qojte\",\"juhhio\",\"vbqns\",\"qtqdwxq\",\"cddjg\",\"lhdonf\",\"wenfim\",\"edbnh\",\"pgxhz\",\"uiuibk\",\"ffnebsh\",\"fmiluhn\",\"drjvl\",\"jqeew\",\"bfzxfbq\",\"wodiszp\",\"ccjdl\",\"qsreonz\",\"mpkgxnc\",\"wvbvdt\",\"iyucb\",\"genuw\",\"tkotnrf\",\"jyosmeh\",\"ptrejw\",\"ysqduhw\",\"qdhhpol\",\"urtefdd\",\"umjkiqb\",\"fdmqwym\",\"yhxrmwy\",\"vqvemxw\",\"ngyxej\",\"jktbnfn\",\"xwrlfh\",\"grdjt\",\"htvst\",\"bwjqj\",\"xkknjzx\",\"urxzrhe\",\"yleehv\",\"qhnrnm\",\"gxunm\",\"nrcnjb\",\"zengpfo\",\"rgtea\",\"tqtjvyq\",\"kytru\",\"yvezlk\",\"eagaeu\",\"gfcmykk\",\"lpvorv\",\"zrfqwln\",\"kxogsw\",\"caipbs\",\"okmrred\",\"xymdm\",\"lgaqvdm\",\"acfqs\",\"xyqvmz\",\"afeuamu\",\"dyvnk\",\"deneyc\",\"vdrfa\",\"cwowt\",\"kdsln\",\"flfdi\",\"tjylmjq\",\"wkjgv\",\"grgok\",\"wkxjrqc\",\"rmehg\",\"xwysywc\",\"blbwsfe\",\"pkdfb\",\"sjkpmgp\",\"kvpeo\",\"ynmclu\",\"kuipg\",\"ndynlz\",\"zpccm\",\"vvufkf\",\"arepauw\",\"bhzatz\",\"nltizba\",\"deygc\",\"rinuslx\",\"wtdffat\",\"haxth\",\"syvto\",\"nalhg\",\"dweia\",\"fwptgp\",\"kyghi\",\"trvkxj\",\"tjjsi\",\"txfwg\",\"ckbjmhp\",\"xxzwt\",\"ibrrhzo\",\"opqfxw\",\"zdhts\",\"inyxkz\",\"yvzpnkv\",\"vkfpyab\",\"rluwgn\",\"njkfzai\",\"dczsp\",\"txzguhg\",\"zabgws\",\"hqpze\",\"rkiqxiy\",\"znnhup\",\"igbjvm\",\"uzitf\",\"tklalwq\",\"qvnqrv\",\"ozxez\",\"zasuxek\",\"shdesj\",\"sqrmret\",\"hhohwv\",\"gmrpjyx\",\"apbounv\",\"ksrlmy\",\"teijs\",\"sbbwdkq\",\"xfnepb\",\"sdndv\",\"bsqsu\",\"wzwkxan\",\"myxucw\",\"kbootkn\",\"ajuwe\",\"kfagvn\",\"egubnv\",\"wpapn\",\"kpyvqje\",\"xqusvw\",\"wdnlwi\",\"ofrmtx\",\"gufkhfp\",\"uiepetm\",\"hbmcyuz\",\"znjudo\",\"sxhaw\",\"sfpkix\",\"ionol\",\"sdynwr\",\"ogjrvu\",\"hrviayo\",\"rxqbzij\",\"zqbqcnd\",\"gnspr\",\"aseaogj\",\"jmilj\",\"odzln\",\"lkosnfn\",\"lylie\",\"xknvovh\",\"tiwdt\",\"nuubcbn\",\"uuolcz\",\"yphmubs\",\"slwnmuy\",\"sillo\",\"tawzv\",\"ceqhcq\",\"yhwqc\",\"weqosqx\",\"zlpfc\",\"pesou\",\"qcoxhn\",\"glukzp\",\"slnntsr\",\"vrnecb\",\"tgpzc\",\"vfphtw\",\"hhrhb\",\"tqqruq\",\"wubkti\",\"feoji\",\"gvkfxbc\",\"niefhs\",\"laxctf\",\"dkuvwrk\",\"qvgyor\",\"rzrcx\",\"kgnbhma\",\"ooxbos\",\"nrvcbh\",\"cygcgx\",\"phailf\",\"dhywuc\",\"ghbtjve\",\"zsbop\",\"blwig\",\"zjunnnt\",\"lsorddc\",\"xzxpsw\",\"gdjbkqq\",\"nnplvmo\",\"ogbhh\",\"ezzixgx\",\"ulhcm\",\"jyoib\",\"tqsynj\",\"afwde\",\"yzlvsc\",\"hqiktej\",\"yjnrz\",\"wnehhvu\",\"iphfun\",\"flemh\",\"ekhpevl\",\"vsuvifr\",\"tkqsjgh\",\"byifz\",\"bdmac\",\"rxniyex\",\"uyfat\",\"kqcaw\",\"geslkc\",\"yycxo\",\"ozhwc\",\"uhvrnu\",\"cwqkhc\",\"inyye\",\"wugqx\",\"neadky\",\"thdrq\",\"hjfvbu\",\"ssiryz\",\"pukibcp\",\"ugwmef\",\"dhepm\",\"iuckeqa\",\"rbmzqdo\",\"vjqhp\",\"juxxe\",\"frwzmg\",\"kmyiio\",\"kujncqh\",\"zkfwfu\",\"ydfqud\",\"llomsi\",\"chgnxaf\",\"xdbqnnm\",\"gqefv\",\"yxpaagh\",\"hkhepx\",\"zvjcv\",\"cuwlqky\",\"njsqc\",\"ntwwugb\",\"ueowqyv\",\"nvjkvn\",\"rwneyx\",\"tunus\",\"uzhiokr\",\"jpqwmc\",\"agjpf\",\"kfkimwi\",\"jwbzayv\",\"hkpfezr\",\"mrhcz\",\"zsiyd\",\"emlwr\",\"rvtij\",\"nzrklc\",\"kjvfk\",\"hvalv\",\"opetw\",\"xikypsh\",\"qxzdgfk\",\"eivwlk\",\"jigfntu\",\"xzlqrhe\",\"havesdr\",\"qjjuz\",\"xaztruq\",\"bjvbc\",\"razbg\",\"rhpeb\",\"rmlxj\",\"skczk\",\"wkoln\",\"wjhxp\",\"wtjwbxb\",\"utqcopa\",\"zejkkqc\",\"ahtphqk\",\"kqljz\",\"evqbxp\",\"zroto\",\"kzahb\",\"fhfudq\",\"acdbtxl\",\"zbzwtki\",\"qyokyvw\",\"vzgfc\",\"dpisna\",\"vbtzi\",\"myybnbo\",\"cypekcl\",\"lmzxhlc\",\"imave\",\"zljiv\",\"jquqfpx\",\"rovglf\",\"hrgdiy\",\"dbmqccb\",\"oansv\",\"rkbfupu\",\"ckikn\",\"okfjabc\",\"lmzybam\",\"dnguecw\",\"suuzvg\",\"jyrfcjf\",\"gmbwpro\",\"vijpx\",\"ztzhae\",\"evudpis\",\"rhukk\",\"zvvysqt\",\"eeupgzf\",\"miyrmy\",\"otnppv\",\"bxbmemi\",\"urlgc\",\"vlpeky\",\"xyuvsnq\",\"kmzblq\",\"xlxeh\",\"bvyzom\",\"cvifd\",\"mwpwqs\",\"wiefi\",\"estqwzk\",\"ywwlxkw\",\"ycjzq\",\"abinmmi\",\"wnsmhf\",\"wpiovoj\",\"pnpxj\",\"tlakw\",\"oowfldu\",\"swwspkr\",\"navvrtq\",\"zisepnl\",\"ykhgngv\",\"ctpztqn\",\"orjupt\",\"qrikx\",\"ipayuw\",\"qghgpac\",\"vylwfan\",\"nxbrxox\",\"hrmsyql\",\"kgfvgm\",\"drztnox\",\"ylcaevd\",\"dtnoogi\",\"uloby\",\"dliyylt\",\"ofovbfe\",\"lkadd\",\"whlnxc\",\"qzuwaex\",\"jgiybi\",\"lapvft\",\"bvtbb\",\"mmuicte\",\"zxljjm\",\"hbyadfs\",\"dhhrmzw\",\"rixxzcd\",\"zrpsmjk\",\"zukod\",\"akfzy\",\"uhghq\",\"qysmbvg\",\"wiiylz\",\"ndhct\",\"jjmosl\",\"baxxcl\",\"sdpxrhi\",\"kijths\",\"euuvlm\",\"gzfdtmf\",\"gisafmb\",\"alrljrs\",\"xzxtu\",\"nzntjsh\",\"ixzifh\",\"jnemfn\",\"mjwpmt\",\"jjnsz\",\"mrpvsh\",\"zmymhr\",\"fxajnk\",\"fvchx\",\"ctfen\",\"unzkea\",\"wxqshiv\",\"fslggly\",\"alhsv\",\"ievdt\",\"uszul\",\"dqvnn\",\"nubyaw\",\"vuhtry\",\"yvyuw\",\"nzeakhi\",\"aecewua\",\"apinf\",\"yuadv\",\"rshsql\",\"bfcekfg\",\"nrnvgh\",\"dospg\",\"qjvafyy\",\"akyzwc\",\"wmzpeoo\",\"kqbwkp\",\"vhhdthp\",\"ncide\",\"gxbcz\",\"kvgpl\",\"folmcj\",\"apcbmjk\",\"pjqkid\",\"bkymza\",\"jjonu\",\"jekzf\",\"uphqb\",\"lmtyj\",\"gxncpbf\",\"nhzxohy\",\"zijdtlu\",\"vwhuf\",\"jrdrncs\",\"fanyacg\",\"elvtz\",\"inpai\",\"ijdhbn\",\"espowa\",\"uhsoqod\",\"imtpbfx\",\"azcgkdm\",\"zxnabd\",\"wcwgki\",\"qsnxt\",\"uxzxnn\",\"rvvts\",\"jthar\",\"gqhea\",\"ozknc\",\"dzjfmaj\",\"cqagwu\",\"ekqtkn\",\"offfk\",\"nglyfcx\",\"hbypi\",\"uimrjdu\",\"ioyldwm\",\"mfxyoke\",\"tvkmyy\",\"aunkwfw\",\"auvgf\",\"otjwveh\",\"ylcmhve\",\"plamrd\",\"azpse\",\"lmgjuvz\",\"wmwsr\",\"yzely\",\"tixzm\",\"hmnkahu\",\"efwej\",\"apzqk\",\"lddbe\",\"obbynls\",\"olbzsfe\",\"flxmr\",\"lymsm\",\"hpggqgb\",\"setvqk\",\"zcozseg\",\"lwtkzid\",\"cesdgkz\",\"ztcuk\",\"aaloa\",\"nntpx\",\"wqwvz\",\"hntvr\",\"seieb\",\"eesqi\",\"cwika\",\"vzyxk\",\"agneot\",\"brzui\",\"dibidoa\",\"zxtkh\",\"bqjqx\",\"rpcrpm\",\"zabhpi\",\"yhmdeax\",\"xkredt\",\"znqco\",\"dvdktwc\",\"wrdhzpv\",\"pkgku\",\"ggxiy\",\"mopen\",\"ztnojrt\",\"zqggkwg\",\"tzttopb\",\"nfmil\",\"ockwc\",\"uhhnetx\",\"mfuhqvj\",\"jfdvft\",\"fmtauaa\",\"aecrbd\",\"rbwcgbe\",\"dwikan\",\"opdqt\",\"xjgepua\",\"swlejnr\",\"uxcyk\",\"ksgba\",\"htvjxd\",\"pkslsr\",\"kejien\",\"vdfkja\",\"epkmul\",\"tavqu\",\"ovetpuc\",\"mzddfq\",\"zenww\",\"vqcmbu\",\"jswxwuq\",\"xwaiq\",\"fjaob\",\"damrury\",\"jtgdbl\",\"yyfwo\",\"qbyysvr\",\"zhyya\",\"krhkn\",\"xkajxza\",\"gtergto\",\"ryyncei\",\"gvsjifv\",\"ixzrjye\",\"kydljfl\",\"fomuwx\",\"sogifn\",\"aibvs\",\"rexqzd\",\"xxmmyi\",\"lqowm\",\"poqtrm\",\"gguopb\",\"ovslq\",\"zhadl\",\"iayhnl\",\"bryuox\",\"ftxsen\",\"fkzld\",\"digvjmy\",\"tksisub\",\"hsvtqyv\",\"hwmwrvg\",\"ygxrn\",\"bnvfdr\",\"yxsep\",\"losnt\",\"ufgfc\",\"puvtt\",\"mwgro\",\"gochlx\",\"zyxmjy\",\"eqqlapu\",\"xpnmt\",\"lwpii\",\"ycgyym\",\"mfldyej\",\"xrwia\",\"lkrhqpa\",\"gpdjf\",\"qeigd\",\"vxhhz\",\"lqfog\",\"kamqj\",\"qojpju\",\"uazbq\",\"lvjnknp\",\"ufonf\",\"jkulf\",\"arnisqj\",\"agmimzz\",\"gxxrxv\",\"otmmjeh\",\"grbhwt\",\"slgzfri\",\"xifzy\",\"wpjcedd\",\"qppjxcp\",\"xwpqam\",\"qdavyd\",\"tjtjqip\",\"yekkcl\",\"wppwo\",\"bypmwu\",\"buelsm\",\"gjfpqaz\",\"qjyun\",\"umgwwfx\",\"bwztww\",\"gqztmc\",\"gwkau\",\"clvwm\",\"bplcyhx\",\"viuujti\",\"ddsnnmu\",\"uoopp\",\"hnild\",\"xxucpn\",\"lefbl\",\"fmshwno\",\"dnynva\",\"vcczycw\",\"hmbuk\",\"ktzwykq\",\"zoaboh\",\"lngbjer\",\"vpapqwk\",\"tjxknx\",\"rnxjtxa\",\"vuqqpfs\",\"uckomez\",\"kffasw\",\"xbprf\",\"dplkl\",\"uxqwg\",\"mjtia\",\"cptmyyc\",\"bciou\",\"cuthc\",\"uhapaz\",\"wqrukop\",\"dpxnu\",\"iwkibv\",\"pqjzg\",\"pddsg\",\"ipyqfx\",\"feilkrw\",\"gcgcmr\",\"smmii\",\"mcsmgcl\",\"whxrls\",\"ytgvm\",\"qpmewww\",\"puzbgps\",\"oeademr\",\"pscohn\",\"dfnizil\",\"uzkrnxw\",\"jftmnky\",\"csxqt\",\"rtwvb\",\"nyyzq\",\"gissdh\",\"ubquvg\",\"njpzndq\",\"ozmmj\",\"auveib\",\"yepmcyx\",\"oxucf\",\"apfdom\",\"exfdx\",\"gbeqrm\",\"qgsin\",\"kvhzjqt\",\"sgutjsl\",\"iqdmzs\",\"zumvzzb\",\"flqlcdv\",\"mwrkxtn\",\"hxbyh\",\"vajrd\",\"uwzok\",\"ngfppvv\",\"oiuaa\",\"vbgdwkx\",\"oenhor\",\"itpsqpy\",\"nsyvueo\",\"shsdh\",\"ezzftc\",\"zgjzjd\",\"tfrswc\",\"fagjje\",\"ggcrtkd\",\"bqjpg\",\"vrnparn\",\"nghqf\",\"pwhth\",\"qiosj\",\"oqtmob\",\"sjcjf\",\"aiiya\",\"yeufwjq\",\"kaxfdge\",\"szrtsh\",\"sjnveq\",\"akmkvww\",\"ydcghrx\",\"rdphx\",\"iqyse\",\"frugy\",\"uozwd\",\"dobvnp\",\"gfsbdy\",\"kvkqi\",\"jvazbl\",\"enlse\",\"nyyfq\",\"qnahoma\",\"izttww\",\"gvbrgm\",\"cwxslml\",\"aaayqqy\",\"izsirw\",\"gbvkhy\",\"csluwg\",\"zlekmab\",\"zgdhufz\",\"dpdkfs\",\"tyiltm\",\"nbfsxq\",\"gpkqxud\",\"zcfpo\",\"ivfukc\",\"mgeuipg\",\"xcqjjxe\",\"wymfs\",\"jqtgv\",\"fjtpm\",\"isxbtp\",\"lipwgm\",\"stggw\",\"jucrd\",\"koidvz\",\"ojsbaz\",\"hvqzbwe\",\"pgrnmff\",\"coeijd\",\"bsyebu\",\"cykana\",\"bkpkb\",\"wdgrma\",\"sooev\",\"mjrzv\",\"roxgv\",\"uuqmaxt\",\"whwwfsv\",\"easwcx\",\"iwynz\",\"djwjz\",\"idmfgu\",\"ruyovq\",\"qkrra\",\"nnbtzzn\",\"rhzdau\",\"vaaenou\",\"ghmvsr\",\"ifazg\",\"zcfqi\",\"snkwuj\",\"wbojg\",\"acyeou\",\"mnekm\",\"yluki\",\"szbynf\",\"gkpmwp\",\"ehhcbqv\",\"bznqkop\",\"hmznubr\",\"lhtbzor\",\"fjgghr\",\"twpra\",\"ckmgq\",\"fyejeyj\",\"ljhbve\",\"nhilk\",\"qqcrwil\",\"yccvy\",\"bykbo\",\"qrjzh\",\"sfircwc\",\"kaqbfah\",\"hssvaq\",\"gxfemhe\",\"pnoxjyi\",\"epvmt\",\"kpatr\",\"dkadhfs\",\"smsrwky\",\"gcyaoip\",\"pwrirte\",\"xksyb\",\"tbnnzb\",\"gikkibk\",\"xuptbzm\",\"hohjr\",\"sxibnhg\",\"idotf\",\"wlquo\",\"getxtl\",\"vtoxjz\",\"pduuq\",\"nozqw\",\"qohkd\",\"yfpocgp\",\"jsdulbr\",\"iznjxv\",\"lrjje\",\"qvraemw\",\"zszjl\",\"tihbwz\",\"hpifw\",\"aeijnyc\",\"acftqln\",\"wewaoge\",\"kifbzq\",\"wnjgqd\",\"htqyju\",\"plowdsv\",\"ojmgjqs\",\"mlnipcn\",\"qhxmby\",\"dtmvf\",\"lepkuoi\",\"gbfotit\",\"heuvsqv\",\"bpuzsa\",\"lsmirj\",\"qxehdj\",\"lsqhcah\",\"lavemk\",\"nijtshc\",\"clwpxm\",\"wmckhqf\",\"bmcuf\",\"pjyif\",\"mnzjsh\",\"znjunai\",\"irlhur\",\"bxgfr\",\"lrkki\",\"zaqesb\",\"gdjrzta\",\"axkxacw\",\"myoulrl\",\"jczzn\",\"sdwutee\",\"mmvzpul\",\"ungobhh\",\"mpjzrv\",\"ovwstq\",\"ajyiy\",\"bybxqc\",\"adpec\"])"
   ]
  },
  {
   "cell_type": "markdown",
   "metadata": {},
   "source": [
    "## 541. Reverse String II"
   ]
  },
  {
   "cell_type": "markdown",
   "metadata": {},
   "source": [
    "先找规律\n",
    "1. `s[0 * k: 1 * k]`颠倒，`s[1 * k: 2 * k]`不变\n",
    "1. `s[2 * k: 3 * k]`颠倒，`s[3 * k: 4 * k]`不变\n",
    "1. `s[4 * k: 5 * k]`颠倒，`s[5 * k: 6 * k]`不变\n",
    "1. ...\n",
    "1. `s[2 * i * k: (2 * i + 1) * k]`颠倒，`s[(2 * i + 1) * k: (2 * i + 2) * k]`不变"
   ]
  },
  {
   "cell_type": "code",
   "execution_count": 42,
   "metadata": {},
   "outputs": [],
   "source": [
    "class Solution:\n",
    "    def reverseStr(self, s, k):\n",
    "        \"\"\"\n",
    "        :type s: str\n",
    "        :type k: int\n",
    "        :rtype: str\n",
    "        \"\"\"\n",
    "        return \"\".join(s[2 * i * k: (2 * i + 1) * k][:: -1] + s[(2 * i + 1) * k: (2 * i + 2) * k] for i in range(0, len(s) // (2 * k) + 1))"
   ]
  },
  {
   "cell_type": "code",
   "execution_count": 41,
   "metadata": {
    "scrolled": true
   },
   "outputs": [
    {
     "data": {
      "text/plain": [
       "'bacdfeghjik'"
      ]
     },
     "execution_count": 41,
     "metadata": {},
     "output_type": "execute_result"
    }
   ],
   "source": [
    "Solution().reverseStr(\"abcdefghijk\", 2)"
   ]
  },
  {
   "cell_type": "markdown",
   "metadata": {},
   "source": [
    "## 925. Long Pressed Name"
   ]
  },
  {
   "cell_type": "markdown",
   "metadata": {},
   "source": [
    "一开始想用re。"
   ]
  },
  {
   "cell_type": "code",
   "execution_count": 35,
   "metadata": {},
   "outputs": [],
   "source": [
    "import re\n",
    "class Solution:\n",
    "    def isLongPressedName(self, name, typed):\n",
    "        \"\"\"\n",
    "        :type name: str\n",
    "        :type typed: str\n",
    "        :rtype: bool\n",
    "        \"\"\"\n",
    "        if len(name) > len(typed):\n",
    "            return False\n",
    "        return bool(re.match(name.replace(\"\", \"+\")[1: ], typed))"
   ]
  },
  {
   "cell_type": "markdown",
   "metadata": {},
   "source": [
    "没想到会超时。"
   ]
  },
  {
   "cell_type": "markdown",
   "metadata": {},
   "source": [
    "仔细一想这道题，有点像[392. Is Subsequence](#392.-Is-Subsequence)，但是更严格，不允许母数列中子数列项之间有和两边项不同的元素出现。"
   ]
  },
  {
   "cell_type": "code",
   "execution_count": 35,
   "metadata": {},
   "outputs": [],
   "source": [
    "class Solution:\n",
    "    def isLongPressedName(self, name, typed):\n",
    "        \"\"\"\n",
    "        :type name: str\n",
    "        :type typed: str\n",
    "        :rtype: bool\n",
    "        \"\"\"\n",
    "        if len(name) > len(typed):\n",
    "            return False\n",
    "\n",
    "        "
   ]
  },
  {
   "cell_type": "code",
   "execution_count": 39,
   "metadata": {},
   "outputs": [
    {
     "data": {
      "text/plain": [
       "True"
      ]
     },
     "execution_count": 39,
     "metadata": {},
     "output_type": "execute_result"
    }
   ],
   "source": [
    "Solution().isLongPressedName(name = \"alex\", typed = \"aaleex\")"
   ]
  },
  {
   "cell_type": "code",
   "execution_count": 40,
   "metadata": {},
   "outputs": [
    {
     "data": {
      "text/plain": [
       "False"
      ]
     },
     "execution_count": 40,
     "metadata": {},
     "output_type": "execute_result"
    }
   ],
   "source": [
    "Solution().isLongPressedName(name = \"saeed\", typed = \"ssaaedd\")"
   ]
  },
  {
   "cell_type": "markdown",
   "metadata": {},
   "source": [
    "## 929. Unique Email Addresses"
   ]
  },
  {
   "cell_type": "code",
   "execution_count": 63,
   "metadata": {},
   "outputs": [],
   "source": [
    "class Solution:\n",
    "    def numUniqueEmails(self, emails):\n",
    "        \"\"\"\n",
    "        :type emails: List[str]\n",
    "        :rtype: int\n",
    "        \"\"\"\n",
    "        return len(set(i.split(\"@\")[0].split(\"+\")[0].replace(\".\", \"\") + i.split(\"@\")[-1] for i in emails))"
   ]
  },
  {
   "cell_type": "code",
   "execution_count": 64,
   "metadata": {},
   "outputs": [
    {
     "data": {
      "text/plain": [
       "2"
      ]
     },
     "execution_count": 64,
     "metadata": {},
     "output_type": "execute_result"
    }
   ],
   "source": [
    "Solution().numUniqueEmails([\"test.email+alex@leetcode.com\",\"test.e.mail+bob.cathy@leetcode.com\",\"testemail+david@lee.tcode.com\"])"
   ]
  },
  {
   "cell_type": "markdown",
   "metadata": {},
   "source": [
    "## 905. Sort Array By Parity"
   ]
  },
  {
   "cell_type": "code",
   "execution_count": 65,
   "metadata": {},
   "outputs": [],
   "source": [
    "class Solution:\n",
    "    def sortArrayByParity(self, A):\n",
    "        \"\"\"\n",
    "        :type A: List[int]\n",
    "        :rtype: List[int]\n",
    "        \"\"\"\n",
    "        evens = []\n",
    "        odds = []\n",
    "        for i in A:\n",
    "            if i % 2 == 0:\n",
    "                evens.append(i)\n",
    "            else:\n",
    "                odds.append(i)\n",
    "        return evens + odds"
   ]
  },
  {
   "cell_type": "code",
   "execution_count": 65,
   "metadata": {},
   "outputs": [],
   "source": [
    "class Solution:\n",
    "    def sortArrayByParity(self, A):\n",
    "        \"\"\"\n",
    "        :type A: List[int]\n",
    "        :rtype: List[int]\n",
    "        \"\"\"\n",
    "        return [i for i in A if i % 2 == 0] + [i for i in A if i % 2 != 0]"
   ]
  },
  {
   "cell_type": "markdown",
   "metadata": {},
   "source": [
    "## 922. Sort Array By Parity II"
   ]
  },
  {
   "cell_type": "code",
   "execution_count": 3,
   "metadata": {},
   "outputs": [],
   "source": [
    "class Solution:\n",
    "    def sortArrayByParityII(self, A):\n",
    "        \"\"\"\n",
    "        :type A: List[int]\n",
    "        :rtype: List[int]\n",
    "        \"\"\"\n",
    "        evens = []\n",
    "        odds = []\n",
    "        for i in A:\n",
    "            if i % 2 == 0:\n",
    "                evens.append(i)\n",
    "            else:\n",
    "                odds.append(i)\n",
    "        res = []\n",
    "        for i in zip(odds, evens):\n",
    "            res.append(i[1])\n",
    "            res.append(i[0])\n",
    "        return res"
   ]
  },
  {
   "cell_type": "markdown",
   "metadata": {},
   "source": [
    "但是老是append很慢。"
   ]
  },
  {
   "cell_type": "code",
   "execution_count": 7,
   "metadata": {},
   "outputs": [],
   "source": [
    "class Solution:\n",
    "    def sortArrayByParityII(self, A):\n",
    "        \"\"\"\n",
    "        :type A: List[int]\n",
    "        :rtype: List[int]\n",
    "        \"\"\"\n",
    "        res = A.copy()\n",
    "        oddIndex = 1\n",
    "        evenIndex = 0\n",
    "        for i in A:\n",
    "            if i % 2 == 0:\n",
    "                res[evenIndex] = i\n",
    "                evenIndex += 2\n",
    "            else:\n",
    "                res[oddIndex] = i\n",
    "                oddIndex += 2\n",
    "        return res"
   ]
  },
  {
   "cell_type": "markdown",
   "metadata": {},
   "source": [
    "照理说应该比append快……但是居然比前面的慢。"
   ]
  },
  {
   "cell_type": "code",
   "execution_count": 8,
   "metadata": {},
   "outputs": [
    {
     "data": {
      "text/plain": [
       "[4, 5, 2, 7]"
      ]
     },
     "execution_count": 8,
     "metadata": {},
     "output_type": "execute_result"
    }
   ],
   "source": [
    "Solution().sortArrayByParityII([4,2,5,7])"
   ]
  },
  {
   "cell_type": "markdown",
   "metadata": {},
   "source": [
    "## 883. Projection Area of 3D Shapes\n",
    "\n",
    "要求把左视图、前视图、顶视图的面积加起来。\n",
    "\n",
    "感觉用Numpy会超级方便。"
   ]
  },
  {
   "cell_type": "code",
   "execution_count": 13,
   "metadata": {},
   "outputs": [],
   "source": [
    "import numpy as np\n",
    "class Solution:\n",
    "    def projectionArea(self, grid):\n",
    "        \"\"\"\n",
    "        :type grid: List[List[int]]\n",
    "        :rtype: int\n",
    "        \"\"\"\n",
    "        grid = np.array(grid)\n",
    "        \n",
    "        return np.sum(grid != 0) + np.sum(grid.max(axis = 0)) + np.sum(grid.max(axis = 1))"
   ]
  },
  {
   "cell_type": "code",
   "execution_count": 14,
   "metadata": {
    "scrolled": true
   },
   "outputs": [
    {
     "data": {
      "text/plain": [
       "8"
      ]
     },
     "execution_count": 14,
     "metadata": {},
     "output_type": "execute_result"
    }
   ],
   "source": [
    "Solution().projectionArea([[1,0],[0,2]])"
   ]
  },
  {
   "cell_type": "code",
   "execution_count": 15,
   "metadata": {},
   "outputs": [
    {
     "data": {
      "text/plain": [
       "14"
      ]
     },
     "execution_count": 15,
     "metadata": {},
     "output_type": "execute_result"
    }
   ],
   "source": [
    "Solution().projectionArea([[1,1,1],[1,0,1],[1,1,1]])"
   ]
  },
  {
   "cell_type": "code",
   "execution_count": 16,
   "metadata": {
    "scrolled": true
   },
   "outputs": [
    {
     "data": {
      "text/plain": [
       "5"
      ]
     },
     "execution_count": 16,
     "metadata": {},
     "output_type": "execute_result"
    }
   ],
   "source": [
    "Solution().projectionArea([[2]])"
   ]
  },
  {
   "cell_type": "markdown",
   "metadata": {},
   "source": [
    "但是leetcode不知道怎么回事，报runtime错误。\n",
    "\n",
    "那再用纯python写一下吧。"
   ]
  },
  {
   "cell_type": "code",
   "execution_count": 23,
   "metadata": {},
   "outputs": [],
   "source": [
    "class Solution:\n",
    "    def projectionArea(self, grid):\n",
    "        \"\"\"\n",
    "        :type grid: List[List[int]]\n",
    "        :rtype: int\n",
    "        \"\"\"\n",
    "        top = sum(sum(col != 0 for col in row) for row in grid)\n",
    "        front = sum(max(row) for row in grid)\n",
    "        left = sum(max(row) for row in list(map(list, zip(*grid))))\n",
    "        return top + front + left"
   ]
  },
  {
   "cell_type": "code",
   "execution_count": 24,
   "metadata": {
    "scrolled": true
   },
   "outputs": [
    {
     "data": {
      "text/plain": [
       "8"
      ]
     },
     "execution_count": 24,
     "metadata": {},
     "output_type": "execute_result"
    }
   ],
   "source": [
    "Solution().projectionArea([[1,0],[0,2]])"
   ]
  },
  {
   "cell_type": "code",
   "execution_count": 25,
   "metadata": {},
   "outputs": [
    {
     "data": {
      "text/plain": [
       "14"
      ]
     },
     "execution_count": 25,
     "metadata": {},
     "output_type": "execute_result"
    }
   ],
   "source": [
    "Solution().projectionArea([[1,1,1],[1,0,1],[1,1,1]])"
   ]
  },
  {
   "cell_type": "code",
   "execution_count": 26,
   "metadata": {},
   "outputs": [
    {
     "data": {
      "text/plain": [
       "5"
      ]
     },
     "execution_count": 26,
     "metadata": {},
     "output_type": "execute_result"
    }
   ],
   "source": [
    "Solution().projectionArea([[2]])"
   ]
  },
  {
   "cell_type": "markdown",
   "metadata": {},
   "source": [
    "看到最快的写法还可以优化\n",
    "\n",
    "- top的面积可以直接宽平方、再减去高度是0的格子的个数\n",
    "- front的面积我那种已经是最快了\n",
    "- left的面积我是先转置、再逐行找最大值，已经是最快了\n",
    "\n",
    "一开始我以为是他用了炫酷的functional style写法才这么快的，但是自己测了一下发现速度和list comprehension没区别。"
   ]
  },
  {
   "cell_type": "code",
   "execution_count": 29,
   "metadata": {},
   "outputs": [],
   "source": [
    "class Solution:\n",
    "    def projectionArea(self, grid):\n",
    "        \"\"\"\n",
    "        :type grid: List[List[int]]\n",
    "        :rtype: int\n",
    "        \"\"\"\n",
    "        top = len(grid) ** 2 - sum(row.count(0) for row in grid)\n",
    "#         front = sum(max(row) for row in grid)\n",
    "        front = sum(map(max, grid))\n",
    "#         left = sum(max(row) for row in map(list, zip(*grid)))\n",
    "        left = sum(map(max, map(list, zip(*grid))))\n",
    "        return top + front + left"
   ]
  },
  {
   "cell_type": "code",
   "execution_count": 30,
   "metadata": {},
   "outputs": [
    {
     "data": {
      "text/plain": [
       "14"
      ]
     },
     "execution_count": 30,
     "metadata": {},
     "output_type": "execute_result"
    }
   ],
   "source": [
    "Solution().projectionArea([[1,1,1],[1,0,1],[1,1,1]])"
   ]
  },
  {
   "cell_type": "markdown",
   "metadata": {},
   "source": [
    "## 892. Surface Area of 3D Shapes\n",
    "\n",
    "这次要数表面积。\n",
    "\n",
    "- 上表面和下表面积相等，最好数\n",
    "- 4个侧面积有点难数。其实也不难，要2个方向，来回算差分、再求和"
   ]
  },
  {
   "cell_type": "code",
   "execution_count": 36,
   "metadata": {},
   "outputs": [],
   "source": [
    "class Solution:\n",
    "    def surfaceArea(self, grid):\n",
    "        \"\"\"\n",
    "        :type grid: List[List[int]]\n",
    "        :rtype: int\n",
    "        \"\"\"\n",
    "        top = len(grid) ** 2 - sum(row.count(0) for row in grid)\n",
    "        bottom = top\n",
    "        left = sum(row[0] + sum(max(row[i] - row[i - 1], 0) for i in range(1, len(grid))) for row in grid)\n",
    "        right = sum(row[:: -1][0] + sum(max(row[:: -1][i] - row[:: -1][i - 1], 0) for i in range(1, len(grid))) for row in grid)\n",
    "        \n",
    "        transposed = list(map(list, zip(*grid)))\n",
    "        front = sum(row[0] + sum(max(row[i] - row[i - 1], 0) for i in range(1, len(grid))) for row in transposed)\n",
    "        back = sum(row[:: -1][0] + sum(max(row[:: -1][i] - row[:: -1][i - 1], 0) for i in range(1, len(grid))) for row in transposed)\n",
    "        return top + bottom + left + right + front + back"
   ]
  },
  {
   "cell_type": "code",
   "execution_count": 38,
   "metadata": {},
   "outputs": [
    {
     "data": {
      "text/plain": [
       "16"
      ]
     },
     "execution_count": 38,
     "metadata": {},
     "output_type": "execute_result"
    }
   ],
   "source": [
    "Solution().surfaceArea([\n",
    "    [0, 1],\n",
    "    [2, 0]\n",
    "])"
   ]
  },
  {
   "cell_type": "code",
   "execution_count": 39,
   "metadata": {},
   "outputs": [
    {
     "data": {
      "text/plain": [
       "10"
      ]
     },
     "execution_count": 39,
     "metadata": {},
     "output_type": "execute_result"
    }
   ],
   "source": [
    "Solution().surfaceArea([[2]])"
   ]
  },
  {
   "cell_type": "markdown",
   "metadata": {},
   "source": [
    "## 893. Groups of Special-Equivalent Strings\n",
    "\n",
    "一开始的想法是，用Counter把每个字符串的奇下标、偶下标做两个直方图出来，作为这个字符串的**特征。**那么特征相同的字符串直接就看出来了，然后再用一下set，过滤掉特征重复的字符串。"
   ]
  },
  {
   "cell_type": "code",
   "execution_count": 68,
   "metadata": {},
   "outputs": [],
   "source": [
    "import collections\n",
    "class Solution:\n",
    "    def numSpecialEquivGroups(self, A):\n",
    "        \"\"\"\n",
    "        :type A: List[str]\n",
    "        :rtype: int\n",
    "        \"\"\"\n",
    "        features = [(frozenset(collections.Counter(i[:: 2]).items()), frozenset(collections.Counter(i[1 :: 2]).items())) for i in A]\n",
    "#         print(features)\n",
    "#         print(set(features))\n",
    "        return len(set(features))"
   ]
  },
  {
   "cell_type": "markdown",
   "metadata": {},
   "source": [
    "但是挺慢的……\n",
    "\n",
    "那么来想一下怎样存、比较特征更快。上面的做法是用Counter，因为Counter不是hashable，所以没法放在set里面，只能先把Counter变成hashable的frozenset。算是最容易想到的做法吧。但是真的很慢。\n",
    "\n",
    "答案上最快的做法是取出所有奇下标字符、排序，再取出所有偶下标字符、排序，拼起来，这样把字符串转换成它的特征。再全部放到set里面。"
   ]
  },
  {
   "cell_type": "code",
   "execution_count": 81,
   "metadata": {},
   "outputs": [],
   "source": [
    "import collections\n",
    "class Solution:\n",
    "    def numSpecialEquivGroups(self, A):\n",
    "        \"\"\"\n",
    "        :type A: List[str]\n",
    "        :rtype: int\n",
    "        \"\"\"\n",
    "        return len(set(\"\".join(sorted(i[:: 2]) + sorted(i[1:: 2])) for i in A))"
   ]
  },
  {
   "cell_type": "code",
   "execution_count": 82,
   "metadata": {},
   "outputs": [
    {
     "data": {
      "text/plain": [
       "3"
      ]
     },
     "execution_count": 82,
     "metadata": {},
     "output_type": "execute_result"
    }
   ],
   "source": [
    "Solution().numSpecialEquivGroups([\"abc\",\"acb\",\"bac\",\"bca\",\"cab\",\"cba\"])"
   ]
  },
  {
   "cell_type": "code",
   "execution_count": 83,
   "metadata": {},
   "outputs": [
    {
     "data": {
      "text/plain": [
       "4"
      ]
     },
     "execution_count": 83,
     "metadata": {},
     "output_type": "execute_result"
    }
   ],
   "source": [
    "Solution().numSpecialEquivGroups([\"aa\",\"bb\",\"ab\",\"ba\"])"
   ]
  },
  {
   "cell_type": "markdown",
   "metadata": {},
   "source": [
    "## 908. Smallest Range I\n",
    "\n",
    "看了好多遍问题没有看懂什么意思。"
   ]
  },
  {
   "cell_type": "code",
   "execution_count": 84,
   "metadata": {},
   "outputs": [],
   "source": [
    "class Solution:\n",
    "    def smallestRangeI(self, A, K):\n",
    "        \"\"\"\n",
    "        :type A: List[int]\n",
    "        :type K: int\n",
    "        :rtype: int\n",
    "        \"\"\"\n",
    "        maximum = max(A)\n",
    "        minimum = min(A)\n",
    "        if maximum - minimum > 2 * K:\n",
    "            return maximum - minimum - 2 * K\n",
    "        else:\n",
    "            return 0"
   ]
  },
  {
   "cell_type": "code",
   "execution_count": 90,
   "metadata": {},
   "outputs": [],
   "source": [
    "class Solution:\n",
    "    def smallestRangeI(self, A, K):\n",
    "        \"\"\"\n",
    "        :type A: List[int]\n",
    "        :type K: int\n",
    "        :rtype: int\n",
    "        \"\"\"\n",
    "        return max(0, max(A) - min(A) - 2 * K)"
   ]
  },
  {
   "cell_type": "code",
   "execution_count": 91,
   "metadata": {},
   "outputs": [
    {
     "data": {
      "text/plain": [
       "0"
      ]
     },
     "execution_count": 91,
     "metadata": {},
     "output_type": "execute_result"
    }
   ],
   "source": [
    "Solution().smallestRangeI([1, 3, 6], 3)"
   ]
  },
  {
   "cell_type": "code",
   "execution_count": 92,
   "metadata": {},
   "outputs": [
    {
     "data": {
      "text/plain": [
       "6"
      ]
     },
     "execution_count": 92,
     "metadata": {},
     "output_type": "execute_result"
    }
   ],
   "source": [
    "Solution().smallestRangeI([0, 10], 2)"
   ]
  }
 ],
 "metadata": {
  "kernelspec": {
   "display_name": "Python 3",
   "language": "python",
   "name": "python3"
  },
  "language_info": {
   "codemirror_mode": {
    "name": "ipython",
    "version": 3
   },
   "file_extension": ".py",
   "mimetype": "text/x-python",
   "name": "python",
   "nbconvert_exporter": "python",
   "pygments_lexer": "ipython3",
   "version": "3.6.5"
  }
 },
 "nbformat": 4,
 "nbformat_minor": 2
}
