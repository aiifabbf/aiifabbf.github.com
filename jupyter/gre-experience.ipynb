{
 "cells": [
  {
   "cell_type": "markdown",
   "metadata": {},
   "source": [
    "# GRE考场服务"
   ]
  },
  {
   "cell_type": "markdown",
   "metadata": {},
   "source": [
    "上午体验了一把GRE考场服务。虽然知道自己注定考不好，注定是要再来一把的，~~因为真的没时间准备啊啊啊。~~但是听到别人噼里啪啦敲键盘打作文、自己疙里疙瘩写不出东西的时候，居然还是感觉有一点慌张的。\n",
    "\n",
    "写作第一题考的是政府该不该确保大城市资金支持，给的理由是因为传统文化在城市里保留得更好。我？？？\n",
    "\n",
    "第二题考的是据说某种花的香气能治疗失眠，然后给30个志愿者做实验，第一周怎么样，第二周怎么样，第三周怎么样。我不知道为什么有人会这么设计实验。这种典型的实验不应该用对照组吗？\n",
    "\n",
    "阅读不用说了，真的看不懂。之前有人说GRE会根据你前面做题的情况，自动调节后面题目的难度，然而我并没有体会到这个功能，可能到后面它都不知道怎么给我出更简单的题目了。英语的单词真的太多了。\n",
    "\n",
    "数学真的简单。~~但还是扣了5分。~~但是有一题出现了一个range我很不明白意思。后来搞了半天才想起来是区间长度。其他题真心没什么好说的，~~其实还有一道贝叶斯公式我纠结了一会~~美国本科生真的就这点数学水平吗……~~不要说别人了，自己数学水平怎么样难道没点acd数吗T T~~\n",
    "\n",
    "整个考试给我的感觉是GRE更像一场语文考试。考数学也只是考你能不能看懂英文出的数学题。\n",
    "\n",
    "已预约二周目。"
   ]
  },
  {
   "cell_type": "markdown",
   "metadata": {},
   "source": [
    "2018/5/27"
   ]
  }
 ],
 "metadata": {
  "kernelspec": {
   "display_name": "Python 3",
   "language": "python",
   "name": "python3"
  },
  "language_info": {
   "codemirror_mode": {
    "name": "ipython",
    "version": 3
   },
   "file_extension": ".py",
   "mimetype": "text/x-python",
   "name": "python",
   "nbconvert_exporter": "python",
   "pygments_lexer": "ipython3",
   "version": "3.6.4"
  }
 },
 "nbformat": 4,
 "nbformat_minor": 2
}
